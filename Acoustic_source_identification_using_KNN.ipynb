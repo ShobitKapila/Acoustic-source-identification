{
  "nbformat": 4,
  "nbformat_minor": 0,
  "metadata": {
    "colab": {
      "provenance": [],
      "gpuType": "T4",
      "authorship_tag": "ABX9TyOqSluEr2EniROEiAiEGoF1",
      "include_colab_link": true
    },
    "kernelspec": {
      "name": "python3",
      "display_name": "Python 3"
    },
    "language_info": {
      "name": "python"
    },
    "accelerator": "GPU"
  },
  "cells": [
    {
      "cell_type": "markdown",
      "metadata": {
        "id": "view-in-github",
        "colab_type": "text"
      },
      "source": [
        "<a href=\"https://colab.research.google.com/github/ShobitKapila/Acoustic-source-identification/blob/main/Acoustic_source_identification_using_KNN.ipynb\" target=\"_parent\"><img src=\"https://colab.research.google.com/assets/colab-badge.svg\" alt=\"Open In Colab\"/></a>"
      ]
    },
    {
      "cell_type": "markdown",
      "source": [
        "# Base Paper\n",
        "*A Survey on Artificial Intelligence-Based Acoustic Source Identification* - https://ieeexplore.ieee.org/stamp/stamp.jsp?tp=&arnumber=10146285\n"
      ],
      "metadata": {
        "id": "5ecNZIn2VPv9"
      }
    },
    {
      "cell_type": "markdown",
      "source": [
        "# Introduction of the case study\n",
        "**Acoustic source identification** (ASI) is a technique used to identify the source of a sound or vibration by analyzing its acoustic characteristics. It has a wide range of applications, including noise source localization, audio surveillance, and underwater target detection.\n",
        "\n",
        "\n",
        "---\n",
        "\n",
        "\n",
        "**K-Nearest Neighbors** (kNN) is a machine learning algorithm that can be used for ASI. It works by comparing the acoustic characteristics of an unknown sound source to those of a set of known sound sources. The KNN algorithm then identifies the unknown sound source as the one that is most similar to the k nearest known sound sources.\n",
        "\n",
        "\n",
        "*   KNN has been shown to be effective for ASI in a number of studies. For example, one study used kNN to identify the source of aircraft noise with an accuracy of 90%. Another study used kNN to identify the source of underwater target signals with an accuracy of 85%.\n",
        "\n",
        "*  KNN is a promising technique for ASI. It is simple, effective, and relatively robust to noise and interference. However, it is important to be aware of its limitations, such as its computational complexity and sensitivity to the choice of the k parameter.\n",
        "\n",
        "\n",
        "---\n",
        "\n",
        "\n",
        "In this case-study we are able to identify the various acoustic sources using KNN some of the sources are:-\n",
        "- Wind-turbine gearbox condition monitoring vibration analysis\n",
        "\n",
        "- Pacific ocean Sound recordings for identifing the condition of life underwater\n",
        "- Tidal Current Cross-flow Turbine Wake ADV and PIV Data\n",
        "  - Provides measurements of the velocity and turbulence characteristics of the wake of a high-solidity cross-flow turbine in a laboratory flume. The data were obtained using Acoustic Doppler Velocimetry (ADV) and Particle Image Velocimetry (PIV)\n",
        "\n",
        "\n"
      ],
      "metadata": {
        "id": "w_gIB3nC5pny"
      }
    },
    {
      "cell_type": "markdown",
      "source": [
        "# Data set links\n",
        "1. **Tidal Current Cross-flow Turbine Wake ADV and PIV Data** - https://data.world/us-doe-gov/33ccad75-08d3-4194-a7f5-8eb3df5b1f64\n",
        "\n",
        "2. **Music Genere Classification** - https://www.kaggle.com/code/carlthome/music-genre-classification-with-the-gtzan-dataset\n",
        "\n",
        "3. **Wind Turbine Gearbox Condition Monitoring** - https://catalog.data.gov/dataset/wind-turbine-gearbox-condition-monitoring-vibration-analysis-benchmarking-datasets\n",
        "\n",
        "4. **Pacific Ocean Sound Recordings** - https://registry.opendata.aws/pacific-sound/"
      ],
      "metadata": {
        "id": "w9gUvbeWUitN"
      }
    },
    {
      "cell_type": "code",
      "execution_count": null,
      "metadata": {
        "id": "1xY1VOg7RCgA"
      },
      "outputs": [],
      "source": []
    }
  ]
}