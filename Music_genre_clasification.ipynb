{
  "nbformat": 4,
  "nbformat_minor": 0,
  "metadata": {
    "colab": {
      "provenance": [],
      "collapsed_sections": [
        "OZJ9Q1Ptj48m",
        "3feZIszcrFyx",
        "qpMQ7R25o-Wn",
        "vZa4dGljl8gu",
        "9BNfd9NvzR6E",
        "S7lm8NOdg-5f",
        "GtFlYQggpbj9"
      ],
      "authorship_tag": "ABX9TyOZgcr+CHFK5SHBRlHRg1CY",
      "include_colab_link": true
    },
    "kernelspec": {
      "name": "python3",
      "display_name": "Python 3"
    },
    "language_info": {
      "name": "python"
    }
  },
  "cells": [
    {
      "cell_type": "markdown",
      "metadata": {
        "id": "view-in-github",
        "colab_type": "text"
      },
      "source": [
        "<a href=\"https://colab.research.google.com/github/ShobitKapila/Acoustic-source-identification/blob/main/Music_genre_clasification.ipynb\" target=\"_parent\"><img src=\"https://colab.research.google.com/assets/colab-badge.svg\" alt=\"Open In Colab\"/></a>"
      ]
    },
    {
      "cell_type": "markdown",
      "source": [
        "#KKN - classification"
      ],
      "metadata": {
        "id": "OZJ9Q1Ptj48m"
      }
    },
    {
      "cell_type": "code",
      "source": [
        "import librosa\n",
        "import pandas as pd\n",
        "import numpy as np\n",
        "import os\n",
        "import csv\n",
        "from sklearn.preprocessing import LabelEncoder, StandardScaler\n",
        "from sklearn.model_selection import train_test_split\n",
        "from sklearn.neighbors import KNeighborsClassifier\n",
        "from sklearn.metrics import classification_report, accuracy_score\n",
        "import joblib"
      ],
      "metadata": {
        "id": "K6IgUllBj8FO"
      },
      "execution_count": null,
      "outputs": []
    },
    {
      "cell_type": "code",
      "source": [
        "general_path = '/content'\n",
        "print(list(os.listdir(f'{general_path}/genres')))\n"
      ],
      "metadata": {
        "id": "ONWcLYhpkFef"
      },
      "execution_count": null,
      "outputs": []
    },
    {
      "cell_type": "code",
      "source": [
        "\n",
        "genres = 'blues classical country disco hiphop jazz metal pop reggae rock'\n",
        "genres = genres.split()\n",
        "for g in genres:\n",
        "    path_audio = os.path.join('/content/geners', g)\n",
        "    os.makedirs(path_audio, exist_ok=True)"
      ],
      "metadata": {
        "id": "LmyYEKZkkG13"
      },
      "execution_count": null,
      "outputs": []
    },
    {
      "cell_type": "code",
      "source": [
        "header = 'filename chroma_stft rmse spectral_centroid spectral_bandwidth rolloff zero_crossing_rate'\n",
        "for i in range(1, 21):\n",
        "    header += f' mfcc{i}'\n",
        "header += ' label'\n",
        "header = header.split()"
      ],
      "metadata": {
        "id": "zZOw4mickL-Z"
      },
      "execution_count": null,
      "outputs": []
    },
    {
      "cell_type": "code",
      "source": [
        "file = open('data-3s.csv', 'w', newline='')\n",
        "with file:\n",
        "    writer = csv.writer(file)\n",
        "    writer.writerow(header)"
      ],
      "metadata": {
        "id": "eqwhWNhqkN0g"
      },
      "execution_count": null,
      "outputs": []
    },
    {
      "cell_type": "code",
      "source": [
        "for g in genres:\n",
        "    for filename in os.listdir(f'/content/genres/{g}'):\n",
        "        songname = f'/content/genres/{g}/{filename}'\n",
        "        y, sr = librosa.load(songname, mono=True, duration=3)\n",
        "        chroma_stft = librosa.feature.chroma_stft(y=y, sr=sr)\n",
        "        rmse = librosa.feature.rms(y=y)\n",
        "        spec_cent = librosa.feature.spectral_centroid(y=y, sr=sr)\n",
        "        spec_bw = librosa.feature.spectral_bandwidth(y=y, sr=sr)\n",
        "        rolloff = librosa.feature.spectral_rolloff(y=y, sr=sr)\n",
        "        zcr = librosa.feature.zero_crossing_rate(y)\n",
        "        mfcc = librosa.feature.mfcc(y=y, sr=sr)\n",
        "        to_append = f'{filename} {np.mean(chroma_stft)} {np.mean(rmse)} {np.mean(spec_cent)} {np.mean(spec_bw)} {np.mean(rolloff)} {np.mean(zcr)}'\n",
        "        for e in mfcc:\n",
        "            to_append += f' {np.mean(e)}'\n",
        "        to_append += f' {g}'\n",
        "        file = open('data-3s.csv', 'a', newline='')\n",
        "        with file:\n",
        "            writer = csv.writer(file)\n",
        "            writer.writerow(to_append.split())"
      ],
      "metadata": {
        "id": "Zz-1o5PrkQ8u"
      },
      "execution_count": null,
      "outputs": []
    },
    {
      "cell_type": "code",
      "source": [
        "data_3s = pd.read_csv('data-3s.csv')\n",
        "print(data_3s.head())\n",
        "print(data_3s.shape)"
      ],
      "metadata": {
        "id": "knaLNJbjkSWq"
      },
      "execution_count": null,
      "outputs": []
    },
    {
      "cell_type": "code",
      "source": [
        "seed = 12\n",
        "np.random.seed(seed)\n",
        "data_shuffle = data_3s.sample(frac=1, random_state=seed).reset_index(drop=True)"
      ],
      "metadata": {
        "id": "br1bf_C0kU0M"
      },
      "execution_count": null,
      "outputs": []
    },
    {
      "cell_type": "code",
      "source": [
        "data_shuffle = data_shuffle.drop(['filename'], axis=1)\n",
        "print(data_shuffle.head())"
      ],
      "metadata": {
        "id": "SGI9OCnekWH1"
      },
      "execution_count": null,
      "outputs": []
    },
    {
      "cell_type": "code",
      "source": [
        "X = data_shuffle.iloc[:, :-1]"
      ],
      "metadata": {
        "id": "Ps7AgfGzkZY-"
      },
      "execution_count": null,
      "outputs": []
    },
    {
      "cell_type": "code",
      "source": [
        "genre_list = data_shuffle.iloc[:, -1]\n",
        "encoder = LabelEncoder()\n",
        "y = encoder.fit_transform(genre_list)\n",
        "print(y)"
      ],
      "metadata": {
        "id": "yySvfcP4kbf-"
      },
      "execution_count": null,
      "outputs": []
    },
    {
      "cell_type": "code",
      "source": [
        "X_train, df_test_valid_X, y_train, df_test_valid_y = train_test_split(X, y, train_size=0.7, random_state=seed, stratify=y)\n",
        "X_dev, X_test, y_dev, y_test = train_test_split(df_test_valid_X, df_test_valid_y, train_size=0.66, random_state=seed, stratify=df_test_valid_y)"
      ],
      "metadata": {
        "id": "xNF-iabJkeBS"
      },
      "execution_count": null,
      "outputs": []
    },
    {
      "cell_type": "code",
      "source": [
        "print(f\"Train set has {X_train.shape[0]} records out of {len(data_shuffle)} which is {round(X_train.shape[0]/len(data_shuffle)*100)}%\")\n",
        "print(f\"Dev set has {X_dev.shape[0]} records out of {len(data_shuffle)} which is {round(X_dev.shape[0]/len(data_shuffle)*100)}%\")\n",
        "print(f\"Test set has {X_test.shape[0]} records out of {len(data_shuffle)} which is {round(X_test.shape[0]/len(data_shuffle)*100)}%\")"
      ],
      "metadata": {
        "id": "Tiah_JuekgYd"
      },
      "execution_count": null,
      "outputs": []
    },
    {
      "cell_type": "code",
      "source": [
        "scaler = StandardScaler()"
      ],
      "metadata": {
        "id": "9zbVA_yzkiZ4"
      },
      "execution_count": null,
      "outputs": []
    },
    {
      "cell_type": "code",
      "source": [
        "X_train = pd.DataFrame(scaler.fit_transform(X_train), columns=X_train.columns)\n",
        "X_dev = pd.DataFrame(scaler.transform(X_dev), columns=X_dev.columns)\n",
        "X_test = pd.DataFrame(scaler.transform(X_test), columns=X_test.columns)"
      ],
      "metadata": {
        "id": "8c3dAWppkkFt"
      },
      "execution_count": null,
      "outputs": []
    },
    {
      "cell_type": "code",
      "source": [
        "knn = KNeighborsClassifier(n_neighbors=5)\n",
        "knn.fit(X_train, y_train)"
      ],
      "metadata": {
        "id": "IuEDKF5Nkmv_"
      },
      "execution_count": null,
      "outputs": []
    },
    {
      "cell_type": "code",
      "source": [
        "y_pred = knn.predict(X_test)\n",
        "test_acc = accuracy_score(y_test, y_pred)\n",
        "print(\"The test Accuracy is :\", test_acc * 100)"
      ],
      "metadata": {
        "id": "0uL84pAYkpSE"
      },
      "execution_count": null,
      "outputs": []
    },
    {
      "cell_type": "code",
      "source": [
        "joblib.dump(knn, 'knn_model.pkl')\n",
        "joblib.dump(scaler, 'scaler.pkl')"
      ],
      "metadata": {
        "id": "1dnNMzqAkrnM"
      },
      "execution_count": null,
      "outputs": []
    },
    {
      "cell_type": "code",
      "source": [
        "def fit_feature(songname):\n",
        "    y, sr = librosa.load(songname, mono=True, duration=30)\n",
        "    chroma_stft = librosa.feature.chroma_stft(y=y, sr=sr)\n",
        "    rmse = librosa.feature.rms(y=y)\n",
        "    spec_cent = librosa.feature.spectral_centroid(y=y, sr=sr)\n",
        "    spec_bw = librosa.feature.spectral_bandwidth(y=y, sr=sr)\n",
        "    rolloff = librosa.feature.spectral_rolloff(y=y, sr=sr)\n",
        "    zcr = librosa.feature.zero_crossing_rate(y)\n",
        "    mfcc = librosa.feature.mfcc(y=y, sr=sr)\n",
        "    feature = np.array([np.mean(chroma_stft), np.mean(rmse), np.mean(spec_cent), np.mean(spec_bw), np.mean(rolloff), np.mean(zcr)])\n",
        "    for e in mfcc:\n",
        "        feature = np.append(feature, [np.mean(e)])\n",
        "    return feature"
      ],
      "metadata": {
        "id": "BQ-FlzMwkCVu"
      },
      "execution_count": null,
      "outputs": []
    },
    {
      "cell_type": "code",
      "source": [
        "new_song_feature = fit_feature('/content/better-day-186374.mp3')\n",
        "scaler = joblib.load('scaler.pkl')\n",
        "knn = joblib.load('knn_model.pkl')\n",
        "new_song_feature = scaler.transform([new_song_feature])\n",
        "prediction = knn.predict(new_song_feature)\n",
        "predicted_genre = encoder.inverse_transform(prediction)\n",
        "print(\"Predicted Genre:\", predicted_genre[0])"
      ],
      "metadata": {
        "id": "Pg3BMfkskvee"
      },
      "execution_count": null,
      "outputs": []
    },
    {
      "cell_type": "code",
      "source": [
        "for g in genres:\n",
        "    for filename in os.listdir(f'/content/genres/{g}'):\n",
        "        songname = f'/content/genres/{g}/{filename}'\n",
        "        y, sr = librosa.load(songname, mono=True, duration=3)\n",
        "        chroma_stft = librosa.feature.chroma_stft(y=y, sr=sr)\n",
        "        rmse = librosa.feature.rms(y=y)\n",
        "        spec_cent = librosa.feature.spectral_centroid(y=y, sr=sr)\n",
        "        spec_bw = librosa.feature.spectral_bandwidth(y=y, sr=sr)\n",
        "        rolloff = librosa.feature.spectral_rolloff(y=y, sr=sr)\n",
        "        zcr = librosa.feature.zero_crossing_rate(y)\n",
        "        mfcc = librosa.feature.mfcc(y=y, sr=sr)\n",
        "        to_append = f'{filename} {np.mean(chroma_stft)} {np.mean(rmse)} {np.mean(spec_cent)} {np.mean(spec_bw)} {np.mean(rolloff)} {np.mean(zcr)}'\n",
        "        for e in mfcc:\n",
        "            to_append += f' {np.mean(e)}'\n",
        "        to_append += f' {g}'\n",
        "        file = open('data-3s.csv', 'a', newline='')\n",
        "        with file:\n",
        "            writer = csv.writer(file)\n",
        "            writer.writerow(to_append.split())"
      ],
      "metadata": {
        "id": "9cM8UCLnrp87"
      },
      "execution_count": null,
      "outputs": []
    },
    {
      "cell_type": "markdown",
      "source": [
        "#Random Forest"
      ],
      "metadata": {
        "id": "3feZIszcrFyx"
      }
    },
    {
      "cell_type": "code",
      "source": [
        "import os\n",
        "import pandas as pd\n",
        "import numpy as np\n",
        "import IPython\n",
        "import librosa\n",
        "import librosa.display\n",
        "import seaborn as sns\n",
        "import matplotlib.pyplot as plt\n",
        "from sklearn import preprocessing\n",
        "from sklearn.preprocessing import minmax_scale\n",
        "from sklearn.model_selection import train_test_split\n",
        "from sklearn.ensemble import RandomForestClassifier\n",
        "from sklearn.metrics import accuracy_score"
      ],
      "metadata": {
        "id": "WpjBM9CUrMvC"
      },
      "execution_count": null,
      "outputs": []
    },
    {
      "cell_type": "code",
      "source": [
        "general_path = '/content'\n",
        "print(list(os.listdir(f'{general_path}/genres')))"
      ],
      "metadata": {
        "id": "KsQMB-KvrdRl"
      },
      "execution_count": null,
      "outputs": []
    },
    {
      "cell_type": "code",
      "source": [
        "genres = 'blues classical country disco hiphop jazz metal pop reggae rock'\n",
        "genres = genres.split()\n",
        "for g in genres:\n",
        "    path_audio = os.path.join('/content/geners', g)\n",
        "    os.makedirs(path_audio, exist_ok=True)"
      ],
      "metadata": {
        "id": "3MdV3Q3irikY"
      },
      "execution_count": null,
      "outputs": []
    },
    {
      "cell_type": "code",
      "source": [
        "header = 'filename chroma_stft rmse spectral_centroid spectral_bandwidth rolloff zero_crossing_rate'\n",
        "for i in range(1, 21):\n",
        "    header += f' mfcc{i}'\n",
        "header += ' label'\n",
        "header = header.split()"
      ],
      "metadata": {
        "id": "NA55chFIrjxq"
      },
      "execution_count": null,
      "outputs": []
    },
    {
      "cell_type": "code",
      "source": [
        "file = open('data-3s.csv', 'w', newline='')\n",
        "with file:\n",
        "    writer = csv.writer(file)\n",
        "    writer.writerow(header)"
      ],
      "metadata": {
        "id": "roYl07Evrn95"
      },
      "execution_count": null,
      "outputs": []
    },
    {
      "cell_type": "code",
      "source": [
        "data_3s = pd.read_csv('data-3s.csv')\n",
        "print(data_3s.head())\n",
        "print(data_3s.shape)"
      ],
      "metadata": {
        "id": "mzFaKaKFrtPF"
      },
      "execution_count": null,
      "outputs": []
    },
    {
      "cell_type": "code",
      "source": [
        "seed = 12\n",
        "np.random.seed(seed)\n",
        "data_shuffle = data_3s.sample(frac=1, random_state=seed).reset_index(drop=True)"
      ],
      "metadata": {
        "id": "HAZyrTCurwFj"
      },
      "execution_count": null,
      "outputs": []
    },
    {
      "cell_type": "code",
      "source": [
        "data_shuffle = data_shuffle.drop(['filename'], axis=1)\n",
        "print(data_shuffle.head())"
      ],
      "metadata": {
        "id": "onRER_6cryKv"
      },
      "execution_count": null,
      "outputs": []
    },
    {
      "cell_type": "code",
      "source": [
        "X = data_shuffle.iloc[:, :-1]\n",
        "genre_list = data_shuffle.iloc[:, -1]"
      ],
      "metadata": {
        "id": "Uhwbwfedr040"
      },
      "execution_count": null,
      "outputs": []
    },
    {
      "cell_type": "code",
      "source": [
        "encoder = LabelEncoder()"
      ],
      "metadata": {
        "id": "mQ3Tt7moxMKd"
      },
      "execution_count": null,
      "outputs": []
    },
    {
      "cell_type": "code",
      "source": [
        "y = encoder.fit_transform(genre_list)\n",
        "print(y)"
      ],
      "metadata": {
        "id": "2dArxf6cr3En"
      },
      "execution_count": null,
      "outputs": []
    },
    {
      "cell_type": "code",
      "source": [
        "X_train, df_test_valid_X, y_train, df_test_valid_y = train_test_split(X, y, train_size=0.7, random_state=seed, stratify=y)\n",
        "X_dev, X_test, y_dev, y_test = train_test_split(df_test_valid_X, df_test_valid_y, train_size=0.66, random_state=seed, stratify=df_test_valid_y)"
      ],
      "metadata": {
        "id": "0Yo4SVp4r5GU"
      },
      "execution_count": null,
      "outputs": []
    },
    {
      "cell_type": "code",
      "source": [
        "print(f\"Train set has {X_train.shape[0]} records out of {len(data_shuffle)} which is {round(X_train.shape[0]/len(data_shuffle)*100)}%\")\n",
        "print(f\"Dev set has {X_dev.shape[0]} records out of {len(data_shuffle)} which is {round(X_dev.shape[0]/len(data_shuffle)*100)}%\")\n",
        "print(f\"Test set has {X_test.shape[0]} records out of {len(data_shuffle)} which is {round(X_test.shape[0]/len(data_shuffle)*100)}%\")"
      ],
      "metadata": {
        "id": "1o1CQ-O5r6z8"
      },
      "execution_count": null,
      "outputs": []
    },
    {
      "cell_type": "code",
      "source": [
        "scaler = StandardScaler()"
      ],
      "metadata": {
        "id": "A9vf5LXdr89e"
      },
      "execution_count": null,
      "outputs": []
    },
    {
      "cell_type": "code",
      "source": [
        "X_train = pd.DataFrame(scaler.fit_transform(X_train), columns=X_train.columns)\n",
        "X_dev = pd.DataFrame(scaler.transform(X_dev), columns=X_dev.columns)\n",
        "X_test = pd.DataFrame(scaler.transform(X_test), columns=X_test.columns)"
      ],
      "metadata": {
        "id": "OjTn9Fvmw4hb"
      },
      "execution_count": null,
      "outputs": []
    },
    {
      "cell_type": "code",
      "source": [
        "rf = RandomForestClassifier(n_estimators=100, random_state=seed)\n",
        "rf.fit(X_train, y_train)"
      ],
      "metadata": {
        "id": "FOzrqB93w5H0"
      },
      "execution_count": null,
      "outputs": []
    },
    {
      "cell_type": "code",
      "source": [
        "y_pred = rf.predict(X_test)\n",
        "test_acc = accuracy_score(y_test, y_pred)\n",
        "print(\"The test Accuracy is :\", test_acc * 100)"
      ],
      "metadata": {
        "id": "pzAjOLkbw75X"
      },
      "execution_count": null,
      "outputs": []
    },
    {
      "cell_type": "code",
      "source": [
        "joblib.dump(rf, 'random_forest_model.pkl')\n",
        "joblib.dump(scaler, 'scaler.pkl')"
      ],
      "metadata": {
        "id": "_9o0Tr5tw9gi"
      },
      "execution_count": null,
      "outputs": []
    },
    {
      "cell_type": "code",
      "source": [
        "def fit_feature(songname):\n",
        "    y, sr = librosa.load(songname, mono=True, duration=30)\n",
        "    chroma_stft = librosa.feature.chroma_stft(y=y, sr=sr)\n",
        "    rmse = librosa.feature.rms(y=y)\n",
        "    spec_cent = librosa.feature.spectral_centroid(y=y, sr=sr)\n",
        "    spec_bw = librosa.feature.spectral_bandwidth(y=y, sr=sr)\n",
        "    rolloff = librosa.feature.spectral_rolloff(y=y, sr=sr)\n",
        "    zcr = librosa.feature.zero_crossing_rate(y)\n",
        "    mfcc = librosa.feature.mfcc(y=y, sr=sr)\n",
        "    feature = np.array([np.mean(chroma_stft), np.mean(rmse), np.mean(spec_cent), np.mean(spec_bw), np.mean(rolloff), np.mean(zcr)])\n",
        "    for e in mfcc:\n",
        "        feature = np.append(feature, [np.mean(e)])\n",
        "    return feature"
      ],
      "metadata": {
        "id": "MHRRqTkxw_l5"
      },
      "execution_count": null,
      "outputs": []
    },
    {
      "cell_type": "code",
      "source": [
        "new_song_feature = fit_feature('/content/better-day-186374.mp3')\n",
        "scaler = joblib.load('scaler.pkl')\n",
        "rf = joblib.load('random_forest_model.pkl')\n",
        "new_song_feature = scaler.transform([new_song_feature])\n",
        "prediction = rf.predict(new_song_feature)\n",
        "predicted_genre = encoder.inverse_transform(prediction)\n",
        "print(\"Predicted Genre:\", predicted_genre[0])"
      ],
      "metadata": {
        "id": "qvDGYxiwxBU6"
      },
      "execution_count": null,
      "outputs": []
    },
    {
      "cell_type": "markdown",
      "source": [
        "# Neural Network -\n",
        "  The model consists of multiple Dense layers with ReLU activation functions and Dropout layers for regularization. The final layer is a Dense layer with a softmax activation function, indicating that this is a multi-class classification problem (genre classification).\n"
      ],
      "metadata": {
        "id": "qpMQ7R25o-Wn"
      }
    },
    {
      "cell_type": "code",
      "execution_count": null,
      "metadata": {
        "id": "uXvuqJWIq2yN"
      },
      "outputs": [],
      "source": [
        "import librosa\n",
        "import pandas as pd\n",
        "import numpy as np\n",
        "import matplotlib.pyplot as plt\n",
        "import os\n",
        "import csv\n",
        "import base64\n",
        "from IPython.display import HTML\n",
        "from IPython.display import FileLink\n",
        "from sklearn.model_selection import train_test_split\n",
        "from sklearn.preprocessing import LabelEncoder, StandardScaler\n",
        "import sklearn.model_selection as skms\n",
        "import keras\n",
        "from keras import models\n",
        "from keras import layers\n",
        "from tensorflow import keras\n",
        "from warnings import filterwarnings"
      ]
    },
    {
      "cell_type": "code",
      "source": [
        "general_path = '/content'\n",
        "print(list(os.listdir(f'{general_path}/genres')))"
      ],
      "metadata": {
        "colab": {
          "base_uri": "https://localhost:8080/"
        },
        "id": "4a-2vfkdrIcb",
        "outputId": "b5bf3ac6-cb30-4851-880f-2463156dca68"
      },
      "execution_count": null,
      "outputs": [
        {
          "output_type": "stream",
          "name": "stdout",
          "text": [
            "['blues', 'country', 'hiphop', 'jazz', 'disco', 'pop', 'classical', 'reggae', 'rock', 'metal', '.ipynb_checkpoints']\n"
          ]
        }
      ]
    },
    {
      "cell_type": "code",
      "source": [
        "genres = 'blues classical country disco hiphop jazz metal pop reggae rock'\n",
        "genres = genres.split()\n",
        "for g in genres:\n",
        "  path_audio = os.path.join('/content',f'{g}')\n",
        "  os.makedirs(path_audio)"
      ],
      "metadata": {
        "id": "a9ISXJxmrRCz"
      },
      "execution_count": null,
      "outputs": []
    },
    {
      "cell_type": "code",
      "source": [
        "genres"
      ],
      "metadata": {
        "colab": {
          "base_uri": "https://localhost:8080/"
        },
        "id": "pQFOGsSVA5i-",
        "outputId": "946eb49f-4f44-4cb6-d1a2-733a41be25fa"
      },
      "execution_count": null,
      "outputs": [
        {
          "output_type": "execute_result",
          "data": {
            "text/plain": [
              "['blues',\n",
              " 'classical',\n",
              " 'country',\n",
              " 'disco',\n",
              " 'hiphop',\n",
              " 'jazz',\n",
              " 'metal',\n",
              " 'pop',\n",
              " 'reggae',\n",
              " 'rock']"
            ]
          },
          "metadata": {},
          "execution_count": 20
        }
      ]
    },
    {
      "cell_type": "code",
      "source": [
        "header = 'filename chroma_stft rmse spectral_centroid spectral_bandwidth rolloff zero_crossing_rate'\n",
        "for i in range(1, 21):\n",
        "    header += f' mfcc{i}'\n",
        "header += ' label'\n",
        "header = header.split()"
      ],
      "metadata": {
        "id": "15k0dnJArWMP"
      },
      "execution_count": null,
      "outputs": []
    },
    {
      "cell_type": "code",
      "source": [
        "file = open('data-3s.csv', 'w', newline='')\n",
        "with file:\n",
        "    writer = csv.writer(file)\n",
        "    writer.writerow(header)\n",
        "\n",
        "for g in genres:\n",
        "    for filename in os.listdir(f'/content/genres/{g}'):\n",
        "        songname = f'/content/genres/{g}/{filename}'\n",
        "        y, sr = librosa.load(songname, mono=True, duration=3)\n",
        "        chroma_stft = librosa.feature.chroma_stft(y=y, sr=sr)\n",
        "        rmse = librosa.feature.rms(y=y)\n",
        "        spec_cent = librosa.feature.spectral_centroid(y=y, sr=sr)\n",
        "        spec_bw = librosa.feature.spectral_bandwidth(y=y, sr=sr)\n",
        "        rolloff = librosa.feature.spectral_rolloff(y=y, sr=sr)\n",
        "        zcr = librosa.feature.zero_crossing_rate(y)\n",
        "        mfcc = librosa.feature.mfcc(y=y, sr=sr)\n",
        "        to_append = f'{filename} {np.mean(chroma_stft)} {np.mean(rmse)} {np.mean(spec_cent)} {np.mean(spec_bw)} {np.mean(rolloff)} {np.mean(zcr)}'\n",
        "        for e in mfcc:\n",
        "            to_append += f' {np.mean(e)}'\n",
        "        to_append += f' {g}'\n",
        "        file = open('data-3s.csv', 'a', newline='')\n",
        "        with file:\n",
        "            writer = csv.writer(file)\n",
        "            writer.writerow(to_append.split())"
      ],
      "metadata": {
        "id": "3gCWpaPBrYxv"
      },
      "execution_count": null,
      "outputs": []
    },
    {
      "cell_type": "code",
      "source": [
        "data_3s = pd.read_csv('data-3s.csv')\n",
        "data_3s.head()"
      ],
      "metadata": {
        "colab": {
          "base_uri": "https://localhost:8080/",
          "height": 255
        },
        "id": "VT_y1ZZvrcgo",
        "outputId": "09bbbab3-3ae1-435f-a70d-13c388f51eff"
      },
      "execution_count": null,
      "outputs": [
        {
          "output_type": "execute_result",
          "data": {
            "text/plain": [
              "         filename  chroma_stft      rmse  spectral_centroid  \\\n",
              "0  blues.00030.au     0.252451  0.129469         796.877132   \n",
              "1  blues.00043.au     0.398613  0.127050        2146.989442   \n",
              "2  blues.00089.au     0.330216  0.057961         677.501002   \n",
              "3  blues.00093.au     0.399003  0.056844         640.531249   \n",
              "4  blues.00011.au     0.395926  0.053601        1387.962171   \n",
              "\n",
              "   spectral_bandwidth      rolloff  zero_crossing_rate       mfcc1  \\\n",
              "0         1363.858304  1241.720440            0.027813 -261.393524   \n",
              "1         2346.179667  4924.229455            0.087361 -106.287834   \n",
              "2         1136.151689  1216.211877            0.022919 -345.310028   \n",
              "3         1022.053919  1190.123573            0.022397 -350.515137   \n",
              "4         1815.101760  3007.525916            0.044899 -321.723846   \n",
              "\n",
              "        mfcc2      mfcc3  ...    mfcc12     mfcc13     mfcc14     mfcc15  \\\n",
              "0  142.396729  11.462423  ... -6.913297 -12.653015 -12.238706 -21.957417   \n",
              "1  102.910103  -9.609563  ...  6.560434  -9.160453   5.283280 -15.422059   \n",
              "2  164.461838  27.915159  ... -6.900138   0.515772  -0.058611  -2.355061   \n",
              "3  167.412292  19.829763  ...  1.817667 -11.212885  -7.739208   0.326726   \n",
              "4  123.837578   4.081958  ...  0.056975  -5.541474  -4.698399  -2.931809   \n",
              "\n",
              "      mfcc16     mfcc17     mfcc18     mfcc19    mfcc20  label  \n",
              "0 -23.932734 -19.818665 -17.741760 -15.289710 -6.545130  blues  \n",
              "1   1.948020  -7.752453   2.932549  -4.131612  4.118633  blues  \n",
              "2   3.843762  -1.428511  -8.551285  -4.983430  0.694750  blues  \n",
              "3  -3.299458  -7.078539   0.315696   7.074780  2.348529  blues  \n",
              "4  -3.163541  -0.938552  -0.314044  -0.404410 -4.586336  blues  \n",
              "\n",
              "[5 rows x 28 columns]"
            ],
            "text/html": [
              "\n",
              "  <div id=\"df-dba239d4-7e0b-4bef-a633-0fe5c4c80ebf\" class=\"colab-df-container\">\n",
              "    <div>\n",
              "<style scoped>\n",
              "    .dataframe tbody tr th:only-of-type {\n",
              "        vertical-align: middle;\n",
              "    }\n",
              "\n",
              "    .dataframe tbody tr th {\n",
              "        vertical-align: top;\n",
              "    }\n",
              "\n",
              "    .dataframe thead th {\n",
              "        text-align: right;\n",
              "    }\n",
              "</style>\n",
              "<table border=\"1\" class=\"dataframe\">\n",
              "  <thead>\n",
              "    <tr style=\"text-align: right;\">\n",
              "      <th></th>\n",
              "      <th>filename</th>\n",
              "      <th>chroma_stft</th>\n",
              "      <th>rmse</th>\n",
              "      <th>spectral_centroid</th>\n",
              "      <th>spectral_bandwidth</th>\n",
              "      <th>rolloff</th>\n",
              "      <th>zero_crossing_rate</th>\n",
              "      <th>mfcc1</th>\n",
              "      <th>mfcc2</th>\n",
              "      <th>mfcc3</th>\n",
              "      <th>...</th>\n",
              "      <th>mfcc12</th>\n",
              "      <th>mfcc13</th>\n",
              "      <th>mfcc14</th>\n",
              "      <th>mfcc15</th>\n",
              "      <th>mfcc16</th>\n",
              "      <th>mfcc17</th>\n",
              "      <th>mfcc18</th>\n",
              "      <th>mfcc19</th>\n",
              "      <th>mfcc20</th>\n",
              "      <th>label</th>\n",
              "    </tr>\n",
              "  </thead>\n",
              "  <tbody>\n",
              "    <tr>\n",
              "      <th>0</th>\n",
              "      <td>blues.00030.au</td>\n",
              "      <td>0.252451</td>\n",
              "      <td>0.129469</td>\n",
              "      <td>796.877132</td>\n",
              "      <td>1363.858304</td>\n",
              "      <td>1241.720440</td>\n",
              "      <td>0.027813</td>\n",
              "      <td>-261.393524</td>\n",
              "      <td>142.396729</td>\n",
              "      <td>11.462423</td>\n",
              "      <td>...</td>\n",
              "      <td>-6.913297</td>\n",
              "      <td>-12.653015</td>\n",
              "      <td>-12.238706</td>\n",
              "      <td>-21.957417</td>\n",
              "      <td>-23.932734</td>\n",
              "      <td>-19.818665</td>\n",
              "      <td>-17.741760</td>\n",
              "      <td>-15.289710</td>\n",
              "      <td>-6.545130</td>\n",
              "      <td>blues</td>\n",
              "    </tr>\n",
              "    <tr>\n",
              "      <th>1</th>\n",
              "      <td>blues.00043.au</td>\n",
              "      <td>0.398613</td>\n",
              "      <td>0.127050</td>\n",
              "      <td>2146.989442</td>\n",
              "      <td>2346.179667</td>\n",
              "      <td>4924.229455</td>\n",
              "      <td>0.087361</td>\n",
              "      <td>-106.287834</td>\n",
              "      <td>102.910103</td>\n",
              "      <td>-9.609563</td>\n",
              "      <td>...</td>\n",
              "      <td>6.560434</td>\n",
              "      <td>-9.160453</td>\n",
              "      <td>5.283280</td>\n",
              "      <td>-15.422059</td>\n",
              "      <td>1.948020</td>\n",
              "      <td>-7.752453</td>\n",
              "      <td>2.932549</td>\n",
              "      <td>-4.131612</td>\n",
              "      <td>4.118633</td>\n",
              "      <td>blues</td>\n",
              "    </tr>\n",
              "    <tr>\n",
              "      <th>2</th>\n",
              "      <td>blues.00089.au</td>\n",
              "      <td>0.330216</td>\n",
              "      <td>0.057961</td>\n",
              "      <td>677.501002</td>\n",
              "      <td>1136.151689</td>\n",
              "      <td>1216.211877</td>\n",
              "      <td>0.022919</td>\n",
              "      <td>-345.310028</td>\n",
              "      <td>164.461838</td>\n",
              "      <td>27.915159</td>\n",
              "      <td>...</td>\n",
              "      <td>-6.900138</td>\n",
              "      <td>0.515772</td>\n",
              "      <td>-0.058611</td>\n",
              "      <td>-2.355061</td>\n",
              "      <td>3.843762</td>\n",
              "      <td>-1.428511</td>\n",
              "      <td>-8.551285</td>\n",
              "      <td>-4.983430</td>\n",
              "      <td>0.694750</td>\n",
              "      <td>blues</td>\n",
              "    </tr>\n",
              "    <tr>\n",
              "      <th>3</th>\n",
              "      <td>blues.00093.au</td>\n",
              "      <td>0.399003</td>\n",
              "      <td>0.056844</td>\n",
              "      <td>640.531249</td>\n",
              "      <td>1022.053919</td>\n",
              "      <td>1190.123573</td>\n",
              "      <td>0.022397</td>\n",
              "      <td>-350.515137</td>\n",
              "      <td>167.412292</td>\n",
              "      <td>19.829763</td>\n",
              "      <td>...</td>\n",
              "      <td>1.817667</td>\n",
              "      <td>-11.212885</td>\n",
              "      <td>-7.739208</td>\n",
              "      <td>0.326726</td>\n",
              "      <td>-3.299458</td>\n",
              "      <td>-7.078539</td>\n",
              "      <td>0.315696</td>\n",
              "      <td>7.074780</td>\n",
              "      <td>2.348529</td>\n",
              "      <td>blues</td>\n",
              "    </tr>\n",
              "    <tr>\n",
              "      <th>4</th>\n",
              "      <td>blues.00011.au</td>\n",
              "      <td>0.395926</td>\n",
              "      <td>0.053601</td>\n",
              "      <td>1387.962171</td>\n",
              "      <td>1815.101760</td>\n",
              "      <td>3007.525916</td>\n",
              "      <td>0.044899</td>\n",
              "      <td>-321.723846</td>\n",
              "      <td>123.837578</td>\n",
              "      <td>4.081958</td>\n",
              "      <td>...</td>\n",
              "      <td>0.056975</td>\n",
              "      <td>-5.541474</td>\n",
              "      <td>-4.698399</td>\n",
              "      <td>-2.931809</td>\n",
              "      <td>-3.163541</td>\n",
              "      <td>-0.938552</td>\n",
              "      <td>-0.314044</td>\n",
              "      <td>-0.404410</td>\n",
              "      <td>-4.586336</td>\n",
              "      <td>blues</td>\n",
              "    </tr>\n",
              "  </tbody>\n",
              "</table>\n",
              "<p>5 rows × 28 columns</p>\n",
              "</div>\n",
              "    <div class=\"colab-df-buttons\">\n",
              "\n",
              "  <div class=\"colab-df-container\">\n",
              "    <button class=\"colab-df-convert\" onclick=\"convertToInteractive('df-dba239d4-7e0b-4bef-a633-0fe5c4c80ebf')\"\n",
              "            title=\"Convert this dataframe to an interactive table.\"\n",
              "            style=\"display:none;\">\n",
              "\n",
              "  <svg xmlns=\"http://www.w3.org/2000/svg\" height=\"24px\" viewBox=\"0 -960 960 960\">\n",
              "    <path d=\"M120-120v-720h720v720H120Zm60-500h600v-160H180v160Zm220 220h160v-160H400v160Zm0 220h160v-160H400v160ZM180-400h160v-160H180v160Zm440 0h160v-160H620v160ZM180-180h160v-160H180v160Zm440 0h160v-160H620v160Z\"/>\n",
              "  </svg>\n",
              "    </button>\n",
              "\n",
              "  <style>\n",
              "    .colab-df-container {\n",
              "      display:flex;\n",
              "      gap: 12px;\n",
              "    }\n",
              "\n",
              "    .colab-df-convert {\n",
              "      background-color: #E8F0FE;\n",
              "      border: none;\n",
              "      border-radius: 50%;\n",
              "      cursor: pointer;\n",
              "      display: none;\n",
              "      fill: #1967D2;\n",
              "      height: 32px;\n",
              "      padding: 0 0 0 0;\n",
              "      width: 32px;\n",
              "    }\n",
              "\n",
              "    .colab-df-convert:hover {\n",
              "      background-color: #E2EBFA;\n",
              "      box-shadow: 0px 1px 2px rgba(60, 64, 67, 0.3), 0px 1px 3px 1px rgba(60, 64, 67, 0.15);\n",
              "      fill: #174EA6;\n",
              "    }\n",
              "\n",
              "    .colab-df-buttons div {\n",
              "      margin-bottom: 4px;\n",
              "    }\n",
              "\n",
              "    [theme=dark] .colab-df-convert {\n",
              "      background-color: #3B4455;\n",
              "      fill: #D2E3FC;\n",
              "    }\n",
              "\n",
              "    [theme=dark] .colab-df-convert:hover {\n",
              "      background-color: #434B5C;\n",
              "      box-shadow: 0px 1px 3px 1px rgba(0, 0, 0, 0.15);\n",
              "      filter: drop-shadow(0px 1px 2px rgba(0, 0, 0, 0.3));\n",
              "      fill: #FFFFFF;\n",
              "    }\n",
              "  </style>\n",
              "\n",
              "    <script>\n",
              "      const buttonEl =\n",
              "        document.querySelector('#df-dba239d4-7e0b-4bef-a633-0fe5c4c80ebf button.colab-df-convert');\n",
              "      buttonEl.style.display =\n",
              "        google.colab.kernel.accessAllowed ? 'block' : 'none';\n",
              "\n",
              "      async function convertToInteractive(key) {\n",
              "        const element = document.querySelector('#df-dba239d4-7e0b-4bef-a633-0fe5c4c80ebf');\n",
              "        const dataTable =\n",
              "          await google.colab.kernel.invokeFunction('convertToInteractive',\n",
              "                                                    [key], {});\n",
              "        if (!dataTable) return;\n",
              "\n",
              "        const docLinkHtml = 'Like what you see? Visit the ' +\n",
              "          '<a target=\"_blank\" href=https://colab.research.google.com/notebooks/data_table.ipynb>data table notebook</a>'\n",
              "          + ' to learn more about interactive tables.';\n",
              "        element.innerHTML = '';\n",
              "        dataTable['output_type'] = 'display_data';\n",
              "        await google.colab.output.renderOutput(dataTable, element);\n",
              "        const docLink = document.createElement('div');\n",
              "        docLink.innerHTML = docLinkHtml;\n",
              "        element.appendChild(docLink);\n",
              "      }\n",
              "    </script>\n",
              "  </div>\n",
              "\n",
              "\n",
              "<div id=\"df-d259dc48-c20d-40cb-8d20-8e5ff97022f9\">\n",
              "  <button class=\"colab-df-quickchart\" onclick=\"quickchart('df-d259dc48-c20d-40cb-8d20-8e5ff97022f9')\"\n",
              "            title=\"Suggest charts\"\n",
              "            style=\"display:none;\">\n",
              "\n",
              "<svg xmlns=\"http://www.w3.org/2000/svg\" height=\"24px\"viewBox=\"0 0 24 24\"\n",
              "     width=\"24px\">\n",
              "    <g>\n",
              "        <path d=\"M19 3H5c-1.1 0-2 .9-2 2v14c0 1.1.9 2 2 2h14c1.1 0 2-.9 2-2V5c0-1.1-.9-2-2-2zM9 17H7v-7h2v7zm4 0h-2V7h2v10zm4 0h-2v-4h2v4z\"/>\n",
              "    </g>\n",
              "</svg>\n",
              "  </button>\n",
              "\n",
              "<style>\n",
              "  .colab-df-quickchart {\n",
              "      --bg-color: #E8F0FE;\n",
              "      --fill-color: #1967D2;\n",
              "      --hover-bg-color: #E2EBFA;\n",
              "      --hover-fill-color: #174EA6;\n",
              "      --disabled-fill-color: #AAA;\n",
              "      --disabled-bg-color: #DDD;\n",
              "  }\n",
              "\n",
              "  [theme=dark] .colab-df-quickchart {\n",
              "      --bg-color: #3B4455;\n",
              "      --fill-color: #D2E3FC;\n",
              "      --hover-bg-color: #434B5C;\n",
              "      --hover-fill-color: #FFFFFF;\n",
              "      --disabled-bg-color: #3B4455;\n",
              "      --disabled-fill-color: #666;\n",
              "  }\n",
              "\n",
              "  .colab-df-quickchart {\n",
              "    background-color: var(--bg-color);\n",
              "    border: none;\n",
              "    border-radius: 50%;\n",
              "    cursor: pointer;\n",
              "    display: none;\n",
              "    fill: var(--fill-color);\n",
              "    height: 32px;\n",
              "    padding: 0;\n",
              "    width: 32px;\n",
              "  }\n",
              "\n",
              "  .colab-df-quickchart:hover {\n",
              "    background-color: var(--hover-bg-color);\n",
              "    box-shadow: 0 1px 2px rgba(60, 64, 67, 0.3), 0 1px 3px 1px rgba(60, 64, 67, 0.15);\n",
              "    fill: var(--button-hover-fill-color);\n",
              "  }\n",
              "\n",
              "  .colab-df-quickchart-complete:disabled,\n",
              "  .colab-df-quickchart-complete:disabled:hover {\n",
              "    background-color: var(--disabled-bg-color);\n",
              "    fill: var(--disabled-fill-color);\n",
              "    box-shadow: none;\n",
              "  }\n",
              "\n",
              "  .colab-df-spinner {\n",
              "    border: 2px solid var(--fill-color);\n",
              "    border-color: transparent;\n",
              "    border-bottom-color: var(--fill-color);\n",
              "    animation:\n",
              "      spin 1s steps(1) infinite;\n",
              "  }\n",
              "\n",
              "  @keyframes spin {\n",
              "    0% {\n",
              "      border-color: transparent;\n",
              "      border-bottom-color: var(--fill-color);\n",
              "      border-left-color: var(--fill-color);\n",
              "    }\n",
              "    20% {\n",
              "      border-color: transparent;\n",
              "      border-left-color: var(--fill-color);\n",
              "      border-top-color: var(--fill-color);\n",
              "    }\n",
              "    30% {\n",
              "      border-color: transparent;\n",
              "      border-left-color: var(--fill-color);\n",
              "      border-top-color: var(--fill-color);\n",
              "      border-right-color: var(--fill-color);\n",
              "    }\n",
              "    40% {\n",
              "      border-color: transparent;\n",
              "      border-right-color: var(--fill-color);\n",
              "      border-top-color: var(--fill-color);\n",
              "    }\n",
              "    60% {\n",
              "      border-color: transparent;\n",
              "      border-right-color: var(--fill-color);\n",
              "    }\n",
              "    80% {\n",
              "      border-color: transparent;\n",
              "      border-right-color: var(--fill-color);\n",
              "      border-bottom-color: var(--fill-color);\n",
              "    }\n",
              "    90% {\n",
              "      border-color: transparent;\n",
              "      border-bottom-color: var(--fill-color);\n",
              "    }\n",
              "  }\n",
              "</style>\n",
              "\n",
              "  <script>\n",
              "    async function quickchart(key) {\n",
              "      const quickchartButtonEl =\n",
              "        document.querySelector('#' + key + ' button');\n",
              "      quickchartButtonEl.disabled = true;  // To prevent multiple clicks.\n",
              "      quickchartButtonEl.classList.add('colab-df-spinner');\n",
              "      try {\n",
              "        const charts = await google.colab.kernel.invokeFunction(\n",
              "            'suggestCharts', [key], {});\n",
              "      } catch (error) {\n",
              "        console.error('Error during call to suggestCharts:', error);\n",
              "      }\n",
              "      quickchartButtonEl.classList.remove('colab-df-spinner');\n",
              "      quickchartButtonEl.classList.add('colab-df-quickchart-complete');\n",
              "    }\n",
              "    (() => {\n",
              "      let quickchartButtonEl =\n",
              "        document.querySelector('#df-d259dc48-c20d-40cb-8d20-8e5ff97022f9 button');\n",
              "      quickchartButtonEl.style.display =\n",
              "        google.colab.kernel.accessAllowed ? 'block' : 'none';\n",
              "    })();\n",
              "  </script>\n",
              "</div>\n",
              "\n",
              "    </div>\n",
              "  </div>\n"
            ],
            "application/vnd.google.colaboratory.intrinsic+json": {
              "type": "dataframe",
              "variable_name": "data_3s"
            }
          },
          "metadata": {},
          "execution_count": 26
        }
      ]
    },
    {
      "cell_type": "code",
      "source": [
        "data_3s.shape"
      ],
      "metadata": {
        "colab": {
          "base_uri": "https://localhost:8080/"
        },
        "id": "8Mw0aBElre1l",
        "outputId": "625270b3-cf6c-4b53-c894-a9d1755ccdcd"
      },
      "execution_count": null,
      "outputs": [
        {
          "output_type": "execute_result",
          "data": {
            "text/plain": [
              "(2000, 28)"
            ]
          },
          "metadata": {},
          "execution_count": 21
        }
      ]
    },
    {
      "cell_type": "code",
      "source": [
        "seed = 12\n",
        "np.random.seed(seed)\n",
        "\n",
        "data_shuffle = data_3s.sample(frac=1, random_state=seed).reset_index(drop=True)"
      ],
      "metadata": {
        "id": "CzMaItLxrkS6"
      },
      "execution_count": null,
      "outputs": []
    },
    {
      "cell_type": "code",
      "source": [
        "data_shuffle = data_shuffle.drop(['filename'],axis=1)\n",
        "data_shuffle.head()"
      ],
      "metadata": {
        "colab": {
          "base_uri": "https://localhost:8080/",
          "height": 255
        },
        "id": "pdB4_3E6rmbn",
        "outputId": "f82fa32d-a032-4305-8a53-d06010cd497b"
      },
      "execution_count": null,
      "outputs": [
        {
          "output_type": "execute_result",
          "data": {
            "text/plain": [
              "   chroma_stft      rmse  spectral_centroid  spectral_bandwidth      rolloff  \\\n",
              "0     0.256180  0.115150        1015.645596         1736.459418  1781.044358   \n",
              "1     0.171890  0.131722         853.453653         1354.981080  1072.850436   \n",
              "2     0.433044  0.166802        2358.867430         2035.459115  4431.698843   \n",
              "3     0.242811  0.043694        1005.522854         1296.907222  1685.055965   \n",
              "4     0.286972  0.133271        1057.885607         1464.969731  1694.083346   \n",
              "\n",
              "   zero_crossing_rate       mfcc1       mfcc2      mfcc3      mfcc4  ...  \\\n",
              "0            0.033905 -264.730042  117.711273  37.102875  40.730743  ...   \n",
              "1            0.045797 -265.327423  177.978546  26.460379 -13.352622  ...   \n",
              "2            0.166245  -68.454773   91.542267 -33.452648  72.505608  ...   \n",
              "3            0.050068 -301.612091  178.697632 -11.299769  30.429750  ...   \n",
              "4            0.055649 -171.273804  172.718277  -9.714803  -0.288757  ...   \n",
              "\n",
              "      mfcc12     mfcc13    mfcc14     mfcc15     mfcc16     mfcc17     mfcc18  \\\n",
              "0 -10.589654 -15.629943 -1.518200 -12.896955 -11.877695  -6.261710  -7.029034   \n",
              "1  -5.094402  -8.361628 -4.551609  -6.124369  -6.634355 -13.539562 -10.734464   \n",
              "2  10.681966 -14.740170  0.091191  -5.635654   5.097917  -7.171759  -0.506923   \n",
              "3   3.728764  -0.705305  4.562327  -3.589930  -9.752854  -5.986495  -1.602933   \n",
              "4  -6.272744 -10.091816 -2.728145  -6.671346  -2.232099   1.436002   2.904237   \n",
              "\n",
              "     mfcc19    mfcc20      label  \n",
              "0 -7.436520 -9.023581      blues  \n",
              "1 -8.922804 -3.120422  classical  \n",
              "2 -7.664429  3.295030      blues  \n",
              "3 -2.998392 -8.878064  classical  \n",
              "4 -7.057222 -2.609650  classical  \n",
              "\n",
              "[5 rows x 27 columns]"
            ],
            "text/html": [
              "\n",
              "  <div id=\"df-d978cd78-8184-45b3-8a96-584c12b81c6d\" class=\"colab-df-container\">\n",
              "    <div>\n",
              "<style scoped>\n",
              "    .dataframe tbody tr th:only-of-type {\n",
              "        vertical-align: middle;\n",
              "    }\n",
              "\n",
              "    .dataframe tbody tr th {\n",
              "        vertical-align: top;\n",
              "    }\n",
              "\n",
              "    .dataframe thead th {\n",
              "        text-align: right;\n",
              "    }\n",
              "</style>\n",
              "<table border=\"1\" class=\"dataframe\">\n",
              "  <thead>\n",
              "    <tr style=\"text-align: right;\">\n",
              "      <th></th>\n",
              "      <th>chroma_stft</th>\n",
              "      <th>rmse</th>\n",
              "      <th>spectral_centroid</th>\n",
              "      <th>spectral_bandwidth</th>\n",
              "      <th>rolloff</th>\n",
              "      <th>zero_crossing_rate</th>\n",
              "      <th>mfcc1</th>\n",
              "      <th>mfcc2</th>\n",
              "      <th>mfcc3</th>\n",
              "      <th>mfcc4</th>\n",
              "      <th>...</th>\n",
              "      <th>mfcc12</th>\n",
              "      <th>mfcc13</th>\n",
              "      <th>mfcc14</th>\n",
              "      <th>mfcc15</th>\n",
              "      <th>mfcc16</th>\n",
              "      <th>mfcc17</th>\n",
              "      <th>mfcc18</th>\n",
              "      <th>mfcc19</th>\n",
              "      <th>mfcc20</th>\n",
              "      <th>label</th>\n",
              "    </tr>\n",
              "  </thead>\n",
              "  <tbody>\n",
              "    <tr>\n",
              "      <th>0</th>\n",
              "      <td>0.256180</td>\n",
              "      <td>0.115150</td>\n",
              "      <td>1015.645596</td>\n",
              "      <td>1736.459418</td>\n",
              "      <td>1781.044358</td>\n",
              "      <td>0.033905</td>\n",
              "      <td>-264.730042</td>\n",
              "      <td>117.711273</td>\n",
              "      <td>37.102875</td>\n",
              "      <td>40.730743</td>\n",
              "      <td>...</td>\n",
              "      <td>-10.589654</td>\n",
              "      <td>-15.629943</td>\n",
              "      <td>-1.518200</td>\n",
              "      <td>-12.896955</td>\n",
              "      <td>-11.877695</td>\n",
              "      <td>-6.261710</td>\n",
              "      <td>-7.029034</td>\n",
              "      <td>-7.436520</td>\n",
              "      <td>-9.023581</td>\n",
              "      <td>blues</td>\n",
              "    </tr>\n",
              "    <tr>\n",
              "      <th>1</th>\n",
              "      <td>0.171890</td>\n",
              "      <td>0.131722</td>\n",
              "      <td>853.453653</td>\n",
              "      <td>1354.981080</td>\n",
              "      <td>1072.850436</td>\n",
              "      <td>0.045797</td>\n",
              "      <td>-265.327423</td>\n",
              "      <td>177.978546</td>\n",
              "      <td>26.460379</td>\n",
              "      <td>-13.352622</td>\n",
              "      <td>...</td>\n",
              "      <td>-5.094402</td>\n",
              "      <td>-8.361628</td>\n",
              "      <td>-4.551609</td>\n",
              "      <td>-6.124369</td>\n",
              "      <td>-6.634355</td>\n",
              "      <td>-13.539562</td>\n",
              "      <td>-10.734464</td>\n",
              "      <td>-8.922804</td>\n",
              "      <td>-3.120422</td>\n",
              "      <td>classical</td>\n",
              "    </tr>\n",
              "    <tr>\n",
              "      <th>2</th>\n",
              "      <td>0.433044</td>\n",
              "      <td>0.166802</td>\n",
              "      <td>2358.867430</td>\n",
              "      <td>2035.459115</td>\n",
              "      <td>4431.698843</td>\n",
              "      <td>0.166245</td>\n",
              "      <td>-68.454773</td>\n",
              "      <td>91.542267</td>\n",
              "      <td>-33.452648</td>\n",
              "      <td>72.505608</td>\n",
              "      <td>...</td>\n",
              "      <td>10.681966</td>\n",
              "      <td>-14.740170</td>\n",
              "      <td>0.091191</td>\n",
              "      <td>-5.635654</td>\n",
              "      <td>5.097917</td>\n",
              "      <td>-7.171759</td>\n",
              "      <td>-0.506923</td>\n",
              "      <td>-7.664429</td>\n",
              "      <td>3.295030</td>\n",
              "      <td>blues</td>\n",
              "    </tr>\n",
              "    <tr>\n",
              "      <th>3</th>\n",
              "      <td>0.242811</td>\n",
              "      <td>0.043694</td>\n",
              "      <td>1005.522854</td>\n",
              "      <td>1296.907222</td>\n",
              "      <td>1685.055965</td>\n",
              "      <td>0.050068</td>\n",
              "      <td>-301.612091</td>\n",
              "      <td>178.697632</td>\n",
              "      <td>-11.299769</td>\n",
              "      <td>30.429750</td>\n",
              "      <td>...</td>\n",
              "      <td>3.728764</td>\n",
              "      <td>-0.705305</td>\n",
              "      <td>4.562327</td>\n",
              "      <td>-3.589930</td>\n",
              "      <td>-9.752854</td>\n",
              "      <td>-5.986495</td>\n",
              "      <td>-1.602933</td>\n",
              "      <td>-2.998392</td>\n",
              "      <td>-8.878064</td>\n",
              "      <td>classical</td>\n",
              "    </tr>\n",
              "    <tr>\n",
              "      <th>4</th>\n",
              "      <td>0.286972</td>\n",
              "      <td>0.133271</td>\n",
              "      <td>1057.885607</td>\n",
              "      <td>1464.969731</td>\n",
              "      <td>1694.083346</td>\n",
              "      <td>0.055649</td>\n",
              "      <td>-171.273804</td>\n",
              "      <td>172.718277</td>\n",
              "      <td>-9.714803</td>\n",
              "      <td>-0.288757</td>\n",
              "      <td>...</td>\n",
              "      <td>-6.272744</td>\n",
              "      <td>-10.091816</td>\n",
              "      <td>-2.728145</td>\n",
              "      <td>-6.671346</td>\n",
              "      <td>-2.232099</td>\n",
              "      <td>1.436002</td>\n",
              "      <td>2.904237</td>\n",
              "      <td>-7.057222</td>\n",
              "      <td>-2.609650</td>\n",
              "      <td>classical</td>\n",
              "    </tr>\n",
              "  </tbody>\n",
              "</table>\n",
              "<p>5 rows × 27 columns</p>\n",
              "</div>\n",
              "    <div class=\"colab-df-buttons\">\n",
              "\n",
              "  <div class=\"colab-df-container\">\n",
              "    <button class=\"colab-df-convert\" onclick=\"convertToInteractive('df-d978cd78-8184-45b3-8a96-584c12b81c6d')\"\n",
              "            title=\"Convert this dataframe to an interactive table.\"\n",
              "            style=\"display:none;\">\n",
              "\n",
              "  <svg xmlns=\"http://www.w3.org/2000/svg\" height=\"24px\" viewBox=\"0 -960 960 960\">\n",
              "    <path d=\"M120-120v-720h720v720H120Zm60-500h600v-160H180v160Zm220 220h160v-160H400v160Zm0 220h160v-160H400v160ZM180-400h160v-160H180v160Zm440 0h160v-160H620v160ZM180-180h160v-160H180v160Zm440 0h160v-160H620v160Z\"/>\n",
              "  </svg>\n",
              "    </button>\n",
              "\n",
              "  <style>\n",
              "    .colab-df-container {\n",
              "      display:flex;\n",
              "      gap: 12px;\n",
              "    }\n",
              "\n",
              "    .colab-df-convert {\n",
              "      background-color: #E8F0FE;\n",
              "      border: none;\n",
              "      border-radius: 50%;\n",
              "      cursor: pointer;\n",
              "      display: none;\n",
              "      fill: #1967D2;\n",
              "      height: 32px;\n",
              "      padding: 0 0 0 0;\n",
              "      width: 32px;\n",
              "    }\n",
              "\n",
              "    .colab-df-convert:hover {\n",
              "      background-color: #E2EBFA;\n",
              "      box-shadow: 0px 1px 2px rgba(60, 64, 67, 0.3), 0px 1px 3px 1px rgba(60, 64, 67, 0.15);\n",
              "      fill: #174EA6;\n",
              "    }\n",
              "\n",
              "    .colab-df-buttons div {\n",
              "      margin-bottom: 4px;\n",
              "    }\n",
              "\n",
              "    [theme=dark] .colab-df-convert {\n",
              "      background-color: #3B4455;\n",
              "      fill: #D2E3FC;\n",
              "    }\n",
              "\n",
              "    [theme=dark] .colab-df-convert:hover {\n",
              "      background-color: #434B5C;\n",
              "      box-shadow: 0px 1px 3px 1px rgba(0, 0, 0, 0.15);\n",
              "      filter: drop-shadow(0px 1px 2px rgba(0, 0, 0, 0.3));\n",
              "      fill: #FFFFFF;\n",
              "    }\n",
              "  </style>\n",
              "\n",
              "    <script>\n",
              "      const buttonEl =\n",
              "        document.querySelector('#df-d978cd78-8184-45b3-8a96-584c12b81c6d button.colab-df-convert');\n",
              "      buttonEl.style.display =\n",
              "        google.colab.kernel.accessAllowed ? 'block' : 'none';\n",
              "\n",
              "      async function convertToInteractive(key) {\n",
              "        const element = document.querySelector('#df-d978cd78-8184-45b3-8a96-584c12b81c6d');\n",
              "        const dataTable =\n",
              "          await google.colab.kernel.invokeFunction('convertToInteractive',\n",
              "                                                    [key], {});\n",
              "        if (!dataTable) return;\n",
              "\n",
              "        const docLinkHtml = 'Like what you see? Visit the ' +\n",
              "          '<a target=\"_blank\" href=https://colab.research.google.com/notebooks/data_table.ipynb>data table notebook</a>'\n",
              "          + ' to learn more about interactive tables.';\n",
              "        element.innerHTML = '';\n",
              "        dataTable['output_type'] = 'display_data';\n",
              "        await google.colab.output.renderOutput(dataTable, element);\n",
              "        const docLink = document.createElement('div');\n",
              "        docLink.innerHTML = docLinkHtml;\n",
              "        element.appendChild(docLink);\n",
              "      }\n",
              "    </script>\n",
              "  </div>\n",
              "\n",
              "\n",
              "<div id=\"df-aefcb5d4-679b-46b4-b746-726d8c64030d\">\n",
              "  <button class=\"colab-df-quickchart\" onclick=\"quickchart('df-aefcb5d4-679b-46b4-b746-726d8c64030d')\"\n",
              "            title=\"Suggest charts\"\n",
              "            style=\"display:none;\">\n",
              "\n",
              "<svg xmlns=\"http://www.w3.org/2000/svg\" height=\"24px\"viewBox=\"0 0 24 24\"\n",
              "     width=\"24px\">\n",
              "    <g>\n",
              "        <path d=\"M19 3H5c-1.1 0-2 .9-2 2v14c0 1.1.9 2 2 2h14c1.1 0 2-.9 2-2V5c0-1.1-.9-2-2-2zM9 17H7v-7h2v7zm4 0h-2V7h2v10zm4 0h-2v-4h2v4z\"/>\n",
              "    </g>\n",
              "</svg>\n",
              "  </button>\n",
              "\n",
              "<style>\n",
              "  .colab-df-quickchart {\n",
              "      --bg-color: #E8F0FE;\n",
              "      --fill-color: #1967D2;\n",
              "      --hover-bg-color: #E2EBFA;\n",
              "      --hover-fill-color: #174EA6;\n",
              "      --disabled-fill-color: #AAA;\n",
              "      --disabled-bg-color: #DDD;\n",
              "  }\n",
              "\n",
              "  [theme=dark] .colab-df-quickchart {\n",
              "      --bg-color: #3B4455;\n",
              "      --fill-color: #D2E3FC;\n",
              "      --hover-bg-color: #434B5C;\n",
              "      --hover-fill-color: #FFFFFF;\n",
              "      --disabled-bg-color: #3B4455;\n",
              "      --disabled-fill-color: #666;\n",
              "  }\n",
              "\n",
              "  .colab-df-quickchart {\n",
              "    background-color: var(--bg-color);\n",
              "    border: none;\n",
              "    border-radius: 50%;\n",
              "    cursor: pointer;\n",
              "    display: none;\n",
              "    fill: var(--fill-color);\n",
              "    height: 32px;\n",
              "    padding: 0;\n",
              "    width: 32px;\n",
              "  }\n",
              "\n",
              "  .colab-df-quickchart:hover {\n",
              "    background-color: var(--hover-bg-color);\n",
              "    box-shadow: 0 1px 2px rgba(60, 64, 67, 0.3), 0 1px 3px 1px rgba(60, 64, 67, 0.15);\n",
              "    fill: var(--button-hover-fill-color);\n",
              "  }\n",
              "\n",
              "  .colab-df-quickchart-complete:disabled,\n",
              "  .colab-df-quickchart-complete:disabled:hover {\n",
              "    background-color: var(--disabled-bg-color);\n",
              "    fill: var(--disabled-fill-color);\n",
              "    box-shadow: none;\n",
              "  }\n",
              "\n",
              "  .colab-df-spinner {\n",
              "    border: 2px solid var(--fill-color);\n",
              "    border-color: transparent;\n",
              "    border-bottom-color: var(--fill-color);\n",
              "    animation:\n",
              "      spin 1s steps(1) infinite;\n",
              "  }\n",
              "\n",
              "  @keyframes spin {\n",
              "    0% {\n",
              "      border-color: transparent;\n",
              "      border-bottom-color: var(--fill-color);\n",
              "      border-left-color: var(--fill-color);\n",
              "    }\n",
              "    20% {\n",
              "      border-color: transparent;\n",
              "      border-left-color: var(--fill-color);\n",
              "      border-top-color: var(--fill-color);\n",
              "    }\n",
              "    30% {\n",
              "      border-color: transparent;\n",
              "      border-left-color: var(--fill-color);\n",
              "      border-top-color: var(--fill-color);\n",
              "      border-right-color: var(--fill-color);\n",
              "    }\n",
              "    40% {\n",
              "      border-color: transparent;\n",
              "      border-right-color: var(--fill-color);\n",
              "      border-top-color: var(--fill-color);\n",
              "    }\n",
              "    60% {\n",
              "      border-color: transparent;\n",
              "      border-right-color: var(--fill-color);\n",
              "    }\n",
              "    80% {\n",
              "      border-color: transparent;\n",
              "      border-right-color: var(--fill-color);\n",
              "      border-bottom-color: var(--fill-color);\n",
              "    }\n",
              "    90% {\n",
              "      border-color: transparent;\n",
              "      border-bottom-color: var(--fill-color);\n",
              "    }\n",
              "  }\n",
              "</style>\n",
              "\n",
              "  <script>\n",
              "    async function quickchart(key) {\n",
              "      const quickchartButtonEl =\n",
              "        document.querySelector('#' + key + ' button');\n",
              "      quickchartButtonEl.disabled = true;  // To prevent multiple clicks.\n",
              "      quickchartButtonEl.classList.add('colab-df-spinner');\n",
              "      try {\n",
              "        const charts = await google.colab.kernel.invokeFunction(\n",
              "            'suggestCharts', [key], {});\n",
              "      } catch (error) {\n",
              "        console.error('Error during call to suggestCharts:', error);\n",
              "      }\n",
              "      quickchartButtonEl.classList.remove('colab-df-spinner');\n",
              "      quickchartButtonEl.classList.add('colab-df-quickchart-complete');\n",
              "    }\n",
              "    (() => {\n",
              "      let quickchartButtonEl =\n",
              "        document.querySelector('#df-aefcb5d4-679b-46b4-b746-726d8c64030d button');\n",
              "      quickchartButtonEl.style.display =\n",
              "        google.colab.kernel.accessAllowed ? 'block' : 'none';\n",
              "    })();\n",
              "  </script>\n",
              "</div>\n",
              "    </div>\n",
              "  </div>\n"
            ]
          },
          "metadata": {},
          "execution_count": 24
        }
      ]
    },
    {
      "cell_type": "code",
      "source": [
        "X = data_shuffle.iloc[:, :-1]"
      ],
      "metadata": {
        "id": "5b6X1FBNrobq"
      },
      "execution_count": null,
      "outputs": []
    },
    {
      "cell_type": "code",
      "source": [
        "genre_list = data_shuffle.iloc[:, -1]\n",
        "encoder = LabelEncoder()\n",
        "y = encoder.fit_transform(genre_list)\n",
        "print(y)"
      ],
      "metadata": {
        "colab": {
          "base_uri": "https://localhost:8080/"
        },
        "id": "v7qs8pZIrpJI",
        "outputId": "4c299596-99db-45d0-dfc5-8b999a4401db"
      },
      "execution_count": null,
      "outputs": [
        {
          "output_type": "stream",
          "name": "stdout",
          "text": [
            "[0 1 0 ... 1 1 1]\n"
          ]
        }
      ]
    },
    {
      "cell_type": "code",
      "source": [
        "X_train, df_test_valid_X, y_train, df_test_valid_y = skms.train_test_split(X, y, train_size=0.7, random_state=seed, stratify=y)\n",
        "\n",
        "X_dev, X_test, y_dev, y_test = skms.train_test_split(df_test_valid_X, df_test_valid_y, train_size=0.66, random_state=seed, stratify=df_test_valid_y)"
      ],
      "metadata": {
        "id": "Fzh_mCq-rq4W"
      },
      "execution_count": null,
      "outputs": []
    },
    {
      "cell_type": "code",
      "source": [
        "print(f\"Train set has {X_train.shape[0]} records out of {len(data_shuffle)} which is {round(X_train.shape[0]/len(data_shuffle)*100)}%\")\n",
        "print(f\"Dev set has {X_dev.shape[0]} records out of {len(data_shuffle)} which is {round(X_dev.shape[0]/len(data_shuffle)*100)}%\")\n",
        "print(f\"Test set has {X_test.shape[0]} records out of {len(data_shuffle)} which is {round(X_test.shape[0]/len(data_shuffle)*100)}%\")"
      ],
      "metadata": {
        "colab": {
          "base_uri": "https://localhost:8080/"
        },
        "id": "1gXDY0G3ruaG",
        "outputId": "3f18ae44-3de2-4ca7-c965-95c5eedba4df"
      },
      "execution_count": null,
      "outputs": [
        {
          "output_type": "stream",
          "name": "stdout",
          "text": [
            "Train set has 1400 records out of 2000 which is 70%\n",
            "Dev set has 396 records out of 2000 which is 20%\n",
            "Test set has 204 records out of 2000 which is 10%\n"
          ]
        }
      ]
    },
    {
      "cell_type": "code",
      "source": [
        "import sklearn.preprocessing as skp\n",
        "\n",
        "scaler = skp.StandardScaler()\n",
        "\n",
        "X_train = pd.DataFrame(scaler.fit_transform(X_train), columns=X_train.columns)\n",
        "X_dev = pd.DataFrame(scaler.transform(X_dev), columns=X_train.columns)\n",
        "X_test = pd.DataFrame(scaler.transform(X_test), columns=X_train.columns)"
      ],
      "metadata": {
        "id": "PnXEu3sprw3E"
      },
      "execution_count": null,
      "outputs": []
    },
    {
      "cell_type": "code",
      "source": [
        "import tensorflow as tf\n",
        "print(\"TF version:-\", tf.__version__)\n",
        "import keras as k\n",
        "tf.random.set_seed(seed)"
      ],
      "metadata": {
        "colab": {
          "base_uri": "https://localhost:8080/"
        },
        "id": "j1rDFdpXrzzY",
        "outputId": "b01e3a24-71d5-47ef-e954-a0dd3502951a"
      },
      "execution_count": null,
      "outputs": [
        {
          "output_type": "stream",
          "name": "stdout",
          "text": [
            "TF version:- 2.14.0\n"
          ]
        }
      ]
    },
    {
      "cell_type": "code",
      "source": [
        "ACCURACY_THRESHOLD = 0.94\n",
        "\n",
        "class myCallback(k.callbacks.Callback):\n",
        "    def on_epoch_end(self, epoch, logs={}):\n",
        "        if(logs.get('val_accuracy') > ACCURACY_THRESHOLD):\n",
        "            print(\"\\n\\nStopping training as we have reached %2.2f%% accuracy!\" %(ACCURACY_THRESHOLD*100))\n",
        "            self.model.stop_training = True\n",
        "\n",
        "def trainModel(model, epochs, optimizer):\n",
        "    batch_size = 128\n",
        "    callback = myCallback()\n",
        "    model.compile(optimizer=optimizer,\n",
        "                  loss='sparse_categorical_crossentropy',\n",
        "                  metrics='accuracy'\n",
        "    )\n",
        "    return model.fit(X_train, y_train, validation_data=(X_dev, y_dev), epochs=epochs,\n",
        "                     batch_size=batch_size, callbacks=[callback])\n",
        "\n",
        "def plotHistory(history):\n",
        "    print(\"Max. Validation Accuracy\",max(history.history[\"val_accuracy\"]))\n",
        "    pd.DataFrame(history.history).plot(figsize=(12,6))\n",
        "    plt.show()"
      ],
      "metadata": {
        "id": "fGeYn7_Dr2Nd"
      },
      "execution_count": null,
      "outputs": []
    },
    {
      "cell_type": "code",
      "source": [
        "model_4 = k.models.Sequential([\n",
        "    k.layers.Dense(1024, activation='relu', input_shape=(X_train.shape[1],)),\n",
        "    k.layers.Dropout(0.3),\n",
        "\n",
        "    k.layers.Dense(512, activation='relu'),\n",
        "    k.layers.Dropout(0.3),\n",
        "\n",
        "    k.layers.Dense(256, activation='relu'),\n",
        "    k.layers.Dropout(0.3),\n",
        "\n",
        "    k.layers.Dense(128, activation='relu'),\n",
        "    k.layers.Dropout(0.3),\n",
        "\n",
        "    k.layers.Dense(64, activation='relu'),\n",
        "    k.layers.Dropout(0.3),\n",
        "\n",
        "    k.layers.Dense(10, activation='softmax'),\n",
        "])\n",
        "print(model_4.summary())\n",
        "model_4_history = trainModel(model=model_4, epochs=500, optimizer='rmsprop')"
      ],
      "metadata": {
        "colab": {
          "base_uri": "https://localhost:8080/"
        },
        "id": "ohQ59sQksSYx",
        "outputId": "ea6e6674-858a-4f8f-b3ff-b0a5ae787a7d"
      },
      "execution_count": null,
      "outputs": [
        {
          "output_type": "stream",
          "name": "stdout",
          "text": [
            "Model: \"sequential_1\"\n",
            "_________________________________________________________________\n",
            " Layer (type)                Output Shape              Param #   \n",
            "=================================================================\n",
            " dense_5 (Dense)             (None, 1024)              27648     \n",
            "                                                                 \n",
            " dropout_4 (Dropout)         (None, 1024)              0         \n",
            "                                                                 \n",
            " dense_6 (Dense)             (None, 512)               524800    \n",
            "                                                                 \n",
            " dropout_5 (Dropout)         (None, 512)               0         \n",
            "                                                                 \n",
            " dense_7 (Dense)             (None, 256)               131328    \n",
            "                                                                 \n",
            " dropout_6 (Dropout)         (None, 256)               0         \n",
            "                                                                 \n",
            " dense_8 (Dense)             (None, 128)               32896     \n",
            "                                                                 \n",
            " dropout_7 (Dropout)         (None, 128)               0         \n",
            "                                                                 \n",
            " dense_9 (Dense)             (None, 64)                8256      \n",
            "                                                                 \n",
            " dropout_8 (Dropout)         (None, 64)                0         \n",
            "                                                                 \n",
            " dense_10 (Dense)            (None, 10)                650       \n",
            "                                                                 \n",
            "=================================================================\n",
            "Total params: 725578 (2.77 MB)\n",
            "Trainable params: 725578 (2.77 MB)\n",
            "Non-trainable params: 0 (0.00 Byte)\n",
            "_________________________________________________________________\n",
            "None\n",
            "Epoch 1/500\n",
            "11/11 [==============================] - ETA: 0s - loss: 0.7130 - accuracy: 0.7507\n",
            "\n",
            "Stopping training as we have reached 94.00% accuracy!\n",
            "11/11 [==============================] - 3s 93ms/step - loss: 0.7130 - accuracy: 0.7507 - val_loss: 0.1689 - val_accuracy: 0.9444\n"
          ]
        }
      ]
    },
    {
      "cell_type": "code",
      "source": [
        "test_loss, test_acc  = model_4.evaluate(X_test, y_test, batch_size=128)\n",
        "print(\"The test Loss is :\",test_loss)\n",
        "print(\"\\nThe Best test Accuracy is :\",test_acc*100)"
      ],
      "metadata": {
        "colab": {
          "base_uri": "https://localhost:8080/"
        },
        "id": "O_1DB2hNsWme",
        "outputId": "b8e6bf1f-4968-4da0-81eb-001470792f34"
      },
      "execution_count": null,
      "outputs": [
        {
          "output_type": "stream",
          "name": "stdout",
          "text": [
            "2/2 [==============================] - 0s 12ms/step - loss: 0.0852 - accuracy: 0.9657\n",
            "The test Loss is : 0.08516893535852432\n",
            "\n",
            "The Best test Accuracy is : 96.56862616539001\n"
          ]
        }
      ]
    },
    {
      "cell_type": "code",
      "source": [
        "predictions = model_4.predict(X_test)\n",
        "np.argmax(predictions[0])"
      ],
      "metadata": {
        "colab": {
          "base_uri": "https://localhost:8080/"
        },
        "id": "Q24Iw-GpsZdi",
        "outputId": "f06be6c0-bcec-45c6-9215-5804c16d723d"
      },
      "execution_count": null,
      "outputs": [
        {
          "output_type": "stream",
          "name": "stdout",
          "text": [
            "7/7 [==============================] - 0s 5ms/step\n"
          ]
        },
        {
          "output_type": "execute_result",
          "data": {
            "text/plain": [
              "1"
            ]
          },
          "metadata": {},
          "execution_count": 38
        }
      ]
    },
    {
      "cell_type": "code",
      "source": [
        "def fit_feature(songname):\n",
        "    y, sr = librosa.load(songname, mono=True, duration=30)\n",
        "    chroma_stft = librosa.feature.chroma_stft(y=y, sr=sr)\n",
        "    rmse = librosa.feature.rms(y=y)\n",
        "    spec_cent = librosa.feature.spectral_centroid(y=y, sr=sr)\n",
        "    spec_bw = librosa.feature.spectral_bandwidth(y=y, sr=sr)\n",
        "    rolloff = librosa.feature.spectral_rolloff(y=y, sr=sr)\n",
        "    zcr = librosa.feature.zero_crossing_rate(y)\n",
        "    mfcc = librosa.feature.mfcc(y=y, sr=sr)\n",
        "    feature = np.array([np.mean(chroma_stft), np.mean(rmse), np.mean(spec_cent), np.mean(spec_bw), np.mean(rolloff), np.mean(zcr)])\n",
        "    for e in mfcc:\n",
        "        feature = np.append(feature, [np.mean(e)])\n",
        "    return feature"
      ],
      "metadata": {
        "id": "Elvwauda6WFI"
      },
      "execution_count": null,
      "outputs": []
    },
    {
      "cell_type": "code",
      "source": [
        "file_path = \"/content/better-day-186374.mp3\"\n",
        "feature = fit_feature(file_path)\n",
        "y = model_4.predict(scaler.transform([feature]))\n",
        "ind = np.argmax(y)\n",
        "genres[ind]"
      ],
      "metadata": {
        "colab": {
          "base_uri": "https://localhost:8080/",
          "height": 108
        },
        "id": "UzFwpMDasfjO",
        "outputId": "d7f41de7-2205-4285-b968-b9a46b2361bd"
      },
      "execution_count": null,
      "outputs": [
        {
          "output_type": "stream",
          "name": "stderr",
          "text": [
            "/usr/local/lib/python3.10/dist-packages/sklearn/base.py:439: UserWarning: X does not have valid feature names, but StandardScaler was fitted with feature names\n",
            "  warnings.warn(\n"
          ]
        },
        {
          "output_type": "stream",
          "name": "stdout",
          "text": [
            "1/1 [==============================] - 0s 165ms/step\n"
          ]
        },
        {
          "output_type": "execute_result",
          "data": {
            "text/plain": [
              "'blues'"
            ],
            "application/vnd.google.colaboratory.intrinsic+json": {
              "type": "string"
            }
          },
          "metadata": {},
          "execution_count": 41
        }
      ]
    },
    {
      "cell_type": "code",
      "source": [
        "model_4.save(\"music_gener_ASI.h5\")\n",
        "FileLink(r'music_gener_ASI.h5')"
      ],
      "metadata": {
        "colab": {
          "base_uri": "https://localhost:8080/",
          "height": 89
        },
        "id": "qLEChWwSskO7",
        "outputId": "fe87ed77-5d24-499d-cb8a-1d2463aac431"
      },
      "execution_count": null,
      "outputs": [
        {
          "output_type": "stream",
          "name": "stderr",
          "text": [
            "/usr/local/lib/python3.10/dist-packages/keras/src/engine/training.py:3079: UserWarning: You are saving your model as an HDF5 file via `model.save()`. This file format is considered legacy. We recommend using instead the native Keras format, e.g. `model.save('my_model.keras')`.\n",
            "  saving_api.save_model(\n"
          ]
        },
        {
          "output_type": "execute_result",
          "data": {
            "text/plain": [
              "/content/music_gener_ASI.h5"
            ],
            "text/html": [
              "<a href='music_gener_ASI.h5' target='_blank'>music_gener_ASI.h5</a><br>"
            ]
          },
          "metadata": {},
          "execution_count": 42
        }
      ]
    },
    {
      "cell_type": "markdown",
      "source": [
        "#LSTM\n"
      ],
      "metadata": {
        "id": "vZa4dGljl8gu"
      }
    },
    {
      "cell_type": "code",
      "source": [
        "import librosa\n",
        "import pandas as pd\n",
        "import numpy as np\n",
        "import os\n",
        "import csv\n",
        "import matplotlib.pyplot as plt\n",
        "from sklearn.preprocessing import LabelEncoder, StandardScaler\n",
        "from sklearn.model_selection import train_test_split\n",
        "from keras.models import Sequential\n",
        "from keras.layers import Dense, Dropout, LSTM\n",
        "from keras.callbacks import Callback\n",
        "from sklearn.metrics import classification_report, accuracy_score"
      ],
      "metadata": {
        "id": "u-VULuzml99G"
      },
      "execution_count": null,
      "outputs": []
    },
    {
      "cell_type": "code",
      "source": [
        "general_path = '/path/to/your/data'\n",
        "genres = 'blues classical country disco hiphop jazz metal pop reggae rock'\n",
        "genres = genres.split()\n"
      ],
      "metadata": {
        "id": "V_3V1GBvmiwo"
      },
      "execution_count": null,
      "outputs": []
    },
    {
      "cell_type": "code",
      "source": [
        "for g in genres:\n",
        "    path_audio = os.path.join(general_path, g)\n",
        "    os.makedirs(path_audio, exist_ok=True)\n"
      ],
      "metadata": {
        "id": "OxPD659Gmj3X"
      },
      "execution_count": null,
      "outputs": []
    },
    {
      "cell_type": "code",
      "source": [
        "header = 'filename chroma_stft rmse spectral_centroid spectral_bandwidth rolloff zero_crossing_rate'\n",
        "for i in range(1, 21):\n",
        "    header += f' mfcc{i}'\n",
        "header += ' label'\n",
        "header = header.split()"
      ],
      "metadata": {
        "id": "ibjQHXmImmEf"
      },
      "execution_count": null,
      "outputs": []
    },
    {
      "cell_type": "code",
      "source": [
        "file = open('data-3s.csv', 'w', newline='')\n",
        "with file:\n",
        "    writer = csv.writer(file)\n",
        "    writer.writerow(header)"
      ],
      "metadata": {
        "id": "AG8VK9mNmnsy"
      },
      "execution_count": null,
      "outputs": []
    },
    {
      "cell_type": "code",
      "source": [
        "for g in genres:\n",
        "    for filename in os.listdir(f'/content/genres/{g}'):\n",
        "        songname = f'/content/genres/{g}/{filename}'\n",
        "        y, sr = librosa.load(songname, mono=True, duration=3)\n",
        "        chroma_stft = librosa.feature.chroma_stft(y=y, sr=sr)\n",
        "        rmse = librosa.feature.rms(y=y)\n",
        "        spec_cent = librosa.feature.spectral_centroid(y=y, sr=sr)\n",
        "        spec_bw = librosa.feature.spectral_bandwidth(y=y, sr=sr)\n",
        "        rolloff = librosa.feature.spectral_rolloff(y=y, sr=sr)\n",
        "        zcr = librosa.feature.zero_crossing_rate(y)\n",
        "        mfcc = librosa.feature.mfcc(y=y, sr=sr)\n",
        "        to_append = f'{filename} {np.mean(chroma_stft)} {np.mean(rmse)} {np.mean(spec_cent)} {np.mean(spec_bw)} {np.mean(rolloff)} {np.mean(zcr)}'\n",
        "        for e in mfcc:\n",
        "            to_append += f' {np.mean(e)}'\n",
        "        to_append += f' {g}'\n",
        "        file = open('data-3s.csv', 'a', newline='')\n",
        "        with file:\n",
        "            writer = csv.writer(file)\n",
        "            writer.writerow(to_append.split())"
      ],
      "metadata": {
        "id": "zu6H5kKBmpwY"
      },
      "execution_count": null,
      "outputs": []
    },
    {
      "cell_type": "code",
      "source": [
        "data_3s = pd.read_csv('data-3s.csv')\n",
        "print(data_3s.head())\n",
        "print(data_3s.shape)"
      ],
      "metadata": {
        "id": "MrCyI6WMmrX8"
      },
      "execution_count": null,
      "outputs": []
    },
    {
      "cell_type": "code",
      "source": [
        "seed = 12\n",
        "np.random.seed(seed)\n",
        "data_shuffle = data_3s.sample(frac=1, random_state=seed).reset_index(drop=True)"
      ],
      "metadata": {
        "id": "5wg7Bw9Pms-e"
      },
      "execution_count": null,
      "outputs": []
    },
    {
      "cell_type": "code",
      "source": [
        "data_shuffle = data_shuffle.drop(['filename'], axis=1)\n",
        "print(data_shuffle.head())"
      ],
      "metadata": {
        "id": "1sFU1FKnmt_-"
      },
      "execution_count": null,
      "outputs": []
    },
    {
      "cell_type": "code",
      "source": [
        "X = data_shuffle.iloc[:, :-1]\n",
        "genre_list = data_shuffle.iloc[:, -1]"
      ],
      "metadata": {
        "id": "nkubvr2Emwi5"
      },
      "execution_count": null,
      "outputs": []
    },
    {
      "cell_type": "code",
      "source": [
        "encoder = LabelEncoder()"
      ],
      "metadata": {
        "id": "I8pbBnIzmzh2"
      },
      "execution_count": null,
      "outputs": []
    },
    {
      "cell_type": "code",
      "source": [
        "y = encoder.fit_transform(genre_list)\n",
        "print(y)"
      ],
      "metadata": {
        "id": "scXJRaYsm1gu"
      },
      "execution_count": null,
      "outputs": []
    },
    {
      "cell_type": "code",
      "source": [
        "X_train, df_test_valid_X, y_train, df_test_valid_y = train_test_split(X, y, train_size=0.7, random_state=seed, stratify=y)\n",
        "X_dev, X_test, y_dev, y_test = train_test_split(df_test_valid_X, df_test_valid_y, train_size=0.66, random_state=seed, stratify=df_test_valid_y)"
      ],
      "metadata": {
        "id": "5_LmbAiBm3Eo"
      },
      "execution_count": null,
      "outputs": []
    },
    {
      "cell_type": "code",
      "source": [
        "print(f\"Train set has {X_train.shape[0]} records out of {len(data_shuffle)} which is {round(X_train.shape[0]/len(data_shuffle)*100)}%\")\n",
        "print(f\"Dev set has {X_dev.shape[0]} records out of {len(data_shuffle)} which is {round(X_dev.shape[0]/len(data_shuffle)*100)}%\")\n",
        "print(f\"Test set has {X_test.shape[0]} records out of {len(data_shuffle)} which is {round(X_test.shape[0]/len(data_shuffle)*100)}%\")"
      ],
      "metadata": {
        "id": "3X8mC2IJm4Xq"
      },
      "execution_count": null,
      "outputs": []
    },
    {
      "cell_type": "code",
      "source": [
        "scaler = StandardScaler()"
      ],
      "metadata": {
        "id": "GgDYhy8KmBvD"
      },
      "execution_count": null,
      "outputs": []
    },
    {
      "cell_type": "code",
      "source": [
        "X_train = pd.DataFrame(scaler.fit_transform(X_train), columns=X_train.columns)\n",
        "X_dev = pd.DataFrame(scaler.transform(X_dev), columns=X_dev.columns)\n",
        "X_test = pd.DataFrame(scaler.transform(X_test), columns=X_test.columns)"
      ],
      "metadata": {
        "id": "pOyAR_3Im8ek"
      },
      "execution_count": null,
      "outputs": []
    },
    {
      "cell_type": "code",
      "source": [
        "X_train = np.expand_dims(X_train.values, axis=1)\n",
        "X_dev = np.expand_dims(X_dev.values, axis=1)\n",
        "X_test = np.expand_dims(X_test.values, axis=1)"
      ],
      "metadata": {
        "id": "0PFXxey0m9HB"
      },
      "execution_count": null,
      "outputs": []
    },
    {
      "cell_type": "code",
      "source": [
        "ACCURACY_THRESHOLD = 0.94\n",
        "class myCallback(Callback):\n",
        "    def on_epoch_end(self, epoch, logs={}):\n",
        "        if(logs.get('val_accuracy') > ACCURACY_THRESHOLD):\n",
        "            print(\"\\n\\nStopping training as we have reached %2.2f%% accuracy!\" %(ACCURACY_THRESHOLD*100))\n",
        "            self.model.stop_training = True\n",
        "\n",
        "def trainModel(model, epochs, optimizer):\n",
        "    batch_size = 128\n",
        "    callback = myCallback()\n",
        "    model.compile(optimizer=optimizer,\n",
        "                  loss='sparse_categorical_crossentropy',\n",
        "                  metrics='accuracy'\n",
        "    )\n",
        "    return model.fit(X_train, y_train, validation_data=(X_dev, y_dev), epochs=epochs,\n",
        "                     batch_size=batch_size, callbacks=[callback])\n",
        "\n",
        "def plotHistory(history):\n",
        "    print(\"Max. Validation Accuracy\",max(history.history[\"val_accuracy\"]))\n",
        "    pd.DataFrame(history.history).plot(figsize=(12,6))\n",
        "    plt.show()"
      ],
      "metadata": {
        "id": "nowlfOxjm_SS"
      },
      "execution_count": null,
      "outputs": []
    },
    {
      "cell_type": "code",
      "source": [
        "model_lstm = Sequential([\n",
        "    LSTM(128, input_shape=(X_train.shape[1], X_train.shape[2]), return_sequences=True),\n",
        "    Dropout(0.3),\n",
        "\n",
        "    LSTM(64, return_sequences=False),\n",
        "    Dropout(0.3),\n",
        "\n",
        "    Dense(128, activation='relu'),\n",
        "    Dropout(0.3),\n",
        "\n",
        "    Dense(64, activation='relu'),\n",
        "    Dropout(0.3),\n",
        "\n",
        "    Dense(10, activation='softmax'),\n",
        "])"
      ],
      "metadata": {
        "id": "xmVTmz7OnB6c"
      },
      "execution_count": null,
      "outputs": []
    },
    {
      "cell_type": "code",
      "source": [
        "print(model_lstm.summary())"
      ],
      "metadata": {
        "id": "Yi7lCnq5nEHa"
      },
      "execution_count": null,
      "outputs": []
    },
    {
      "cell_type": "code",
      "source": [
        "model_lstm_history = trainModel(model=model_lstm, epochs=500, optimizer='rmsprop')"
      ],
      "metadata": {
        "id": "nE8WruU1nGjE"
      },
      "execution_count": null,
      "outputs": []
    },
    {
      "cell_type": "code",
      "source": [
        "test_loss, test_acc  = model_lstm.evaluate(X_test, y_test, batch_size=128)\n",
        "print(\"The test Loss is :\",test_loss)\n",
        "print(\"\\nThe Best test Accuracy is :\",test_acc*100)"
      ],
      "metadata": {
        "id": "Ff1ckF-DnIT8"
      },
      "execution_count": null,
      "outputs": []
    },
    {
      "cell_type": "code",
      "source": [
        "predictions = model_lstm.predict(X_test)\n",
        "np.argmax(predictions[0])"
      ],
      "metadata": {
        "id": "hxO1dE4nnKcY"
      },
      "execution_count": null,
      "outputs": []
    },
    {
      "cell_type": "code",
      "source": [
        "def fit_feature(songname):\n",
        "    y, sr = librosa.load(songname, mono=True, duration=30)\n",
        "    chroma_stft = librosa.feature.chroma_stft(y=y, sr=sr)\n",
        "    rmse = librosa.feature.rms(y=y)\n",
        "    spec_cent = librosa.feature.spectral_centroid(y=y, sr=sr)\n",
        "    spec_bw = librosa.feature.spectral_bandwidth(y=y, sr=sr)\n",
        "    rolloff = librosa.feature.spectral_rolloff(y=y, sr=sr)\n",
        "    zcr = librosa.feature.zero_crossing_rate(y)\n",
        "    mfcc = librosa.feature.mfcc(y=y, sr=sr)\n",
        "    feature = np.array([np.mean(chroma_stft), np.mean(rmse), np.mean(spec_cent), np.mean(spec_bw), np.mean(rolloff), np.mean(zcr)])\n",
        "    for e in mfcc:\n",
        "        feature = np.append(feature, [np.mean(e)])\n",
        "    return feature"
      ],
      "metadata": {
        "id": "wro8Q1XbnPlJ"
      },
      "execution_count": null,
      "outputs": []
    },
    {
      "cell_type": "code",
      "source": [
        "new_song_feature = fit_feature('/content/better-day-186374.mp3')\n",
        "new_song_feature = scaler.transform([new_song_feature])\n",
        "new_song_feature = np.expand_dims(new_song_feature, axis=1)\n",
        "prediction = model_lstm.predict(new_song_feature)\n",
        "predicted_genre = encoder.inverse_transform([np.argmax(prediction)])\n",
        "print(\"Predicted Genre:\", predicted_genre[0])"
      ],
      "metadata": {
        "id": "nX9rtJv4nSFe"
      },
      "execution_count": null,
      "outputs": []
    },
    {
      "cell_type": "markdown",
      "source": [
        "#SVM-RF"
      ],
      "metadata": {
        "id": "9BNfd9NvzR6E"
      }
    },
    {
      "cell_type": "code",
      "source": [
        "import librosa\n",
        "import pandas as pd\n",
        "import numpy as np\n",
        "import joblib\n",
        "import os\n",
        "import csv\n",
        "from sklearn.preprocessing import LabelEncoder, StandardScaler\n",
        "from sklearn.model_selection import train_test_split\n",
        "from sklearn import svm\n",
        "from sklearn.ensemble import RandomForestClassifier\n",
        "from sklearn.linear_model import LogisticRegression\n",
        "from sklearn.ensemble import StackingClassifier\n",
        "from sklearn.metrics import classification_report, accuracy_score\n"
      ],
      "metadata": {
        "id": "fToscTmCzc9J"
      },
      "execution_count": null,
      "outputs": []
    },
    {
      "cell_type": "code",
      "source": [
        "general_path = '/content'\n",
        "print(list(os.listdir(f'{general_path}/genres')))"
      ],
      "metadata": {
        "id": "PjzOUHLOzh3o"
      },
      "execution_count": null,
      "outputs": []
    },
    {
      "cell_type": "code",
      "source": [
        "genres = 'blues classical country disco hiphop jazz metal pop reggae rock'\n",
        "genres = genres.split()\n",
        "\n",
        "for g in genres:\n",
        "  path_audio = os.path.join('/content',f'{g}')\n",
        "  os.makedirs(path_audio)"
      ],
      "metadata": {
        "id": "I_u6del_zi4M"
      },
      "execution_count": null,
      "outputs": []
    },
    {
      "cell_type": "code",
      "source": [
        "header = 'filename chroma_stft rmse spectral_centroid spectral_bandwidth rolloff zero_crossing_rate'\n",
        "for i in range(1, 21):\n",
        "    header += f' mfcc{i}'\n",
        "header += ' label'\n",
        "header = header.split()"
      ],
      "metadata": {
        "id": "EagvlAOkz1GX"
      },
      "execution_count": null,
      "outputs": []
    },
    {
      "cell_type": "code",
      "source": [
        "file = open('data-3s.csv', 'w', newline='')\n",
        "with file:\n",
        "    writer = csv.writer(file)\n",
        "    writer.writerow(header)\n",
        "\n",
        "for g in genres:\n",
        "    for filename in os.listdir(f'/content/genres/{g}'):\n",
        "        songname = f'/content/genres/{g}/{filename}'\n",
        "        y, sr = librosa.load(songname, mono=True, duration=3)\n",
        "        chroma_stft = librosa.feature.chroma_stft(y=y, sr=sr)\n",
        "        rmse = librosa.feature.rms(y=y)\n",
        "        spec_cent = librosa.feature.spectral_centroid(y=y, sr=sr)\n",
        "        spec_bw = librosa.feature.spectral_bandwidth(y=y, sr=sr)\n",
        "        rolloff = librosa.feature.spectral_rolloff(y=y, sr=sr)\n",
        "        zcr = librosa.feature.zero_crossing_rate(y)\n",
        "        mfcc = librosa.feature.mfcc(y=y, sr=sr)\n",
        "        to_append = f'{filename} {np.mean(chroma_stft)} {np.mean(rmse)} {np.mean(spec_cent)} {np.mean(spec_bw)} {np.mean(rolloff)} {np.mean(zcr)}'\n",
        "        for e in mfcc:\n",
        "            to_append += f' {np.mean(e)}'\n",
        "        to_append += f' {g}'\n",
        "        file = open('data-3s.csv', 'a', newline='')\n",
        "        with file:\n",
        "            writer = csv.writer(file)\n",
        "            writer.writerow(to_append.split())"
      ],
      "metadata": {
        "id": "_wYEiOUgz8Oy"
      },
      "execution_count": null,
      "outputs": []
    },
    {
      "cell_type": "code",
      "source": [
        "data_3s = pd.read_csv('data-3s.csv')\n",
        "print(data_3s.head())\n",
        "print(data_3s.shape)"
      ],
      "metadata": {
        "id": "b3VWs6-Tz7vL"
      },
      "execution_count": null,
      "outputs": []
    },
    {
      "cell_type": "code",
      "source": [
        "seed = 12\n",
        "np.random.seed(seed)\n",
        "data_shuffle = data_3s.sample(frac=1, random_state=seed).reset_index(drop=True)"
      ],
      "metadata": {
        "id": "qoIucMFW0F2x"
      },
      "execution_count": null,
      "outputs": []
    },
    {
      "cell_type": "code",
      "source": [
        "data_shuffle = data_shuffle.drop(['filename'], axis=1)\n",
        "print(data_shuffle.head())"
      ],
      "metadata": {
        "id": "8jGR8SR40JEZ"
      },
      "execution_count": null,
      "outputs": []
    },
    {
      "cell_type": "code",
      "source": [
        "X = data_shuffle.iloc[:, :-1]"
      ],
      "metadata": {
        "id": "9kXm0Gx-A966"
      },
      "execution_count": null,
      "outputs": []
    },
    {
      "cell_type": "code",
      "source": [
        "genre_list = data_shuffle.iloc[:, -1]\n",
        "encoder = LabelEncoder()\n",
        "y = encoder.fit_transform(genre_list)\n",
        "print(y)"
      ],
      "metadata": {
        "id": "BiGEuxKVA9Lf"
      },
      "execution_count": null,
      "outputs": []
    },
    {
      "cell_type": "code",
      "source": [
        "X_train, df_test_valid_X, y_train, df_test_valid_y = train_test_split(X, y, train_size=0.7, random_state=seed, stratify=y)\n",
        "X_dev, X_test, y_dev, y_test = train_test_split(df_test_valid_X, df_test_valid_y, train_size=0.66, random_state=seed, stratify=df_test_valid_y)"
      ],
      "metadata": {
        "id": "5dqHXfSIBBBv"
      },
      "execution_count": null,
      "outputs": []
    },
    {
      "cell_type": "code",
      "source": [
        "print(f\"Train set has {X_train.shape[0]} records out of {len(data_shuffle)} which is {round(X_train.shape[0]/len(data_shuffle)*100)}%\")\n",
        "print(f\"Dev set has {X_dev.shape[0]} records out of {len(data_shuffle)} which is {round(X_dev.shape[0]/len(data_shuffle)*100)}%\")\n",
        "print(f\"Test set has {X_test.shape[0]} records out of {len(data_shuffle)} which is {round(X_test.shape[0]/len(data_shuffle)*100)}%\")"
      ],
      "metadata": {
        "id": "9obRj63gBGzY"
      },
      "execution_count": null,
      "outputs": []
    },
    {
      "cell_type": "code",
      "source": [
        "scaler = StandardScaler()"
      ],
      "metadata": {
        "id": "3iEzyx8vBJIE"
      },
      "execution_count": null,
      "outputs": []
    },
    {
      "cell_type": "code",
      "source": [
        "X_train = pd.DataFrame(scaler.fit_transform(X_train), columns=X_train.columns)\n",
        "X_dev = pd.DataFrame(scaler.transform(X_dev), columns=X_dev.columns)\n",
        "X_test = pd.DataFrame(scaler.transform(X_test), columns=X_test.columns)"
      ],
      "metadata": {
        "id": "9ky7uv6YBK0J"
      },
      "execution_count": null,
      "outputs": []
    },
    {
      "cell_type": "code",
      "source": [
        "svm_model = svm.SVC(kernel='linear', probability=True)\n",
        "svm_model.fit(X_train, y_train)"
      ],
      "metadata": {
        "id": "FnElndyDBMXl"
      },
      "execution_count": null,
      "outputs": []
    },
    {
      "cell_type": "code",
      "source": [
        "rf_model = RandomForestClassifier(n_estimators=100, random_state=seed)\n",
        "rf_model.fit(X_train, y_train)"
      ],
      "metadata": {
        "id": "Eq1L9VvpBQVN"
      },
      "execution_count": null,
      "outputs": []
    },
    {
      "cell_type": "code",
      "source": [
        "stacking_clf = StackingClassifier(\n",
        "    estimators=[('svm', svm_model), ('rf', rf_model)],\n",
        "    final_estimator=LogisticRegression(),\n",
        "    cv=5\n",
        ")\n",
        "stacking_clf.fit(X_train, y_train)"
      ],
      "metadata": {
        "id": "xmEbq780BRxr"
      },
      "execution_count": null,
      "outputs": []
    },
    {
      "cell_type": "code",
      "source": [
        "joblib.dump(stacking_clf, 'stacking_clf.pkl')\n",
        "y_pred = stacking_clf.predict(X_test)\n",
        "print(\"Classification Report:\\n\", classification_report(y_test, y_pred))\n",
        "print(\"Accuracy Score:\", accuracy_score(y_test, y_pred))"
      ],
      "metadata": {
        "id": "KcNRAS7rBWMl"
      },
      "execution_count": null,
      "outputs": []
    },
    {
      "cell_type": "code",
      "source": [
        "def fit_feature(songname):\n",
        "    y, sr = librosa.load(songname, mono=True, duration=30)\n",
        "    chroma_stft = librosa.feature.chroma_stft(y=y, sr=sr)\n",
        "    rmse = librosa.feature.rms(y=y)\n",
        "    spec_cent = librosa.feature.spectral_centroid(y=y, sr=sr)\n",
        "    spec_bw = librosa.feature.spectral_bandwidth(y=y, sr=sr)\n",
        "    rolloff = librosa.feature.spectral_rolloff(y=y, sr=sr)\n",
        "    zcr = librosa.feature.zero_crossing_rate(y)\n",
        "    mfcc = librosa.feature.mfcc(y=y, sr=sr)\n",
        "    feature = np.array([np.mean(chroma_stft), np.mean(rmse), np.mean(spec_cent), np.mean(spec_bw), np.mean(rolloff), np.mean(zcr)])\n",
        "    for e in mfcc:\n",
        "        feature = np.append(feature, [np.mean(e)])\n",
        "    return feature"
      ],
      "metadata": {
        "id": "AftwWG_5BYrN"
      },
      "execution_count": null,
      "outputs": []
    },
    {
      "cell_type": "code",
      "source": [
        "new_song_path= fit_feature(\"/content/better-day-186374.mp3\")\n",
        "new_song_feature = scaler.transform([new_song_path])\n",
        "prediction = stacking_clf.predict(new_song_feature)\n",
        "predicted_genre = encoder.inverse_transform(prediction)\n",
        "print(\"Predicted Genre:\", predicted_genre[0])"
      ],
      "metadata": {
        "id": "vAHbtwfTzRQz"
      },
      "execution_count": null,
      "outputs": []
    },
    {
      "cell_type": "markdown",
      "source": [
        "#SVM-KNNeighbor\n"
      ],
      "metadata": {
        "id": "S7lm8NOdg-5f"
      }
    },
    {
      "cell_type": "code",
      "source": [
        "import librosa\n",
        "import pandas as pd\n",
        "import numpy as np\n",
        "import os\n",
        "import csv\n",
        "from sklearn.preprocessing import LabelEncoder, StandardScaler\n",
        "from sklearn.model_selection import train_test_split\n",
        "from sklearn import svm\n",
        "from sklearn.neighbors import KNeighborsClassifier\n",
        "from sklearn.ensemble import BaggingClassifier\n",
        "from sklearn.metrics import classification_report, accuracy_score"
      ],
      "metadata": {
        "id": "tc-NZZ-khEGB"
      },
      "execution_count": null,
      "outputs": []
    },
    {
      "cell_type": "code",
      "source": [
        "general_path = '/content'\n",
        "print(list(os.listdir(f'{general_path}/genres')))"
      ],
      "metadata": {
        "id": "FY9e15y4hSPA"
      },
      "execution_count": null,
      "outputs": []
    },
    {
      "cell_type": "code",
      "source": [
        "genres = 'blues classical country disco hiphop jazz metal pop reggae rock'\n",
        "genres = genres.split()\n",
        "\n",
        "for g in genres:\n",
        "  path_audio = os.path.join('/content',f'{g}')\n",
        "  os.makedirs(path_audio)"
      ],
      "metadata": {
        "id": "NbLY20FJhXQF"
      },
      "execution_count": null,
      "outputs": []
    },
    {
      "cell_type": "code",
      "source": [
        "header = 'filename chroma_stft rmse spectral_centroid spectral_bandwidth rolloff zero_crossing_rate'\n",
        "for i in range(1, 21):\n",
        "    header += f' mfcc{i}'\n",
        "header += ' label'\n",
        "header = header.split()"
      ],
      "metadata": {
        "id": "-V81YXgzhaE9"
      },
      "execution_count": null,
      "outputs": []
    },
    {
      "cell_type": "code",
      "source": [
        "file = open('data-3s.csv', 'w', newline='')\n",
        "with file:\n",
        "    writer = csv.writer(file)\n",
        "    writer.writerow(header)\n",
        "\n",
        "for g in genres:\n",
        "    for filename in os.listdir(f'/content/genres/{g}'):\n",
        "        songname = f'/content/genres/{g}/{filename}'\n",
        "        y, sr = librosa.load(songname, mono=True, duration=3)\n",
        "        chroma_stft = librosa.feature.chroma_stft(y=y, sr=sr)\n",
        "        rmse = librosa.feature.rms(y=y)\n",
        "        spec_cent = librosa.feature.spectral_centroid(y=y, sr=sr)\n",
        "        spec_bw = librosa.feature.spectral_bandwidth(y=y, sr=sr)\n",
        "        rolloff = librosa.feature.spectral_rolloff(y=y, sr=sr)\n",
        "        zcr = librosa.feature.zero_crossing_rate(y)\n",
        "        mfcc = librosa.feature.mfcc(y=y, sr=sr)\n",
        "        to_append = f'{filename} {np.mean(chroma_stft)} {np.mean(rmse)} {np.mean(spec_cent)} {np.mean(spec_bw)} {np.mean(rolloff)} {np.mean(zcr)}'\n",
        "        for e in mfcc:\n",
        "            to_append += f' {np.mean(e)}'\n",
        "        to_append += f' {g}'\n",
        "        file = open('data-3s.csv', 'a', newline='')\n",
        "        with file:\n",
        "            writer = csv.writer(file)\n",
        "            writer.writerow(to_append.split())"
      ],
      "metadata": {
        "id": "B09erio3hdVx"
      },
      "execution_count": null,
      "outputs": []
    },
    {
      "cell_type": "code",
      "source": [
        "data_3s = pd.read_csv('data-3s.csv')\n",
        "print(data_3s.head())\n",
        "print(data_3s.shape)"
      ],
      "metadata": {
        "id": "yauOaXNChflY"
      },
      "execution_count": null,
      "outputs": []
    },
    {
      "cell_type": "code",
      "source": [
        "seed = 12\n",
        "np.random.seed(seed)\n",
        "data_shuffle = data_3s.sample(frac=1, random_state=seed).reset_index(drop=True)"
      ],
      "metadata": {
        "id": "4GMl0XEThiL_"
      },
      "execution_count": null,
      "outputs": []
    },
    {
      "cell_type": "code",
      "source": [
        "data_shuffle = data_shuffle.drop(['filename'], axis=1)\n",
        "print(data_shuffle.head())"
      ],
      "metadata": {
        "id": "58cw4uDihkfK"
      },
      "execution_count": null,
      "outputs": []
    },
    {
      "cell_type": "code",
      "source": [
        "X = data_shuffle.iloc[:, :-1]"
      ],
      "metadata": {
        "id": "IwV3gFbvhmdt"
      },
      "execution_count": null,
      "outputs": []
    },
    {
      "cell_type": "code",
      "source": [
        "genre_list = data_shuffle.iloc[:, -1]\n",
        "encoder = LabelEncoder()\n",
        "y = encoder.fit_transform(genre_list)\n",
        "print(y)"
      ],
      "metadata": {
        "id": "4i7i3g_5hojN"
      },
      "execution_count": null,
      "outputs": []
    },
    {
      "cell_type": "code",
      "source": [
        "X_train, df_test_valid_X, y_train, df_test_valid_y = train_test_split(X, y, train_size=0.7, random_state=seed, stratify=y)\n",
        "X_dev, X_test, y_dev, y_test = train_test_split(df_test_valid_X, df_test_valid_y, train_size=0.66, random_state=seed, stratify=df_test_valid_y)"
      ],
      "metadata": {
        "id": "K7G48YL3hqam"
      },
      "execution_count": null,
      "outputs": []
    },
    {
      "cell_type": "code",
      "source": [
        "print(f\"Train set has {X_train.shape[0]} records out of {len(data_shuffle)} which is {round(X_train.shape[0]/len(data_shuffle)*100)}%\")\n",
        "print(f\"Dev set has {X_dev.shape[0]} records out of {len(data_shuffle)} which is {round(X_dev.shape[0]/len(data_shuffle)*100)}%\")\n",
        "print(f\"Test set has {X_test.shape[0]} records out of {len(data_shuffle)} which is {round(X_test.shape[0]/len(data_shuffle)*100)}%\")"
      ],
      "metadata": {
        "id": "-maTgQT-hsZw"
      },
      "execution_count": null,
      "outputs": []
    },
    {
      "cell_type": "code",
      "source": [
        "scaler = StandardScaler()"
      ],
      "metadata": {
        "id": "KOKDww90huPG"
      },
      "execution_count": null,
      "outputs": []
    },
    {
      "cell_type": "code",
      "source": [
        "X_train = pd.DataFrame(scaler.fit_transform(X_train), columns=X_train.columns)\n",
        "X_dev = pd.DataFrame(scaler.transform(X_dev), columns=X_dev.columns)\n",
        "X_test = pd.DataFrame(scaler.transform(X_test), columns=X_test.columns)"
      ],
      "metadata": {
        "id": "_uOOSQpJhxI6"
      },
      "execution_count": null,
      "outputs": []
    },
    {
      "cell_type": "code",
      "source": [
        "svm_model = svm.SVC(kernel='linear', probability=True)\n",
        "svm_model.fit(X_train, y_train)"
      ],
      "metadata": {
        "id": "JxYv_25-hzk5"
      },
      "execution_count": null,
      "outputs": []
    },
    {
      "cell_type": "code",
      "source": [
        "knn_model = KNeighborsClassifier(n_neighbors=5)\n",
        "knn_model.fit(X_train, y_train)"
      ],
      "metadata": {
        "id": "wQ7P-FeKh-aq"
      },
      "execution_count": null,
      "outputs": []
    },
    {
      "cell_type": "code",
      "source": [
        "base_estimators = [('svm', svm_model), ('knn', knn_model)]\n",
        "bagging_clf = BaggingClassifier(base_estimator=svm_model, n_estimators=10, random_state=seed)\n",
        "bagging_clf.fit(X_train, y_train)"
      ],
      "metadata": {
        "id": "nNUqCTzAiAv4"
      },
      "execution_count": null,
      "outputs": []
    },
    {
      "cell_type": "code",
      "source": [
        "y_pred = bagging_clf.predict(X_test)\n",
        "print(\"Classification Report:\\n\", classification_report(y_test, y_pred))\n",
        "print(\"Accuracy Score:\", accuracy_score(y_test, y_pred))"
      ],
      "metadata": {
        "id": "234EHEwaiCrW"
      },
      "execution_count": null,
      "outputs": []
    },
    {
      "cell_type": "code",
      "source": [
        "def fit_feature(songname):\n",
        "    y, sr = librosa.load(songname, mono=True, duration=30)\n",
        "    chroma_stft = librosa.feature.chroma_stft(y=y, sr=sr)\n",
        "    rmse = librosa.feature.rms(y=y)\n",
        "    spec_cent = librosa.feature.spectral_centroid(y=y, sr=sr)\n",
        "    spec_bw = librosa.feature.spectral_bandwidth(y=y, sr=sr)\n",
        "    rolloff = librosa.feature.spectral_rolloff(y=y, sr=sr)\n",
        "    zcr = librosa.feature.zero_crossing_rate(y)\n",
        "    mfcc = librosa.feature.mfcc(y=y, sr=sr)\n",
        "    feature = np.array([np.mean(chroma_stft), np.mean(rmse), np.mean(spec_cent), np.mean(spec_bw), np.mean(rolloff), np.mean(zcr)])\n",
        "    for e in mfcc:\n",
        "        feature = np.append(feature, [np.mean(e)])\n",
        "    return feature"
      ],
      "metadata": {
        "id": "wPM2MgBqiFah"
      },
      "execution_count": null,
      "outputs": []
    },
    {
      "cell_type": "code",
      "source": [
        "new_song_feature = fit_feature('/content/better-day-186374.mp3')\n",
        "new_song_feature = scaler.transform([new_song_feature])\n",
        "prediction = bagging_clf.predict(new_song_feature)\n",
        "predicted_genre = encoder.inverse_transform(prediction)\n",
        "print(\"Predicted Genre:\", predicted_genre[0])"
      ],
      "metadata": {
        "id": "SxAAz29UiHIn"
      },
      "execution_count": null,
      "outputs": []
    },
    {
      "cell_type": "markdown",
      "source": [
        "#Gradient-discent\n"
      ],
      "metadata": {
        "id": "GtFlYQggpbj9"
      }
    },
    {
      "cell_type": "markdown",
      "source": [
        "**Pre-Processing**\n",
        "- Find Sonogram, Periodicity Histogram,\n",
        "Spectrum Histogram and Fluctuation Pattern for\n",
        "the training audio data"
      ],
      "metadata": {
        "id": "qjPWWbucyafm"
      }
    },
    {
      "cell_type": "markdown",
      "source": [
        "**Feature Extraction**\n",
        "\n",
        "Window the audio data with a Hamming\n",
        "window.\n",
        "Amplitude values of the DFT of the data are\n",
        "found.\n",
        "Amplitude values are converted to filter bank\n",
        "outputs.\n",
        "Log base 10 for the output is calculated.\n",
        "Find the cosine transform.\n",
        "Feature vectors are stored in matrix X"
      ],
      "metadata": {
        "id": "3pkqKkinykLl"
      }
    },
    {
      "cell_type": "markdown",
      "source": [
        "**Featur Reduction**\n",
        "\n",
        "Calculate the empirical mean of X.\n",
        "The deviations are calculated from the mean\n",
        "and the data are stored in the matrix B [M N].\n",
        "Covariance matrix C is found.\n",
        "Eigenvectors and eigenvalues of the covariance\n",
        "matrix C are found.\n",
        "The eigenvectors and eigenvalues are\n",
        "rearranged to form the feature vector.\n",
        "The new data set is derived and the eigenvectors\n",
        "with the highest eigenvalues are projected into\n",
        "space.\n",
        "Put the new dataset in a matrix Y"
      ],
      "metadata": {
        "id": "4hcJzbNoyq0a"
      }
    },
    {
      "cell_type": "markdown",
      "source": [
        "**Classification**\n",
        "\n",
        "Select ‘m’ initial \"means\" randomly from the\n",
        "data set Y.\n",
        "‘m’ clusters are created by associating every\n",
        "observation with the nearest mean.\n",
        "The centroid of each of the ‘m’ clusters\n",
        "becomes the new means.\n",
        "The above steps are repeated until convergence\n",
        "is reached."
      ],
      "metadata": {
        "id": "xUKH9enBzGAQ"
      }
    },
    {
      "cell_type": "markdown",
      "source": [
        "**Traning**\n",
        "\n",
        "Train the features of the audio files using\n",
        "Gradient Descent Adaptive Learning Back\n",
        "propagation Network."
      ],
      "metadata": {
        "id": "PuZ-t_7TzLNR"
      }
    },
    {
      "cell_type": "markdown",
      "source": [
        "**Testing Phase**"
      ],
      "metadata": {
        "id": "Qs9hDvfMzS9g"
      }
    },
    {
      "cell_type": "code",
      "source": [],
      "metadata": {
        "id": "hGRg-aE2rJ_C"
      },
      "execution_count": null,
      "outputs": []
    }
  ]
}