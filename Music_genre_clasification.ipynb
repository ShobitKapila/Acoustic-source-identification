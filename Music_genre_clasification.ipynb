{
  "nbformat": 4,
  "nbformat_minor": 0,
  "metadata": {
    "colab": {
      "provenance": [],
      "collapsed_sections": [
        "OZJ9Q1Ptj48m",
        "TEpOOQuG4OO9",
        "3feZIszcrFyx",
        "qpMQ7R25o-Wn",
        "vZa4dGljl8gu",
        "9BNfd9NvzR6E",
        "S7lm8NOdg-5f",
        "GtFlYQggpbj9"
      ],
      "authorship_tag": "ABX9TyM45mvX+VN1MpdlNGAOY0xc",
      "include_colab_link": true
    },
    "kernelspec": {
      "name": "python3",
      "display_name": "Python 3"
    },
    "language_info": {
      "name": "python"
    }
  },
  "cells": [
    {
      "cell_type": "markdown",
      "metadata": {
        "id": "view-in-github",
        "colab_type": "text"
      },
      "source": [
        "<a href=\"https://colab.research.google.com/github/ShobitKapila/Acoustic-source-identification/blob/main/Music_genre_clasification.ipynb\" target=\"_parent\"><img src=\"https://colab.research.google.com/assets/colab-badge.svg\" alt=\"Open In Colab\"/></a>"
      ]
    },
    {
      "cell_type": "markdown",
      "source": [
        "#KKN - classification"
      ],
      "metadata": {
        "id": "OZJ9Q1Ptj48m"
      }
    },
    {
      "cell_type": "code",
      "source": [
        "import librosa\n",
        "import pandas as pd\n",
        "import numpy as np\n",
        "import os\n",
        "import csv\n",
        "from sklearn.preprocessing import LabelEncoder, StandardScaler\n",
        "from sklearn.model_selection import train_test_split\n",
        "from sklearn.neighbors import KNeighborsClassifier\n",
        "from sklearn.metrics import classification_report, accuracy_score\n",
        "import joblib"
      ],
      "metadata": {
        "id": "K6IgUllBj8FO"
      },
      "execution_count": null,
      "outputs": []
    },
    {
      "cell_type": "code",
      "source": [
        "general_path = '/content'\n",
        "print(list(os.listdir(f'{general_path}/genres')))\n"
      ],
      "metadata": {
        "id": "ONWcLYhpkFef"
      },
      "execution_count": null,
      "outputs": []
    },
    {
      "cell_type": "code",
      "source": [
        "\n",
        "genres = 'blues classical country disco hiphop jazz metal pop reggae rock'\n",
        "genres = genres.split()\n",
        "for g in genres:\n",
        "    path_audio = os.path.join('/content/geners', g)\n",
        "    os.makedirs(path_audio, exist_ok=True)"
      ],
      "metadata": {
        "id": "LmyYEKZkkG13"
      },
      "execution_count": null,
      "outputs": []
    },
    {
      "cell_type": "code",
      "source": [
        "header = 'filename chroma_stft rmse spectral_centroid spectral_bandwidth rolloff zero_crossing_rate'\n",
        "for i in range(1, 21):\n",
        "    header += f' mfcc{i}'\n",
        "header += ' label'\n",
        "header = header.split()"
      ],
      "metadata": {
        "id": "zZOw4mickL-Z"
      },
      "execution_count": null,
      "outputs": []
    },
    {
      "cell_type": "code",
      "source": [
        "file = open('data-3s.csv', 'w', newline='')\n",
        "with file:\n",
        "    writer = csv.writer(file)\n",
        "    writer.writerow(header)"
      ],
      "metadata": {
        "id": "eqwhWNhqkN0g"
      },
      "execution_count": null,
      "outputs": []
    },
    {
      "cell_type": "code",
      "source": [
        "for g in genres:\n",
        "    for filename in os.listdir(f'/content/genres/{g}'):\n",
        "        songname = f'/content/genres/{g}/{filename}'\n",
        "        y, sr = librosa.load(songname, mono=True, duration=3)\n",
        "        chroma_stft = librosa.feature.chroma_stft(y=y, sr=sr)\n",
        "        rmse = librosa.feature.rms(y=y)\n",
        "        spec_cent = librosa.feature.spectral_centroid(y=y, sr=sr)\n",
        "        spec_bw = librosa.feature.spectral_bandwidth(y=y, sr=sr)\n",
        "        rolloff = librosa.feature.spectral_rolloff(y=y, sr=sr)\n",
        "        zcr = librosa.feature.zero_crossing_rate(y)\n",
        "        mfcc = librosa.feature.mfcc(y=y, sr=sr)\n",
        "        to_append = f'{filename} {np.mean(chroma_stft)} {np.mean(rmse)} {np.mean(spec_cent)} {np.mean(spec_bw)} {np.mean(rolloff)} {np.mean(zcr)}'\n",
        "        for e in mfcc:\n",
        "            to_append += f' {np.mean(e)}'\n",
        "        to_append += f' {g}'\n",
        "        file = open('data-3s.csv', 'a', newline='')\n",
        "        with file:\n",
        "            writer = csv.writer(file)\n",
        "            writer.writerow(to_append.split())"
      ],
      "metadata": {
        "id": "Zz-1o5PrkQ8u"
      },
      "execution_count": null,
      "outputs": []
    },
    {
      "cell_type": "code",
      "source": [
        "data_3s = pd.read_csv('data-3s.csv')\n",
        "print(data_3s.head())\n",
        "print(data_3s.shape)"
      ],
      "metadata": {
        "id": "knaLNJbjkSWq"
      },
      "execution_count": null,
      "outputs": []
    },
    {
      "cell_type": "code",
      "source": [
        "seed = 12\n",
        "np.random.seed(seed)\n",
        "data_shuffle = data_3s.sample(frac=1, random_state=seed).reset_index(drop=True)"
      ],
      "metadata": {
        "id": "br1bf_C0kU0M"
      },
      "execution_count": null,
      "outputs": []
    },
    {
      "cell_type": "code",
      "source": [
        "data_shuffle = data_shuffle.drop(['filename'], axis=1)\n",
        "print(data_shuffle.head())"
      ],
      "metadata": {
        "id": "SGI9OCnekWH1"
      },
      "execution_count": null,
      "outputs": []
    },
    {
      "cell_type": "code",
      "source": [
        "X = data_shuffle.iloc[:, :-1]"
      ],
      "metadata": {
        "id": "Ps7AgfGzkZY-"
      },
      "execution_count": null,
      "outputs": []
    },
    {
      "cell_type": "code",
      "source": [
        "genre_list = data_shuffle.iloc[:, -1]\n",
        "encoder = LabelEncoder()\n",
        "y = encoder.fit_transform(genre_list)\n",
        "print(y)"
      ],
      "metadata": {
        "id": "yySvfcP4kbf-"
      },
      "execution_count": null,
      "outputs": []
    },
    {
      "cell_type": "code",
      "source": [
        "X_train, df_test_valid_X, y_train, df_test_valid_y = train_test_split(X, y, train_size=0.7, random_state=seed, stratify=y)\n",
        "X_dev, X_test, y_dev, y_test = train_test_split(df_test_valid_X, df_test_valid_y, train_size=0.66, random_state=seed, stratify=df_test_valid_y)"
      ],
      "metadata": {
        "id": "xNF-iabJkeBS"
      },
      "execution_count": null,
      "outputs": []
    },
    {
      "cell_type": "code",
      "source": [
        "print(f\"Train set has {X_train.shape[0]} records out of {len(data_shuffle)} which is {round(X_train.shape[0]/len(data_shuffle)*100)}%\")\n",
        "print(f\"Dev set has {X_dev.shape[0]} records out of {len(data_shuffle)} which is {round(X_dev.shape[0]/len(data_shuffle)*100)}%\")\n",
        "print(f\"Test set has {X_test.shape[0]} records out of {len(data_shuffle)} which is {round(X_test.shape[0]/len(data_shuffle)*100)}%\")"
      ],
      "metadata": {
        "id": "Tiah_JuekgYd"
      },
      "execution_count": null,
      "outputs": []
    },
    {
      "cell_type": "code",
      "source": [
        "scaler = StandardScaler()"
      ],
      "metadata": {
        "id": "9zbVA_yzkiZ4"
      },
      "execution_count": null,
      "outputs": []
    },
    {
      "cell_type": "code",
      "source": [
        "X_train = pd.DataFrame(scaler.fit_transform(X_train), columns=X_train.columns)\n",
        "X_dev = pd.DataFrame(scaler.transform(X_dev), columns=X_dev.columns)\n",
        "X_test = pd.DataFrame(scaler.transform(X_test), columns=X_test.columns)"
      ],
      "metadata": {
        "id": "8c3dAWppkkFt"
      },
      "execution_count": null,
      "outputs": []
    },
    {
      "cell_type": "code",
      "source": [
        "knn = KNeighborsClassifier(n_neighbors=5)\n",
        "knn.fit(X_train, y_train)"
      ],
      "metadata": {
        "id": "IuEDKF5Nkmv_"
      },
      "execution_count": null,
      "outputs": []
    },
    {
      "cell_type": "code",
      "source": [
        "y_pred = knn.predict(X_test)\n",
        "test_acc = accuracy_score(y_test, y_pred)\n",
        "print(\"The test Accuracy is :\", test_acc * 100)"
      ],
      "metadata": {
        "id": "0uL84pAYkpSE"
      },
      "execution_count": null,
      "outputs": []
    },
    {
      "cell_type": "code",
      "source": [
        "joblib.dump(knn, 'knn_model.pkl')\n",
        "joblib.dump(scaler, 'scaler.pkl')"
      ],
      "metadata": {
        "id": "1dnNMzqAkrnM"
      },
      "execution_count": null,
      "outputs": []
    },
    {
      "cell_type": "code",
      "source": [
        "def fit_feature(songname):\n",
        "    y, sr = librosa.load(songname, mono=True, duration=30)\n",
        "    chroma_stft = librosa.feature.chroma_stft(y=y, sr=sr)\n",
        "    rmse = librosa.feature.rms(y=y)\n",
        "    spec_cent = librosa.feature.spectral_centroid(y=y, sr=sr)\n",
        "    spec_bw = librosa.feature.spectral_bandwidth(y=y, sr=sr)\n",
        "    rolloff = librosa.feature.spectral_rolloff(y=y, sr=sr)\n",
        "    zcr = librosa.feature.zero_crossing_rate(y)\n",
        "    mfcc = librosa.feature.mfcc(y=y, sr=sr)\n",
        "    feature = np.array([np.mean(chroma_stft), np.mean(rmse), np.mean(spec_cent), np.mean(spec_bw), np.mean(rolloff), np.mean(zcr)])\n",
        "    for e in mfcc:\n",
        "        feature = np.append(feature, [np.mean(e)])\n",
        "    return feature"
      ],
      "metadata": {
        "id": "BQ-FlzMwkCVu"
      },
      "execution_count": null,
      "outputs": []
    },
    {
      "cell_type": "code",
      "source": [
        "new_song_feature = fit_feature('/content/better-day-186374.mp3')\n",
        "scaler = joblib.load('scaler.pkl')\n",
        "knn = joblib.load('knn_model.pkl')\n",
        "new_song_feature = scaler.transform([new_song_feature])\n",
        "prediction = knn.predict(new_song_feature)\n",
        "predicted_genre = encoder.inverse_transform(prediction)\n",
        "print(\"Predicted Genre:\", predicted_genre[0])"
      ],
      "metadata": {
        "id": "Pg3BMfkskvee"
      },
      "execution_count": null,
      "outputs": []
    },
    {
      "cell_type": "markdown",
      "source": [
        "#SVM"
      ],
      "metadata": {
        "id": "TEpOOQuG4OO9"
      }
    },
    {
      "cell_type": "code",
      "source": [
        "import librosa\n",
        "import pandas as pd\n",
        "import numpy as np\n",
        "import os\n",
        "import csv\n",
        "from sklearn.preprocessing import LabelEncoder, StandardScaler\n",
        "from sklearn.model_selection import train_test_split\n",
        "from sklearn.neighbors import KNeighborsClassifier\n",
        "from sklearn.metrics import classification_report, accuracy_score\n",
        "import joblib"
      ],
      "metadata": {
        "id": "UGpNHKRD4OPS"
      },
      "execution_count": null,
      "outputs": []
    },
    {
      "cell_type": "code",
      "source": [
        "general_path = '/content'\n",
        "print(list(os.listdir(f'{general_path}/genres')))"
      ],
      "metadata": {
        "id": "oPv2N8Gt4OPT"
      },
      "execution_count": null,
      "outputs": []
    },
    {
      "cell_type": "code",
      "source": [
        "\n",
        "genres = 'blues classical country disco hiphop jazz metal pop reggae rock'\n",
        "genres = genres.split()\n",
        "for g in genres:\n",
        "    path_audio = os.path.join('/content/geners', g)\n",
        "    os.makedirs(path_audio, exist_ok=True)"
      ],
      "metadata": {
        "id": "1IFjP6_z4OPU"
      },
      "execution_count": null,
      "outputs": []
    },
    {
      "cell_type": "code",
      "source": [
        "header = 'filename chroma_stft rmse spectral_centroid spectral_bandwidth rolloff zero_crossing_rate'\n",
        "for i in range(1, 21):\n",
        "    header += f' mfcc{i}'\n",
        "header += ' label'\n",
        "header = header.split()"
      ],
      "metadata": {
        "id": "XDCHt6x74OPU"
      },
      "execution_count": null,
      "outputs": []
    },
    {
      "cell_type": "code",
      "source": [
        "file = open('data-3s.csv', 'w', newline='')\n",
        "with file:\n",
        "    writer = csv.writer(file)\n",
        "    writer.writerow(header)"
      ],
      "metadata": {
        "id": "1QJ6avIf4OPU"
      },
      "execution_count": null,
      "outputs": []
    },
    {
      "cell_type": "code",
      "source": [
        "for g in genres:\n",
        "    for filename in os.listdir(f'/content/genres/{g}'):\n",
        "        songname = f'/content/genres/{g}/{filename}'\n",
        "        y, sr = librosa.load(songname, mono=True, duration=3)\n",
        "        chroma_stft = librosa.feature.chroma_stft(y=y, sr=sr)\n",
        "        rmse = librosa.feature.rms(y=y)\n",
        "        spec_cent = librosa.feature.spectral_centroid(y=y, sr=sr)\n",
        "        spec_bw = librosa.feature.spectral_bandwidth(y=y, sr=sr)\n",
        "        rolloff = librosa.feature.spectral_rolloff(y=y, sr=sr)\n",
        "        zcr = librosa.feature.zero_crossing_rate(y)\n",
        "        mfcc = librosa.feature.mfcc(y=y, sr=sr)\n",
        "        to_append = f'{filename} {np.mean(chroma_stft)} {np.mean(rmse)} {np.mean(spec_cent)} {np.mean(spec_bw)} {np.mean(rolloff)} {np.mean(zcr)}'\n",
        "        for e in mfcc:\n",
        "            to_append += f' {np.mean(e)}'\n",
        "        to_append += f' {g}'\n",
        "        file = open('data-3s.csv', 'a', newline='')\n",
        "        with file:\n",
        "            writer = csv.writer(file)\n",
        "            writer.writerow(to_append.split())"
      ],
      "metadata": {
        "id": "u8gU47v04OPU"
      },
      "execution_count": null,
      "outputs": []
    },
    {
      "cell_type": "code",
      "source": [
        "data_3s = pd.read_csv('data-3s.csv')\n",
        "print(data_3s.head())\n",
        "print(data_3s.shape)"
      ],
      "metadata": {
        "id": "R6a-1-l-4OPV"
      },
      "execution_count": null,
      "outputs": []
    },
    {
      "cell_type": "code",
      "source": [
        "seed = 12\n",
        "np.random.seed(seed)\n",
        "data_shuffle = data_3s.sample(frac=1, random_state=seed).reset_index(drop=True)"
      ],
      "metadata": {
        "id": "ZTftEZTf4OPV"
      },
      "execution_count": null,
      "outputs": []
    },
    {
      "cell_type": "code",
      "source": [
        "data_shuffle = data_shuffle.drop(['filename'], axis=1)\n",
        "print(data_shuffle.head())"
      ],
      "metadata": {
        "id": "GlPVoSqm4OPV"
      },
      "execution_count": null,
      "outputs": []
    },
    {
      "cell_type": "code",
      "source": [
        "X = data_shuffle.iloc[:, :-1]"
      ],
      "metadata": {
        "id": "B2Z-An6o4OPW"
      },
      "execution_count": null,
      "outputs": []
    },
    {
      "cell_type": "code",
      "source": [
        "genre_list = data_shuffle.iloc[:, -1]\n",
        "encoder = LabelEncoder()\n",
        "y = encoder.fit_transform(genre_list)\n",
        "print(y)"
      ],
      "metadata": {
        "id": "FtY6lXpu4OPW"
      },
      "execution_count": null,
      "outputs": []
    },
    {
      "cell_type": "code",
      "source": [
        "X_train, df_test_valid_X, y_train, df_test_valid_y = train_test_split(X, y, train_size=0.7, random_state=seed, stratify=y)\n",
        "X_dev, X_test, y_dev, y_test = train_test_split(df_test_valid_X, df_test_valid_y, train_size=0.66, random_state=seed, stratify=df_test_valid_y)"
      ],
      "metadata": {
        "id": "E93B4Vq74OPW"
      },
      "execution_count": null,
      "outputs": []
    },
    {
      "cell_type": "code",
      "source": [
        "print(f\"Train set has {X_train.shape[0]} records out of {len(data_shuffle)} which is {round(X_train.shape[0]/len(data_shuffle)*100)}%\")\n",
        "print(f\"Dev set has {X_dev.shape[0]} records out of {len(data_shuffle)} which is {round(X_dev.shape[0]/len(data_shuffle)*100)}%\")\n",
        "print(f\"Test set has {X_test.shape[0]} records out of {len(data_shuffle)} which is {round(X_test.shape[0]/len(data_shuffle)*100)}%\")"
      ],
      "metadata": {
        "id": "IfgvGQBy4OPW"
      },
      "execution_count": null,
      "outputs": []
    },
    {
      "cell_type": "code",
      "source": [
        "scaler = StandardScaler()"
      ],
      "metadata": {
        "id": "ruTu2j2k4OPX"
      },
      "execution_count": null,
      "outputs": []
    },
    {
      "cell_type": "code",
      "source": [
        "X_train = pd.DataFrame(scaler.fit_transform(X_train), columns=X_train.columns)\n",
        "X_dev = pd.DataFrame(scaler.transform(X_dev), columns=X_dev.columns)\n",
        "X_test = pd.DataFrame(scaler.transform(X_test), columns=X_test.columns)"
      ],
      "metadata": {
        "id": "pz6mJ-be4OPX"
      },
      "execution_count": null,
      "outputs": []
    },
    {
      "cell_type": "code",
      "source": [
        "svm_model = svm.SVC(kernel='linear', probability=True)\n",
        "svm_model.fit(X_train, y_train)"
      ],
      "metadata": {
        "id": "gOIHLI7F4OPX"
      },
      "execution_count": null,
      "outputs": []
    },
    {
      "cell_type": "code",
      "source": [
        "y_pred = svm_model.predict(X_test)\n",
        "print(\"Classification Report:\\n\", classification_report(y_test, y_pred))\n",
        "print(\"Accuracy Score:\", accuracy_score(y_test, y_pred))"
      ],
      "metadata": {
        "id": "FP-EonZ94OPY"
      },
      "execution_count": null,
      "outputs": []
    },
    {
      "cell_type": "code",
      "source": [
        "joblib.dump(knn, 'svm_model.pkl')\n",
        "joblib.dump(scaler, 'scaler.pkl')"
      ],
      "metadata": {
        "id": "ovtSghfW4OPY"
      },
      "execution_count": null,
      "outputs": []
    },
    {
      "cell_type": "code",
      "source": [
        "def fit_feature(songname):\n",
        "    y, sr = librosa.load(songname, mono=True, duration=30)\n",
        "    chroma_stft = librosa.feature.chroma_stft(y=y, sr=sr)\n",
        "    rmse = librosa.feature.rms(y=y)\n",
        "    spec_cent = librosa.feature.spectral_centroid(y=y, sr=sr)\n",
        "    spec_bw = librosa.feature.spectral_bandwidth(y=y, sr=sr)\n",
        "    rolloff = librosa.feature.spectral_rolloff(y=y, sr=sr)\n",
        "    zcr = librosa.feature.zero_crossing_rate(y)\n",
        "    mfcc = librosa.feature.mfcc(y=y, sr=sr)\n",
        "    feature = np.array([np.mean(chroma_stft), np.mean(rmse), np.mean(spec_cent), np.mean(spec_bw), np.mean(rolloff), np.mean(zcr)])\n",
        "    for e in mfcc:\n",
        "        feature = np.append(feature, [np.mean(e)])\n",
        "    return feature"
      ],
      "metadata": {
        "id": "n2s4MsDL4OPY"
      },
      "execution_count": null,
      "outputs": []
    },
    {
      "cell_type": "code",
      "source": [
        "new_song_feature = fit_feature('/content/better-day-186374.mp3')\n",
        "scaler = joblib.load('scaler.pkl')\n",
        "knn = joblib.load('svm_model.pkl')\n",
        "new_song_feature = scaler.transform([new_song_feature])\n",
        "prediction = knn.predict(new_song_feature)\n",
        "predicted_genre = encoder.inverse_transform(prediction)\n",
        "print(\"Predicted Genre:\", predicted_genre[0])"
      ],
      "metadata": {
        "id": "Dg39IjOR4OPZ"
      },
      "execution_count": null,
      "outputs": []
    },
    {
      "cell_type": "markdown",
      "source": [
        "#Random Forest"
      ],
      "metadata": {
        "id": "3feZIszcrFyx"
      }
    },
    {
      "cell_type": "code",
      "source": [
        "import os\n",
        "import pandas as pd\n",
        "import numpy as np\n",
        "import IPython\n",
        "import librosa\n",
        "import librosa.display\n",
        "import seaborn as sns\n",
        "import matplotlib.pyplot as plt\n",
        "from sklearn import preprocessing\n",
        "from sklearn.preprocessing import minmax_scale\n",
        "from sklearn.model_selection import train_test_split\n",
        "from sklearn.ensemble import RandomForestClassifier\n",
        "from sklearn.metrics import accuracy_score"
      ],
      "metadata": {
        "id": "WpjBM9CUrMvC"
      },
      "execution_count": null,
      "outputs": []
    },
    {
      "cell_type": "code",
      "source": [
        "general_path = '/content'\n",
        "print(list(os.listdir(f'{general_path}/genres')))"
      ],
      "metadata": {
        "id": "KsQMB-KvrdRl"
      },
      "execution_count": null,
      "outputs": []
    },
    {
      "cell_type": "code",
      "source": [
        "genres = 'blues classical country disco hiphop jazz metal pop reggae rock'\n",
        "genres = genres.split()\n",
        "for g in genres:\n",
        "    path_audio = os.path.join('/content/geners', g)\n",
        "    os.makedirs(path_audio, exist_ok=True)"
      ],
      "metadata": {
        "id": "3MdV3Q3irikY"
      },
      "execution_count": null,
      "outputs": []
    },
    {
      "cell_type": "code",
      "source": [
        "header = 'filename chroma_stft rmse spectral_centroid spectral_bandwidth rolloff zero_crossing_rate'\n",
        "for i in range(1, 21):\n",
        "    header += f' mfcc{i}'\n",
        "header += ' label'\n",
        "header = header.split()"
      ],
      "metadata": {
        "id": "NA55chFIrjxq"
      },
      "execution_count": null,
      "outputs": []
    },
    {
      "cell_type": "code",
      "source": [
        "file = open('data-3s.csv', 'w', newline='')\n",
        "with file:\n",
        "    writer = csv.writer(file)\n",
        "    writer.writerow(header)"
      ],
      "metadata": {
        "id": "roYl07Evrn95"
      },
      "execution_count": null,
      "outputs": []
    },
    {
      "cell_type": "code",
      "source": [
        "data_3s = pd.read_csv('data-3s.csv')\n",
        "print(data_3s.head())\n",
        "print(data_3s.shape)"
      ],
      "metadata": {
        "id": "mzFaKaKFrtPF"
      },
      "execution_count": null,
      "outputs": []
    },
    {
      "cell_type": "code",
      "source": [
        "seed = 12\n",
        "np.random.seed(seed)\n",
        "data_shuffle = data_3s.sample(frac=1, random_state=seed).reset_index(drop=True)"
      ],
      "metadata": {
        "id": "HAZyrTCurwFj"
      },
      "execution_count": null,
      "outputs": []
    },
    {
      "cell_type": "code",
      "source": [
        "data_shuffle = data_shuffle.drop(['filename'], axis=1)\n",
        "print(data_shuffle.head())"
      ],
      "metadata": {
        "id": "onRER_6cryKv"
      },
      "execution_count": null,
      "outputs": []
    },
    {
      "cell_type": "code",
      "source": [
        "X = data_shuffle.iloc[:, :-1]\n",
        "genre_list = data_shuffle.iloc[:, -1]"
      ],
      "metadata": {
        "id": "Uhwbwfedr040"
      },
      "execution_count": null,
      "outputs": []
    },
    {
      "cell_type": "code",
      "source": [
        "encoder = LabelEncoder()"
      ],
      "metadata": {
        "id": "mQ3Tt7moxMKd"
      },
      "execution_count": null,
      "outputs": []
    },
    {
      "cell_type": "code",
      "source": [
        "y = encoder.fit_transform(genre_list)\n",
        "print(y)"
      ],
      "metadata": {
        "id": "2dArxf6cr3En"
      },
      "execution_count": null,
      "outputs": []
    },
    {
      "cell_type": "code",
      "source": [
        "X_train, df_test_valid_X, y_train, df_test_valid_y = train_test_split(X, y, train_size=0.7, random_state=seed, stratify=y)\n",
        "X_dev, X_test, y_dev, y_test = train_test_split(df_test_valid_X, df_test_valid_y, train_size=0.66, random_state=seed, stratify=df_test_valid_y)"
      ],
      "metadata": {
        "id": "0Yo4SVp4r5GU"
      },
      "execution_count": null,
      "outputs": []
    },
    {
      "cell_type": "code",
      "source": [
        "print(f\"Train set has {X_train.shape[0]} records out of {len(data_shuffle)} which is {round(X_train.shape[0]/len(data_shuffle)*100)}%\")\n",
        "print(f\"Dev set has {X_dev.shape[0]} records out of {len(data_shuffle)} which is {round(X_dev.shape[0]/len(data_shuffle)*100)}%\")\n",
        "print(f\"Test set has {X_test.shape[0]} records out of {len(data_shuffle)} which is {round(X_test.shape[0]/len(data_shuffle)*100)}%\")"
      ],
      "metadata": {
        "id": "1o1CQ-O5r6z8"
      },
      "execution_count": null,
      "outputs": []
    },
    {
      "cell_type": "code",
      "source": [
        "scaler = StandardScaler()"
      ],
      "metadata": {
        "id": "A9vf5LXdr89e"
      },
      "execution_count": null,
      "outputs": []
    },
    {
      "cell_type": "code",
      "source": [
        "X_train = pd.DataFrame(scaler.fit_transform(X_train), columns=X_train.columns)\n",
        "X_dev = pd.DataFrame(scaler.transform(X_dev), columns=X_dev.columns)\n",
        "X_test = pd.DataFrame(scaler.transform(X_test), columns=X_test.columns)"
      ],
      "metadata": {
        "id": "OjTn9Fvmw4hb"
      },
      "execution_count": null,
      "outputs": []
    },
    {
      "cell_type": "code",
      "source": [
        "rf = RandomForestClassifier(n_estimators=100, random_state=seed)\n",
        "rf.fit(X_train, y_train)"
      ],
      "metadata": {
        "id": "FOzrqB93w5H0"
      },
      "execution_count": null,
      "outputs": []
    },
    {
      "cell_type": "code",
      "source": [
        "y_pred = rf.predict(X_test)\n",
        "test_acc = accuracy_score(y_test, y_pred)\n",
        "print(\"The test Accuracy is :\", test_acc * 100)"
      ],
      "metadata": {
        "id": "pzAjOLkbw75X"
      },
      "execution_count": null,
      "outputs": []
    },
    {
      "cell_type": "code",
      "source": [
        "joblib.dump(rf, 'random_forest_model.pkl')\n",
        "joblib.dump(scaler, 'scaler.pkl')"
      ],
      "metadata": {
        "id": "_9o0Tr5tw9gi"
      },
      "execution_count": null,
      "outputs": []
    },
    {
      "cell_type": "code",
      "source": [
        "def fit_feature(songname):\n",
        "    y, sr = librosa.load(songname, mono=True, duration=30)\n",
        "    chroma_stft = librosa.feature.chroma_stft(y=y, sr=sr)\n",
        "    rmse = librosa.feature.rms(y=y)\n",
        "    spec_cent = librosa.feature.spectral_centroid(y=y, sr=sr)\n",
        "    spec_bw = librosa.feature.spectral_bandwidth(y=y, sr=sr)\n",
        "    rolloff = librosa.feature.spectral_rolloff(y=y, sr=sr)\n",
        "    zcr = librosa.feature.zero_crossing_rate(y)\n",
        "    mfcc = librosa.feature.mfcc(y=y, sr=sr)\n",
        "    feature = np.array([np.mean(chroma_stft), np.mean(rmse), np.mean(spec_cent), np.mean(spec_bw), np.mean(rolloff), np.mean(zcr)])\n",
        "    for e in mfcc:\n",
        "        feature = np.append(feature, [np.mean(e)])\n",
        "    return feature"
      ],
      "metadata": {
        "id": "MHRRqTkxw_l5"
      },
      "execution_count": null,
      "outputs": []
    },
    {
      "cell_type": "code",
      "source": [
        "new_song_feature = fit_feature('/content/better-day-186374.mp3')\n",
        "scaler = joblib.load('scaler.pkl')\n",
        "rf = joblib.load('random_forest_model.pkl')\n",
        "new_song_feature = scaler.transform([new_song_feature])\n",
        "prediction = rf.predict(new_song_feature)\n",
        "predicted_genre = encoder.inverse_transform(prediction)\n",
        "print(\"Predicted Genre:\", predicted_genre[0])"
      ],
      "metadata": {
        "id": "qvDGYxiwxBU6"
      },
      "execution_count": null,
      "outputs": []
    },
    {
      "cell_type": "markdown",
      "source": [
        "# Neural Network -\n",
        "  The model consists of multiple Dense layers with ReLU activation functions and Dropout layers for regularization. The final layer is a Dense layer with a softmax activation function, indicating that this is a multi-class classification problem (genre classification).\n"
      ],
      "metadata": {
        "id": "qpMQ7R25o-Wn"
      }
    },
    {
      "cell_type": "code",
      "execution_count": null,
      "metadata": {
        "id": "uXvuqJWIq2yN"
      },
      "outputs": [],
      "source": [
        "import librosa\n",
        "import pandas as pd\n",
        "import numpy as np\n",
        "import matplotlib.pyplot as plt\n",
        "import os\n",
        "import csv\n",
        "import base64\n",
        "from IPython.display import HTML\n",
        "from IPython.display import FileLink\n",
        "from sklearn.model_selection import train_test_split\n",
        "from sklearn.preprocessing import LabelEncoder, StandardScaler\n",
        "import sklearn.model_selection as skms\n",
        "import keras\n",
        "from keras import models\n",
        "from keras import layers\n",
        "from tensorflow import keras\n",
        "from warnings import filterwarnings"
      ]
    },
    {
      "cell_type": "code",
      "source": [
        "general_path = '/content'\n",
        "print(list(os.listdir(f'{general_path}/genres')))"
      ],
      "metadata": {
        "colab": {
          "base_uri": "https://localhost:8080/"
        },
        "id": "4a-2vfkdrIcb",
        "outputId": "b5bf3ac6-cb30-4851-880f-2463156dca68"
      },
      "execution_count": null,
      "outputs": [
        {
          "output_type": "stream",
          "name": "stdout",
          "text": [
            "['blues', 'country', 'hiphop', 'jazz', 'disco', 'pop', 'classical', 'reggae', 'rock', 'metal', '.ipynb_checkpoints']\n"
          ]
        }
      ]
    },
    {
      "cell_type": "code",
      "source": [
        "genres = 'blues classical country disco hiphop jazz metal pop reggae rock'\n",
        "genres = genres.split()\n",
        "for g in genres:\n",
        "  path_audio = os.path.join('/content',f'{g}')\n",
        "  os.makedirs(path_audio)"
      ],
      "metadata": {
        "id": "a9ISXJxmrRCz"
      },
      "execution_count": null,
      "outputs": []
    },
    {
      "cell_type": "code",
      "source": [
        "genres"
      ],
      "metadata": {
        "colab": {
          "base_uri": "https://localhost:8080/"
        },
        "id": "pQFOGsSVA5i-",
        "outputId": "946eb49f-4f44-4cb6-d1a2-733a41be25fa"
      },
      "execution_count": null,
      "outputs": [
        {
          "output_type": "execute_result",
          "data": {
            "text/plain": [
              "['blues',\n",
              " 'classical',\n",
              " 'country',\n",
              " 'disco',\n",
              " 'hiphop',\n",
              " 'jazz',\n",
              " 'metal',\n",
              " 'pop',\n",
              " 'reggae',\n",
              " 'rock']"
            ]
          },
          "metadata": {},
          "execution_count": 20
        }
      ]
    },
    {
      "cell_type": "code",
      "source": [
        "header = 'filename chroma_stft rmse spectral_centroid spectral_bandwidth rolloff zero_crossing_rate'\n",
        "for i in range(1, 21):\n",
        "    header += f' mfcc{i}'\n",
        "header += ' label'\n",
        "header = header.split()"
      ],
      "metadata": {
        "id": "15k0dnJArWMP"
      },
      "execution_count": null,
      "outputs": []
    },
    {
      "cell_type": "code",
      "source": [
        "file = open('data-3s.csv', 'w', newline='')\n",
        "with file:\n",
        "    writer = csv.writer(file)\n",
        "    writer.writerow(header)\n",
        "\n",
        "for g in genres:\n",
        "    for filename in os.listdir(f'/content/genres/{g}'):\n",
        "        songname = f'/content/genres/{g}/{filename}'\n",
        "        y, sr = librosa.load(songname, mono=True, duration=3)\n",
        "        chroma_stft = librosa.feature.chroma_stft(y=y, sr=sr)\n",
        "        rmse = librosa.feature.rms(y=y)\n",
        "        spec_cent = librosa.feature.spectral_centroid(y=y, sr=sr)\n",
        "        spec_bw = librosa.feature.spectral_bandwidth(y=y, sr=sr)\n",
        "        rolloff = librosa.feature.spectral_rolloff(y=y, sr=sr)\n",
        "        zcr = librosa.feature.zero_crossing_rate(y)\n",
        "        mfcc = librosa.feature.mfcc(y=y, sr=sr)\n",
        "        to_append = f'{filename} {np.mean(chroma_stft)} {np.mean(rmse)} {np.mean(spec_cent)} {np.mean(spec_bw)} {np.mean(rolloff)} {np.mean(zcr)}'\n",
        "        for e in mfcc:\n",
        "            to_append += f' {np.mean(e)}'\n",
        "        to_append += f' {g}'\n",
        "        file = open('data-3s.csv', 'a', newline='')\n",
        "        with file:\n",
        "            writer = csv.writer(file)\n",
        "            writer.writerow(to_append.split())"
      ],
      "metadata": {
        "id": "3gCWpaPBrYxv"
      },
      "execution_count": null,
      "outputs": []
    },
    {
      "cell_type": "code",
      "source": [
        "data_3s = pd.read_csv('data-3s.csv')\n",
        "data_3s.head()"
      ],
      "metadata": {
        "colab": {
          "base_uri": "https://localhost:8080/",
          "height": 255
        },
        "id": "VT_y1ZZvrcgo",
        "outputId": "09bbbab3-3ae1-435f-a70d-13c388f51eff"
      },
      "execution_count": null,
      "outputs": [
        {
          "output_type": "execute_result",
          "data": {
            "text/plain": [
              "         filename  chroma_stft      rmse  spectral_centroid  \\\n",
              "0  blues.00030.au     0.252451  0.129469         796.877132   \n",
              "1  blues.00043.au     0.398613  0.127050        2146.989442   \n",
              "2  blues.00089.au     0.330216  0.057961         677.501002   \n",
              "3  blues.00093.au     0.399003  0.056844         640.531249   \n",
              "4  blues.00011.au     0.395926  0.053601        1387.962171   \n",
              "\n",
              "   spectral_bandwidth      rolloff  zero_crossing_rate       mfcc1  \\\n",
              "0         1363.858304  1241.720440            0.027813 -261.393524   \n",
              "1         2346.179667  4924.229455            0.087361 -106.287834   \n",
              "2         1136.151689  1216.211877            0.022919 -345.310028   \n",
              "3         1022.053919  1190.123573            0.022397 -350.515137   \n",
              "4         1815.101760  3007.525916            0.044899 -321.723846   \n",
              "\n",
              "        mfcc2      mfcc3  ...    mfcc12     mfcc13     mfcc14     mfcc15  \\\n",
              "0  142.396729  11.462423  ... -6.913297 -12.653015 -12.238706 -21.957417   \n",
              "1  102.910103  -9.609563  ...  6.560434  -9.160453   5.283280 -15.422059   \n",
              "2  164.461838  27.915159  ... -6.900138   0.515772  -0.058611  -2.355061   \n",
              "3  167.412292  19.829763  ...  1.817667 -11.212885  -7.739208   0.326726   \n",
              "4  123.837578   4.081958  ...  0.056975  -5.541474  -4.698399  -2.931809   \n",
              "\n",
              "      mfcc16     mfcc17     mfcc18     mfcc19    mfcc20  label  \n",
              "0 -23.932734 -19.818665 -17.741760 -15.289710 -6.545130  blues  \n",
              "1   1.948020  -7.752453   2.932549  -4.131612  4.118633  blues  \n",
              "2   3.843762  -1.428511  -8.551285  -4.983430  0.694750  blues  \n",
              "3  -3.299458  -7.078539   0.315696   7.074780  2.348529  blues  \n",
              "4  -3.163541  -0.938552  -0.314044  -0.404410 -4.586336  blues  \n",
              "\n",
              "[5 rows x 28 columns]"
            ],
            "text/html": [
              "\n",
              "  <div id=\"df-dba239d4-7e0b-4bef-a633-0fe5c4c80ebf\" class=\"colab-df-container\">\n",
              "    <div>\n",
              "<style scoped>\n",
              "    .dataframe tbody tr th:only-of-type {\n",
              "        vertical-align: middle;\n",
              "    }\n",
              "\n",
              "    .dataframe tbody tr th {\n",
              "        vertical-align: top;\n",
              "    }\n",
              "\n",
              "    .dataframe thead th {\n",
              "        text-align: right;\n",
              "    }\n",
              "</style>\n",
              "<table border=\"1\" class=\"dataframe\">\n",
              "  <thead>\n",
              "    <tr style=\"text-align: right;\">\n",
              "      <th></th>\n",
              "      <th>filename</th>\n",
              "      <th>chroma_stft</th>\n",
              "      <th>rmse</th>\n",
              "      <th>spectral_centroid</th>\n",
              "      <th>spectral_bandwidth</th>\n",
              "      <th>rolloff</th>\n",
              "      <th>zero_crossing_rate</th>\n",
              "      <th>mfcc1</th>\n",
              "      <th>mfcc2</th>\n",
              "      <th>mfcc3</th>\n",
              "      <th>...</th>\n",
              "      <th>mfcc12</th>\n",
              "      <th>mfcc13</th>\n",
              "      <th>mfcc14</th>\n",
              "      <th>mfcc15</th>\n",
              "      <th>mfcc16</th>\n",
              "      <th>mfcc17</th>\n",
              "      <th>mfcc18</th>\n",
              "      <th>mfcc19</th>\n",
              "      <th>mfcc20</th>\n",
              "      <th>label</th>\n",
              "    </tr>\n",
              "  </thead>\n",
              "  <tbody>\n",
              "    <tr>\n",
              "      <th>0</th>\n",
              "      <td>blues.00030.au</td>\n",
              "      <td>0.252451</td>\n",
              "      <td>0.129469</td>\n",
              "      <td>796.877132</td>\n",
              "      <td>1363.858304</td>\n",
              "      <td>1241.720440</td>\n",
              "      <td>0.027813</td>\n",
              "      <td>-261.393524</td>\n",
              "      <td>142.396729</td>\n",
              "      <td>11.462423</td>\n",
              "      <td>...</td>\n",
              "      <td>-6.913297</td>\n",
              "      <td>-12.653015</td>\n",
              "      <td>-12.238706</td>\n",
              "      <td>-21.957417</td>\n",
              "      <td>-23.932734</td>\n",
              "      <td>-19.818665</td>\n",
              "      <td>-17.741760</td>\n",
              "      <td>-15.289710</td>\n",
              "      <td>-6.545130</td>\n",
              "      <td>blues</td>\n",
              "    </tr>\n",
              "    <tr>\n",
              "      <th>1</th>\n",
              "      <td>blues.00043.au</td>\n",
              "      <td>0.398613</td>\n",
              "      <td>0.127050</td>\n",
              "      <td>2146.989442</td>\n",
              "      <td>2346.179667</td>\n",
              "      <td>4924.229455</td>\n",
              "      <td>0.087361</td>\n",
              "      <td>-106.287834</td>\n",
              "      <td>102.910103</td>\n",
              "      <td>-9.609563</td>\n",
              "      <td>...</td>\n",
              "      <td>6.560434</td>\n",
              "      <td>-9.160453</td>\n",
              "      <td>5.283280</td>\n",
              "      <td>-15.422059</td>\n",
              "      <td>1.948020</td>\n",
              "      <td>-7.752453</td>\n",
              "      <td>2.932549</td>\n",
              "      <td>-4.131612</td>\n",
              "      <td>4.118633</td>\n",
              "      <td>blues</td>\n",
              "    </tr>\n",
              "    <tr>\n",
              "      <th>2</th>\n",
              "      <td>blues.00089.au</td>\n",
              "      <td>0.330216</td>\n",
              "      <td>0.057961</td>\n",
              "      <td>677.501002</td>\n",
              "      <td>1136.151689</td>\n",
              "      <td>1216.211877</td>\n",
              "      <td>0.022919</td>\n",
              "      <td>-345.310028</td>\n",
              "      <td>164.461838</td>\n",
              "      <td>27.915159</td>\n",
              "      <td>...</td>\n",
              "      <td>-6.900138</td>\n",
              "      <td>0.515772</td>\n",
              "      <td>-0.058611</td>\n",
              "      <td>-2.355061</td>\n",
              "      <td>3.843762</td>\n",
              "      <td>-1.428511</td>\n",
              "      <td>-8.551285</td>\n",
              "      <td>-4.983430</td>\n",
              "      <td>0.694750</td>\n",
              "      <td>blues</td>\n",
              "    </tr>\n",
              "    <tr>\n",
              "      <th>3</th>\n",
              "      <td>blues.00093.au</td>\n",
              "      <td>0.399003</td>\n",
              "      <td>0.056844</td>\n",
              "      <td>640.531249</td>\n",
              "      <td>1022.053919</td>\n",
              "      <td>1190.123573</td>\n",
              "      <td>0.022397</td>\n",
              "      <td>-350.515137</td>\n",
              "      <td>167.412292</td>\n",
              "      <td>19.829763</td>\n",
              "      <td>...</td>\n",
              "      <td>1.817667</td>\n",
              "      <td>-11.212885</td>\n",
              "      <td>-7.739208</td>\n",
              "      <td>0.326726</td>\n",
              "      <td>-3.299458</td>\n",
              "      <td>-7.078539</td>\n",
              "      <td>0.315696</td>\n",
              "      <td>7.074780</td>\n",
              "      <td>2.348529</td>\n",
              "      <td>blues</td>\n",
              "    </tr>\n",
              "    <tr>\n",
              "      <th>4</th>\n",
              "      <td>blues.00011.au</td>\n",
              "      <td>0.395926</td>\n",
              "      <td>0.053601</td>\n",
              "      <td>1387.962171</td>\n",
              "      <td>1815.101760</td>\n",
              "      <td>3007.525916</td>\n",
              "      <td>0.044899</td>\n",
              "      <td>-321.723846</td>\n",
              "      <td>123.837578</td>\n",
              "      <td>4.081958</td>\n",
              "      <td>...</td>\n",
              "      <td>0.056975</td>\n",
              "      <td>-5.541474</td>\n",
              "      <td>-4.698399</td>\n",
              "      <td>-2.931809</td>\n",
              "      <td>-3.163541</td>\n",
              "      <td>-0.938552</td>\n",
              "      <td>-0.314044</td>\n",
              "      <td>-0.404410</td>\n",
              "      <td>-4.586336</td>\n",
              "      <td>blues</td>\n",
              "    </tr>\n",
              "  </tbody>\n",
              "</table>\n",
              "<p>5 rows × 28 columns</p>\n",
              "</div>\n",
              "    <div class=\"colab-df-buttons\">\n",
              "\n",
              "  <div class=\"colab-df-container\">\n",
              "    <button class=\"colab-df-convert\" onclick=\"convertToInteractive('df-dba239d4-7e0b-4bef-a633-0fe5c4c80ebf')\"\n",
              "            title=\"Convert this dataframe to an interactive table.\"\n",
              "            style=\"display:none;\">\n",
              "\n",
              "  <svg xmlns=\"http://www.w3.org/2000/svg\" height=\"24px\" viewBox=\"0 -960 960 960\">\n",
              "    <path d=\"M120-120v-720h720v720H120Zm60-500h600v-160H180v160Zm220 220h160v-160H400v160Zm0 220h160v-160H400v160ZM180-400h160v-160H180v160Zm440 0h160v-160H620v160ZM180-180h160v-160H180v160Zm440 0h160v-160H620v160Z\"/>\n",
              "  </svg>\n",
              "    </button>\n",
              "\n",
              "  <style>\n",
              "    .colab-df-container {\n",
              "      display:flex;\n",
              "      gap: 12px;\n",
              "    }\n",
              "\n",
              "    .colab-df-convert {\n",
              "      background-color: #E8F0FE;\n",
              "      border: none;\n",
              "      border-radius: 50%;\n",
              "      cursor: pointer;\n",
              "      display: none;\n",
              "      fill: #1967D2;\n",
              "      height: 32px;\n",
              "      padding: 0 0 0 0;\n",
              "      width: 32px;\n",
              "    }\n",
              "\n",
              "    .colab-df-convert:hover {\n",
              "      background-color: #E2EBFA;\n",
              "      box-shadow: 0px 1px 2px rgba(60, 64, 67, 0.3), 0px 1px 3px 1px rgba(60, 64, 67, 0.15);\n",
              "      fill: #174EA6;\n",
              "    }\n",
              "\n",
              "    .colab-df-buttons div {\n",
              "      margin-bottom: 4px;\n",
              "    }\n",
              "\n",
              "    [theme=dark] .colab-df-convert {\n",
              "      background-color: #3B4455;\n",
              "      fill: #D2E3FC;\n",
              "    }\n",
              "\n",
              "    [theme=dark] .colab-df-convert:hover {\n",
              "      background-color: #434B5C;\n",
              "      box-shadow: 0px 1px 3px 1px rgba(0, 0, 0, 0.15);\n",
              "      filter: drop-shadow(0px 1px 2px rgba(0, 0, 0, 0.3));\n",
              "      fill: #FFFFFF;\n",
              "    }\n",
              "  </style>\n",
              "\n",
              "    <script>\n",
              "      const buttonEl =\n",
              "        document.querySelector('#df-dba239d4-7e0b-4bef-a633-0fe5c4c80ebf button.colab-df-convert');\n",
              "      buttonEl.style.display =\n",
              "        google.colab.kernel.accessAllowed ? 'block' : 'none';\n",
              "\n",
              "      async function convertToInteractive(key) {\n",
              "        const element = document.querySelector('#df-dba239d4-7e0b-4bef-a633-0fe5c4c80ebf');\n",
              "        const dataTable =\n",
              "          await google.colab.kernel.invokeFunction('convertToInteractive',\n",
              "                                                    [key], {});\n",
              "        if (!dataTable) return;\n",
              "\n",
              "        const docLinkHtml = 'Like what you see? Visit the ' +\n",
              "          '<a target=\"_blank\" href=https://colab.research.google.com/notebooks/data_table.ipynb>data table notebook</a>'\n",
              "          + ' to learn more about interactive tables.';\n",
              "        element.innerHTML = '';\n",
              "        dataTable['output_type'] = 'display_data';\n",
              "        await google.colab.output.renderOutput(dataTable, element);\n",
              "        const docLink = document.createElement('div');\n",
              "        docLink.innerHTML = docLinkHtml;\n",
              "        element.appendChild(docLink);\n",
              "      }\n",
              "    </script>\n",
              "  </div>\n",
              "\n",
              "\n",
              "<div id=\"df-d259dc48-c20d-40cb-8d20-8e5ff97022f9\">\n",
              "  <button class=\"colab-df-quickchart\" onclick=\"quickchart('df-d259dc48-c20d-40cb-8d20-8e5ff97022f9')\"\n",
              "            title=\"Suggest charts\"\n",
              "            style=\"display:none;\">\n",
              "\n",
              "<svg xmlns=\"http://www.w3.org/2000/svg\" height=\"24px\"viewBox=\"0 0 24 24\"\n",
              "     width=\"24px\">\n",
              "    <g>\n",
              "        <path d=\"M19 3H5c-1.1 0-2 .9-2 2v14c0 1.1.9 2 2 2h14c1.1 0 2-.9 2-2V5c0-1.1-.9-2-2-2zM9 17H7v-7h2v7zm4 0h-2V7h2v10zm4 0h-2v-4h2v4z\"/>\n",
              "    </g>\n",
              "</svg>\n",
              "  </button>\n",
              "\n",
              "<style>\n",
              "  .colab-df-quickchart {\n",
              "      --bg-color: #E8F0FE;\n",
              "      --fill-color: #1967D2;\n",
              "      --hover-bg-color: #E2EBFA;\n",
              "      --hover-fill-color: #174EA6;\n",
              "      --disabled-fill-color: #AAA;\n",
              "      --disabled-bg-color: #DDD;\n",
              "  }\n",
              "\n",
              "  [theme=dark] .colab-df-quickchart {\n",
              "      --bg-color: #3B4455;\n",
              "      --fill-color: #D2E3FC;\n",
              "      --hover-bg-color: #434B5C;\n",
              "      --hover-fill-color: #FFFFFF;\n",
              "      --disabled-bg-color: #3B4455;\n",
              "      --disabled-fill-color: #666;\n",
              "  }\n",
              "\n",
              "  .colab-df-quickchart {\n",
              "    background-color: var(--bg-color);\n",
              "    border: none;\n",
              "    border-radius: 50%;\n",
              "    cursor: pointer;\n",
              "    display: none;\n",
              "    fill: var(--fill-color);\n",
              "    height: 32px;\n",
              "    padding: 0;\n",
              "    width: 32px;\n",
              "  }\n",
              "\n",
              "  .colab-df-quickchart:hover {\n",
              "    background-color: var(--hover-bg-color);\n",
              "    box-shadow: 0 1px 2px rgba(60, 64, 67, 0.3), 0 1px 3px 1px rgba(60, 64, 67, 0.15);\n",
              "    fill: var(--button-hover-fill-color);\n",
              "  }\n",
              "\n",
              "  .colab-df-quickchart-complete:disabled,\n",
              "  .colab-df-quickchart-complete:disabled:hover {\n",
              "    background-color: var(--disabled-bg-color);\n",
              "    fill: var(--disabled-fill-color);\n",
              "    box-shadow: none;\n",
              "  }\n",
              "\n",
              "  .colab-df-spinner {\n",
              "    border: 2px solid var(--fill-color);\n",
              "    border-color: transparent;\n",
              "    border-bottom-color: var(--fill-color);\n",
              "    animation:\n",
              "      spin 1s steps(1) infinite;\n",
              "  }\n",
              "\n",
              "  @keyframes spin {\n",
              "    0% {\n",
              "      border-color: transparent;\n",
              "      border-bottom-color: var(--fill-color);\n",
              "      border-left-color: var(--fill-color);\n",
              "    }\n",
              "    20% {\n",
              "      border-color: transparent;\n",
              "      border-left-color: var(--fill-color);\n",
              "      border-top-color: var(--fill-color);\n",
              "    }\n",
              "    30% {\n",
              "      border-color: transparent;\n",
              "      border-left-color: var(--fill-color);\n",
              "      border-top-color: var(--fill-color);\n",
              "      border-right-color: var(--fill-color);\n",
              "    }\n",
              "    40% {\n",
              "      border-color: transparent;\n",
              "      border-right-color: var(--fill-color);\n",
              "      border-top-color: var(--fill-color);\n",
              "    }\n",
              "    60% {\n",
              "      border-color: transparent;\n",
              "      border-right-color: var(--fill-color);\n",
              "    }\n",
              "    80% {\n",
              "      border-color: transparent;\n",
              "      border-right-color: var(--fill-color);\n",
              "      border-bottom-color: var(--fill-color);\n",
              "    }\n",
              "    90% {\n",
              "      border-color: transparent;\n",
              "      border-bottom-color: var(--fill-color);\n",
              "    }\n",
              "  }\n",
              "</style>\n",
              "\n",
              "  <script>\n",
              "    async function quickchart(key) {\n",
              "      const quickchartButtonEl =\n",
              "        document.querySelector('#' + key + ' button');\n",
              "      quickchartButtonEl.disabled = true;  // To prevent multiple clicks.\n",
              "      quickchartButtonEl.classList.add('colab-df-spinner');\n",
              "      try {\n",
              "        const charts = await google.colab.kernel.invokeFunction(\n",
              "            'suggestCharts', [key], {});\n",
              "      } catch (error) {\n",
              "        console.error('Error during call to suggestCharts:', error);\n",
              "      }\n",
              "      quickchartButtonEl.classList.remove('colab-df-spinner');\n",
              "      quickchartButtonEl.classList.add('colab-df-quickchart-complete');\n",
              "    }\n",
              "    (() => {\n",
              "      let quickchartButtonEl =\n",
              "        document.querySelector('#df-d259dc48-c20d-40cb-8d20-8e5ff97022f9 button');\n",
              "      quickchartButtonEl.style.display =\n",
              "        google.colab.kernel.accessAllowed ? 'block' : 'none';\n",
              "    })();\n",
              "  </script>\n",
              "</div>\n",
              "\n",
              "    </div>\n",
              "  </div>\n"
            ],
            "application/vnd.google.colaboratory.intrinsic+json": {
              "type": "dataframe",
              "variable_name": "data_3s"
            }
          },
          "metadata": {},
          "execution_count": 26
        }
      ]
    },
    {
      "cell_type": "code",
      "source": [
        "data_3s.shape"
      ],
      "metadata": {
        "colab": {
          "base_uri": "https://localhost:8080/"
        },
        "id": "8Mw0aBElre1l",
        "outputId": "625270b3-cf6c-4b53-c894-a9d1755ccdcd"
      },
      "execution_count": null,
      "outputs": [
        {
          "output_type": "execute_result",
          "data": {
            "text/plain": [
              "(2000, 28)"
            ]
          },
          "metadata": {},
          "execution_count": 21
        }
      ]
    },
    {
      "cell_type": "code",
      "source": [
        "seed = 12\n",
        "np.random.seed(seed)\n",
        "\n",
        "data_shuffle = data_3s.sample(frac=1, random_state=seed).reset_index(drop=True)"
      ],
      "metadata": {
        "id": "CzMaItLxrkS6"
      },
      "execution_count": null,
      "outputs": []
    },
    {
      "cell_type": "code",
      "source": [
        "data_shuffle = data_shuffle.drop(['filename'],axis=1)\n",
        "data_shuffle.head()"
      ],
      "metadata": {
        "colab": {
          "base_uri": "https://localhost:8080/",
          "height": 255
        },
        "id": "pdB4_3E6rmbn",
        "outputId": "f82fa32d-a032-4305-8a53-d06010cd497b"
      },
      "execution_count": null,
      "outputs": [
        {
          "output_type": "execute_result",
          "data": {
            "text/plain": [
              "   chroma_stft      rmse  spectral_centroid  spectral_bandwidth      rolloff  \\\n",
              "0     0.256180  0.115150        1015.645596         1736.459418  1781.044358   \n",
              "1     0.171890  0.131722         853.453653         1354.981080  1072.850436   \n",
              "2     0.433044  0.166802        2358.867430         2035.459115  4431.698843   \n",
              "3     0.242811  0.043694        1005.522854         1296.907222  1685.055965   \n",
              "4     0.286972  0.133271        1057.885607         1464.969731  1694.083346   \n",
              "\n",
              "   zero_crossing_rate       mfcc1       mfcc2      mfcc3      mfcc4  ...  \\\n",
              "0            0.033905 -264.730042  117.711273  37.102875  40.730743  ...   \n",
              "1            0.045797 -265.327423  177.978546  26.460379 -13.352622  ...   \n",
              "2            0.166245  -68.454773   91.542267 -33.452648  72.505608  ...   \n",
              "3            0.050068 -301.612091  178.697632 -11.299769  30.429750  ...   \n",
              "4            0.055649 -171.273804  172.718277  -9.714803  -0.288757  ...   \n",
              "\n",
              "      mfcc12     mfcc13    mfcc14     mfcc15     mfcc16     mfcc17     mfcc18  \\\n",
              "0 -10.589654 -15.629943 -1.518200 -12.896955 -11.877695  -6.261710  -7.029034   \n",
              "1  -5.094402  -8.361628 -4.551609  -6.124369  -6.634355 -13.539562 -10.734464   \n",
              "2  10.681966 -14.740170  0.091191  -5.635654   5.097917  -7.171759  -0.506923   \n",
              "3   3.728764  -0.705305  4.562327  -3.589930  -9.752854  -5.986495  -1.602933   \n",
              "4  -6.272744 -10.091816 -2.728145  -6.671346  -2.232099   1.436002   2.904237   \n",
              "\n",
              "     mfcc19    mfcc20      label  \n",
              "0 -7.436520 -9.023581      blues  \n",
              "1 -8.922804 -3.120422  classical  \n",
              "2 -7.664429  3.295030      blues  \n",
              "3 -2.998392 -8.878064  classical  \n",
              "4 -7.057222 -2.609650  classical  \n",
              "\n",
              "[5 rows x 27 columns]"
            ],
            "text/html": [
              "\n",
              "  <div id=\"df-d978cd78-8184-45b3-8a96-584c12b81c6d\" class=\"colab-df-container\">\n",
              "    <div>\n",
              "<style scoped>\n",
              "    .dataframe tbody tr th:only-of-type {\n",
              "        vertical-align: middle;\n",
              "    }\n",
              "\n",
              "    .dataframe tbody tr th {\n",
              "        vertical-align: top;\n",
              "    }\n",
              "\n",
              "    .dataframe thead th {\n",
              "        text-align: right;\n",
              "    }\n",
              "</style>\n",
              "<table border=\"1\" class=\"dataframe\">\n",
              "  <thead>\n",
              "    <tr style=\"text-align: right;\">\n",
              "      <th></th>\n",
              "      <th>chroma_stft</th>\n",
              "      <th>rmse</th>\n",
              "      <th>spectral_centroid</th>\n",
              "      <th>spectral_bandwidth</th>\n",
              "      <th>rolloff</th>\n",
              "      <th>zero_crossing_rate</th>\n",
              "      <th>mfcc1</th>\n",
              "      <th>mfcc2</th>\n",
              "      <th>mfcc3</th>\n",
              "      <th>mfcc4</th>\n",
              "      <th>...</th>\n",
              "      <th>mfcc12</th>\n",
              "      <th>mfcc13</th>\n",
              "      <th>mfcc14</th>\n",
              "      <th>mfcc15</th>\n",
              "      <th>mfcc16</th>\n",
              "      <th>mfcc17</th>\n",
              "      <th>mfcc18</th>\n",
              "      <th>mfcc19</th>\n",
              "      <th>mfcc20</th>\n",
              "      <th>label</th>\n",
              "    </tr>\n",
              "  </thead>\n",
              "  <tbody>\n",
              "    <tr>\n",
              "      <th>0</th>\n",
              "      <td>0.256180</td>\n",
              "      <td>0.115150</td>\n",
              "      <td>1015.645596</td>\n",
              "      <td>1736.459418</td>\n",
              "      <td>1781.044358</td>\n",
              "      <td>0.033905</td>\n",
              "      <td>-264.730042</td>\n",
              "      <td>117.711273</td>\n",
              "      <td>37.102875</td>\n",
              "      <td>40.730743</td>\n",
              "      <td>...</td>\n",
              "      <td>-10.589654</td>\n",
              "      <td>-15.629943</td>\n",
              "      <td>-1.518200</td>\n",
              "      <td>-12.896955</td>\n",
              "      <td>-11.877695</td>\n",
              "      <td>-6.261710</td>\n",
              "      <td>-7.029034</td>\n",
              "      <td>-7.436520</td>\n",
              "      <td>-9.023581</td>\n",
              "      <td>blues</td>\n",
              "    </tr>\n",
              "    <tr>\n",
              "      <th>1</th>\n",
              "      <td>0.171890</td>\n",
              "      <td>0.131722</td>\n",
              "      <td>853.453653</td>\n",
              "      <td>1354.981080</td>\n",
              "      <td>1072.850436</td>\n",
              "      <td>0.045797</td>\n",
              "      <td>-265.327423</td>\n",
              "      <td>177.978546</td>\n",
              "      <td>26.460379</td>\n",
              "      <td>-13.352622</td>\n",
              "      <td>...</td>\n",
              "      <td>-5.094402</td>\n",
              "      <td>-8.361628</td>\n",
              "      <td>-4.551609</td>\n",
              "      <td>-6.124369</td>\n",
              "      <td>-6.634355</td>\n",
              "      <td>-13.539562</td>\n",
              "      <td>-10.734464</td>\n",
              "      <td>-8.922804</td>\n",
              "      <td>-3.120422</td>\n",
              "      <td>classical</td>\n",
              "    </tr>\n",
              "    <tr>\n",
              "      <th>2</th>\n",
              "      <td>0.433044</td>\n",
              "      <td>0.166802</td>\n",
              "      <td>2358.867430</td>\n",
              "      <td>2035.459115</td>\n",
              "      <td>4431.698843</td>\n",
              "      <td>0.166245</td>\n",
              "      <td>-68.454773</td>\n",
              "      <td>91.542267</td>\n",
              "      <td>-33.452648</td>\n",
              "      <td>72.505608</td>\n",
              "      <td>...</td>\n",
              "      <td>10.681966</td>\n",
              "      <td>-14.740170</td>\n",
              "      <td>0.091191</td>\n",
              "      <td>-5.635654</td>\n",
              "      <td>5.097917</td>\n",
              "      <td>-7.171759</td>\n",
              "      <td>-0.506923</td>\n",
              "      <td>-7.664429</td>\n",
              "      <td>3.295030</td>\n",
              "      <td>blues</td>\n",
              "    </tr>\n",
              "    <tr>\n",
              "      <th>3</th>\n",
              "      <td>0.242811</td>\n",
              "      <td>0.043694</td>\n",
              "      <td>1005.522854</td>\n",
              "      <td>1296.907222</td>\n",
              "      <td>1685.055965</td>\n",
              "      <td>0.050068</td>\n",
              "      <td>-301.612091</td>\n",
              "      <td>178.697632</td>\n",
              "      <td>-11.299769</td>\n",
              "      <td>30.429750</td>\n",
              "      <td>...</td>\n",
              "      <td>3.728764</td>\n",
              "      <td>-0.705305</td>\n",
              "      <td>4.562327</td>\n",
              "      <td>-3.589930</td>\n",
              "      <td>-9.752854</td>\n",
              "      <td>-5.986495</td>\n",
              "      <td>-1.602933</td>\n",
              "      <td>-2.998392</td>\n",
              "      <td>-8.878064</td>\n",
              "      <td>classical</td>\n",
              "    </tr>\n",
              "    <tr>\n",
              "      <th>4</th>\n",
              "      <td>0.286972</td>\n",
              "      <td>0.133271</td>\n",
              "      <td>1057.885607</td>\n",
              "      <td>1464.969731</td>\n",
              "      <td>1694.083346</td>\n",
              "      <td>0.055649</td>\n",
              "      <td>-171.273804</td>\n",
              "      <td>172.718277</td>\n",
              "      <td>-9.714803</td>\n",
              "      <td>-0.288757</td>\n",
              "      <td>...</td>\n",
              "      <td>-6.272744</td>\n",
              "      <td>-10.091816</td>\n",
              "      <td>-2.728145</td>\n",
              "      <td>-6.671346</td>\n",
              "      <td>-2.232099</td>\n",
              "      <td>1.436002</td>\n",
              "      <td>2.904237</td>\n",
              "      <td>-7.057222</td>\n",
              "      <td>-2.609650</td>\n",
              "      <td>classical</td>\n",
              "    </tr>\n",
              "  </tbody>\n",
              "</table>\n",
              "<p>5 rows × 27 columns</p>\n",
              "</div>\n",
              "    <div class=\"colab-df-buttons\">\n",
              "\n",
              "  <div class=\"colab-df-container\">\n",
              "    <button class=\"colab-df-convert\" onclick=\"convertToInteractive('df-d978cd78-8184-45b3-8a96-584c12b81c6d')\"\n",
              "            title=\"Convert this dataframe to an interactive table.\"\n",
              "            style=\"display:none;\">\n",
              "\n",
              "  <svg xmlns=\"http://www.w3.org/2000/svg\" height=\"24px\" viewBox=\"0 -960 960 960\">\n",
              "    <path d=\"M120-120v-720h720v720H120Zm60-500h600v-160H180v160Zm220 220h160v-160H400v160Zm0 220h160v-160H400v160ZM180-400h160v-160H180v160Zm440 0h160v-160H620v160ZM180-180h160v-160H180v160Zm440 0h160v-160H620v160Z\"/>\n",
              "  </svg>\n",
              "    </button>\n",
              "\n",
              "  <style>\n",
              "    .colab-df-container {\n",
              "      display:flex;\n",
              "      gap: 12px;\n",
              "    }\n",
              "\n",
              "    .colab-df-convert {\n",
              "      background-color: #E8F0FE;\n",
              "      border: none;\n",
              "      border-radius: 50%;\n",
              "      cursor: pointer;\n",
              "      display: none;\n",
              "      fill: #1967D2;\n",
              "      height: 32px;\n",
              "      padding: 0 0 0 0;\n",
              "      width: 32px;\n",
              "    }\n",
              "\n",
              "    .colab-df-convert:hover {\n",
              "      background-color: #E2EBFA;\n",
              "      box-shadow: 0px 1px 2px rgba(60, 64, 67, 0.3), 0px 1px 3px 1px rgba(60, 64, 67, 0.15);\n",
              "      fill: #174EA6;\n",
              "    }\n",
              "\n",
              "    .colab-df-buttons div {\n",
              "      margin-bottom: 4px;\n",
              "    }\n",
              "\n",
              "    [theme=dark] .colab-df-convert {\n",
              "      background-color: #3B4455;\n",
              "      fill: #D2E3FC;\n",
              "    }\n",
              "\n",
              "    [theme=dark] .colab-df-convert:hover {\n",
              "      background-color: #434B5C;\n",
              "      box-shadow: 0px 1px 3px 1px rgba(0, 0, 0, 0.15);\n",
              "      filter: drop-shadow(0px 1px 2px rgba(0, 0, 0, 0.3));\n",
              "      fill: #FFFFFF;\n",
              "    }\n",
              "  </style>\n",
              "\n",
              "    <script>\n",
              "      const buttonEl =\n",
              "        document.querySelector('#df-d978cd78-8184-45b3-8a96-584c12b81c6d button.colab-df-convert');\n",
              "      buttonEl.style.display =\n",
              "        google.colab.kernel.accessAllowed ? 'block' : 'none';\n",
              "\n",
              "      async function convertToInteractive(key) {\n",
              "        const element = document.querySelector('#df-d978cd78-8184-45b3-8a96-584c12b81c6d');\n",
              "        const dataTable =\n",
              "          await google.colab.kernel.invokeFunction('convertToInteractive',\n",
              "                                                    [key], {});\n",
              "        if (!dataTable) return;\n",
              "\n",
              "        const docLinkHtml = 'Like what you see? Visit the ' +\n",
              "          '<a target=\"_blank\" href=https://colab.research.google.com/notebooks/data_table.ipynb>data table notebook</a>'\n",
              "          + ' to learn more about interactive tables.';\n",
              "        element.innerHTML = '';\n",
              "        dataTable['output_type'] = 'display_data';\n",
              "        await google.colab.output.renderOutput(dataTable, element);\n",
              "        const docLink = document.createElement('div');\n",
              "        docLink.innerHTML = docLinkHtml;\n",
              "        element.appendChild(docLink);\n",
              "      }\n",
              "    </script>\n",
              "  </div>\n",
              "\n",
              "\n",
              "<div id=\"df-aefcb5d4-679b-46b4-b746-726d8c64030d\">\n",
              "  <button class=\"colab-df-quickchart\" onclick=\"quickchart('df-aefcb5d4-679b-46b4-b746-726d8c64030d')\"\n",
              "            title=\"Suggest charts\"\n",
              "            style=\"display:none;\">\n",
              "\n",
              "<svg xmlns=\"http://www.w3.org/2000/svg\" height=\"24px\"viewBox=\"0 0 24 24\"\n",
              "     width=\"24px\">\n",
              "    <g>\n",
              "        <path d=\"M19 3H5c-1.1 0-2 .9-2 2v14c0 1.1.9 2 2 2h14c1.1 0 2-.9 2-2V5c0-1.1-.9-2-2-2zM9 17H7v-7h2v7zm4 0h-2V7h2v10zm4 0h-2v-4h2v4z\"/>\n",
              "    </g>\n",
              "</svg>\n",
              "  </button>\n",
              "\n",
              "<style>\n",
              "  .colab-df-quickchart {\n",
              "      --bg-color: #E8F0FE;\n",
              "      --fill-color: #1967D2;\n",
              "      --hover-bg-color: #E2EBFA;\n",
              "      --hover-fill-color: #174EA6;\n",
              "      --disabled-fill-color: #AAA;\n",
              "      --disabled-bg-color: #DDD;\n",
              "  }\n",
              "\n",
              "  [theme=dark] .colab-df-quickchart {\n",
              "      --bg-color: #3B4455;\n",
              "      --fill-color: #D2E3FC;\n",
              "      --hover-bg-color: #434B5C;\n",
              "      --hover-fill-color: #FFFFFF;\n",
              "      --disabled-bg-color: #3B4455;\n",
              "      --disabled-fill-color: #666;\n",
              "  }\n",
              "\n",
              "  .colab-df-quickchart {\n",
              "    background-color: var(--bg-color);\n",
              "    border: none;\n",
              "    border-radius: 50%;\n",
              "    cursor: pointer;\n",
              "    display: none;\n",
              "    fill: var(--fill-color);\n",
              "    height: 32px;\n",
              "    padding: 0;\n",
              "    width: 32px;\n",
              "  }\n",
              "\n",
              "  .colab-df-quickchart:hover {\n",
              "    background-color: var(--hover-bg-color);\n",
              "    box-shadow: 0 1px 2px rgba(60, 64, 67, 0.3), 0 1px 3px 1px rgba(60, 64, 67, 0.15);\n",
              "    fill: var(--button-hover-fill-color);\n",
              "  }\n",
              "\n",
              "  .colab-df-quickchart-complete:disabled,\n",
              "  .colab-df-quickchart-complete:disabled:hover {\n",
              "    background-color: var(--disabled-bg-color);\n",
              "    fill: var(--disabled-fill-color);\n",
              "    box-shadow: none;\n",
              "  }\n",
              "\n",
              "  .colab-df-spinner {\n",
              "    border: 2px solid var(--fill-color);\n",
              "    border-color: transparent;\n",
              "    border-bottom-color: var(--fill-color);\n",
              "    animation:\n",
              "      spin 1s steps(1) infinite;\n",
              "  }\n",
              "\n",
              "  @keyframes spin {\n",
              "    0% {\n",
              "      border-color: transparent;\n",
              "      border-bottom-color: var(--fill-color);\n",
              "      border-left-color: var(--fill-color);\n",
              "    }\n",
              "    20% {\n",
              "      border-color: transparent;\n",
              "      border-left-color: var(--fill-color);\n",
              "      border-top-color: var(--fill-color);\n",
              "    }\n",
              "    30% {\n",
              "      border-color: transparent;\n",
              "      border-left-color: var(--fill-color);\n",
              "      border-top-color: var(--fill-color);\n",
              "      border-right-color: var(--fill-color);\n",
              "    }\n",
              "    40% {\n",
              "      border-color: transparent;\n",
              "      border-right-color: var(--fill-color);\n",
              "      border-top-color: var(--fill-color);\n",
              "    }\n",
              "    60% {\n",
              "      border-color: transparent;\n",
              "      border-right-color: var(--fill-color);\n",
              "    }\n",
              "    80% {\n",
              "      border-color: transparent;\n",
              "      border-right-color: var(--fill-color);\n",
              "      border-bottom-color: var(--fill-color);\n",
              "    }\n",
              "    90% {\n",
              "      border-color: transparent;\n",
              "      border-bottom-color: var(--fill-color);\n",
              "    }\n",
              "  }\n",
              "</style>\n",
              "\n",
              "  <script>\n",
              "    async function quickchart(key) {\n",
              "      const quickchartButtonEl =\n",
              "        document.querySelector('#' + key + ' button');\n",
              "      quickchartButtonEl.disabled = true;  // To prevent multiple clicks.\n",
              "      quickchartButtonEl.classList.add('colab-df-spinner');\n",
              "      try {\n",
              "        const charts = await google.colab.kernel.invokeFunction(\n",
              "            'suggestCharts', [key], {});\n",
              "      } catch (error) {\n",
              "        console.error('Error during call to suggestCharts:', error);\n",
              "      }\n",
              "      quickchartButtonEl.classList.remove('colab-df-spinner');\n",
              "      quickchartButtonEl.classList.add('colab-df-quickchart-complete');\n",
              "    }\n",
              "    (() => {\n",
              "      let quickchartButtonEl =\n",
              "        document.querySelector('#df-aefcb5d4-679b-46b4-b746-726d8c64030d button');\n",
              "      quickchartButtonEl.style.display =\n",
              "        google.colab.kernel.accessAllowed ? 'block' : 'none';\n",
              "    })();\n",
              "  </script>\n",
              "</div>\n",
              "    </div>\n",
              "  </div>\n"
            ]
          },
          "metadata": {},
          "execution_count": 24
        }
      ]
    },
    {
      "cell_type": "code",
      "source": [
        "X = data_shuffle.iloc[:, :-1]"
      ],
      "metadata": {
        "id": "5b6X1FBNrobq"
      },
      "execution_count": null,
      "outputs": []
    },
    {
      "cell_type": "code",
      "source": [
        "genre_list = data_shuffle.iloc[:, -1]\n",
        "encoder = LabelEncoder()\n",
        "y = encoder.fit_transform(genre_list)\n",
        "print(y)"
      ],
      "metadata": {
        "colab": {
          "base_uri": "https://localhost:8080/"
        },
        "id": "v7qs8pZIrpJI",
        "outputId": "4c299596-99db-45d0-dfc5-8b999a4401db"
      },
      "execution_count": null,
      "outputs": [
        {
          "output_type": "stream",
          "name": "stdout",
          "text": [
            "[0 1 0 ... 1 1 1]\n"
          ]
        }
      ]
    },
    {
      "cell_type": "code",
      "source": [
        "X_train, df_test_valid_X, y_train, df_test_valid_y = skms.train_test_split(X, y, train_size=0.7, random_state=seed, stratify=y)\n",
        "\n",
        "X_dev, X_test, y_dev, y_test = skms.train_test_split(df_test_valid_X, df_test_valid_y, train_size=0.66, random_state=seed, stratify=df_test_valid_y)"
      ],
      "metadata": {
        "id": "Fzh_mCq-rq4W"
      },
      "execution_count": null,
      "outputs": []
    },
    {
      "cell_type": "code",
      "source": [
        "print(f\"Train set has {X_train.shape[0]} records out of {len(data_shuffle)} which is {round(X_train.shape[0]/len(data_shuffle)*100)}%\")\n",
        "print(f\"Dev set has {X_dev.shape[0]} records out of {len(data_shuffle)} which is {round(X_dev.shape[0]/len(data_shuffle)*100)}%\")\n",
        "print(f\"Test set has {X_test.shape[0]} records out of {len(data_shuffle)} which is {round(X_test.shape[0]/len(data_shuffle)*100)}%\")"
      ],
      "metadata": {
        "colab": {
          "base_uri": "https://localhost:8080/"
        },
        "id": "1gXDY0G3ruaG",
        "outputId": "3f18ae44-3de2-4ca7-c965-95c5eedba4df"
      },
      "execution_count": null,
      "outputs": [
        {
          "output_type": "stream",
          "name": "stdout",
          "text": [
            "Train set has 1400 records out of 2000 which is 70%\n",
            "Dev set has 396 records out of 2000 which is 20%\n",
            "Test set has 204 records out of 2000 which is 10%\n"
          ]
        }
      ]
    },
    {
      "cell_type": "code",
      "source": [
        "import sklearn.preprocessing as skp\n",
        "\n",
        "scaler = skp.StandardScaler()\n",
        "\n",
        "X_train = pd.DataFrame(scaler.fit_transform(X_train), columns=X_train.columns)\n",
        "X_dev = pd.DataFrame(scaler.transform(X_dev), columns=X_train.columns)\n",
        "X_test = pd.DataFrame(scaler.transform(X_test), columns=X_train.columns)"
      ],
      "metadata": {
        "id": "PnXEu3sprw3E"
      },
      "execution_count": null,
      "outputs": []
    },
    {
      "cell_type": "code",
      "source": [
        "import tensorflow as tf\n",
        "print(\"TF version:-\", tf.__version__)\n",
        "import keras as k\n",
        "tf.random.set_seed(seed)"
      ],
      "metadata": {
        "colab": {
          "base_uri": "https://localhost:8080/"
        },
        "id": "j1rDFdpXrzzY",
        "outputId": "b01e3a24-71d5-47ef-e954-a0dd3502951a"
      },
      "execution_count": null,
      "outputs": [
        {
          "output_type": "stream",
          "name": "stdout",
          "text": [
            "TF version:- 2.14.0\n"
          ]
        }
      ]
    },
    {
      "cell_type": "code",
      "source": [
        "ACCURACY_THRESHOLD = 0.94\n",
        "\n",
        "class myCallback(k.callbacks.Callback):\n",
        "    def on_epoch_end(self, epoch, logs={}):\n",
        "        if(logs.get('val_accuracy') > ACCURACY_THRESHOLD):\n",
        "            print(\"\\n\\nStopping training as we have reached %2.2f%% accuracy!\" %(ACCURACY_THRESHOLD*100))\n",
        "            self.model.stop_training = True\n",
        "\n",
        "def trainModel(model, epochs, optimizer):\n",
        "    batch_size = 128\n",
        "    callback = myCallback()\n",
        "    model.compile(optimizer=optimizer,\n",
        "                  loss='sparse_categorical_crossentropy',\n",
        "                  metrics='accuracy'\n",
        "    )\n",
        "    return model.fit(X_train, y_train, validation_data=(X_dev, y_dev), epochs=epochs,\n",
        "                     batch_size=batch_size, callbacks=[callback])\n",
        "\n",
        "def plotHistory(history):\n",
        "    print(\"Max. Validation Accuracy\",max(history.history[\"val_accuracy\"]))\n",
        "    pd.DataFrame(history.history).plot(figsize=(12,6))\n",
        "    plt.show()"
      ],
      "metadata": {
        "id": "fGeYn7_Dr2Nd"
      },
      "execution_count": null,
      "outputs": []
    },
    {
      "cell_type": "code",
      "source": [
        "model_4 = k.models.Sequential([\n",
        "    k.layers.Dense(1024, activation='relu', input_shape=(X_train.shape[1],)),\n",
        "    k.layers.Dropout(0.3),\n",
        "\n",
        "    k.layers.Dense(512, activation='relu'),\n",
        "    k.layers.Dropout(0.3),\n",
        "\n",
        "    k.layers.Dense(256, activation='relu'),\n",
        "    k.layers.Dropout(0.3),\n",
        "\n",
        "    k.layers.Dense(128, activation='relu'),\n",
        "    k.layers.Dropout(0.3),\n",
        "\n",
        "    k.layers.Dense(64, activation='relu'),\n",
        "    k.layers.Dropout(0.3),\n",
        "\n",
        "    k.layers.Dense(10, activation='softmax'),\n",
        "])\n",
        "print(model_4.summary())\n",
        "model_4_history = trainModel(model=model_4, epochs=500, optimizer='rmsprop')"
      ],
      "metadata": {
        "colab": {
          "base_uri": "https://localhost:8080/"
        },
        "id": "ohQ59sQksSYx",
        "outputId": "ea6e6674-858a-4f8f-b3ff-b0a5ae787a7d"
      },
      "execution_count": null,
      "outputs": [
        {
          "output_type": "stream",
          "name": "stdout",
          "text": [
            "Model: \"sequential_1\"\n",
            "_________________________________________________________________\n",
            " Layer (type)                Output Shape              Param #   \n",
            "=================================================================\n",
            " dense_5 (Dense)             (None, 1024)              27648     \n",
            "                                                                 \n",
            " dropout_4 (Dropout)         (None, 1024)              0         \n",
            "                                                                 \n",
            " dense_6 (Dense)             (None, 512)               524800    \n",
            "                                                                 \n",
            " dropout_5 (Dropout)         (None, 512)               0         \n",
            "                                                                 \n",
            " dense_7 (Dense)             (None, 256)               131328    \n",
            "                                                                 \n",
            " dropout_6 (Dropout)         (None, 256)               0         \n",
            "                                                                 \n",
            " dense_8 (Dense)             (None, 128)               32896     \n",
            "                                                                 \n",
            " dropout_7 (Dropout)         (None, 128)               0         \n",
            "                                                                 \n",
            " dense_9 (Dense)             (None, 64)                8256      \n",
            "                                                                 \n",
            " dropout_8 (Dropout)         (None, 64)                0         \n",
            "                                                                 \n",
            " dense_10 (Dense)            (None, 10)                650       \n",
            "                                                                 \n",
            "=================================================================\n",
            "Total params: 725578 (2.77 MB)\n",
            "Trainable params: 725578 (2.77 MB)\n",
            "Non-trainable params: 0 (0.00 Byte)\n",
            "_________________________________________________________________\n",
            "None\n",
            "Epoch 1/500\n",
            "11/11 [==============================] - ETA: 0s - loss: 0.7130 - accuracy: 0.7507\n",
            "\n",
            "Stopping training as we have reached 94.00% accuracy!\n",
            "11/11 [==============================] - 3s 93ms/step - loss: 0.7130 - accuracy: 0.7507 - val_loss: 0.1689 - val_accuracy: 0.9444\n"
          ]
        }
      ]
    },
    {
      "cell_type": "code",
      "source": [
        "test_loss, test_acc  = model_4.evaluate(X_test, y_test, batch_size=128)\n",
        "print(\"The test Loss is :\",test_loss)\n",
        "print(\"\\nThe Best test Accuracy is :\",test_acc*100)"
      ],
      "metadata": {
        "colab": {
          "base_uri": "https://localhost:8080/"
        },
        "id": "O_1DB2hNsWme",
        "outputId": "b8e6bf1f-4968-4da0-81eb-001470792f34"
      },
      "execution_count": null,
      "outputs": [
        {
          "output_type": "stream",
          "name": "stdout",
          "text": [
            "2/2 [==============================] - 0s 12ms/step - loss: 0.0852 - accuracy: 0.9657\n",
            "The test Loss is : 0.08516893535852432\n",
            "\n",
            "The Best test Accuracy is : 96.56862616539001\n"
          ]
        }
      ]
    },
    {
      "cell_type": "code",
      "source": [
        "predictions = model_4.predict(X_test)\n",
        "np.argmax(predictions[0])"
      ],
      "metadata": {
        "colab": {
          "base_uri": "https://localhost:8080/"
        },
        "id": "Q24Iw-GpsZdi",
        "outputId": "f06be6c0-bcec-45c6-9215-5804c16d723d"
      },
      "execution_count": null,
      "outputs": [
        {
          "output_type": "stream",
          "name": "stdout",
          "text": [
            "7/7 [==============================] - 0s 5ms/step\n"
          ]
        },
        {
          "output_type": "execute_result",
          "data": {
            "text/plain": [
              "1"
            ]
          },
          "metadata": {},
          "execution_count": 38
        }
      ]
    },
    {
      "cell_type": "code",
      "source": [
        "def fit_feature(songname):\n",
        "    y, sr = librosa.load(songname, mono=True, duration=30)\n",
        "    chroma_stft = librosa.feature.chroma_stft(y=y, sr=sr)\n",
        "    rmse = librosa.feature.rms(y=y)\n",
        "    spec_cent = librosa.feature.spectral_centroid(y=y, sr=sr)\n",
        "    spec_bw = librosa.feature.spectral_bandwidth(y=y, sr=sr)\n",
        "    rolloff = librosa.feature.spectral_rolloff(y=y, sr=sr)\n",
        "    zcr = librosa.feature.zero_crossing_rate(y)\n",
        "    mfcc = librosa.feature.mfcc(y=y, sr=sr)\n",
        "    feature = np.array([np.mean(chroma_stft), np.mean(rmse), np.mean(spec_cent), np.mean(spec_bw), np.mean(rolloff), np.mean(zcr)])\n",
        "    for e in mfcc:\n",
        "        feature = np.append(feature, [np.mean(e)])\n",
        "    return feature"
      ],
      "metadata": {
        "id": "Elvwauda6WFI"
      },
      "execution_count": null,
      "outputs": []
    },
    {
      "cell_type": "code",
      "source": [
        "file_path = \"/content/better-day-186374.mp3\"\n",
        "feature = fit_feature(file_path)\n",
        "y = model_4.predict(scaler.transform([feature]))\n",
        "ind = np.argmax(y)\n",
        "genres[ind]"
      ],
      "metadata": {
        "colab": {
          "base_uri": "https://localhost:8080/",
          "height": 108
        },
        "id": "UzFwpMDasfjO",
        "outputId": "d7f41de7-2205-4285-b968-b9a46b2361bd"
      },
      "execution_count": null,
      "outputs": [
        {
          "output_type": "stream",
          "name": "stderr",
          "text": [
            "/usr/local/lib/python3.10/dist-packages/sklearn/base.py:439: UserWarning: X does not have valid feature names, but StandardScaler was fitted with feature names\n",
            "  warnings.warn(\n"
          ]
        },
        {
          "output_type": "stream",
          "name": "stdout",
          "text": [
            "1/1 [==============================] - 0s 165ms/step\n"
          ]
        },
        {
          "output_type": "execute_result",
          "data": {
            "text/plain": [
              "'blues'"
            ],
            "application/vnd.google.colaboratory.intrinsic+json": {
              "type": "string"
            }
          },
          "metadata": {},
          "execution_count": 41
        }
      ]
    },
    {
      "cell_type": "code",
      "source": [
        "model_4.save(\"music_gener_ASI.h5\")\n",
        "FileLink(r'music_gener_ASI.h5')"
      ],
      "metadata": {
        "colab": {
          "base_uri": "https://localhost:8080/",
          "height": 89
        },
        "id": "qLEChWwSskO7",
        "outputId": "fe87ed77-5d24-499d-cb8a-1d2463aac431"
      },
      "execution_count": null,
      "outputs": [
        {
          "output_type": "stream",
          "name": "stderr",
          "text": [
            "/usr/local/lib/python3.10/dist-packages/keras/src/engine/training.py:3079: UserWarning: You are saving your model as an HDF5 file via `model.save()`. This file format is considered legacy. We recommend using instead the native Keras format, e.g. `model.save('my_model.keras')`.\n",
            "  saving_api.save_model(\n"
          ]
        },
        {
          "output_type": "execute_result",
          "data": {
            "text/plain": [
              "/content/music_gener_ASI.h5"
            ],
            "text/html": [
              "<a href='music_gener_ASI.h5' target='_blank'>music_gener_ASI.h5</a><br>"
            ]
          },
          "metadata": {},
          "execution_count": 42
        }
      ]
    },
    {
      "cell_type": "markdown",
      "source": [
        "#LSTM\n"
      ],
      "metadata": {
        "id": "vZa4dGljl8gu"
      }
    },
    {
      "cell_type": "code",
      "source": [
        "import librosa\n",
        "import pandas as pd\n",
        "import numpy as np\n",
        "import os\n",
        "import csv\n",
        "import matplotlib.pyplot as plt\n",
        "from sklearn.preprocessing import LabelEncoder, StandardScaler\n",
        "from sklearn.model_selection import train_test_split\n",
        "from keras.models import Sequential\n",
        "from keras.layers import Dense, Dropout, LSTM\n",
        "from keras.callbacks import Callback\n",
        "from sklearn.metrics import classification_report, accuracy_score"
      ],
      "metadata": {
        "id": "u-VULuzml99G"
      },
      "execution_count": null,
      "outputs": []
    },
    {
      "cell_type": "code",
      "source": [
        "general_path = '/path/to/your/data'\n",
        "genres = 'blues classical country disco hiphop jazz metal pop reggae rock'\n",
        "genres = genres.split()\n"
      ],
      "metadata": {
        "id": "V_3V1GBvmiwo"
      },
      "execution_count": null,
      "outputs": []
    },
    {
      "cell_type": "code",
      "source": [
        "for g in genres:\n",
        "    path_audio = os.path.join(general_path, g)\n",
        "    os.makedirs(path_audio, exist_ok=True)\n"
      ],
      "metadata": {
        "id": "OxPD659Gmj3X"
      },
      "execution_count": null,
      "outputs": []
    },
    {
      "cell_type": "code",
      "source": [
        "header = 'filename chroma_stft rmse spectral_centroid spectral_bandwidth rolloff zero_crossing_rate'\n",
        "for i in range(1, 21):\n",
        "    header += f' mfcc{i}'\n",
        "header += ' label'\n",
        "header = header.split()"
      ],
      "metadata": {
        "id": "ibjQHXmImmEf"
      },
      "execution_count": null,
      "outputs": []
    },
    {
      "cell_type": "code",
      "source": [
        "file = open('data-3s.csv', 'w', newline='')\n",
        "with file:\n",
        "    writer = csv.writer(file)\n",
        "    writer.writerow(header)"
      ],
      "metadata": {
        "id": "AG8VK9mNmnsy"
      },
      "execution_count": null,
      "outputs": []
    },
    {
      "cell_type": "code",
      "source": [
        "for g in genres:\n",
        "    for filename in os.listdir(f'/content/genres/{g}'):\n",
        "        songname = f'/content/genres/{g}/{filename}'\n",
        "        y, sr = librosa.load(songname, mono=True, duration=3)\n",
        "        chroma_stft = librosa.feature.chroma_stft(y=y, sr=sr)\n",
        "        rmse = librosa.feature.rms(y=y)\n",
        "        spec_cent = librosa.feature.spectral_centroid(y=y, sr=sr)\n",
        "        spec_bw = librosa.feature.spectral_bandwidth(y=y, sr=sr)\n",
        "        rolloff = librosa.feature.spectral_rolloff(y=y, sr=sr)\n",
        "        zcr = librosa.feature.zero_crossing_rate(y)\n",
        "        mfcc = librosa.feature.mfcc(y=y, sr=sr)\n",
        "        to_append = f'{filename} {np.mean(chroma_stft)} {np.mean(rmse)} {np.mean(spec_cent)} {np.mean(spec_bw)} {np.mean(rolloff)} {np.mean(zcr)}'\n",
        "        for e in mfcc:\n",
        "            to_append += f' {np.mean(e)}'\n",
        "        to_append += f' {g}'\n",
        "        file = open('data-3s.csv', 'a', newline='')\n",
        "        with file:\n",
        "            writer = csv.writer(file)\n",
        "            writer.writerow(to_append.split())"
      ],
      "metadata": {
        "id": "zu6H5kKBmpwY"
      },
      "execution_count": null,
      "outputs": []
    },
    {
      "cell_type": "code",
      "source": [
        "data_3s = pd.read_csv('data-3s.csv')\n",
        "print(data_3s.head())\n",
        "print(data_3s.shape)"
      ],
      "metadata": {
        "colab": {
          "base_uri": "https://localhost:8080/"
        },
        "id": "MrCyI6WMmrX8",
        "outputId": "1fabfce1-ff22-4ed4-c685-f558c3c7c88f"
      },
      "execution_count": null,
      "outputs": [
        {
          "output_type": "stream",
          "name": "stdout",
          "text": [
            "         filename  chroma_stft      rmse  spectral_centroid  \\\n",
            "0  blues.00030.au     0.252451  0.129469         796.877132   \n",
            "1  blues.00043.au     0.398613  0.127050        2146.989442   \n",
            "2  blues.00089.au     0.330216  0.057961         677.501002   \n",
            "3  blues.00093.au     0.399003  0.056844         640.531249   \n",
            "4  blues.00011.au     0.395926  0.053601        1387.962171   \n",
            "\n",
            "   spectral_bandwidth      rolloff  zero_crossing_rate       mfcc1  \\\n",
            "0         1363.858304  1241.720440            0.027813 -261.393524   \n",
            "1         2346.179667  4924.229455            0.087361 -106.287834   \n",
            "2         1136.151689  1216.211877            0.022919 -345.310028   \n",
            "3         1022.053919  1190.123573            0.022397 -350.515137   \n",
            "4         1815.101760  3007.525916            0.044899 -321.723846   \n",
            "\n",
            "        mfcc2      mfcc3  ...    mfcc12     mfcc13     mfcc14     mfcc15  \\\n",
            "0  142.396729  11.462423  ... -6.913297 -12.653015 -12.238706 -21.957417   \n",
            "1  102.910103  -9.609563  ...  6.560434  -9.160453   5.283280 -15.422059   \n",
            "2  164.461838  27.915159  ... -6.900138   0.515772  -0.058611  -2.355061   \n",
            "3  167.412292  19.829763  ...  1.817667 -11.212885  -7.739208   0.326726   \n",
            "4  123.837578   4.081958  ...  0.056975  -5.541474  -4.698399  -2.931809   \n",
            "\n",
            "      mfcc16     mfcc17     mfcc18     mfcc19    mfcc20  label  \n",
            "0 -23.932734 -19.818665 -17.741760 -15.289710 -6.545130  blues  \n",
            "1   1.948020  -7.752453   2.932549  -4.131612  4.118633  blues  \n",
            "2   3.843762  -1.428511  -8.551285  -4.983430  0.694750  blues  \n",
            "3  -3.299458  -7.078539   0.315696   7.074780  2.348529  blues  \n",
            "4  -3.163541  -0.938552  -0.314044  -0.404410 -4.586336  blues  \n",
            "\n",
            "[5 rows x 28 columns]\n",
            "(1000, 28)\n"
          ]
        }
      ]
    },
    {
      "cell_type": "code",
      "source": [
        "seed = 12\n",
        "np.random.seed(seed)\n",
        "data_shuffle = data_3s.sample(frac=1, random_state=seed).reset_index(drop=True)"
      ],
      "metadata": {
        "id": "5wg7Bw9Pms-e"
      },
      "execution_count": null,
      "outputs": []
    },
    {
      "cell_type": "code",
      "source": [
        "data_shuffle = data_shuffle.drop(['filename'], axis=1)\n",
        "print(data_shuffle.head())"
      ],
      "metadata": {
        "colab": {
          "base_uri": "https://localhost:8080/"
        },
        "id": "1sFU1FKnmt_-",
        "outputId": "38f3fa2b-27ad-48e2-94bb-c952aab3bf8d"
      },
      "execution_count": null,
      "outputs": [
        {
          "output_type": "stream",
          "name": "stdout",
          "text": [
            "   chroma_stft      rmse  spectral_centroid  spectral_bandwidth      rolloff  \\\n",
            "0     0.277971  0.160153        2562.661518         2478.888737  5153.226788   \n",
            "1     0.456815  0.153437        2209.864606         2729.672694  5100.636080   \n",
            "2     0.413502  0.086312        4700.819906         3427.468067  8845.508564   \n",
            "3     0.304375  0.098867        1853.964030         1944.683935  3848.480319   \n",
            "4     0.340747  0.065988        1958.418703         2156.088175  4275.003380   \n",
            "\n",
            "   zero_crossing_rate       mfcc1       mfcc2      mfcc3      mfcc4  ...  \\\n",
            "0            0.117075  -72.641045   71.300972 -10.395139  32.301598  ...   \n",
            "1            0.072269 -116.014336   91.779205  20.279716  30.649773  ...   \n",
            "2            0.285780 -129.735794   27.791946  27.142660  17.484444  ...   \n",
            "3            0.082027 -171.452637  117.102180 -22.616510  32.930000  ...   \n",
            "4            0.089915 -165.906097  122.589996 -19.829643  27.253536  ...   \n",
            "\n",
            "     mfcc12     mfcc13    mfcc14     mfcc15    mfcc16    mfcc17    mfcc18  \\\n",
            "0 -5.360601   0.587005 -1.091796  -3.968911 -3.115830 -3.847098 -8.314495   \n",
            "1  3.068403   3.895581 -3.464054  -1.356920 -3.436801  0.334010  0.382794   \n",
            "2  4.415516   3.005890  1.366594   3.341358 -0.520112 -0.865708 -4.304250   \n",
            "3  6.973285 -14.062000 -2.081246  -7.108051  1.039783 -9.991002 -6.143396   \n",
            "4  9.628653 -13.366539  3.917477 -11.933526  6.290723 -9.567486  5.385183   \n",
            "\n",
            "     mfcc19    mfcc20    label  \n",
            "0 -7.058742 -4.225834     jazz  \n",
            "1  0.828289 -3.065637   reggae  \n",
            "2 -5.473748 -2.624539      pop  \n",
            "3 -7.452405 -3.815064  country  \n",
            "4 -4.416350 -1.210881    disco  \n",
            "\n",
            "[5 rows x 27 columns]\n"
          ]
        }
      ]
    },
    {
      "cell_type": "code",
      "source": [
        "X = data_shuffle.iloc[:, :-1]\n",
        "genre_list = data_shuffle.iloc[:, -1]"
      ],
      "metadata": {
        "id": "nkubvr2Emwi5"
      },
      "execution_count": null,
      "outputs": []
    },
    {
      "cell_type": "code",
      "source": [
        "encoder = LabelEncoder()"
      ],
      "metadata": {
        "id": "I8pbBnIzmzh2"
      },
      "execution_count": null,
      "outputs": []
    },
    {
      "cell_type": "code",
      "source": [
        "y = encoder.fit_transform(genre_list)\n",
        "print(y)"
      ],
      "metadata": {
        "colab": {
          "base_uri": "https://localhost:8080/"
        },
        "id": "scXJRaYsm1gu",
        "outputId": "40920435-744f-4904-ffe9-18d0a184b7db"
      },
      "execution_count": null,
      "outputs": [
        {
          "output_type": "stream",
          "name": "stdout",
          "text": [
            "[5 8 7 2 3 8 7 8 9 3 5 3 5 5 0 8 1 9 8 1 9 3 1 3 3 1 3 4 4 7 3 9 6 3 6 7 0\n",
            " 2 6 1 5 9 1 4 7 5 2 0 0 9 1 8 9 5 2 1 6 3 3 3 5 5 4 6 8 4 5 4 5 3 6 1 6 8\n",
            " 6 0 8 0 5 3 7 7 4 8 3 2 7 1 5 7 9 9 2 5 2 4 8 5 0 1 9 7 7 4 6 8 4 9 8 5 8\n",
            " 6 5 8 5 2 7 1 2 3 7 0 3 3 9 4 4 3 8 2 2 9 0 9 1 9 4 6 5 0 4 2 9 0 3 1 5 5\n",
            " 7 9 9 4 4 1 6 3 6 4 4 1 8 2 4 6 7 3 7 0 8 2 3 0 1 9 8 0 3 1 6 4 4 6 3 1 1\n",
            " 9 8 6 3 8 6 3 7 7 7 9 7 9 0 1 0 9 2 7 7 5 6 4 8 0 4 2 3 2 9 3 7 0 3 9 5 0\n",
            " 1 4 5 7 1 2 9 2 0 3 8 0 4 5 7 5 4 0 6 1 0 4 6 1 7 6 3 0 9 1 3 2 5 7 9 2 9\n",
            " 2 2 2 1 5 0 5 9 4 2 5 0 4 9 7 9 9 2 8 4 0 0 0 8 0 2 1 7 5 8 2 7 6 8 2 4 6\n",
            " 2 2 3 6 8 2 4 9 4 4 1 8 6 5 7 1 0 8 2 9 6 3 5 4 0 7 7 3 5 0 4 5 3 1 1 7 9\n",
            " 3 5 4 7 2 5 7 0 7 5 9 9 7 9 4 7 3 0 8 2 6 3 0 1 8 3 9 5 9 0 8 1 8 1 9 0 2\n",
            " 0 9 4 0 9 7 2 0 8 5 4 5 5 3 2 6 2 8 2 8 3 9 8 5 7 4 6 1 5 6 2 7 7 0 8 3 6\n",
            " 4 3 8 6 7 0 2 0 3 3 6 8 1 3 9 2 5 6 1 0 6 2 4 7 9 4 7 0 9 9 3 9 0 3 6 6 6\n",
            " 4 8 1 9 2 8 2 9 1 6 0 8 4 3 5 1 9 7 8 7 4 4 1 5 6 2 1 9 3 3 6 7 8 5 1 0 1\n",
            " 4 7 3 9 8 0 9 5 0 0 0 7 2 5 8 5 1 5 4 6 6 1 8 6 5 6 5 2 5 2 6 2 1 0 7 6 2\n",
            " 1 7 7 1 0 3 5 2 3 6 0 0 3 1 2 4 3 7 2 4 0 1 0 3 9 5 9 8 4 0 4 9 0 7 3 1 0\n",
            " 7 9 2 9 9 2 6 8 1 4 7 9 2 5 9 1 9 0 8 5 7 3 7 4 6 7 0 1 6 2 1 7 1 4 2 2 6\n",
            " 8 2 2 1 7 4 8 3 5 0 0 9 2 4 3 2 1 9 0 1 4 3 0 3 2 8 3 4 4 5 0 0 3 3 3 0 3\n",
            " 6 7 7 8 7 6 4 9 6 7 0 3 3 8 2 1 8 1 9 8 1 9 7 3 8 4 4 9 3 6 5 0 6 1 4 5 1\n",
            " 7 3 6 0 4 6 5 8 7 8 3 5 6 7 5 3 4 8 6 8 5 9 7 0 0 6 8 5 1 7 2 5 4 3 2 2 0\n",
            " 5 2 4 8 5 3 5 3 8 9 2 4 4 8 6 3 9 0 5 2 4 0 5 8 3 2 8 8 7 8 3 8 4 6 8 9 5\n",
            " 7 8 5 9 5 1 4 0 4 5 7 6 7 5 3 7 7 5 6 2 2 1 4 5 7 5 6 6 8 1 6 7 9 6 5 7 2\n",
            " 1 2 1 9 7 0 2 2 6 8 2 6 3 8 0 7 4 5 2 7 2 3 0 6 5 9 5 4 4 8 7 5 1 8 3 4 8\n",
            " 0 9 1 9 1 6 0 0 7 1 6 1 2 8 3 7 1 0 1 8 7 7 9 7 2 8 7 8 6 5 3 8 9 9 3 6 8\n",
            " 7 0 6 5 4 0 6 3 1 7 8 2 9 8 0 5 1 1 5 8 4 8 6 4 6 7 6 1 0 2 8 1 6 1 2 5 8\n",
            " 9 4 0 6 5 5 6 9 4 6 7 9 1 8 5 1 1 1 4 5 4 2 9 7 1 1 8 3 0 5 0 4 1 9 9 8 1\n",
            " 6 9 0 1 6 3 9 6 8 3 2 2 9 3 4 5 4 7 8 2 7 0 3 9 6 5 1 6 7 4 6 5 6 6 1 2 9\n",
            " 4 1 3 4 1 6 4 4 1 9 2 0 0 2 2 1 3 3 0 6 4 4 4 6 9 9 0 2 4 8 9 2 6 2 2 3 6\n",
            " 8]\n"
          ]
        }
      ]
    },
    {
      "cell_type": "code",
      "source": [
        "X_train, df_test_valid_X, y_train, df_test_valid_y = train_test_split(X, y, train_size=0.7, random_state=seed, stratify=y)\n",
        "X_dev, X_test, y_dev, y_test = train_test_split(df_test_valid_X, df_test_valid_y, train_size=0.66, random_state=seed, stratify=df_test_valid_y)"
      ],
      "metadata": {
        "id": "5_LmbAiBm3Eo"
      },
      "execution_count": null,
      "outputs": []
    },
    {
      "cell_type": "code",
      "source": [
        "print(f\"Train set has {X_train.shape[0]} records out of {len(data_shuffle)} which is {round(X_train.shape[0]/len(data_shuffle)*100)}%\")\n",
        "print(f\"Dev set has {X_dev.shape[0]} records out of {len(data_shuffle)} which is {round(X_dev.shape[0]/len(data_shuffle)*100)}%\")\n",
        "print(f\"Test set has {X_test.shape[0]} records out of {len(data_shuffle)} which is {round(X_test.shape[0]/len(data_shuffle)*100)}%\")"
      ],
      "metadata": {
        "colab": {
          "base_uri": "https://localhost:8080/"
        },
        "id": "3X8mC2IJm4Xq",
        "outputId": "951f22fd-40aa-4407-9ab2-256e76f80ffa"
      },
      "execution_count": null,
      "outputs": [
        {
          "output_type": "stream",
          "name": "stdout",
          "text": [
            "Train set has 700 records out of 1000 which is 70%\n",
            "Dev set has 198 records out of 1000 which is 20%\n",
            "Test set has 102 records out of 1000 which is 10%\n"
          ]
        }
      ]
    },
    {
      "cell_type": "code",
      "source": [
        "scaler = StandardScaler()"
      ],
      "metadata": {
        "id": "GgDYhy8KmBvD"
      },
      "execution_count": null,
      "outputs": []
    },
    {
      "cell_type": "code",
      "source": [
        "X_train = pd.DataFrame(scaler.fit_transform(X_train), columns=X_train.columns)\n",
        "X_dev = pd.DataFrame(scaler.transform(X_dev), columns=X_dev.columns)\n",
        "X_test = pd.DataFrame(scaler.transform(X_test), columns=X_test.columns)"
      ],
      "metadata": {
        "id": "pOyAR_3Im8ek"
      },
      "execution_count": null,
      "outputs": []
    },
    {
      "cell_type": "code",
      "source": [
        "X_train = np.expand_dims(X_train.values, axis=1)\n",
        "X_dev = np.expand_dims(X_dev.values, axis=1)\n",
        "X_test = np.expand_dims(X_test.values, axis=1)"
      ],
      "metadata": {
        "id": "0PFXxey0m9HB"
      },
      "execution_count": null,
      "outputs": []
    },
    {
      "cell_type": "code",
      "source": [
        "ACCURACY_THRESHOLD = 0.94\n",
        "class myCallback(Callback):\n",
        "    def on_epoch_end(self, epoch, logs={}):\n",
        "        if(logs.get('val_accuracy') > ACCURACY_THRESHOLD):\n",
        "            print(\"\\n\\nStopping training as we have reached %2.2f%% accuracy!\" %(ACCURACY_THRESHOLD*100))\n",
        "            self.model.stop_training = True\n",
        "\n",
        "def trainModel(model, epochs, optimizer):\n",
        "    batch_size = 128\n",
        "    callback = myCallback()\n",
        "    model.compile(optimizer=optimizer,\n",
        "                  loss='sparse_categorical_crossentropy',\n",
        "                  metrics='accuracy'\n",
        "    )\n",
        "    return model.fit(X_train, y_train, validation_data=(X_dev, y_dev), epochs=epochs,\n",
        "                     batch_size=batch_size, callbacks=[callback])\n",
        "\n",
        "def plotHistory(history):\n",
        "    print(\"Max. Validation Accuracy\",max(history.history[\"val_accuracy\"]))\n",
        "    pd.DataFrame(history.history).plot(figsize=(12,6))\n",
        "    plt.show()"
      ],
      "metadata": {
        "id": "nowlfOxjm_SS"
      },
      "execution_count": null,
      "outputs": []
    },
    {
      "cell_type": "code",
      "source": [
        "model_lstm = Sequential([\n",
        "    LSTM(128, input_shape=(X_train.shape[1], X_train.shape[2]), return_sequences=True),\n",
        "    Dropout(0.3),\n",
        "\n",
        "    LSTM(64, return_sequences=False),\n",
        "    Dropout(0.3),\n",
        "\n",
        "    Dense(128, activation='relu'),\n",
        "    Dropout(0.3),\n",
        "\n",
        "    Dense(64, activation='relu'),\n",
        "    Dropout(0.3),\n",
        "\n",
        "    Dense(10, activation='softmax'),\n",
        "])"
      ],
      "metadata": {
        "id": "xmVTmz7OnB6c"
      },
      "execution_count": null,
      "outputs": []
    },
    {
      "cell_type": "code",
      "source": [
        "print(model_lstm.summary())"
      ],
      "metadata": {
        "colab": {
          "base_uri": "https://localhost:8080/"
        },
        "id": "Yi7lCnq5nEHa",
        "outputId": "55e07e39-218e-422e-fea1-11f0e4e19145"
      },
      "execution_count": null,
      "outputs": [
        {
          "output_type": "stream",
          "name": "stdout",
          "text": [
            "Model: \"sequential\"\n",
            "_________________________________________________________________\n",
            " Layer (type)                Output Shape              Param #   \n",
            "=================================================================\n",
            " lstm (LSTM)                 (None, 1, 128)            79360     \n",
            "                                                                 \n",
            " dropout (Dropout)           (None, 1, 128)            0         \n",
            "                                                                 \n",
            " lstm_1 (LSTM)               (None, 64)                49408     \n",
            "                                                                 \n",
            " dropout_1 (Dropout)         (None, 64)                0         \n",
            "                                                                 \n",
            " dense (Dense)               (None, 128)               8320      \n",
            "                                                                 \n",
            " dropout_2 (Dropout)         (None, 128)               0         \n",
            "                                                                 \n",
            " dense_1 (Dense)             (None, 64)                8256      \n",
            "                                                                 \n",
            " dropout_3 (Dropout)         (None, 64)                0         \n",
            "                                                                 \n",
            " dense_2 (Dense)             (None, 10)                650       \n",
            "                                                                 \n",
            "=================================================================\n",
            "Total params: 145994 (570.29 KB)\n",
            "Trainable params: 145994 (570.29 KB)\n",
            "Non-trainable params: 0 (0.00 Byte)\n",
            "_________________________________________________________________\n",
            "None\n"
          ]
        }
      ]
    },
    {
      "cell_type": "code",
      "source": [
        "model_lstm_history = trainModel(model=model_lstm, epochs=500, optimizer='rmsprop')"
      ],
      "metadata": {
        "colab": {
          "base_uri": "https://localhost:8080/"
        },
        "id": "nE8WruU1nGjE",
        "outputId": "25997a07-eb0a-40df-c28d-3035c881f803"
      },
      "execution_count": null,
      "outputs": [
        {
          "output_type": "stream",
          "name": "stdout",
          "text": [
            "Epoch 1/500\n",
            "6/6 [==============================] - 5s 225ms/step - loss: 2.3003 - accuracy: 0.1071 - val_loss: 2.2899 - val_accuracy: 0.2121\n",
            "Epoch 2/500\n",
            "6/6 [==============================] - 0s 19ms/step - loss: 2.2871 - accuracy: 0.1857 - val_loss: 2.2687 - val_accuracy: 0.3081\n",
            "Epoch 3/500\n",
            "6/6 [==============================] - 0s 20ms/step - loss: 2.2607 - accuracy: 0.2486 - val_loss: 2.2274 - val_accuracy: 0.2828\n",
            "Epoch 4/500\n",
            "6/6 [==============================] - 0s 17ms/step - loss: 2.2117 - accuracy: 0.2829 - val_loss: 2.1533 - val_accuracy: 0.2778\n",
            "Epoch 5/500\n",
            "6/6 [==============================] - 0s 18ms/step - loss: 2.1313 - accuracy: 0.2843 - val_loss: 2.0572 - val_accuracy: 0.2828\n",
            "Epoch 6/500\n",
            "6/6 [==============================] - 0s 19ms/step - loss: 2.0364 - accuracy: 0.2943 - val_loss: 1.9687 - val_accuracy: 0.2929\n",
            "Epoch 7/500\n",
            "6/6 [==============================] - 0s 19ms/step - loss: 1.9533 - accuracy: 0.2971 - val_loss: 1.8955 - val_accuracy: 0.2879\n",
            "Epoch 8/500\n",
            "6/6 [==============================] - 0s 22ms/step - loss: 1.8982 - accuracy: 0.3014 - val_loss: 1.8501 - val_accuracy: 0.2929\n",
            "Epoch 9/500\n",
            "6/6 [==============================] - 0s 31ms/step - loss: 1.8537 - accuracy: 0.2929 - val_loss: 1.8174 - val_accuracy: 0.2980\n",
            "Epoch 10/500\n",
            "6/6 [==============================] - 0s 34ms/step - loss: 1.8287 - accuracy: 0.3143 - val_loss: 1.7934 - val_accuracy: 0.3131\n",
            "Epoch 11/500\n",
            "6/6 [==============================] - 0s 31ms/step - loss: 1.8195 - accuracy: 0.3000 - val_loss: 1.7714 - val_accuracy: 0.3232\n",
            "Epoch 12/500\n",
            "6/6 [==============================] - 0s 26ms/step - loss: 1.7722 - accuracy: 0.3200 - val_loss: 1.7447 - val_accuracy: 0.3283\n",
            "Epoch 13/500\n",
            "6/6 [==============================] - 0s 27ms/step - loss: 1.7693 - accuracy: 0.3286 - val_loss: 1.7309 - val_accuracy: 0.3586\n",
            "Epoch 14/500\n",
            "6/6 [==============================] - 0s 28ms/step - loss: 1.7329 - accuracy: 0.3443 - val_loss: 1.7077 - val_accuracy: 0.3586\n",
            "Epoch 15/500\n",
            "6/6 [==============================] - 0s 25ms/step - loss: 1.7230 - accuracy: 0.3514 - val_loss: 1.6953 - val_accuracy: 0.3737\n",
            "Epoch 16/500\n",
            "6/6 [==============================] - 0s 25ms/step - loss: 1.7068 - accuracy: 0.3557 - val_loss: 1.6617 - val_accuracy: 0.3687\n",
            "Epoch 17/500\n",
            "6/6 [==============================] - 0s 29ms/step - loss: 1.6500 - accuracy: 0.3786 - val_loss: 1.6418 - val_accuracy: 0.3838\n",
            "Epoch 18/500\n",
            "6/6 [==============================] - 0s 31ms/step - loss: 1.6410 - accuracy: 0.3971 - val_loss: 1.6180 - val_accuracy: 0.3838\n",
            "Epoch 19/500\n",
            "6/6 [==============================] - 0s 29ms/step - loss: 1.6238 - accuracy: 0.4014 - val_loss: 1.6032 - val_accuracy: 0.4040\n",
            "Epoch 20/500\n",
            "6/6 [==============================] - 0s 28ms/step - loss: 1.6101 - accuracy: 0.4029 - val_loss: 1.5830 - val_accuracy: 0.4091\n",
            "Epoch 21/500\n",
            "6/6 [==============================] - 0s 32ms/step - loss: 1.5895 - accuracy: 0.4143 - val_loss: 1.5818 - val_accuracy: 0.4242\n",
            "Epoch 22/500\n",
            "6/6 [==============================] - 0s 28ms/step - loss: 1.5730 - accuracy: 0.4186 - val_loss: 1.5566 - val_accuracy: 0.4192\n",
            "Epoch 23/500\n",
            "6/6 [==============================] - 0s 35ms/step - loss: 1.5732 - accuracy: 0.4043 - val_loss: 1.5501 - val_accuracy: 0.4394\n",
            "Epoch 24/500\n",
            "6/6 [==============================] - 0s 30ms/step - loss: 1.5494 - accuracy: 0.4400 - val_loss: 1.5316 - val_accuracy: 0.4444\n",
            "Epoch 25/500\n",
            "6/6 [==============================] - 0s 39ms/step - loss: 1.5160 - accuracy: 0.4343 - val_loss: 1.5314 - val_accuracy: 0.4242\n",
            "Epoch 26/500\n",
            "6/6 [==============================] - 0s 30ms/step - loss: 1.4824 - accuracy: 0.4571 - val_loss: 1.5122 - val_accuracy: 0.4343\n",
            "Epoch 27/500\n",
            "6/6 [==============================] - 0s 29ms/step - loss: 1.4898 - accuracy: 0.4571 - val_loss: 1.4961 - val_accuracy: 0.4293\n",
            "Epoch 28/500\n",
            "6/6 [==============================] - 0s 23ms/step - loss: 1.4607 - accuracy: 0.4614 - val_loss: 1.4835 - val_accuracy: 0.4495\n",
            "Epoch 29/500\n",
            "6/6 [==============================] - 0s 18ms/step - loss: 1.4544 - accuracy: 0.4414 - val_loss: 1.4709 - val_accuracy: 0.4343\n",
            "Epoch 30/500\n",
            "6/6 [==============================] - 0s 17ms/step - loss: 1.4264 - accuracy: 0.4729 - val_loss: 1.4679 - val_accuracy: 0.4343\n",
            "Epoch 31/500\n",
            "6/6 [==============================] - 0s 17ms/step - loss: 1.3997 - accuracy: 0.4743 - val_loss: 1.4547 - val_accuracy: 0.4394\n",
            "Epoch 32/500\n",
            "6/6 [==============================] - 0s 17ms/step - loss: 1.4227 - accuracy: 0.4814 - val_loss: 1.4699 - val_accuracy: 0.4646\n",
            "Epoch 33/500\n",
            "6/6 [==============================] - 0s 16ms/step - loss: 1.3825 - accuracy: 0.5071 - val_loss: 1.4473 - val_accuracy: 0.4495\n",
            "Epoch 34/500\n",
            "6/6 [==============================] - 0s 16ms/step - loss: 1.4201 - accuracy: 0.5043 - val_loss: 1.4563 - val_accuracy: 0.4697\n",
            "Epoch 35/500\n",
            "6/6 [==============================] - 0s 19ms/step - loss: 1.3689 - accuracy: 0.5143 - val_loss: 1.4515 - val_accuracy: 0.4495\n",
            "Epoch 36/500\n",
            "6/6 [==============================] - 0s 21ms/step - loss: 1.3604 - accuracy: 0.5157 - val_loss: 1.4478 - val_accuracy: 0.4697\n",
            "Epoch 37/500\n",
            "6/6 [==============================] - 0s 18ms/step - loss: 1.3557 - accuracy: 0.4914 - val_loss: 1.4320 - val_accuracy: 0.4697\n",
            "Epoch 38/500\n",
            "6/6 [==============================] - 0s 22ms/step - loss: 1.3572 - accuracy: 0.5029 - val_loss: 1.4414 - val_accuracy: 0.4848\n",
            "Epoch 39/500\n",
            "6/6 [==============================] - 0s 18ms/step - loss: 1.3436 - accuracy: 0.5214 - val_loss: 1.4245 - val_accuracy: 0.4848\n",
            "Epoch 40/500\n",
            "6/6 [==============================] - 0s 18ms/step - loss: 1.3104 - accuracy: 0.5214 - val_loss: 1.4326 - val_accuracy: 0.4949\n",
            "Epoch 41/500\n",
            "6/6 [==============================] - 0s 16ms/step - loss: 1.3309 - accuracy: 0.5357 - val_loss: 1.4151 - val_accuracy: 0.4798\n",
            "Epoch 42/500\n",
            "6/6 [==============================] - 0s 17ms/step - loss: 1.3199 - accuracy: 0.4971 - val_loss: 1.4166 - val_accuracy: 0.4949\n",
            "Epoch 43/500\n",
            "6/6 [==============================] - 0s 17ms/step - loss: 1.3155 - accuracy: 0.5329 - val_loss: 1.4157 - val_accuracy: 0.4949\n",
            "Epoch 44/500\n",
            "6/6 [==============================] - 0s 21ms/step - loss: 1.2984 - accuracy: 0.5371 - val_loss: 1.3859 - val_accuracy: 0.5000\n",
            "Epoch 45/500\n",
            "6/6 [==============================] - 0s 22ms/step - loss: 1.3150 - accuracy: 0.5357 - val_loss: 1.3938 - val_accuracy: 0.5101\n",
            "Epoch 46/500\n",
            "6/6 [==============================] - 0s 21ms/step - loss: 1.2862 - accuracy: 0.5200 - val_loss: 1.4172 - val_accuracy: 0.5051\n",
            "Epoch 47/500\n",
            "6/6 [==============================] - 0s 23ms/step - loss: 1.2738 - accuracy: 0.5371 - val_loss: 1.3979 - val_accuracy: 0.5000\n",
            "Epoch 48/500\n",
            "6/6 [==============================] - 0s 21ms/step - loss: 1.2944 - accuracy: 0.4957 - val_loss: 1.3762 - val_accuracy: 0.5101\n",
            "Epoch 49/500\n",
            "6/6 [==============================] - 0s 19ms/step - loss: 1.2363 - accuracy: 0.5557 - val_loss: 1.3893 - val_accuracy: 0.5152\n",
            "Epoch 50/500\n",
            "6/6 [==============================] - 0s 18ms/step - loss: 1.2502 - accuracy: 0.5300 - val_loss: 1.3871 - val_accuracy: 0.5101\n",
            "Epoch 51/500\n",
            "6/6 [==============================] - 0s 19ms/step - loss: 1.1913 - accuracy: 0.5700 - val_loss: 1.3869 - val_accuracy: 0.5101\n",
            "Epoch 52/500\n",
            "6/6 [==============================] - 0s 17ms/step - loss: 1.1902 - accuracy: 0.5629 - val_loss: 1.4128 - val_accuracy: 0.4949\n",
            "Epoch 53/500\n",
            "6/6 [==============================] - 0s 18ms/step - loss: 1.1965 - accuracy: 0.5557 - val_loss: 1.4140 - val_accuracy: 0.5051\n",
            "Epoch 54/500\n",
            "6/6 [==============================] - 0s 20ms/step - loss: 1.2000 - accuracy: 0.5500 - val_loss: 1.4235 - val_accuracy: 0.5202\n",
            "Epoch 55/500\n",
            "6/6 [==============================] - 0s 25ms/step - loss: 1.1751 - accuracy: 0.5643 - val_loss: 1.3895 - val_accuracy: 0.5152\n",
            "Epoch 56/500\n",
            "6/6 [==============================] - 0s 18ms/step - loss: 1.1723 - accuracy: 0.5829 - val_loss: 1.3954 - val_accuracy: 0.5051\n",
            "Epoch 57/500\n",
            "6/6 [==============================] - 0s 19ms/step - loss: 1.2023 - accuracy: 0.5586 - val_loss: 1.4019 - val_accuracy: 0.5202\n",
            "Epoch 58/500\n",
            "6/6 [==============================] - 0s 19ms/step - loss: 1.1566 - accuracy: 0.5929 - val_loss: 1.3785 - val_accuracy: 0.5152\n",
            "Epoch 59/500\n",
            "6/6 [==============================] - 0s 18ms/step - loss: 1.1576 - accuracy: 0.5814 - val_loss: 1.4049 - val_accuracy: 0.5303\n",
            "Epoch 60/500\n",
            "6/6 [==============================] - 0s 19ms/step - loss: 1.1522 - accuracy: 0.6057 - val_loss: 1.3559 - val_accuracy: 0.5404\n",
            "Epoch 61/500\n",
            "6/6 [==============================] - 0s 17ms/step - loss: 1.1352 - accuracy: 0.5771 - val_loss: 1.3692 - val_accuracy: 0.5404\n",
            "Epoch 62/500\n",
            "6/6 [==============================] - 0s 16ms/step - loss: 1.1489 - accuracy: 0.5700 - val_loss: 1.3672 - val_accuracy: 0.5556\n",
            "Epoch 63/500\n",
            "6/6 [==============================] - 0s 22ms/step - loss: 1.1322 - accuracy: 0.6043 - val_loss: 1.3720 - val_accuracy: 0.5253\n",
            "Epoch 64/500\n",
            "6/6 [==============================] - 0s 22ms/step - loss: 1.1398 - accuracy: 0.5943 - val_loss: 1.3709 - val_accuracy: 0.5202\n",
            "Epoch 65/500\n",
            "6/6 [==============================] - 0s 18ms/step - loss: 1.1344 - accuracy: 0.6129 - val_loss: 1.3764 - val_accuracy: 0.5051\n",
            "Epoch 66/500\n",
            "6/6 [==============================] - 0s 18ms/step - loss: 1.1119 - accuracy: 0.6071 - val_loss: 1.3663 - val_accuracy: 0.5354\n",
            "Epoch 67/500\n",
            "6/6 [==============================] - 0s 18ms/step - loss: 1.0964 - accuracy: 0.6100 - val_loss: 1.3674 - val_accuracy: 0.5404\n",
            "Epoch 68/500\n",
            "6/6 [==============================] - 0s 22ms/step - loss: 1.1120 - accuracy: 0.6071 - val_loss: 1.3755 - val_accuracy: 0.5303\n",
            "Epoch 69/500\n",
            "6/6 [==============================] - 0s 18ms/step - loss: 1.1231 - accuracy: 0.6086 - val_loss: 1.3481 - val_accuracy: 0.5455\n",
            "Epoch 70/500\n",
            "6/6 [==============================] - 0s 18ms/step - loss: 1.0821 - accuracy: 0.6029 - val_loss: 1.3700 - val_accuracy: 0.5455\n",
            "Epoch 71/500\n",
            "6/6 [==============================] - 0s 21ms/step - loss: 1.1015 - accuracy: 0.5900 - val_loss: 1.3834 - val_accuracy: 0.5404\n",
            "Epoch 72/500\n",
            "6/6 [==============================] - 0s 24ms/step - loss: 1.0900 - accuracy: 0.6257 - val_loss: 1.3524 - val_accuracy: 0.5556\n",
            "Epoch 73/500\n",
            "6/6 [==============================] - 0s 20ms/step - loss: 1.0473 - accuracy: 0.6257 - val_loss: 1.3525 - val_accuracy: 0.5505\n",
            "Epoch 74/500\n",
            "6/6 [==============================] - 0s 17ms/step - loss: 1.0615 - accuracy: 0.6286 - val_loss: 1.3640 - val_accuracy: 0.5455\n",
            "Epoch 75/500\n",
            "6/6 [==============================] - 0s 18ms/step - loss: 1.0698 - accuracy: 0.6414 - val_loss: 1.3524 - val_accuracy: 0.5556\n",
            "Epoch 76/500\n",
            "6/6 [==============================] - 0s 19ms/step - loss: 1.0245 - accuracy: 0.6200 - val_loss: 1.3677 - val_accuracy: 0.5404\n",
            "Epoch 77/500\n",
            "6/6 [==============================] - 0s 21ms/step - loss: 1.0196 - accuracy: 0.6543 - val_loss: 1.3721 - val_accuracy: 0.5404\n",
            "Epoch 78/500\n",
            "6/6 [==============================] - 0s 19ms/step - loss: 0.9987 - accuracy: 0.6571 - val_loss: 1.3645 - val_accuracy: 0.5556\n",
            "Epoch 79/500\n",
            "6/6 [==============================] - 0s 18ms/step - loss: 1.0129 - accuracy: 0.6457 - val_loss: 1.3732 - val_accuracy: 0.5505\n",
            "Epoch 80/500\n",
            "6/6 [==============================] - 0s 22ms/step - loss: 1.0346 - accuracy: 0.6329 - val_loss: 1.3390 - val_accuracy: 0.5505\n",
            "Epoch 81/500\n",
            "6/6 [==============================] - 0s 23ms/step - loss: 1.0489 - accuracy: 0.6243 - val_loss: 1.3495 - val_accuracy: 0.5808\n",
            "Epoch 82/500\n",
            "6/6 [==============================] - 0s 21ms/step - loss: 0.9859 - accuracy: 0.6657 - val_loss: 1.3594 - val_accuracy: 0.5404\n",
            "Epoch 83/500\n",
            "6/6 [==============================] - 0s 19ms/step - loss: 0.9998 - accuracy: 0.6371 - val_loss: 1.3424 - val_accuracy: 0.5707\n",
            "Epoch 84/500\n",
            "6/6 [==============================] - 0s 20ms/step - loss: 1.0345 - accuracy: 0.6414 - val_loss: 1.3339 - val_accuracy: 0.5606\n",
            "Epoch 85/500\n",
            "6/6 [==============================] - 0s 21ms/step - loss: 0.9993 - accuracy: 0.6557 - val_loss: 1.3365 - val_accuracy: 0.5606\n",
            "Epoch 86/500\n",
            "6/6 [==============================] - 0s 16ms/step - loss: 0.9782 - accuracy: 0.6414 - val_loss: 1.3317 - val_accuracy: 0.5657\n",
            "Epoch 87/500\n",
            "6/6 [==============================] - 0s 21ms/step - loss: 0.9911 - accuracy: 0.6514 - val_loss: 1.3341 - val_accuracy: 0.5606\n",
            "Epoch 88/500\n",
            "6/6 [==============================] - 0s 16ms/step - loss: 0.9835 - accuracy: 0.6500 - val_loss: 1.3689 - val_accuracy: 0.5808\n",
            "Epoch 89/500\n",
            "6/6 [==============================] - 0s 25ms/step - loss: 0.9470 - accuracy: 0.6771 - val_loss: 1.3439 - val_accuracy: 0.5657\n",
            "Epoch 90/500\n",
            "6/6 [==============================] - 0s 19ms/step - loss: 0.9741 - accuracy: 0.6429 - val_loss: 1.3482 - val_accuracy: 0.5556\n",
            "Epoch 91/500\n",
            "6/6 [==============================] - 0s 19ms/step - loss: 0.9520 - accuracy: 0.6743 - val_loss: 1.3518 - val_accuracy: 0.5657\n",
            "Epoch 92/500\n",
            "6/6 [==============================] - 0s 22ms/step - loss: 0.9508 - accuracy: 0.6571 - val_loss: 1.4129 - val_accuracy: 0.5808\n",
            "Epoch 93/500\n",
            "6/6 [==============================] - 0s 17ms/step - loss: 0.9571 - accuracy: 0.6714 - val_loss: 1.3728 - val_accuracy: 0.5657\n",
            "Epoch 94/500\n",
            "6/6 [==============================] - 0s 16ms/step - loss: 0.9178 - accuracy: 0.6743 - val_loss: 1.3592 - val_accuracy: 0.5556\n",
            "Epoch 95/500\n",
            "6/6 [==============================] - 0s 17ms/step - loss: 0.9259 - accuracy: 0.6771 - val_loss: 1.3851 - val_accuracy: 0.5808\n",
            "Epoch 96/500\n",
            "6/6 [==============================] - 0s 20ms/step - loss: 0.9597 - accuracy: 0.6729 - val_loss: 1.3370 - val_accuracy: 0.5859\n",
            "Epoch 97/500\n",
            "6/6 [==============================] - 0s 21ms/step - loss: 0.9373 - accuracy: 0.6757 - val_loss: 1.3378 - val_accuracy: 0.5707\n",
            "Epoch 98/500\n",
            "6/6 [==============================] - 0s 23ms/step - loss: 0.8513 - accuracy: 0.7143 - val_loss: 1.3566 - val_accuracy: 0.5859\n",
            "Epoch 99/500\n",
            "6/6 [==============================] - 0s 21ms/step - loss: 0.9279 - accuracy: 0.6686 - val_loss: 1.3661 - val_accuracy: 0.5707\n",
            "Epoch 100/500\n",
            "6/6 [==============================] - 0s 16ms/step - loss: 0.8883 - accuracy: 0.6871 - val_loss: 1.3521 - val_accuracy: 0.5909\n",
            "Epoch 101/500\n",
            "6/6 [==============================] - 0s 20ms/step - loss: 0.8994 - accuracy: 0.7043 - val_loss: 1.3989 - val_accuracy: 0.5758\n",
            "Epoch 102/500\n",
            "6/6 [==============================] - 0s 17ms/step - loss: 0.9001 - accuracy: 0.6800 - val_loss: 1.3427 - val_accuracy: 0.5859\n",
            "Epoch 103/500\n",
            "6/6 [==============================] - 0s 18ms/step - loss: 0.8790 - accuracy: 0.6843 - val_loss: 1.3544 - val_accuracy: 0.5707\n",
            "Epoch 104/500\n",
            "6/6 [==============================] - 0s 16ms/step - loss: 0.8709 - accuracy: 0.6971 - val_loss: 1.3848 - val_accuracy: 0.6010\n",
            "Epoch 105/500\n",
            "6/6 [==============================] - 0s 18ms/step - loss: 0.8833 - accuracy: 0.6757 - val_loss: 1.3791 - val_accuracy: 0.5960\n",
            "Epoch 106/500\n",
            "6/6 [==============================] - 0s 23ms/step - loss: 0.8453 - accuracy: 0.7000 - val_loss: 1.3548 - val_accuracy: 0.5808\n",
            "Epoch 107/500\n",
            "6/6 [==============================] - 0s 23ms/step - loss: 0.8350 - accuracy: 0.6914 - val_loss: 1.4019 - val_accuracy: 0.5960\n",
            "Epoch 108/500\n",
            "6/6 [==============================] - 0s 19ms/step - loss: 0.8832 - accuracy: 0.6686 - val_loss: 1.3979 - val_accuracy: 0.5758\n",
            "Epoch 109/500\n",
            "6/6 [==============================] - 0s 17ms/step - loss: 0.8690 - accuracy: 0.6900 - val_loss: 1.3849 - val_accuracy: 0.5960\n",
            "Epoch 110/500\n",
            "6/6 [==============================] - 0s 18ms/step - loss: 0.8247 - accuracy: 0.7186 - val_loss: 1.4178 - val_accuracy: 0.5909\n",
            "Epoch 111/500\n",
            "6/6 [==============================] - 0s 19ms/step - loss: 0.8031 - accuracy: 0.7143 - val_loss: 1.3560 - val_accuracy: 0.5909\n",
            "Epoch 112/500\n",
            "6/6 [==============================] - 0s 19ms/step - loss: 0.8255 - accuracy: 0.6871 - val_loss: 1.4059 - val_accuracy: 0.6010\n",
            "Epoch 113/500\n",
            "6/6 [==============================] - 0s 19ms/step - loss: 0.8224 - accuracy: 0.6971 - val_loss: 1.3906 - val_accuracy: 0.6010\n",
            "Epoch 114/500\n",
            "6/6 [==============================] - 0s 28ms/step - loss: 0.8191 - accuracy: 0.7186 - val_loss: 1.3721 - val_accuracy: 0.6061\n",
            "Epoch 115/500\n",
            "6/6 [==============================] - 0s 31ms/step - loss: 0.8256 - accuracy: 0.7171 - val_loss: 1.4241 - val_accuracy: 0.5960\n",
            "Epoch 116/500\n",
            "6/6 [==============================] - 0s 30ms/step - loss: 0.8118 - accuracy: 0.7186 - val_loss: 1.3733 - val_accuracy: 0.5960\n",
            "Epoch 117/500\n",
            "6/6 [==============================] - 0s 29ms/step - loss: 0.7926 - accuracy: 0.7329 - val_loss: 1.4321 - val_accuracy: 0.5859\n",
            "Epoch 118/500\n",
            "6/6 [==============================] - 0s 26ms/step - loss: 0.8057 - accuracy: 0.7086 - val_loss: 1.4401 - val_accuracy: 0.5960\n",
            "Epoch 119/500\n",
            "6/6 [==============================] - 0s 26ms/step - loss: 0.8107 - accuracy: 0.7086 - val_loss: 1.4023 - val_accuracy: 0.5859\n",
            "Epoch 120/500\n",
            "6/6 [==============================] - 0s 34ms/step - loss: 0.8007 - accuracy: 0.7129 - val_loss: 1.3880 - val_accuracy: 0.5960\n",
            "Epoch 121/500\n",
            "6/6 [==============================] - 0s 30ms/step - loss: 0.8169 - accuracy: 0.7129 - val_loss: 1.4601 - val_accuracy: 0.5960\n",
            "Epoch 122/500\n",
            "6/6 [==============================] - 0s 25ms/step - loss: 0.8047 - accuracy: 0.7071 - val_loss: 1.4429 - val_accuracy: 0.5859\n",
            "Epoch 123/500\n",
            "6/6 [==============================] - 0s 30ms/step - loss: 0.7636 - accuracy: 0.7286 - val_loss: 1.4311 - val_accuracy: 0.5909\n",
            "Epoch 124/500\n",
            "6/6 [==============================] - 0s 28ms/step - loss: 0.7872 - accuracy: 0.7286 - val_loss: 1.4351 - val_accuracy: 0.5808\n",
            "Epoch 125/500\n",
            "6/6 [==============================] - 0s 26ms/step - loss: 0.7549 - accuracy: 0.7343 - val_loss: 1.4049 - val_accuracy: 0.5909\n",
            "Epoch 126/500\n",
            "6/6 [==============================] - 0s 38ms/step - loss: 0.8089 - accuracy: 0.7186 - val_loss: 1.4448 - val_accuracy: 0.5808\n",
            "Epoch 127/500\n",
            "6/6 [==============================] - 0s 31ms/step - loss: 0.7702 - accuracy: 0.7200 - val_loss: 1.4369 - val_accuracy: 0.5960\n",
            "Epoch 128/500\n",
            "6/6 [==============================] - 0s 29ms/step - loss: 0.7629 - accuracy: 0.7300 - val_loss: 1.4601 - val_accuracy: 0.6010\n",
            "Epoch 129/500\n",
            "6/6 [==============================] - 0s 28ms/step - loss: 0.7904 - accuracy: 0.7286 - val_loss: 1.4410 - val_accuracy: 0.5859\n",
            "Epoch 130/500\n",
            "6/6 [==============================] - 0s 32ms/step - loss: 0.7245 - accuracy: 0.7300 - val_loss: 1.4390 - val_accuracy: 0.6061\n",
            "Epoch 131/500\n",
            "6/6 [==============================] - 0s 30ms/step - loss: 0.7384 - accuracy: 0.7343 - val_loss: 1.4494 - val_accuracy: 0.5960\n",
            "Epoch 132/500\n",
            "6/6 [==============================] - 0s 30ms/step - loss: 0.7547 - accuracy: 0.7371 - val_loss: 1.4753 - val_accuracy: 0.5909\n",
            "Epoch 133/500\n",
            "6/6 [==============================] - 0s 33ms/step - loss: 0.7325 - accuracy: 0.7329 - val_loss: 1.4881 - val_accuracy: 0.5859\n",
            "Epoch 134/500\n",
            "6/6 [==============================] - 0s 19ms/step - loss: 0.7349 - accuracy: 0.7314 - val_loss: 1.4691 - val_accuracy: 0.5808\n",
            "Epoch 135/500\n",
            "6/6 [==============================] - 0s 18ms/step - loss: 0.6848 - accuracy: 0.7629 - val_loss: 1.4869 - val_accuracy: 0.5758\n",
            "Epoch 136/500\n",
            "6/6 [==============================] - 0s 19ms/step - loss: 0.7474 - accuracy: 0.7129 - val_loss: 1.4524 - val_accuracy: 0.5808\n",
            "Epoch 137/500\n",
            "6/6 [==============================] - 0s 17ms/step - loss: 0.7026 - accuracy: 0.7429 - val_loss: 1.4720 - val_accuracy: 0.5909\n",
            "Epoch 138/500\n",
            "6/6 [==============================] - 0s 19ms/step - loss: 0.7274 - accuracy: 0.7543 - val_loss: 1.4775 - val_accuracy: 0.5859\n",
            "Epoch 139/500\n",
            "6/6 [==============================] - 0s 21ms/step - loss: 0.7366 - accuracy: 0.7357 - val_loss: 1.4253 - val_accuracy: 0.5909\n",
            "Epoch 140/500\n",
            "6/6 [==============================] - 0s 22ms/step - loss: 0.7242 - accuracy: 0.7443 - val_loss: 1.4926 - val_accuracy: 0.6061\n",
            "Epoch 141/500\n",
            "6/6 [==============================] - 0s 21ms/step - loss: 0.6851 - accuracy: 0.7486 - val_loss: 1.4530 - val_accuracy: 0.5960\n",
            "Epoch 142/500\n",
            "6/6 [==============================] - 0s 23ms/step - loss: 0.7009 - accuracy: 0.7357 - val_loss: 1.4812 - val_accuracy: 0.6010\n",
            "Epoch 143/500\n",
            "6/6 [==============================] - 0s 20ms/step - loss: 0.6931 - accuracy: 0.7571 - val_loss: 1.5066 - val_accuracy: 0.6010\n",
            "Epoch 144/500\n",
            "6/6 [==============================] - 0s 19ms/step - loss: 0.6864 - accuracy: 0.7529 - val_loss: 1.4707 - val_accuracy: 0.5758\n",
            "Epoch 145/500\n",
            "6/6 [==============================] - 0s 17ms/step - loss: 0.7012 - accuracy: 0.7371 - val_loss: 1.4946 - val_accuracy: 0.6061\n",
            "Epoch 146/500\n",
            "6/6 [==============================] - 0s 17ms/step - loss: 0.7267 - accuracy: 0.7443 - val_loss: 1.4546 - val_accuracy: 0.5859\n",
            "Epoch 147/500\n",
            "6/6 [==============================] - 0s 20ms/step - loss: 0.6875 - accuracy: 0.7686 - val_loss: 1.5082 - val_accuracy: 0.5960\n",
            "Epoch 148/500\n",
            "6/6 [==============================] - 0s 22ms/step - loss: 0.6880 - accuracy: 0.7500 - val_loss: 1.4844 - val_accuracy: 0.5909\n",
            "Epoch 149/500\n",
            "6/6 [==============================] - 0s 21ms/step - loss: 0.7167 - accuracy: 0.7414 - val_loss: 1.4851 - val_accuracy: 0.6111\n",
            "Epoch 150/500\n",
            "6/6 [==============================] - 0s 17ms/step - loss: 0.6709 - accuracy: 0.7700 - val_loss: 1.4661 - val_accuracy: 0.5960\n",
            "Epoch 151/500\n",
            "6/6 [==============================] - 0s 18ms/step - loss: 0.7059 - accuracy: 0.7486 - val_loss: 1.5216 - val_accuracy: 0.6010\n",
            "Epoch 152/500\n",
            "6/6 [==============================] - 0s 19ms/step - loss: 0.6796 - accuracy: 0.7614 - val_loss: 1.4576 - val_accuracy: 0.6010\n",
            "Epoch 153/500\n",
            "6/6 [==============================] - 0s 17ms/step - loss: 0.6807 - accuracy: 0.7629 - val_loss: 1.4933 - val_accuracy: 0.6061\n",
            "Epoch 154/500\n",
            "6/6 [==============================] - 0s 19ms/step - loss: 0.6461 - accuracy: 0.7757 - val_loss: 1.5024 - val_accuracy: 0.5859\n",
            "Epoch 155/500\n",
            "6/6 [==============================] - 0s 21ms/step - loss: 0.6216 - accuracy: 0.7843 - val_loss: 1.4728 - val_accuracy: 0.6061\n",
            "Epoch 156/500\n",
            "6/6 [==============================] - 0s 23ms/step - loss: 0.6413 - accuracy: 0.7729 - val_loss: 1.4943 - val_accuracy: 0.5909\n",
            "Epoch 157/500\n",
            "6/6 [==============================] - 0s 17ms/step - loss: 0.6404 - accuracy: 0.7600 - val_loss: 1.4923 - val_accuracy: 0.6162\n",
            "Epoch 158/500\n",
            "6/6 [==============================] - 0s 20ms/step - loss: 0.6670 - accuracy: 0.7686 - val_loss: 1.5288 - val_accuracy: 0.6010\n",
            "Epoch 159/500\n",
            "6/6 [==============================] - 0s 23ms/step - loss: 0.6210 - accuracy: 0.7771 - val_loss: 1.5402 - val_accuracy: 0.6061\n",
            "Epoch 160/500\n",
            "6/6 [==============================] - 0s 19ms/step - loss: 0.6460 - accuracy: 0.7829 - val_loss: 1.5622 - val_accuracy: 0.6263\n",
            "Epoch 161/500\n",
            "6/6 [==============================] - 0s 21ms/step - loss: 0.6253 - accuracy: 0.7771 - val_loss: 1.5254 - val_accuracy: 0.6061\n",
            "Epoch 162/500\n",
            "6/6 [==============================] - 0s 18ms/step - loss: 0.6603 - accuracy: 0.7571 - val_loss: 1.4965 - val_accuracy: 0.6364\n",
            "Epoch 163/500\n",
            "6/6 [==============================] - 0s 19ms/step - loss: 0.6188 - accuracy: 0.7957 - val_loss: 1.5564 - val_accuracy: 0.6162\n",
            "Epoch 164/500\n",
            "6/6 [==============================] - 0s 24ms/step - loss: 0.6295 - accuracy: 0.7943 - val_loss: 1.5516 - val_accuracy: 0.6111\n",
            "Epoch 165/500\n",
            "6/6 [==============================] - 0s 23ms/step - loss: 0.5954 - accuracy: 0.7771 - val_loss: 1.5663 - val_accuracy: 0.6162\n",
            "Epoch 166/500\n",
            "6/6 [==============================] - 0s 20ms/step - loss: 0.5964 - accuracy: 0.7971 - val_loss: 1.5767 - val_accuracy: 0.6162\n",
            "Epoch 167/500\n",
            "6/6 [==============================] - 0s 19ms/step - loss: 0.5639 - accuracy: 0.7986 - val_loss: 1.6097 - val_accuracy: 0.6061\n",
            "Epoch 168/500\n",
            "6/6 [==============================] - 0s 22ms/step - loss: 0.5752 - accuracy: 0.8029 - val_loss: 1.5858 - val_accuracy: 0.6162\n",
            "Epoch 169/500\n",
            "6/6 [==============================] - 0s 18ms/step - loss: 0.6096 - accuracy: 0.7914 - val_loss: 1.5925 - val_accuracy: 0.6162\n",
            "Epoch 170/500\n",
            "6/6 [==============================] - 0s 22ms/step - loss: 0.6537 - accuracy: 0.7829 - val_loss: 1.6219 - val_accuracy: 0.6111\n",
            "Epoch 171/500\n",
            "6/6 [==============================] - 0s 17ms/step - loss: 0.6288 - accuracy: 0.7714 - val_loss: 1.6762 - val_accuracy: 0.5909\n",
            "Epoch 172/500\n",
            "6/6 [==============================] - 0s 20ms/step - loss: 0.6057 - accuracy: 0.7886 - val_loss: 1.6436 - val_accuracy: 0.6061\n",
            "Epoch 173/500\n",
            "6/6 [==============================] - 0s 22ms/step - loss: 0.5665 - accuracy: 0.8029 - val_loss: 1.6518 - val_accuracy: 0.6010\n",
            "Epoch 174/500\n",
            "6/6 [==============================] - 0s 19ms/step - loss: 0.5652 - accuracy: 0.8171 - val_loss: 1.6408 - val_accuracy: 0.5808\n",
            "Epoch 175/500\n",
            "6/6 [==============================] - 0s 17ms/step - loss: 0.5903 - accuracy: 0.8186 - val_loss: 1.5957 - val_accuracy: 0.6061\n",
            "Epoch 176/500\n",
            "6/6 [==============================] - 0s 21ms/step - loss: 0.5773 - accuracy: 0.8071 - val_loss: 1.6018 - val_accuracy: 0.6010\n",
            "Epoch 177/500\n",
            "6/6 [==============================] - 0s 20ms/step - loss: 0.5737 - accuracy: 0.7771 - val_loss: 1.6473 - val_accuracy: 0.6061\n",
            "Epoch 178/500\n",
            "6/6 [==============================] - 0s 17ms/step - loss: 0.5597 - accuracy: 0.8014 - val_loss: 1.6908 - val_accuracy: 0.5909\n",
            "Epoch 179/500\n",
            "6/6 [==============================] - 0s 16ms/step - loss: 0.5922 - accuracy: 0.7857 - val_loss: 1.7363 - val_accuracy: 0.6010\n",
            "Epoch 180/500\n",
            "6/6 [==============================] - 0s 20ms/step - loss: 0.6039 - accuracy: 0.7629 - val_loss: 1.6634 - val_accuracy: 0.5909\n",
            "Epoch 181/500\n",
            "6/6 [==============================] - 0s 24ms/step - loss: 0.5819 - accuracy: 0.8014 - val_loss: 1.7146 - val_accuracy: 0.6010\n",
            "Epoch 182/500\n",
            "6/6 [==============================] - 0s 19ms/step - loss: 0.5865 - accuracy: 0.7986 - val_loss: 1.6620 - val_accuracy: 0.5859\n",
            "Epoch 183/500\n",
            "6/6 [==============================] - 0s 22ms/step - loss: 0.5610 - accuracy: 0.7886 - val_loss: 1.6458 - val_accuracy: 0.6111\n",
            "Epoch 184/500\n",
            "6/6 [==============================] - 0s 19ms/step - loss: 0.5630 - accuracy: 0.7929 - val_loss: 1.6470 - val_accuracy: 0.5859\n",
            "Epoch 185/500\n",
            "6/6 [==============================] - 0s 20ms/step - loss: 0.6051 - accuracy: 0.7886 - val_loss: 1.6437 - val_accuracy: 0.6010\n",
            "Epoch 186/500\n",
            "6/6 [==============================] - 0s 19ms/step - loss: 0.5790 - accuracy: 0.7800 - val_loss: 1.6423 - val_accuracy: 0.6010\n",
            "Epoch 187/500\n",
            "6/6 [==============================] - 0s 18ms/step - loss: 0.5736 - accuracy: 0.8071 - val_loss: 1.7170 - val_accuracy: 0.6061\n",
            "Epoch 188/500\n",
            "6/6 [==============================] - 0s 21ms/step - loss: 0.5411 - accuracy: 0.8143 - val_loss: 1.6981 - val_accuracy: 0.6010\n",
            "Epoch 189/500\n",
            "6/6 [==============================] - 0s 23ms/step - loss: 0.5568 - accuracy: 0.8057 - val_loss: 1.6686 - val_accuracy: 0.6010\n",
            "Epoch 190/500\n",
            "6/6 [==============================] - 0s 20ms/step - loss: 0.5245 - accuracy: 0.8257 - val_loss: 1.7591 - val_accuracy: 0.5960\n",
            "Epoch 191/500\n",
            "6/6 [==============================] - 0s 19ms/step - loss: 0.5274 - accuracy: 0.8157 - val_loss: 1.7437 - val_accuracy: 0.6061\n",
            "Epoch 192/500\n",
            "6/6 [==============================] - 0s 19ms/step - loss: 0.5152 - accuracy: 0.8286 - val_loss: 1.8244 - val_accuracy: 0.5960\n",
            "Epoch 193/500\n",
            "6/6 [==============================] - 0s 21ms/step - loss: 0.5539 - accuracy: 0.7971 - val_loss: 1.7528 - val_accuracy: 0.5909\n",
            "Epoch 194/500\n",
            "6/6 [==============================] - 0s 20ms/step - loss: 0.5068 - accuracy: 0.8200 - val_loss: 1.7331 - val_accuracy: 0.6111\n",
            "Epoch 195/500\n",
            "6/6 [==============================] - 0s 19ms/step - loss: 0.5072 - accuracy: 0.8243 - val_loss: 1.7622 - val_accuracy: 0.6111\n",
            "Epoch 196/500\n",
            "6/6 [==============================] - 0s 18ms/step - loss: 0.5368 - accuracy: 0.7986 - val_loss: 1.7689 - val_accuracy: 0.6111\n",
            "Epoch 197/500\n",
            "6/6 [==============================] - 0s 20ms/step - loss: 0.5377 - accuracy: 0.7914 - val_loss: 1.7486 - val_accuracy: 0.6010\n",
            "Epoch 198/500\n",
            "6/6 [==============================] - 0s 25ms/step - loss: 0.5235 - accuracy: 0.8157 - val_loss: 1.7185 - val_accuracy: 0.6010\n",
            "Epoch 199/500\n",
            "6/6 [==============================] - 0s 19ms/step - loss: 0.5345 - accuracy: 0.8271 - val_loss: 1.7421 - val_accuracy: 0.6010\n",
            "Epoch 200/500\n",
            "6/6 [==============================] - 0s 17ms/step - loss: 0.5174 - accuracy: 0.8171 - val_loss: 1.7224 - val_accuracy: 0.5909\n",
            "Epoch 201/500\n",
            "6/6 [==============================] - 0s 18ms/step - loss: 0.5299 - accuracy: 0.8086 - val_loss: 1.7342 - val_accuracy: 0.6162\n",
            "Epoch 202/500\n",
            "6/6 [==============================] - 0s 19ms/step - loss: 0.4938 - accuracy: 0.8143 - val_loss: 1.8141 - val_accuracy: 0.5960\n",
            "Epoch 203/500\n",
            "6/6 [==============================] - 0s 18ms/step - loss: 0.5030 - accuracy: 0.8257 - val_loss: 1.7694 - val_accuracy: 0.6010\n",
            "Epoch 204/500\n",
            "6/6 [==============================] - 0s 19ms/step - loss: 0.4751 - accuracy: 0.8300 - val_loss: 1.8238 - val_accuracy: 0.5960\n",
            "Epoch 205/500\n",
            "6/6 [==============================] - 0s 22ms/step - loss: 0.4871 - accuracy: 0.8357 - val_loss: 1.7977 - val_accuracy: 0.6111\n",
            "Epoch 206/500\n",
            "6/6 [==============================] - 0s 24ms/step - loss: 0.4621 - accuracy: 0.8457 - val_loss: 1.7894 - val_accuracy: 0.6162\n",
            "Epoch 207/500\n",
            "6/6 [==============================] - 0s 20ms/step - loss: 0.4910 - accuracy: 0.8043 - val_loss: 1.7890 - val_accuracy: 0.6111\n",
            "Epoch 208/500\n",
            "6/6 [==============================] - 0s 18ms/step - loss: 0.5095 - accuracy: 0.7929 - val_loss: 1.8121 - val_accuracy: 0.6010\n",
            "Epoch 209/500\n",
            "6/6 [==============================] - 0s 19ms/step - loss: 0.4548 - accuracy: 0.8314 - val_loss: 1.8600 - val_accuracy: 0.6111\n",
            "Epoch 210/500\n",
            "6/6 [==============================] - 0s 21ms/step - loss: 0.4899 - accuracy: 0.8343 - val_loss: 1.8669 - val_accuracy: 0.6111\n",
            "Epoch 211/500\n",
            "6/6 [==============================] - 0s 22ms/step - loss: 0.5087 - accuracy: 0.8243 - val_loss: 1.8579 - val_accuracy: 0.6162\n",
            "Epoch 212/500\n",
            "6/6 [==============================] - 0s 19ms/step - loss: 0.4751 - accuracy: 0.8300 - val_loss: 1.8752 - val_accuracy: 0.6212\n",
            "Epoch 213/500\n",
            "6/6 [==============================] - 0s 18ms/step - loss: 0.4976 - accuracy: 0.8157 - val_loss: 1.8692 - val_accuracy: 0.6212\n",
            "Epoch 214/500\n",
            "6/6 [==============================] - 0s 22ms/step - loss: 0.5022 - accuracy: 0.8286 - val_loss: 1.8834 - val_accuracy: 0.6061\n",
            "Epoch 215/500\n",
            "6/6 [==============================] - 0s 18ms/step - loss: 0.4538 - accuracy: 0.8257 - val_loss: 1.8878 - val_accuracy: 0.5960\n",
            "Epoch 216/500\n",
            "6/6 [==============================] - 0s 17ms/step - loss: 0.4966 - accuracy: 0.8300 - val_loss: 1.8406 - val_accuracy: 0.6010\n",
            "Epoch 217/500\n",
            "6/6 [==============================] - 0s 22ms/step - loss: 0.4495 - accuracy: 0.8429 - val_loss: 1.8501 - val_accuracy: 0.5960\n",
            "Epoch 218/500\n",
            "6/6 [==============================] - 0s 29ms/step - loss: 0.4635 - accuracy: 0.8371 - val_loss: 1.8570 - val_accuracy: 0.5960\n",
            "Epoch 219/500\n",
            "6/6 [==============================] - 0s 30ms/step - loss: 0.4612 - accuracy: 0.8343 - val_loss: 1.8999 - val_accuracy: 0.6162\n",
            "Epoch 220/500\n",
            "6/6 [==============================] - 0s 29ms/step - loss: 0.4981 - accuracy: 0.8157 - val_loss: 1.9205 - val_accuracy: 0.5909\n",
            "Epoch 221/500\n",
            "6/6 [==============================] - 0s 40ms/step - loss: 0.4820 - accuracy: 0.8329 - val_loss: 1.9481 - val_accuracy: 0.5960\n",
            "Epoch 222/500\n",
            "6/6 [==============================] - 0s 29ms/step - loss: 0.4642 - accuracy: 0.8329 - val_loss: 1.9439 - val_accuracy: 0.6010\n",
            "Epoch 223/500\n",
            "6/6 [==============================] - 0s 26ms/step - loss: 0.4657 - accuracy: 0.8129 - val_loss: 1.9284 - val_accuracy: 0.6010\n",
            "Epoch 224/500\n",
            "6/6 [==============================] - 0s 25ms/step - loss: 0.4959 - accuracy: 0.8257 - val_loss: 1.9141 - val_accuracy: 0.6111\n",
            "Epoch 225/500\n",
            "6/6 [==============================] - 0s 26ms/step - loss: 0.4482 - accuracy: 0.8600 - val_loss: 1.8971 - val_accuracy: 0.6061\n",
            "Epoch 226/500\n",
            "6/6 [==============================] - 0s 27ms/step - loss: 0.4426 - accuracy: 0.8500 - val_loss: 1.9218 - val_accuracy: 0.6061\n",
            "Epoch 227/500\n",
            "6/6 [==============================] - 0s 31ms/step - loss: 0.4534 - accuracy: 0.8343 - val_loss: 1.8944 - val_accuracy: 0.6061\n",
            "Epoch 228/500\n",
            "6/6 [==============================] - 0s 31ms/step - loss: 0.4614 - accuracy: 0.8443 - val_loss: 1.9663 - val_accuracy: 0.6010\n",
            "Epoch 229/500\n",
            "6/6 [==============================] - 0s 29ms/step - loss: 0.4338 - accuracy: 0.8357 - val_loss: 1.9326 - val_accuracy: 0.5960\n",
            "Epoch 230/500\n",
            "6/6 [==============================] - 0s 27ms/step - loss: 0.4246 - accuracy: 0.8486 - val_loss: 1.9539 - val_accuracy: 0.6111\n",
            "Epoch 231/500\n",
            "6/6 [==============================] - 0s 32ms/step - loss: 0.4271 - accuracy: 0.8586 - val_loss: 1.9848 - val_accuracy: 0.6010\n",
            "Epoch 232/500\n",
            "6/6 [==============================] - 0s 30ms/step - loss: 0.4481 - accuracy: 0.8429 - val_loss: 1.9664 - val_accuracy: 0.6212\n",
            "Epoch 233/500\n",
            "6/6 [==============================] - 0s 34ms/step - loss: 0.4322 - accuracy: 0.8457 - val_loss: 1.9744 - val_accuracy: 0.6111\n",
            "Epoch 234/500\n",
            "6/6 [==============================] - 0s 33ms/step - loss: 0.4163 - accuracy: 0.8471 - val_loss: 2.0563 - val_accuracy: 0.6162\n",
            "Epoch 235/500\n",
            "6/6 [==============================] - 0s 29ms/step - loss: 0.4559 - accuracy: 0.8357 - val_loss: 2.0190 - val_accuracy: 0.6111\n",
            "Epoch 236/500\n",
            "6/6 [==============================] - 0s 28ms/step - loss: 0.4307 - accuracy: 0.8486 - val_loss: 2.0261 - val_accuracy: 0.6162\n",
            "Epoch 237/500\n",
            "6/6 [==============================] - 0s 20ms/step - loss: 0.4742 - accuracy: 0.8500 - val_loss: 2.0203 - val_accuracy: 0.6061\n",
            "Epoch 238/500\n",
            "6/6 [==============================] - 0s 26ms/step - loss: 0.4536 - accuracy: 0.8443 - val_loss: 2.0551 - val_accuracy: 0.6061\n",
            "Epoch 239/500\n",
            "6/6 [==============================] - 0s 24ms/step - loss: 0.4477 - accuracy: 0.8443 - val_loss: 2.0227 - val_accuracy: 0.6061\n",
            "Epoch 240/500\n",
            "6/6 [==============================] - 0s 21ms/step - loss: 0.4161 - accuracy: 0.8529 - val_loss: 1.9787 - val_accuracy: 0.6111\n",
            "Epoch 241/500\n",
            "6/6 [==============================] - 0s 20ms/step - loss: 0.4043 - accuracy: 0.8686 - val_loss: 2.0251 - val_accuracy: 0.6111\n",
            "Epoch 242/500\n",
            "6/6 [==============================] - 0s 21ms/step - loss: 0.4184 - accuracy: 0.8557 - val_loss: 2.0056 - val_accuracy: 0.6162\n",
            "Epoch 243/500\n",
            "6/6 [==============================] - 0s 18ms/step - loss: 0.4074 - accuracy: 0.8529 - val_loss: 2.0465 - val_accuracy: 0.5909\n",
            "Epoch 244/500\n",
            "6/6 [==============================] - 0s 18ms/step - loss: 0.4027 - accuracy: 0.8543 - val_loss: 1.9770 - val_accuracy: 0.6465\n",
            "Epoch 245/500\n",
            "6/6 [==============================] - 0s 24ms/step - loss: 0.4370 - accuracy: 0.8486 - val_loss: 2.0321 - val_accuracy: 0.6162\n",
            "Epoch 246/500\n",
            "6/6 [==============================] - 0s 21ms/step - loss: 0.4164 - accuracy: 0.8500 - val_loss: 2.0492 - val_accuracy: 0.6212\n",
            "Epoch 247/500\n",
            "6/6 [==============================] - 0s 23ms/step - loss: 0.3931 - accuracy: 0.8686 - val_loss: 2.0462 - val_accuracy: 0.6263\n",
            "Epoch 248/500\n",
            "6/6 [==============================] - 0s 17ms/step - loss: 0.4384 - accuracy: 0.8414 - val_loss: 2.0820 - val_accuracy: 0.6364\n",
            "Epoch 249/500\n",
            "6/6 [==============================] - 0s 22ms/step - loss: 0.4184 - accuracy: 0.8671 - val_loss: 2.0011 - val_accuracy: 0.6061\n",
            "Epoch 250/500\n",
            "6/6 [==============================] - 0s 19ms/step - loss: 0.4333 - accuracy: 0.8486 - val_loss: 2.0584 - val_accuracy: 0.6162\n",
            "Epoch 251/500\n",
            "6/6 [==============================] - 0s 18ms/step - loss: 0.4345 - accuracy: 0.8571 - val_loss: 2.0616 - val_accuracy: 0.6061\n",
            "Epoch 252/500\n",
            "6/6 [==============================] - 0s 18ms/step - loss: 0.3766 - accuracy: 0.8529 - val_loss: 2.0447 - val_accuracy: 0.6061\n",
            "Epoch 253/500\n",
            "6/6 [==============================] - 0s 18ms/step - loss: 0.4232 - accuracy: 0.8529 - val_loss: 2.0133 - val_accuracy: 0.6061\n",
            "Epoch 254/500\n",
            "6/6 [==============================] - 0s 24ms/step - loss: 0.3590 - accuracy: 0.8829 - val_loss: 2.0858 - val_accuracy: 0.5960\n",
            "Epoch 255/500\n",
            "6/6 [==============================] - 0s 25ms/step - loss: 0.3901 - accuracy: 0.8571 - val_loss: 2.0963 - val_accuracy: 0.6162\n",
            "Epoch 256/500\n",
            "6/6 [==============================] - 0s 18ms/step - loss: 0.3767 - accuracy: 0.8686 - val_loss: 2.0854 - val_accuracy: 0.5960\n",
            "Epoch 257/500\n",
            "6/6 [==============================] - 0s 21ms/step - loss: 0.4257 - accuracy: 0.8429 - val_loss: 2.1183 - val_accuracy: 0.6111\n",
            "Epoch 258/500\n",
            "6/6 [==============================] - 0s 19ms/step - loss: 0.3605 - accuracy: 0.8657 - val_loss: 2.1496 - val_accuracy: 0.6061\n",
            "Epoch 259/500\n",
            "6/6 [==============================] - 0s 20ms/step - loss: 0.4061 - accuracy: 0.8557 - val_loss: 2.1837 - val_accuracy: 0.6111\n",
            "Epoch 260/500\n",
            "6/6 [==============================] - 0s 18ms/step - loss: 0.4001 - accuracy: 0.8529 - val_loss: 2.1884 - val_accuracy: 0.6111\n",
            "Epoch 261/500\n",
            "6/6 [==============================] - 0s 22ms/step - loss: 0.3933 - accuracy: 0.8671 - val_loss: 2.1635 - val_accuracy: 0.6111\n",
            "Epoch 262/500\n",
            "6/6 [==============================] - 0s 21ms/step - loss: 0.3641 - accuracy: 0.8800 - val_loss: 2.1981 - val_accuracy: 0.6010\n",
            "Epoch 263/500\n",
            "6/6 [==============================] - 0s 25ms/step - loss: 0.3592 - accuracy: 0.8757 - val_loss: 2.2093 - val_accuracy: 0.6010\n",
            "Epoch 264/500\n",
            "6/6 [==============================] - 0s 19ms/step - loss: 0.3637 - accuracy: 0.8771 - val_loss: 2.1053 - val_accuracy: 0.5960\n",
            "Epoch 265/500\n",
            "6/6 [==============================] - 0s 20ms/step - loss: 0.4167 - accuracy: 0.8400 - val_loss: 2.1460 - val_accuracy: 0.6061\n",
            "Epoch 266/500\n",
            "6/6 [==============================] - 0s 21ms/step - loss: 0.4123 - accuracy: 0.8529 - val_loss: 2.2049 - val_accuracy: 0.6010\n",
            "Epoch 267/500\n",
            "6/6 [==============================] - 0s 21ms/step - loss: 0.3626 - accuracy: 0.8643 - val_loss: 2.1892 - val_accuracy: 0.5960\n",
            "Epoch 268/500\n",
            "6/6 [==============================] - 0s 23ms/step - loss: 0.3641 - accuracy: 0.8629 - val_loss: 2.2223 - val_accuracy: 0.6010\n",
            "Epoch 269/500\n",
            "6/6 [==============================] - 0s 20ms/step - loss: 0.3481 - accuracy: 0.8829 - val_loss: 2.2093 - val_accuracy: 0.6010\n",
            "Epoch 270/500\n",
            "6/6 [==============================] - 0s 21ms/step - loss: 0.3511 - accuracy: 0.8657 - val_loss: 2.2472 - val_accuracy: 0.6061\n",
            "Epoch 271/500\n",
            "6/6 [==============================] - 0s 24ms/step - loss: 0.3614 - accuracy: 0.8857 - val_loss: 2.1784 - val_accuracy: 0.6061\n",
            "Epoch 272/500\n",
            "6/6 [==============================] - 0s 19ms/step - loss: 0.3561 - accuracy: 0.8857 - val_loss: 2.2441 - val_accuracy: 0.6162\n",
            "Epoch 273/500\n",
            "6/6 [==============================] - 0s 21ms/step - loss: 0.3871 - accuracy: 0.8600 - val_loss: 2.2828 - val_accuracy: 0.6111\n",
            "Epoch 274/500\n",
            "6/6 [==============================] - 0s 18ms/step - loss: 0.3369 - accuracy: 0.8614 - val_loss: 2.2878 - val_accuracy: 0.6162\n",
            "Epoch 275/500\n",
            "6/6 [==============================] - 0s 21ms/step - loss: 0.3823 - accuracy: 0.8643 - val_loss: 2.2656 - val_accuracy: 0.6061\n",
            "Epoch 276/500\n",
            "6/6 [==============================] - 0s 20ms/step - loss: 0.3872 - accuracy: 0.8714 - val_loss: 2.2296 - val_accuracy: 0.6263\n",
            "Epoch 277/500\n",
            "6/6 [==============================] - 0s 16ms/step - loss: 0.3656 - accuracy: 0.8686 - val_loss: 2.2360 - val_accuracy: 0.6061\n",
            "Epoch 278/500\n",
            "6/6 [==============================] - 0s 16ms/step - loss: 0.3396 - accuracy: 0.8686 - val_loss: 2.2722 - val_accuracy: 0.6010\n",
            "Epoch 279/500\n",
            "6/6 [==============================] - 0s 22ms/step - loss: 0.3556 - accuracy: 0.8914 - val_loss: 2.2276 - val_accuracy: 0.6111\n",
            "Epoch 280/500\n",
            "6/6 [==============================] - 0s 20ms/step - loss: 0.3589 - accuracy: 0.8757 - val_loss: 2.2545 - val_accuracy: 0.6212\n",
            "Epoch 281/500\n",
            "6/6 [==============================] - 0s 21ms/step - loss: 0.3292 - accuracy: 0.8986 - val_loss: 2.2959 - val_accuracy: 0.6162\n",
            "Epoch 282/500\n",
            "6/6 [==============================] - 0s 21ms/step - loss: 0.3525 - accuracy: 0.8771 - val_loss: 2.2575 - val_accuracy: 0.5859\n",
            "Epoch 283/500\n",
            "6/6 [==============================] - 0s 18ms/step - loss: 0.3602 - accuracy: 0.8714 - val_loss: 2.3344 - val_accuracy: 0.6010\n",
            "Epoch 284/500\n",
            "6/6 [==============================] - 0s 19ms/step - loss: 0.3457 - accuracy: 0.8843 - val_loss: 2.3083 - val_accuracy: 0.5960\n",
            "Epoch 285/500\n",
            "6/6 [==============================] - 0s 21ms/step - loss: 0.3383 - accuracy: 0.8714 - val_loss: 2.3037 - val_accuracy: 0.5909\n",
            "Epoch 286/500\n",
            "6/6 [==============================] - 0s 18ms/step - loss: 0.3607 - accuracy: 0.8743 - val_loss: 2.3215 - val_accuracy: 0.5859\n",
            "Epoch 287/500\n",
            "6/6 [==============================] - 0s 25ms/step - loss: 0.3257 - accuracy: 0.8871 - val_loss: 2.2853 - val_accuracy: 0.6010\n",
            "Epoch 288/500\n",
            "6/6 [==============================] - 0s 21ms/step - loss: 0.3220 - accuracy: 0.9000 - val_loss: 2.3756 - val_accuracy: 0.6010\n",
            "Epoch 289/500\n",
            "6/6 [==============================] - 0s 22ms/step - loss: 0.3348 - accuracy: 0.8729 - val_loss: 2.2988 - val_accuracy: 0.5909\n",
            "Epoch 290/500\n",
            "6/6 [==============================] - 0s 19ms/step - loss: 0.3317 - accuracy: 0.8886 - val_loss: 2.3339 - val_accuracy: 0.6162\n",
            "Epoch 291/500\n",
            "6/6 [==============================] - 0s 21ms/step - loss: 0.3177 - accuracy: 0.8900 - val_loss: 2.3957 - val_accuracy: 0.5909\n",
            "Epoch 292/500\n",
            "6/6 [==============================] - 0s 21ms/step - loss: 0.3541 - accuracy: 0.8857 - val_loss: 2.3812 - val_accuracy: 0.6010\n",
            "Epoch 293/500\n",
            "6/6 [==============================] - 0s 20ms/step - loss: 0.2853 - accuracy: 0.9071 - val_loss: 2.3644 - val_accuracy: 0.6010\n",
            "Epoch 294/500\n",
            "6/6 [==============================] - 0s 18ms/step - loss: 0.3261 - accuracy: 0.8871 - val_loss: 2.3672 - val_accuracy: 0.6111\n",
            "Epoch 295/500\n",
            "6/6 [==============================] - 0s 27ms/step - loss: 0.3436 - accuracy: 0.8729 - val_loss: 2.3928 - val_accuracy: 0.5909\n",
            "Epoch 296/500\n",
            "6/6 [==============================] - 0s 23ms/step - loss: 0.3790 - accuracy: 0.8771 - val_loss: 2.3932 - val_accuracy: 0.6010\n",
            "Epoch 297/500\n",
            "6/6 [==============================] - 0s 21ms/step - loss: 0.3553 - accuracy: 0.8629 - val_loss: 2.3680 - val_accuracy: 0.5909\n",
            "Epoch 298/500\n",
            "6/6 [==============================] - 0s 21ms/step - loss: 0.3289 - accuracy: 0.8943 - val_loss: 2.3269 - val_accuracy: 0.5909\n",
            "Epoch 299/500\n",
            "6/6 [==============================] - 0s 22ms/step - loss: 0.3319 - accuracy: 0.8700 - val_loss: 2.3911 - val_accuracy: 0.6061\n",
            "Epoch 300/500\n",
            "6/6 [==============================] - 0s 21ms/step - loss: 0.3014 - accuracy: 0.8957 - val_loss: 2.3473 - val_accuracy: 0.6010\n",
            "Epoch 301/500\n",
            "6/6 [==============================] - 0s 21ms/step - loss: 0.3453 - accuracy: 0.8857 - val_loss: 2.3625 - val_accuracy: 0.5960\n",
            "Epoch 302/500\n",
            "6/6 [==============================] - 0s 21ms/step - loss: 0.3013 - accuracy: 0.9014 - val_loss: 2.4076 - val_accuracy: 0.6061\n",
            "Epoch 303/500\n",
            "6/6 [==============================] - 0s 27ms/step - loss: 0.2955 - accuracy: 0.8986 - val_loss: 2.4714 - val_accuracy: 0.5960\n",
            "Epoch 304/500\n",
            "6/6 [==============================] - 0s 18ms/step - loss: 0.3289 - accuracy: 0.8714 - val_loss: 2.3958 - val_accuracy: 0.6111\n",
            "Epoch 305/500\n",
            "6/6 [==============================] - 0s 19ms/step - loss: 0.3066 - accuracy: 0.8714 - val_loss: 2.4285 - val_accuracy: 0.6010\n",
            "Epoch 306/500\n",
            "6/6 [==============================] - 0s 21ms/step - loss: 0.2810 - accuracy: 0.8943 - val_loss: 2.5302 - val_accuracy: 0.6010\n",
            "Epoch 307/500\n",
            "6/6 [==============================] - 0s 21ms/step - loss: 0.3067 - accuracy: 0.9029 - val_loss: 2.4780 - val_accuracy: 0.6111\n",
            "Epoch 308/500\n",
            "6/6 [==============================] - 0s 17ms/step - loss: 0.3465 - accuracy: 0.8757 - val_loss: 2.5081 - val_accuracy: 0.6061\n",
            "Epoch 309/500\n",
            "6/6 [==============================] - 0s 17ms/step - loss: 0.2811 - accuracy: 0.9071 - val_loss: 2.4232 - val_accuracy: 0.6061\n",
            "Epoch 310/500\n",
            "6/6 [==============================] - 0s 18ms/step - loss: 0.2968 - accuracy: 0.9071 - val_loss: 2.4189 - val_accuracy: 0.6061\n",
            "Epoch 311/500\n",
            "6/6 [==============================] - 0s 23ms/step - loss: 0.3041 - accuracy: 0.9029 - val_loss: 2.5474 - val_accuracy: 0.6212\n",
            "Epoch 312/500\n",
            "6/6 [==============================] - 0s 22ms/step - loss: 0.3042 - accuracy: 0.8957 - val_loss: 2.5360 - val_accuracy: 0.6010\n",
            "Epoch 313/500\n",
            "6/6 [==============================] - 0s 22ms/step - loss: 0.2586 - accuracy: 0.9143 - val_loss: 2.5277 - val_accuracy: 0.6010\n",
            "Epoch 314/500\n",
            "6/6 [==============================] - 0s 18ms/step - loss: 0.2926 - accuracy: 0.8843 - val_loss: 2.5196 - val_accuracy: 0.6061\n",
            "Epoch 315/500\n",
            "6/6 [==============================] - 0s 19ms/step - loss: 0.2760 - accuracy: 0.9014 - val_loss: 2.6414 - val_accuracy: 0.6061\n",
            "Epoch 316/500\n",
            "6/6 [==============================] - 0s 18ms/step - loss: 0.3065 - accuracy: 0.8929 - val_loss: 2.5248 - val_accuracy: 0.6010\n",
            "Epoch 317/500\n",
            "6/6 [==============================] - 0s 28ms/step - loss: 0.3104 - accuracy: 0.8843 - val_loss: 2.5271 - val_accuracy: 0.6162\n",
            "Epoch 318/500\n",
            "6/6 [==============================] - 0s 30ms/step - loss: 0.3591 - accuracy: 0.8786 - val_loss: 2.5318 - val_accuracy: 0.6061\n",
            "Epoch 319/500\n",
            "6/6 [==============================] - 0s 34ms/step - loss: 0.2999 - accuracy: 0.8871 - val_loss: 2.4949 - val_accuracy: 0.6111\n",
            "Epoch 320/500\n",
            "6/6 [==============================] - 0s 29ms/step - loss: 0.2690 - accuracy: 0.9014 - val_loss: 2.4817 - val_accuracy: 0.6111\n",
            "Epoch 321/500\n",
            "6/6 [==============================] - 0s 29ms/step - loss: 0.2963 - accuracy: 0.9043 - val_loss: 2.4847 - val_accuracy: 0.6263\n",
            "Epoch 322/500\n",
            "6/6 [==============================] - 0s 31ms/step - loss: 0.3207 - accuracy: 0.8900 - val_loss: 2.5229 - val_accuracy: 0.6162\n",
            "Epoch 323/500\n",
            "6/6 [==============================] - 0s 26ms/step - loss: 0.3136 - accuracy: 0.8800 - val_loss: 2.4996 - val_accuracy: 0.6111\n",
            "Epoch 324/500\n",
            "6/6 [==============================] - 0s 36ms/step - loss: 0.2917 - accuracy: 0.8957 - val_loss: 2.5946 - val_accuracy: 0.6061\n",
            "Epoch 325/500\n",
            "6/6 [==============================] - 0s 29ms/step - loss: 0.2348 - accuracy: 0.9143 - val_loss: 2.5308 - val_accuracy: 0.6010\n",
            "Epoch 326/500\n",
            "6/6 [==============================] - 0s 31ms/step - loss: 0.3132 - accuracy: 0.8900 - val_loss: 2.4918 - val_accuracy: 0.6263\n",
            "Epoch 327/500\n",
            "6/6 [==============================] - 0s 28ms/step - loss: 0.2529 - accuracy: 0.9057 - val_loss: 2.5639 - val_accuracy: 0.6010\n",
            "Epoch 328/500\n",
            "6/6 [==============================] - 0s 30ms/step - loss: 0.2685 - accuracy: 0.8986 - val_loss: 2.5497 - val_accuracy: 0.6162\n",
            "Epoch 329/500\n",
            "6/6 [==============================] - 0s 34ms/step - loss: 0.2727 - accuracy: 0.9043 - val_loss: 2.6277 - val_accuracy: 0.5960\n",
            "Epoch 330/500\n",
            "6/6 [==============================] - 0s 31ms/step - loss: 0.2492 - accuracy: 0.9086 - val_loss: 2.6195 - val_accuracy: 0.6162\n",
            "Epoch 331/500\n",
            "6/6 [==============================] - 0s 31ms/step - loss: 0.2442 - accuracy: 0.9186 - val_loss: 2.6043 - val_accuracy: 0.5909\n",
            "Epoch 332/500\n",
            "6/6 [==============================] - 0s 28ms/step - loss: 0.2642 - accuracy: 0.9171 - val_loss: 2.6546 - val_accuracy: 0.5960\n",
            "Epoch 333/500\n",
            "6/6 [==============================] - 0s 28ms/step - loss: 0.2474 - accuracy: 0.9086 - val_loss: 2.6331 - val_accuracy: 0.5909\n",
            "Epoch 334/500\n",
            "6/6 [==============================] - 0s 27ms/step - loss: 0.2836 - accuracy: 0.8943 - val_loss: 2.5481 - val_accuracy: 0.6162\n",
            "Epoch 335/500\n",
            "6/6 [==============================] - 0s 38ms/step - loss: 0.2749 - accuracy: 0.8986 - val_loss: 2.5762 - val_accuracy: 0.6061\n",
            "Epoch 336/500\n",
            "6/6 [==============================] - 0s 30ms/step - loss: 0.2965 - accuracy: 0.8900 - val_loss: 2.6162 - val_accuracy: 0.5960\n",
            "Epoch 337/500\n",
            "6/6 [==============================] - 0s 30ms/step - loss: 0.2786 - accuracy: 0.9057 - val_loss: 2.6080 - val_accuracy: 0.6061\n",
            "Epoch 338/500\n",
            "6/6 [==============================] - 0s 32ms/step - loss: 0.2864 - accuracy: 0.8971 - val_loss: 2.6096 - val_accuracy: 0.5909\n",
            "Epoch 339/500\n",
            "6/6 [==============================] - 0s 18ms/step - loss: 0.2558 - accuracy: 0.9057 - val_loss: 2.6346 - val_accuracy: 0.6212\n",
            "Epoch 340/500\n",
            "6/6 [==============================] - 0s 21ms/step - loss: 0.2456 - accuracy: 0.9043 - val_loss: 2.6474 - val_accuracy: 0.6111\n",
            "Epoch 341/500\n",
            "6/6 [==============================] - 0s 26ms/step - loss: 0.2698 - accuracy: 0.9114 - val_loss: 2.6738 - val_accuracy: 0.6061\n",
            "Epoch 342/500\n",
            "6/6 [==============================] - 0s 19ms/step - loss: 0.2274 - accuracy: 0.9100 - val_loss: 2.6956 - val_accuracy: 0.6111\n",
            "Epoch 343/500\n",
            "6/6 [==============================] - 0s 18ms/step - loss: 0.2701 - accuracy: 0.9043 - val_loss: 2.6467 - val_accuracy: 0.6061\n",
            "Epoch 344/500\n",
            "6/6 [==============================] - 0s 20ms/step - loss: 0.2473 - accuracy: 0.9143 - val_loss: 2.6460 - val_accuracy: 0.6212\n",
            "Epoch 345/500\n",
            "6/6 [==============================] - 0s 20ms/step - loss: 0.2805 - accuracy: 0.9000 - val_loss: 2.6120 - val_accuracy: 0.5909\n",
            "Epoch 346/500\n",
            "6/6 [==============================] - 0s 19ms/step - loss: 0.2834 - accuracy: 0.9014 - val_loss: 2.6887 - val_accuracy: 0.6010\n",
            "Epoch 347/500\n",
            "6/6 [==============================] - 0s 19ms/step - loss: 0.2673 - accuracy: 0.9129 - val_loss: 2.6769 - val_accuracy: 0.6061\n",
            "Epoch 348/500\n",
            "6/6 [==============================] - 0s 19ms/step - loss: 0.2750 - accuracy: 0.9129 - val_loss: 2.6596 - val_accuracy: 0.6111\n",
            "Epoch 349/500\n",
            "6/6 [==============================] - 0s 22ms/step - loss: 0.2592 - accuracy: 0.9043 - val_loss: 2.6728 - val_accuracy: 0.6162\n",
            "Epoch 350/500\n",
            "6/6 [==============================] - 0s 21ms/step - loss: 0.2418 - accuracy: 0.9300 - val_loss: 2.7772 - val_accuracy: 0.6162\n",
            "Epoch 351/500\n",
            "6/6 [==============================] - 0s 19ms/step - loss: 0.2305 - accuracy: 0.9171 - val_loss: 2.8586 - val_accuracy: 0.6061\n",
            "Epoch 352/500\n",
            "6/6 [==============================] - 0s 23ms/step - loss: 0.2472 - accuracy: 0.9029 - val_loss: 2.8209 - val_accuracy: 0.6010\n",
            "Epoch 353/500\n",
            "6/6 [==============================] - 0s 21ms/step - loss: 0.2586 - accuracy: 0.9100 - val_loss: 2.7922 - val_accuracy: 0.6111\n",
            "Epoch 354/500\n",
            "6/6 [==============================] - 0s 17ms/step - loss: 0.3004 - accuracy: 0.8914 - val_loss: 2.7588 - val_accuracy: 0.6162\n",
            "Epoch 355/500\n",
            "6/6 [==============================] - 0s 19ms/step - loss: 0.2668 - accuracy: 0.9114 - val_loss: 2.7142 - val_accuracy: 0.6212\n",
            "Epoch 356/500\n",
            "6/6 [==============================] - 0s 17ms/step - loss: 0.2590 - accuracy: 0.9114 - val_loss: 2.7427 - val_accuracy: 0.5960\n",
            "Epoch 357/500\n",
            "6/6 [==============================] - 0s 22ms/step - loss: 0.2689 - accuracy: 0.9014 - val_loss: 2.7584 - val_accuracy: 0.6061\n",
            "Epoch 358/500\n",
            "6/6 [==============================] - 0s 27ms/step - loss: 0.2251 - accuracy: 0.9300 - val_loss: 2.8334 - val_accuracy: 0.6010\n",
            "Epoch 359/500\n",
            "6/6 [==============================] - 0s 19ms/step - loss: 0.2347 - accuracy: 0.9257 - val_loss: 2.8088 - val_accuracy: 0.5909\n",
            "Epoch 360/500\n",
            "6/6 [==============================] - 0s 19ms/step - loss: 0.2760 - accuracy: 0.8957 - val_loss: 2.7636 - val_accuracy: 0.6111\n",
            "Epoch 361/500\n",
            "6/6 [==============================] - 0s 22ms/step - loss: 0.2487 - accuracy: 0.9214 - val_loss: 2.8205 - val_accuracy: 0.6111\n",
            "Epoch 362/500\n",
            "6/6 [==============================] - 0s 18ms/step - loss: 0.2475 - accuracy: 0.9143 - val_loss: 2.7853 - val_accuracy: 0.6061\n",
            "Epoch 363/500\n",
            "6/6 [==============================] - 0s 20ms/step - loss: 0.2433 - accuracy: 0.9100 - val_loss: 2.8517 - val_accuracy: 0.6111\n",
            "Epoch 364/500\n",
            "6/6 [==============================] - 0s 19ms/step - loss: 0.2152 - accuracy: 0.9286 - val_loss: 2.8412 - val_accuracy: 0.6162\n",
            "Epoch 365/500\n",
            "6/6 [==============================] - 0s 21ms/step - loss: 0.2570 - accuracy: 0.9129 - val_loss: 2.8662 - val_accuracy: 0.6212\n",
            "Epoch 366/500\n",
            "6/6 [==============================] - 0s 23ms/step - loss: 0.2528 - accuracy: 0.9143 - val_loss: 2.8351 - val_accuracy: 0.6061\n",
            "Epoch 367/500\n",
            "6/6 [==============================] - 0s 22ms/step - loss: 0.2541 - accuracy: 0.9129 - val_loss: 2.9118 - val_accuracy: 0.5859\n",
            "Epoch 368/500\n",
            "6/6 [==============================] - 0s 18ms/step - loss: 0.2715 - accuracy: 0.9100 - val_loss: 2.9017 - val_accuracy: 0.6061\n",
            "Epoch 369/500\n",
            "6/6 [==============================] - 0s 19ms/step - loss: 0.2423 - accuracy: 0.9143 - val_loss: 2.8076 - val_accuracy: 0.6061\n",
            "Epoch 370/500\n",
            "6/6 [==============================] - 0s 22ms/step - loss: 0.2951 - accuracy: 0.8986 - val_loss: 2.8313 - val_accuracy: 0.6061\n",
            "Epoch 371/500\n",
            "6/6 [==============================] - 0s 18ms/step - loss: 0.2614 - accuracy: 0.9057 - val_loss: 2.7085 - val_accuracy: 0.6212\n",
            "Epoch 372/500\n",
            "6/6 [==============================] - 0s 21ms/step - loss: 0.2769 - accuracy: 0.9114 - val_loss: 2.7825 - val_accuracy: 0.6162\n",
            "Epoch 373/500\n",
            "6/6 [==============================] - 0s 20ms/step - loss: 0.2245 - accuracy: 0.9229 - val_loss: 2.8151 - val_accuracy: 0.6111\n",
            "Epoch 374/500\n",
            "6/6 [==============================] - 0s 22ms/step - loss: 0.2354 - accuracy: 0.9114 - val_loss: 2.8347 - val_accuracy: 0.6111\n",
            "Epoch 375/500\n",
            "6/6 [==============================] - 0s 21ms/step - loss: 0.2537 - accuracy: 0.9129 - val_loss: 2.8150 - val_accuracy: 0.6162\n",
            "Epoch 376/500\n",
            "6/6 [==============================] - 0s 21ms/step - loss: 0.2851 - accuracy: 0.9057 - val_loss: 2.9029 - val_accuracy: 0.6061\n",
            "Epoch 377/500\n",
            "6/6 [==============================] - 0s 19ms/step - loss: 0.2464 - accuracy: 0.9100 - val_loss: 2.7707 - val_accuracy: 0.6212\n",
            "Epoch 378/500\n",
            "6/6 [==============================] - 0s 21ms/step - loss: 0.2412 - accuracy: 0.9129 - val_loss: 2.7867 - val_accuracy: 0.6263\n",
            "Epoch 379/500\n",
            "6/6 [==============================] - 0s 21ms/step - loss: 0.2620 - accuracy: 0.9000 - val_loss: 2.7777 - val_accuracy: 0.6212\n",
            "Epoch 380/500\n",
            "6/6 [==============================] - 0s 19ms/step - loss: 0.2550 - accuracy: 0.9143 - val_loss: 2.8176 - val_accuracy: 0.6111\n",
            "Epoch 381/500\n",
            "6/6 [==============================] - 0s 24ms/step - loss: 0.2550 - accuracy: 0.9100 - val_loss: 2.8553 - val_accuracy: 0.6111\n",
            "Epoch 382/500\n",
            "6/6 [==============================] - 0s 20ms/step - loss: 0.2075 - accuracy: 0.9271 - val_loss: 2.8169 - val_accuracy: 0.6061\n",
            "Epoch 383/500\n",
            "6/6 [==============================] - 0s 21ms/step - loss: 0.2484 - accuracy: 0.9157 - val_loss: 2.7546 - val_accuracy: 0.6162\n",
            "Epoch 384/500\n",
            "6/6 [==============================] - 0s 21ms/step - loss: 0.2299 - accuracy: 0.9314 - val_loss: 2.8288 - val_accuracy: 0.6212\n",
            "Epoch 385/500\n",
            "6/6 [==============================] - 0s 22ms/step - loss: 0.2196 - accuracy: 0.9343 - val_loss: 2.8671 - val_accuracy: 0.5960\n",
            "Epoch 386/500\n",
            "6/6 [==============================] - 0s 21ms/step - loss: 0.2654 - accuracy: 0.9057 - val_loss: 2.8166 - val_accuracy: 0.6061\n",
            "Epoch 387/500\n",
            "6/6 [==============================] - 0s 20ms/step - loss: 0.2153 - accuracy: 0.9329 - val_loss: 2.8897 - val_accuracy: 0.6061\n",
            "Epoch 388/500\n",
            "6/6 [==============================] - 0s 21ms/step - loss: 0.2447 - accuracy: 0.9200 - val_loss: 2.8777 - val_accuracy: 0.6162\n",
            "Epoch 389/500\n",
            "6/6 [==============================] - 0s 25ms/step - loss: 0.2323 - accuracy: 0.9171 - val_loss: 2.8427 - val_accuracy: 0.5960\n",
            "Epoch 390/500\n",
            "6/6 [==============================] - 0s 22ms/step - loss: 0.2097 - accuracy: 0.9329 - val_loss: 2.9306 - val_accuracy: 0.5909\n",
            "Epoch 391/500\n",
            "6/6 [==============================] - 0s 18ms/step - loss: 0.2214 - accuracy: 0.9214 - val_loss: 2.9818 - val_accuracy: 0.6061\n",
            "Epoch 392/500\n",
            "6/6 [==============================] - 0s 21ms/step - loss: 0.2420 - accuracy: 0.9129 - val_loss: 2.9606 - val_accuracy: 0.5808\n",
            "Epoch 393/500\n",
            "6/6 [==============================] - 0s 21ms/step - loss: 0.2522 - accuracy: 0.9143 - val_loss: 2.9650 - val_accuracy: 0.5909\n",
            "Epoch 394/500\n",
            "6/6 [==============================] - 0s 22ms/step - loss: 0.2432 - accuracy: 0.9243 - val_loss: 3.0073 - val_accuracy: 0.5859\n",
            "Epoch 395/500\n",
            "6/6 [==============================] - 0s 19ms/step - loss: 0.2467 - accuracy: 0.9000 - val_loss: 3.0169 - val_accuracy: 0.6061\n",
            "Epoch 396/500\n",
            "6/6 [==============================] - 0s 21ms/step - loss: 0.2395 - accuracy: 0.9129 - val_loss: 2.9923 - val_accuracy: 0.6010\n",
            "Epoch 397/500\n",
            "6/6 [==============================] - 0s 24ms/step - loss: 0.2140 - accuracy: 0.9257 - val_loss: 3.0042 - val_accuracy: 0.6010\n",
            "Epoch 398/500\n",
            "6/6 [==============================] - 0s 20ms/step - loss: 0.2475 - accuracy: 0.9029 - val_loss: 3.0486 - val_accuracy: 0.6010\n",
            "Epoch 399/500\n",
            "6/6 [==============================] - 0s 19ms/step - loss: 0.1694 - accuracy: 0.9314 - val_loss: 2.9618 - val_accuracy: 0.6061\n",
            "Epoch 400/500\n",
            "6/6 [==============================] - 0s 21ms/step - loss: 0.1924 - accuracy: 0.9371 - val_loss: 2.9193 - val_accuracy: 0.6162\n",
            "Epoch 401/500\n",
            "6/6 [==============================] - 0s 19ms/step - loss: 0.2167 - accuracy: 0.9214 - val_loss: 3.0352 - val_accuracy: 0.6010\n",
            "Epoch 402/500\n",
            "6/6 [==============================] - 0s 23ms/step - loss: 0.1989 - accuracy: 0.9143 - val_loss: 3.1030 - val_accuracy: 0.6010\n",
            "Epoch 403/500\n",
            "6/6 [==============================] - 0s 21ms/step - loss: 0.2087 - accuracy: 0.9200 - val_loss: 3.1548 - val_accuracy: 0.5960\n",
            "Epoch 404/500\n",
            "6/6 [==============================] - 0s 21ms/step - loss: 0.2167 - accuracy: 0.9157 - val_loss: 3.0288 - val_accuracy: 0.6061\n",
            "Epoch 405/500\n",
            "6/6 [==============================] - 0s 22ms/step - loss: 0.1788 - accuracy: 0.9443 - val_loss: 3.1212 - val_accuracy: 0.5808\n",
            "Epoch 406/500\n",
            "6/6 [==============================] - 0s 19ms/step - loss: 0.2013 - accuracy: 0.9171 - val_loss: 3.2549 - val_accuracy: 0.5909\n",
            "Epoch 407/500\n",
            "6/6 [==============================] - 0s 20ms/step - loss: 0.2381 - accuracy: 0.9243 - val_loss: 3.1289 - val_accuracy: 0.6061\n",
            "Epoch 408/500\n",
            "6/6 [==============================] - 0s 20ms/step - loss: 0.1944 - accuracy: 0.9343 - val_loss: 3.2045 - val_accuracy: 0.6061\n",
            "Epoch 409/500\n",
            "6/6 [==============================] - 0s 21ms/step - loss: 0.2007 - accuracy: 0.9329 - val_loss: 3.2176 - val_accuracy: 0.6263\n",
            "Epoch 410/500\n",
            "6/6 [==============================] - 0s 21ms/step - loss: 0.2190 - accuracy: 0.9257 - val_loss: 3.1153 - val_accuracy: 0.6111\n",
            "Epoch 411/500\n",
            "6/6 [==============================] - 0s 19ms/step - loss: 0.1903 - accuracy: 0.9329 - val_loss: 3.0972 - val_accuracy: 0.6061\n",
            "Epoch 412/500\n",
            "6/6 [==============================] - 0s 20ms/step - loss: 0.1677 - accuracy: 0.9486 - val_loss: 3.1923 - val_accuracy: 0.6111\n",
            "Epoch 413/500\n",
            "6/6 [==============================] - 0s 24ms/step - loss: 0.1930 - accuracy: 0.9186 - val_loss: 3.1891 - val_accuracy: 0.6212\n",
            "Epoch 414/500\n",
            "6/6 [==============================] - 0s 22ms/step - loss: 0.2435 - accuracy: 0.9286 - val_loss: 3.1207 - val_accuracy: 0.6111\n",
            "Epoch 415/500\n",
            "6/6 [==============================] - 0s 19ms/step - loss: 0.1758 - accuracy: 0.9414 - val_loss: 3.1496 - val_accuracy: 0.6162\n",
            "Epoch 416/500\n",
            "6/6 [==============================] - 0s 22ms/step - loss: 0.2073 - accuracy: 0.9271 - val_loss: 3.1658 - val_accuracy: 0.6111\n",
            "Epoch 417/500\n",
            "6/6 [==============================] - 0s 19ms/step - loss: 0.2106 - accuracy: 0.9214 - val_loss: 3.2376 - val_accuracy: 0.6010\n",
            "Epoch 418/500\n",
            "6/6 [==============================] - 0s 30ms/step - loss: 0.2125 - accuracy: 0.9329 - val_loss: 3.1449 - val_accuracy: 0.6162\n",
            "Epoch 419/500\n",
            "6/6 [==============================] - 0s 30ms/step - loss: 0.1823 - accuracy: 0.9457 - val_loss: 3.1524 - val_accuracy: 0.6212\n",
            "Epoch 420/500\n",
            "6/6 [==============================] - 0s 29ms/step - loss: 0.1978 - accuracy: 0.9343 - val_loss: 3.1437 - val_accuracy: 0.6263\n",
            "Epoch 421/500\n",
            "6/6 [==============================] - 0s 29ms/step - loss: 0.2284 - accuracy: 0.9286 - val_loss: 3.1037 - val_accuracy: 0.6313\n",
            "Epoch 422/500\n",
            "6/6 [==============================] - 0s 31ms/step - loss: 0.2166 - accuracy: 0.9314 - val_loss: 3.1419 - val_accuracy: 0.6212\n",
            "Epoch 423/500\n",
            "6/6 [==============================] - 0s 30ms/step - loss: 0.1937 - accuracy: 0.9386 - val_loss: 3.1500 - val_accuracy: 0.6162\n",
            "Epoch 424/500\n",
            "6/6 [==============================] - 0s 29ms/step - loss: 0.1789 - accuracy: 0.9357 - val_loss: 3.2392 - val_accuracy: 0.6061\n",
            "Epoch 425/500\n",
            "6/6 [==============================] - 0s 32ms/step - loss: 0.2110 - accuracy: 0.9371 - val_loss: 3.1332 - val_accuracy: 0.6010\n",
            "Epoch 426/500\n",
            "6/6 [==============================] - 0s 33ms/step - loss: 0.1701 - accuracy: 0.9443 - val_loss: 3.1487 - val_accuracy: 0.6212\n",
            "Epoch 427/500\n",
            "6/6 [==============================] - 0s 30ms/step - loss: 0.2027 - accuracy: 0.9300 - val_loss: 3.2341 - val_accuracy: 0.6061\n",
            "Epoch 428/500\n",
            "6/6 [==============================] - 0s 31ms/step - loss: 0.2234 - accuracy: 0.9300 - val_loss: 3.3423 - val_accuracy: 0.5960\n",
            "Epoch 429/500\n",
            "6/6 [==============================] - 0s 27ms/step - loss: 0.2058 - accuracy: 0.9343 - val_loss: 3.3123 - val_accuracy: 0.5960\n",
            "Epoch 430/500\n",
            "6/6 [==============================] - 0s 31ms/step - loss: 0.2071 - accuracy: 0.9243 - val_loss: 3.1639 - val_accuracy: 0.5960\n",
            "Epoch 431/500\n",
            "6/6 [==============================] - 0s 28ms/step - loss: 0.1452 - accuracy: 0.9557 - val_loss: 3.1850 - val_accuracy: 0.6010\n",
            "Epoch 432/500\n",
            "6/6 [==============================] - 0s 30ms/step - loss: 0.2021 - accuracy: 0.9300 - val_loss: 3.1418 - val_accuracy: 0.5909\n",
            "Epoch 433/500\n",
            "6/6 [==============================] - 0s 31ms/step - loss: 0.2372 - accuracy: 0.9157 - val_loss: 3.0383 - val_accuracy: 0.6111\n",
            "Epoch 434/500\n",
            "6/6 [==============================] - 0s 32ms/step - loss: 0.1571 - accuracy: 0.9486 - val_loss: 3.1473 - val_accuracy: 0.6111\n",
            "Epoch 435/500\n",
            "6/6 [==============================] - 0s 30ms/step - loss: 0.1975 - accuracy: 0.9257 - val_loss: 3.2182 - val_accuracy: 0.6111\n",
            "Epoch 436/500\n",
            "6/6 [==============================] - 0s 32ms/step - loss: 0.1765 - accuracy: 0.9357 - val_loss: 3.2036 - val_accuracy: 0.6162\n",
            "Epoch 437/500\n",
            "6/6 [==============================] - 0s 28ms/step - loss: 0.1461 - accuracy: 0.9514 - val_loss: 3.2110 - val_accuracy: 0.6010\n",
            "Epoch 438/500\n",
            "6/6 [==============================] - 0s 29ms/step - loss: 0.1584 - accuracy: 0.9429 - val_loss: 3.2848 - val_accuracy: 0.6111\n",
            "Epoch 439/500\n",
            "6/6 [==============================] - 0s 29ms/step - loss: 0.1696 - accuracy: 0.9357 - val_loss: 3.2891 - val_accuracy: 0.6111\n",
            "Epoch 440/500\n",
            "6/6 [==============================] - 0s 18ms/step - loss: 0.2306 - accuracy: 0.9257 - val_loss: 3.2679 - val_accuracy: 0.6263\n",
            "Epoch 441/500\n",
            "6/6 [==============================] - 0s 18ms/step - loss: 0.1608 - accuracy: 0.9443 - val_loss: 3.3161 - val_accuracy: 0.6162\n",
            "Epoch 442/500\n",
            "6/6 [==============================] - 0s 18ms/step - loss: 0.1538 - accuracy: 0.9414 - val_loss: 3.2712 - val_accuracy: 0.6263\n",
            "Epoch 443/500\n",
            "6/6 [==============================] - 0s 30ms/step - loss: 0.2238 - accuracy: 0.9314 - val_loss: 3.2038 - val_accuracy: 0.6111\n",
            "Epoch 444/500\n",
            "6/6 [==============================] - 0s 22ms/step - loss: 0.1936 - accuracy: 0.9386 - val_loss: 3.2708 - val_accuracy: 0.6061\n",
            "Epoch 445/500\n",
            "6/6 [==============================] - 0s 22ms/step - loss: 0.1930 - accuracy: 0.9357 - val_loss: 3.3105 - val_accuracy: 0.6010\n",
            "Epoch 446/500\n",
            "6/6 [==============================] - 0s 22ms/step - loss: 0.1777 - accuracy: 0.9486 - val_loss: 3.3281 - val_accuracy: 0.6162\n",
            "Epoch 447/500\n",
            "6/6 [==============================] - 0s 19ms/step - loss: 0.1990 - accuracy: 0.9343 - val_loss: 3.3535 - val_accuracy: 0.5909\n",
            "Epoch 448/500\n",
            "6/6 [==============================] - 0s 18ms/step - loss: 0.1637 - accuracy: 0.9371 - val_loss: 3.3460 - val_accuracy: 0.6010\n",
            "Epoch 449/500\n",
            "6/6 [==============================] - 0s 18ms/step - loss: 0.2267 - accuracy: 0.9257 - val_loss: 3.3346 - val_accuracy: 0.6061\n",
            "Epoch 450/500\n",
            "6/6 [==============================] - 0s 23ms/step - loss: 0.1948 - accuracy: 0.9271 - val_loss: 3.2788 - val_accuracy: 0.6162\n",
            "Epoch 451/500\n",
            "6/6 [==============================] - 0s 28ms/step - loss: 0.1795 - accuracy: 0.9357 - val_loss: 3.2099 - val_accuracy: 0.6364\n",
            "Epoch 452/500\n",
            "6/6 [==============================] - 0s 23ms/step - loss: 0.1928 - accuracy: 0.9371 - val_loss: 3.2647 - val_accuracy: 0.6313\n",
            "Epoch 453/500\n",
            "6/6 [==============================] - 0s 22ms/step - loss: 0.1730 - accuracy: 0.9300 - val_loss: 3.2685 - val_accuracy: 0.6263\n",
            "Epoch 454/500\n",
            "6/6 [==============================] - 0s 18ms/step - loss: 0.1640 - accuracy: 0.9429 - val_loss: 3.3160 - val_accuracy: 0.6263\n",
            "Epoch 455/500\n",
            "6/6 [==============================] - 0s 20ms/step - loss: 0.1558 - accuracy: 0.9500 - val_loss: 3.3452 - val_accuracy: 0.6111\n",
            "Epoch 456/500\n",
            "6/6 [==============================] - 0s 23ms/step - loss: 0.1783 - accuracy: 0.9400 - val_loss: 3.3152 - val_accuracy: 0.6061\n",
            "Epoch 457/500\n",
            "6/6 [==============================] - 0s 18ms/step - loss: 0.1616 - accuracy: 0.9414 - val_loss: 3.2656 - val_accuracy: 0.6212\n",
            "Epoch 458/500\n",
            "6/6 [==============================] - 0s 35ms/step - loss: 0.1758 - accuracy: 0.9386 - val_loss: 3.2432 - val_accuracy: 0.6212\n",
            "Epoch 459/500\n",
            "6/6 [==============================] - 0s 22ms/step - loss: 0.1978 - accuracy: 0.9357 - val_loss: 3.3037 - val_accuracy: 0.6162\n",
            "Epoch 460/500\n",
            "6/6 [==============================] - 0s 19ms/step - loss: 0.1886 - accuracy: 0.9371 - val_loss: 3.2915 - val_accuracy: 0.6263\n",
            "Epoch 461/500\n",
            "6/6 [==============================] - 0s 21ms/step - loss: 0.2006 - accuracy: 0.9343 - val_loss: 3.3308 - val_accuracy: 0.6162\n",
            "Epoch 462/500\n",
            "6/6 [==============================] - 0s 18ms/step - loss: 0.1637 - accuracy: 0.9443 - val_loss: 3.2852 - val_accuracy: 0.6263\n",
            "Epoch 463/500\n",
            "6/6 [==============================] - 0s 19ms/step - loss: 0.2017 - accuracy: 0.9400 - val_loss: 3.3718 - val_accuracy: 0.6111\n",
            "Epoch 464/500\n",
            "6/6 [==============================] - 0s 21ms/step - loss: 0.1603 - accuracy: 0.9457 - val_loss: 3.3867 - val_accuracy: 0.6111\n",
            "Epoch 465/500\n",
            "6/6 [==============================] - 0s 16ms/step - loss: 0.1396 - accuracy: 0.9529 - val_loss: 3.4792 - val_accuracy: 0.6162\n",
            "Epoch 466/500\n",
            "6/6 [==============================] - 0s 27ms/step - loss: 0.1799 - accuracy: 0.9429 - val_loss: 3.4338 - val_accuracy: 0.5960\n",
            "Epoch 467/500\n",
            "6/6 [==============================] - 0s 21ms/step - loss: 0.1766 - accuracy: 0.9371 - val_loss: 3.4118 - val_accuracy: 0.6162\n",
            "Epoch 468/500\n",
            "6/6 [==============================] - 0s 21ms/step - loss: 0.1474 - accuracy: 0.9500 - val_loss: 3.4080 - val_accuracy: 0.6010\n",
            "Epoch 469/500\n",
            "6/6 [==============================] - 0s 20ms/step - loss: 0.1754 - accuracy: 0.9400 - val_loss: 3.4009 - val_accuracy: 0.6111\n",
            "Epoch 470/500\n",
            "6/6 [==============================] - 0s 19ms/step - loss: 0.1812 - accuracy: 0.9457 - val_loss: 3.4360 - val_accuracy: 0.6111\n",
            "Epoch 471/500\n",
            "6/6 [==============================] - 0s 19ms/step - loss: 0.2290 - accuracy: 0.9286 - val_loss: 3.4143 - val_accuracy: 0.6010\n",
            "Epoch 472/500\n",
            "6/6 [==============================] - 0s 22ms/step - loss: 0.1498 - accuracy: 0.9586 - val_loss: 3.4418 - val_accuracy: 0.6061\n",
            "Epoch 473/500\n",
            "6/6 [==============================] - 0s 20ms/step - loss: 0.1588 - accuracy: 0.9443 - val_loss: 3.3686 - val_accuracy: 0.5960\n",
            "Epoch 474/500\n",
            "6/6 [==============================] - 0s 27ms/step - loss: 0.1662 - accuracy: 0.9443 - val_loss: 3.3431 - val_accuracy: 0.6010\n",
            "Epoch 475/500\n",
            "6/6 [==============================] - 0s 22ms/step - loss: 0.1591 - accuracy: 0.9414 - val_loss: 3.3975 - val_accuracy: 0.6111\n",
            "Epoch 476/500\n",
            "6/6 [==============================] - 0s 21ms/step - loss: 0.1818 - accuracy: 0.9429 - val_loss: 3.3606 - val_accuracy: 0.6061\n",
            "Epoch 477/500\n",
            "6/6 [==============================] - 0s 21ms/step - loss: 0.1633 - accuracy: 0.9371 - val_loss: 3.4060 - val_accuracy: 0.6061\n",
            "Epoch 478/500\n",
            "6/6 [==============================] - 0s 21ms/step - loss: 0.1675 - accuracy: 0.9386 - val_loss: 3.4025 - val_accuracy: 0.6111\n",
            "Epoch 479/500\n",
            "6/6 [==============================] - 0s 19ms/step - loss: 0.1605 - accuracy: 0.9371 - val_loss: 3.3916 - val_accuracy: 0.6061\n",
            "Epoch 480/500\n",
            "6/6 [==============================] - 0s 22ms/step - loss: 0.1715 - accuracy: 0.9414 - val_loss: 3.4129 - val_accuracy: 0.6010\n",
            "Epoch 481/500\n",
            "6/6 [==============================] - 0s 22ms/step - loss: 0.2020 - accuracy: 0.9300 - val_loss: 3.3545 - val_accuracy: 0.6111\n",
            "Epoch 482/500\n",
            "6/6 [==============================] - 0s 24ms/step - loss: 0.2261 - accuracy: 0.9243 - val_loss: 3.4169 - val_accuracy: 0.6010\n",
            "Epoch 483/500\n",
            "6/6 [==============================] - 0s 24ms/step - loss: 0.1587 - accuracy: 0.9443 - val_loss: 3.4654 - val_accuracy: 0.6010\n",
            "Epoch 484/500\n",
            "6/6 [==============================] - 0s 20ms/step - loss: 0.2259 - accuracy: 0.9357 - val_loss: 3.3336 - val_accuracy: 0.6010\n",
            "Epoch 485/500\n",
            "6/6 [==============================] - 0s 19ms/step - loss: 0.1984 - accuracy: 0.9271 - val_loss: 3.3325 - val_accuracy: 0.6010\n",
            "Epoch 486/500\n",
            "6/6 [==============================] - 0s 19ms/step - loss: 0.1302 - accuracy: 0.9514 - val_loss: 3.3433 - val_accuracy: 0.6010\n",
            "Epoch 487/500\n",
            "6/6 [==============================] - 0s 22ms/step - loss: 0.1570 - accuracy: 0.9529 - val_loss: 3.3732 - val_accuracy: 0.6111\n",
            "Epoch 488/500\n",
            "6/6 [==============================] - 0s 23ms/step - loss: 0.1354 - accuracy: 0.9543 - val_loss: 3.4307 - val_accuracy: 0.6061\n",
            "Epoch 489/500\n",
            "6/6 [==============================] - 0s 25ms/step - loss: 0.1514 - accuracy: 0.9514 - val_loss: 3.4732 - val_accuracy: 0.5960\n",
            "Epoch 490/500\n",
            "6/6 [==============================] - 0s 22ms/step - loss: 0.2058 - accuracy: 0.9400 - val_loss: 3.4864 - val_accuracy: 0.6010\n",
            "Epoch 491/500\n",
            "6/6 [==============================] - 0s 23ms/step - loss: 0.1756 - accuracy: 0.9457 - val_loss: 3.4974 - val_accuracy: 0.5960\n",
            "Epoch 492/500\n",
            "6/6 [==============================] - 0s 22ms/step - loss: 0.1700 - accuracy: 0.9329 - val_loss: 3.5081 - val_accuracy: 0.5960\n",
            "Epoch 493/500\n",
            "6/6 [==============================] - 0s 23ms/step - loss: 0.1505 - accuracy: 0.9457 - val_loss: 3.5012 - val_accuracy: 0.6111\n",
            "Epoch 494/500\n",
            "6/6 [==============================] - 0s 19ms/step - loss: 0.1410 - accuracy: 0.9571 - val_loss: 3.5137 - val_accuracy: 0.6111\n",
            "Epoch 495/500\n",
            "6/6 [==============================] - 0s 19ms/step - loss: 0.1802 - accuracy: 0.9343 - val_loss: 3.5674 - val_accuracy: 0.6010\n",
            "Epoch 496/500\n",
            "6/6 [==============================] - 0s 22ms/step - loss: 0.1882 - accuracy: 0.9343 - val_loss: 3.5920 - val_accuracy: 0.6010\n",
            "Epoch 497/500\n",
            "6/6 [==============================] - 0s 22ms/step - loss: 0.1479 - accuracy: 0.9514 - val_loss: 3.5525 - val_accuracy: 0.5909\n",
            "Epoch 498/500\n",
            "6/6 [==============================] - 0s 20ms/step - loss: 0.1320 - accuracy: 0.9471 - val_loss: 3.6046 - val_accuracy: 0.6111\n",
            "Epoch 499/500\n",
            "6/6 [==============================] - 0s 22ms/step - loss: 0.1543 - accuracy: 0.9500 - val_loss: 3.6433 - val_accuracy: 0.6162\n",
            "Epoch 500/500\n",
            "6/6 [==============================] - 0s 19ms/step - loss: 0.1414 - accuracy: 0.9471 - val_loss: 3.5976 - val_accuracy: 0.6010\n"
          ]
        }
      ]
    },
    {
      "cell_type": "code",
      "source": [
        "test_loss, test_acc  = model_lstm.evaluate(X_test, y_test, batch_size=128)\n",
        "print(\"The test Loss is :\",test_loss)\n",
        "print(\"\\nThe Best test Accuracy is :\",test_acc*100)"
      ],
      "metadata": {
        "colab": {
          "base_uri": "https://localhost:8080/"
        },
        "id": "Ff1ckF-DnIT8",
        "outputId": "ca4906d6-b0b8-4fa5-8b54-39b946c8d6de"
      },
      "execution_count": null,
      "outputs": [
        {
          "output_type": "stream",
          "name": "stdout",
          "text": [
            "1/1 [==============================] - 0s 38ms/step - loss: 4.8950 - accuracy: 0.5294\n",
            "The test Loss is : 4.895003318786621\n",
            "\n",
            "The Best test Accuracy is : 52.941179275512695\n"
          ]
        }
      ]
    },
    {
      "cell_type": "code",
      "source": [
        "predictions = model_lstm.predict(X_test)\n",
        "np.argmax(predictions[0])"
      ],
      "metadata": {
        "colab": {
          "base_uri": "https://localhost:8080/"
        },
        "id": "hxO1dE4nnKcY",
        "outputId": "7f97884d-3637-4a7f-b519-5f1d62158313"
      },
      "execution_count": null,
      "outputs": [
        {
          "output_type": "stream",
          "name": "stdout",
          "text": [
            "4/4 [==============================] - 1s 4ms/step\n"
          ]
        },
        {
          "output_type": "execute_result",
          "data": {
            "text/plain": [
              "4"
            ]
          },
          "metadata": {},
          "execution_count": 64
        }
      ]
    },
    {
      "cell_type": "code",
      "source": [
        "def fit_feature(songname):\n",
        "    y, sr = librosa.load(songname, mono=True, duration=30)\n",
        "    chroma_stft = librosa.feature.chroma_stft(y=y, sr=sr)\n",
        "    rmse = librosa.feature.rms(y=y)\n",
        "    spec_cent = librosa.feature.spectral_centroid(y=y, sr=sr)\n",
        "    spec_bw = librosa.feature.spectral_bandwidth(y=y, sr=sr)\n",
        "    rolloff = librosa.feature.spectral_rolloff(y=y, sr=sr)\n",
        "    zcr = librosa.feature.zero_crossing_rate(y)\n",
        "    mfcc = librosa.feature.mfcc(y=y, sr=sr)\n",
        "    feature = np.array([np.mean(chroma_stft), np.mean(rmse), np.mean(spec_cent), np.mean(spec_bw), np.mean(rolloff), np.mean(zcr)])\n",
        "    for e in mfcc:\n",
        "        feature = np.append(feature, [np.mean(e)])\n",
        "    return feature"
      ],
      "metadata": {
        "id": "wro8Q1XbnPlJ"
      },
      "execution_count": null,
      "outputs": []
    },
    {
      "cell_type": "code",
      "source": [
        "new_song_feature = fit_feature('/content/better-day-186374.mp3')\n",
        "new_song_feature = scaler.transform([new_song_feature])\n",
        "new_song_feature = np.expand_dims(new_song_feature, axis=1)\n",
        "prediction = model_lstm.predict(new_song_feature)\n",
        "predicted_genre = encoder.inverse_transform([np.argmax(prediction)])\n",
        "print(\"Predicted Genre:\", predicted_genre[0])"
      ],
      "metadata": {
        "colab": {
          "base_uri": "https://localhost:8080/"
        },
        "id": "nX9rtJv4nSFe",
        "outputId": "d14e222c-6534-461e-cce2-fd353799e31d"
      },
      "execution_count": null,
      "outputs": [
        {
          "output_type": "stream",
          "name": "stdout",
          "text": [
            "1/1 [==============================] - 0s 31ms/step\n",
            "Predicted Genre: blues\n"
          ]
        },
        {
          "output_type": "stream",
          "name": "stderr",
          "text": [
            "/usr/local/lib/python3.10/dist-packages/sklearn/base.py:439: UserWarning: X does not have valid feature names, but StandardScaler was fitted with feature names\n",
            "  warnings.warn(\n"
          ]
        }
      ]
    },
    {
      "cell_type": "markdown",
      "source": [
        "#SVM-RF"
      ],
      "metadata": {
        "id": "9BNfd9NvzR6E"
      }
    },
    {
      "cell_type": "code",
      "source": [
        "import librosa\n",
        "import pandas as pd\n",
        "import numpy as np\n",
        "import joblib\n",
        "import os\n",
        "import csv\n",
        "from sklearn.preprocessing import LabelEncoder, StandardScaler\n",
        "from sklearn.model_selection import train_test_split\n",
        "from sklearn import svm\n",
        "from sklearn.ensemble import RandomForestClassifier\n",
        "from sklearn.linear_model import LogisticRegression\n",
        "from sklearn.ensemble import StackingClassifier\n",
        "from sklearn.metrics import classification_report, accuracy_score\n"
      ],
      "metadata": {
        "id": "fToscTmCzc9J"
      },
      "execution_count": null,
      "outputs": []
    },
    {
      "cell_type": "code",
      "source": [
        "general_path = '/content'\n",
        "print(list(os.listdir(f'{general_path}/genres')))"
      ],
      "metadata": {
        "id": "PjzOUHLOzh3o",
        "colab": {
          "base_uri": "https://localhost:8080/"
        },
        "outputId": "cc7fc506-bcf1-4143-97a7-bf1b730dced2"
      },
      "execution_count": null,
      "outputs": [
        {
          "output_type": "stream",
          "name": "stdout",
          "text": [
            "['blues', 'country', 'hiphop', 'jazz', 'disco', 'pop', 'classical', 'reggae', 'rock', 'metal', '.ipynb_checkpoints']\n"
          ]
        }
      ]
    },
    {
      "cell_type": "code",
      "source": [
        "genres = 'blues classical country disco hiphop jazz metal pop reggae rock'\n",
        "genres = genres.split()\n",
        "\n",
        "for g in genres:\n",
        "  path_audio = os.path.join('/content',f'{g}')\n",
        "  os.makedirs(path_audio)"
      ],
      "metadata": {
        "id": "I_u6del_zi4M"
      },
      "execution_count": null,
      "outputs": []
    },
    {
      "cell_type": "code",
      "source": [
        "header = 'filename chroma_stft rmse spectral_centroid spectral_bandwidth rolloff zero_crossing_rate'\n",
        "for i in range(1, 21):\n",
        "    header += f' mfcc{i}'\n",
        "header += ' label'\n",
        "header = header.split()"
      ],
      "metadata": {
        "id": "EagvlAOkz1GX"
      },
      "execution_count": null,
      "outputs": []
    },
    {
      "cell_type": "code",
      "source": [
        "file = open('data-3s.csv', 'w', newline='')\n",
        "with file:\n",
        "    writer = csv.writer(file)\n",
        "    writer.writerow(header)\n",
        "\n",
        "for g in genres:\n",
        "    for filename in os.listdir(f'/content/genres/{g}'):\n",
        "        songname = f'/content/genres/{g}/{filename}'\n",
        "        y, sr = librosa.load(songname, mono=True, duration=3)\n",
        "        chroma_stft = librosa.feature.chroma_stft(y=y, sr=sr)\n",
        "        rmse = librosa.feature.rms(y=y)\n",
        "        spec_cent = librosa.feature.spectral_centroid(y=y, sr=sr)\n",
        "        spec_bw = librosa.feature.spectral_bandwidth(y=y, sr=sr)\n",
        "        rolloff = librosa.feature.spectral_rolloff(y=y, sr=sr)\n",
        "        zcr = librosa.feature.zero_crossing_rate(y)\n",
        "        mfcc = librosa.feature.mfcc(y=y, sr=sr)\n",
        "        to_append = f'{filename} {np.mean(chroma_stft)} {np.mean(rmse)} {np.mean(spec_cent)} {np.mean(spec_bw)} {np.mean(rolloff)} {np.mean(zcr)}'\n",
        "        for e in mfcc:\n",
        "            to_append += f' {np.mean(e)}'\n",
        "        to_append += f' {g}'\n",
        "        file = open('data-3s.csv', 'a', newline='')\n",
        "        with file:\n",
        "            writer = csv.writer(file)\n",
        "            writer.writerow(to_append.split())"
      ],
      "metadata": {
        "id": "_wYEiOUgz8Oy"
      },
      "execution_count": null,
      "outputs": []
    },
    {
      "cell_type": "code",
      "source": [
        "data_3s = pd.read_csv('data-3s.csv')\n",
        "print(data_3s.head())\n",
        "print(data_3s.shape)"
      ],
      "metadata": {
        "id": "b3VWs6-Tz7vL",
        "colab": {
          "base_uri": "https://localhost:8080/"
        },
        "outputId": "69369da9-bb7c-4112-c44d-9c20aed1320b"
      },
      "execution_count": null,
      "outputs": [
        {
          "output_type": "stream",
          "name": "stdout",
          "text": [
            "         filename  chroma_stft      rmse  spectral_centroid  \\\n",
            "0  blues.00030.au     0.252451  0.129469         796.877132   \n",
            "1  blues.00043.au     0.398613  0.127050        2146.989442   \n",
            "2  blues.00089.au     0.330216  0.057961         677.501002   \n",
            "3  blues.00093.au     0.399003  0.056844         640.531249   \n",
            "4  blues.00011.au     0.395926  0.053601        1387.962171   \n",
            "\n",
            "   spectral_bandwidth      rolloff  zero_crossing_rate       mfcc1  \\\n",
            "0         1363.858304  1241.720440            0.027813 -261.393524   \n",
            "1         2346.179667  4924.229455            0.087361 -106.287834   \n",
            "2         1136.151689  1216.211877            0.022919 -345.310028   \n",
            "3         1022.053919  1190.123573            0.022397 -350.515137   \n",
            "4         1815.101760  3007.525916            0.044899 -321.723846   \n",
            "\n",
            "        mfcc2      mfcc3  ...    mfcc12     mfcc13     mfcc14     mfcc15  \\\n",
            "0  142.396729  11.462423  ... -6.913297 -12.653015 -12.238706 -21.957417   \n",
            "1  102.910103  -9.609563  ...  6.560434  -9.160453   5.283280 -15.422059   \n",
            "2  164.461838  27.915159  ... -6.900138   0.515772  -0.058611  -2.355061   \n",
            "3  167.412292  19.829763  ...  1.817667 -11.212885  -7.739208   0.326726   \n",
            "4  123.837578   4.081958  ...  0.056975  -5.541474  -4.698399  -2.931809   \n",
            "\n",
            "      mfcc16     mfcc17     mfcc18     mfcc19    mfcc20  label  \n",
            "0 -23.932734 -19.818665 -17.741760 -15.289710 -6.545130  blues  \n",
            "1   1.948020  -7.752453   2.932549  -4.131612  4.118633  blues  \n",
            "2   3.843762  -1.428511  -8.551285  -4.983430  0.694750  blues  \n",
            "3  -3.299458  -7.078539   0.315696   7.074780  2.348529  blues  \n",
            "4  -3.163541  -0.938552  -0.314044  -0.404410 -4.586336  blues  \n",
            "\n",
            "[5 rows x 28 columns]\n",
            "(1000, 28)\n"
          ]
        }
      ]
    },
    {
      "cell_type": "code",
      "source": [
        "seed = 12\n",
        "np.random.seed(seed)\n",
        "data_shuffle = data_3s.sample(frac=1, random_state=seed).reset_index(drop=True)"
      ],
      "metadata": {
        "id": "qoIucMFW0F2x"
      },
      "execution_count": null,
      "outputs": []
    },
    {
      "cell_type": "code",
      "source": [
        "data_shuffle = data_shuffle.drop(['filename'], axis=1)\n",
        "print(data_shuffle.head())"
      ],
      "metadata": {
        "id": "8jGR8SR40JEZ",
        "colab": {
          "base_uri": "https://localhost:8080/"
        },
        "outputId": "518ccb85-b1ba-4671-a106-abe59363cf50"
      },
      "execution_count": null,
      "outputs": [
        {
          "output_type": "stream",
          "name": "stdout",
          "text": [
            "   chroma_stft      rmse  spectral_centroid  spectral_bandwidth      rolloff  \\\n",
            "0     0.277971  0.160153        2562.661518         2478.888737  5153.226788   \n",
            "1     0.456815  0.153437        2209.864606         2729.672694  5100.636080   \n",
            "2     0.413502  0.086312        4700.819906         3427.468067  8845.508564   \n",
            "3     0.304375  0.098867        1853.964030         1944.683935  3848.480319   \n",
            "4     0.340747  0.065988        1958.418703         2156.088175  4275.003380   \n",
            "\n",
            "   zero_crossing_rate       mfcc1       mfcc2      mfcc3      mfcc4  ...  \\\n",
            "0            0.117075  -72.641045   71.300972 -10.395139  32.301598  ...   \n",
            "1            0.072269 -116.014336   91.779205  20.279716  30.649773  ...   \n",
            "2            0.285780 -129.735794   27.791946  27.142660  17.484444  ...   \n",
            "3            0.082027 -171.452637  117.102180 -22.616510  32.930000  ...   \n",
            "4            0.089915 -165.906097  122.589996 -19.829643  27.253536  ...   \n",
            "\n",
            "     mfcc12     mfcc13    mfcc14     mfcc15    mfcc16    mfcc17    mfcc18  \\\n",
            "0 -5.360601   0.587005 -1.091796  -3.968911 -3.115830 -3.847098 -8.314495   \n",
            "1  3.068403   3.895581 -3.464054  -1.356920 -3.436801  0.334010  0.382794   \n",
            "2  4.415516   3.005890  1.366594   3.341358 -0.520112 -0.865708 -4.304250   \n",
            "3  6.973285 -14.062000 -2.081246  -7.108051  1.039783 -9.991002 -6.143396   \n",
            "4  9.628653 -13.366539  3.917477 -11.933526  6.290723 -9.567486  5.385183   \n",
            "\n",
            "     mfcc19    mfcc20    label  \n",
            "0 -7.058742 -4.225834     jazz  \n",
            "1  0.828289 -3.065637   reggae  \n",
            "2 -5.473748 -2.624539      pop  \n",
            "3 -7.452405 -3.815064  country  \n",
            "4 -4.416350 -1.210881    disco  \n",
            "\n",
            "[5 rows x 27 columns]\n"
          ]
        }
      ]
    },
    {
      "cell_type": "code",
      "source": [
        "X = data_shuffle.iloc[:, :-1]"
      ],
      "metadata": {
        "id": "9kXm0Gx-A966"
      },
      "execution_count": null,
      "outputs": []
    },
    {
      "cell_type": "code",
      "source": [
        "genre_list = data_shuffle.iloc[:, -1]\n",
        "encoder = LabelEncoder()\n",
        "y = encoder.fit_transform(genre_list)\n",
        "print(y)"
      ],
      "metadata": {
        "id": "BiGEuxKVA9Lf",
        "colab": {
          "base_uri": "https://localhost:8080/"
        },
        "outputId": "4d16bc5b-abc9-46cb-c3da-b11e90ddfe9e"
      },
      "execution_count": null,
      "outputs": [
        {
          "output_type": "stream",
          "name": "stdout",
          "text": [
            "[5 8 7 2 3 8 7 8 9 3 5 3 5 5 0 8 1 9 8 1 9 3 1 3 3 1 3 4 4 7 3 9 6 3 6 7 0\n",
            " 2 6 1 5 9 1 4 7 5 2 0 0 9 1 8 9 5 2 1 6 3 3 3 5 5 4 6 8 4 5 4 5 3 6 1 6 8\n",
            " 6 0 8 0 5 3 7 7 4 8 3 2 7 1 5 7 9 9 2 5 2 4 8 5 0 1 9 7 7 4 6 8 4 9 8 5 8\n",
            " 6 5 8 5 2 7 1 2 3 7 0 3 3 9 4 4 3 8 2 2 9 0 9 1 9 4 6 5 0 4 2 9 0 3 1 5 5\n",
            " 7 9 9 4 4 1 6 3 6 4 4 1 8 2 4 6 7 3 7 0 8 2 3 0 1 9 8 0 3 1 6 4 4 6 3 1 1\n",
            " 9 8 6 3 8 6 3 7 7 7 9 7 9 0 1 0 9 2 7 7 5 6 4 8 0 4 2 3 2 9 3 7 0 3 9 5 0\n",
            " 1 4 5 7 1 2 9 2 0 3 8 0 4 5 7 5 4 0 6 1 0 4 6 1 7 6 3 0 9 1 3 2 5 7 9 2 9\n",
            " 2 2 2 1 5 0 5 9 4 2 5 0 4 9 7 9 9 2 8 4 0 0 0 8 0 2 1 7 5 8 2 7 6 8 2 4 6\n",
            " 2 2 3 6 8 2 4 9 4 4 1 8 6 5 7 1 0 8 2 9 6 3 5 4 0 7 7 3 5 0 4 5 3 1 1 7 9\n",
            " 3 5 4 7 2 5 7 0 7 5 9 9 7 9 4 7 3 0 8 2 6 3 0 1 8 3 9 5 9 0 8 1 8 1 9 0 2\n",
            " 0 9 4 0 9 7 2 0 8 5 4 5 5 3 2 6 2 8 2 8 3 9 8 5 7 4 6 1 5 6 2 7 7 0 8 3 6\n",
            " 4 3 8 6 7 0 2 0 3 3 6 8 1 3 9 2 5 6 1 0 6 2 4 7 9 4 7 0 9 9 3 9 0 3 6 6 6\n",
            " 4 8 1 9 2 8 2 9 1 6 0 8 4 3 5 1 9 7 8 7 4 4 1 5 6 2 1 9 3 3 6 7 8 5 1 0 1\n",
            " 4 7 3 9 8 0 9 5 0 0 0 7 2 5 8 5 1 5 4 6 6 1 8 6 5 6 5 2 5 2 6 2 1 0 7 6 2\n",
            " 1 7 7 1 0 3 5 2 3 6 0 0 3 1 2 4 3 7 2 4 0 1 0 3 9 5 9 8 4 0 4 9 0 7 3 1 0\n",
            " 7 9 2 9 9 2 6 8 1 4 7 9 2 5 9 1 9 0 8 5 7 3 7 4 6 7 0 1 6 2 1 7 1 4 2 2 6\n",
            " 8 2 2 1 7 4 8 3 5 0 0 9 2 4 3 2 1 9 0 1 4 3 0 3 2 8 3 4 4 5 0 0 3 3 3 0 3\n",
            " 6 7 7 8 7 6 4 9 6 7 0 3 3 8 2 1 8 1 9 8 1 9 7 3 8 4 4 9 3 6 5 0 6 1 4 5 1\n",
            " 7 3 6 0 4 6 5 8 7 8 3 5 6 7 5 3 4 8 6 8 5 9 7 0 0 6 8 5 1 7 2 5 4 3 2 2 0\n",
            " 5 2 4 8 5 3 5 3 8 9 2 4 4 8 6 3 9 0 5 2 4 0 5 8 3 2 8 8 7 8 3 8 4 6 8 9 5\n",
            " 7 8 5 9 5 1 4 0 4 5 7 6 7 5 3 7 7 5 6 2 2 1 4 5 7 5 6 6 8 1 6 7 9 6 5 7 2\n",
            " 1 2 1 9 7 0 2 2 6 8 2 6 3 8 0 7 4 5 2 7 2 3 0 6 5 9 5 4 4 8 7 5 1 8 3 4 8\n",
            " 0 9 1 9 1 6 0 0 7 1 6 1 2 8 3 7 1 0 1 8 7 7 9 7 2 8 7 8 6 5 3 8 9 9 3 6 8\n",
            " 7 0 6 5 4 0 6 3 1 7 8 2 9 8 0 5 1 1 5 8 4 8 6 4 6 7 6 1 0 2 8 1 6 1 2 5 8\n",
            " 9 4 0 6 5 5 6 9 4 6 7 9 1 8 5 1 1 1 4 5 4 2 9 7 1 1 8 3 0 5 0 4 1 9 9 8 1\n",
            " 6 9 0 1 6 3 9 6 8 3 2 2 9 3 4 5 4 7 8 2 7 0 3 9 6 5 1 6 7 4 6 5 6 6 1 2 9\n",
            " 4 1 3 4 1 6 4 4 1 9 2 0 0 2 2 1 3 3 0 6 4 4 4 6 9 9 0 2 4 8 9 2 6 2 2 3 6\n",
            " 8]\n"
          ]
        }
      ]
    },
    {
      "cell_type": "code",
      "source": [
        "X_train, df_test_valid_X, y_train, df_test_valid_y = train_test_split(X, y, train_size=0.7, random_state=seed, stratify=y)\n",
        "X_dev, X_test, y_dev, y_test = train_test_split(df_test_valid_X, df_test_valid_y, train_size=0.66, random_state=seed, stratify=df_test_valid_y)"
      ],
      "metadata": {
        "id": "5dqHXfSIBBBv"
      },
      "execution_count": null,
      "outputs": []
    },
    {
      "cell_type": "code",
      "source": [
        "print(f\"Train set has {X_train.shape[0]} records out of {len(data_shuffle)} which is {round(X_train.shape[0]/len(data_shuffle)*100)}%\")\n",
        "print(f\"Dev set has {X_dev.shape[0]} records out of {len(data_shuffle)} which is {round(X_dev.shape[0]/len(data_shuffle)*100)}%\")\n",
        "print(f\"Test set has {X_test.shape[0]} records out of {len(data_shuffle)} which is {round(X_test.shape[0]/len(data_shuffle)*100)}%\")"
      ],
      "metadata": {
        "id": "9obRj63gBGzY",
        "colab": {
          "base_uri": "https://localhost:8080/"
        },
        "outputId": "a576e316-5e1b-4e49-ee72-04231bed1998"
      },
      "execution_count": null,
      "outputs": [
        {
          "output_type": "stream",
          "name": "stdout",
          "text": [
            "Train set has 700 records out of 1000 which is 70%\n",
            "Dev set has 198 records out of 1000 which is 20%\n",
            "Test set has 102 records out of 1000 which is 10%\n"
          ]
        }
      ]
    },
    {
      "cell_type": "code",
      "source": [
        "scaler = StandardScaler()"
      ],
      "metadata": {
        "id": "3iEzyx8vBJIE"
      },
      "execution_count": null,
      "outputs": []
    },
    {
      "cell_type": "code",
      "source": [
        "X_train = pd.DataFrame(scaler.fit_transform(X_train), columns=X_train.columns)\n",
        "X_dev = pd.DataFrame(scaler.transform(X_dev), columns=X_dev.columns)\n",
        "X_test = pd.DataFrame(scaler.transform(X_test), columns=X_test.columns)"
      ],
      "metadata": {
        "id": "9ky7uv6YBK0J"
      },
      "execution_count": null,
      "outputs": []
    },
    {
      "cell_type": "code",
      "source": [
        "svm_model = svm.SVC(kernel='linear', probability=True)\n",
        "svm_model.fit(X_train, y_train)"
      ],
      "metadata": {
        "id": "FnElndyDBMXl",
        "colab": {
          "base_uri": "https://localhost:8080/",
          "height": 74
        },
        "outputId": "fe44e435-83b4-4022-cfe5-bbc9037bb447"
      },
      "execution_count": null,
      "outputs": [
        {
          "output_type": "execute_result",
          "data": {
            "text/plain": [
              "SVC(kernel='linear', probability=True)"
            ],
            "text/html": [
              "<style>#sk-container-id-4 {color: black;background-color: white;}#sk-container-id-4 pre{padding: 0;}#sk-container-id-4 div.sk-toggleable {background-color: white;}#sk-container-id-4 label.sk-toggleable__label {cursor: pointer;display: block;width: 100%;margin-bottom: 0;padding: 0.3em;box-sizing: border-box;text-align: center;}#sk-container-id-4 label.sk-toggleable__label-arrow:before {content: \"▸\";float: left;margin-right: 0.25em;color: #696969;}#sk-container-id-4 label.sk-toggleable__label-arrow:hover:before {color: black;}#sk-container-id-4 div.sk-estimator:hover label.sk-toggleable__label-arrow:before {color: black;}#sk-container-id-4 div.sk-toggleable__content {max-height: 0;max-width: 0;overflow: hidden;text-align: left;background-color: #f0f8ff;}#sk-container-id-4 div.sk-toggleable__content pre {margin: 0.2em;color: black;border-radius: 0.25em;background-color: #f0f8ff;}#sk-container-id-4 input.sk-toggleable__control:checked~div.sk-toggleable__content {max-height: 200px;max-width: 100%;overflow: auto;}#sk-container-id-4 input.sk-toggleable__control:checked~label.sk-toggleable__label-arrow:before {content: \"▾\";}#sk-container-id-4 div.sk-estimator input.sk-toggleable__control:checked~label.sk-toggleable__label {background-color: #d4ebff;}#sk-container-id-4 div.sk-label input.sk-toggleable__control:checked~label.sk-toggleable__label {background-color: #d4ebff;}#sk-container-id-4 input.sk-hidden--visually {border: 0;clip: rect(1px 1px 1px 1px);clip: rect(1px, 1px, 1px, 1px);height: 1px;margin: -1px;overflow: hidden;padding: 0;position: absolute;width: 1px;}#sk-container-id-4 div.sk-estimator {font-family: monospace;background-color: #f0f8ff;border: 1px dotted black;border-radius: 0.25em;box-sizing: border-box;margin-bottom: 0.5em;}#sk-container-id-4 div.sk-estimator:hover {background-color: #d4ebff;}#sk-container-id-4 div.sk-parallel-item::after {content: \"\";width: 100%;border-bottom: 1px solid gray;flex-grow: 1;}#sk-container-id-4 div.sk-label:hover label.sk-toggleable__label {background-color: #d4ebff;}#sk-container-id-4 div.sk-serial::before {content: \"\";position: absolute;border-left: 1px solid gray;box-sizing: border-box;top: 0;bottom: 0;left: 50%;z-index: 0;}#sk-container-id-4 div.sk-serial {display: flex;flex-direction: column;align-items: center;background-color: white;padding-right: 0.2em;padding-left: 0.2em;position: relative;}#sk-container-id-4 div.sk-item {position: relative;z-index: 1;}#sk-container-id-4 div.sk-parallel {display: flex;align-items: stretch;justify-content: center;background-color: white;position: relative;}#sk-container-id-4 div.sk-item::before, #sk-container-id-4 div.sk-parallel-item::before {content: \"\";position: absolute;border-left: 1px solid gray;box-sizing: border-box;top: 0;bottom: 0;left: 50%;z-index: -1;}#sk-container-id-4 div.sk-parallel-item {display: flex;flex-direction: column;z-index: 1;position: relative;background-color: white;}#sk-container-id-4 div.sk-parallel-item:first-child::after {align-self: flex-end;width: 50%;}#sk-container-id-4 div.sk-parallel-item:last-child::after {align-self: flex-start;width: 50%;}#sk-container-id-4 div.sk-parallel-item:only-child::after {width: 0;}#sk-container-id-4 div.sk-dashed-wrapped {border: 1px dashed gray;margin: 0 0.4em 0.5em 0.4em;box-sizing: border-box;padding-bottom: 0.4em;background-color: white;}#sk-container-id-4 div.sk-label label {font-family: monospace;font-weight: bold;display: inline-block;line-height: 1.2em;}#sk-container-id-4 div.sk-label-container {text-align: center;}#sk-container-id-4 div.sk-container {/* jupyter's `normalize.less` sets `[hidden] { display: none; }` but bootstrap.min.css set `[hidden] { display: none !important; }` so we also need the `!important` here to be able to override the default hidden behavior on the sphinx rendered scikit-learn.org. See: https://github.com/scikit-learn/scikit-learn/issues/21755 */display: inline-block !important;position: relative;}#sk-container-id-4 div.sk-text-repr-fallback {display: none;}</style><div id=\"sk-container-id-4\" class=\"sk-top-container\"><div class=\"sk-text-repr-fallback\"><pre>SVC(kernel=&#x27;linear&#x27;, probability=True)</pre><b>In a Jupyter environment, please rerun this cell to show the HTML representation or trust the notebook. <br />On GitHub, the HTML representation is unable to render, please try loading this page with nbviewer.org.</b></div><div class=\"sk-container\" hidden><div class=\"sk-item\"><div class=\"sk-estimator sk-toggleable\"><input class=\"sk-toggleable__control sk-hidden--visually\" id=\"sk-estimator-id-6\" type=\"checkbox\" checked><label for=\"sk-estimator-id-6\" class=\"sk-toggleable__label sk-toggleable__label-arrow\">SVC</label><div class=\"sk-toggleable__content\"><pre>SVC(kernel=&#x27;linear&#x27;, probability=True)</pre></div></div></div></div></div>"
            ]
          },
          "metadata": {},
          "execution_count": 36
        }
      ]
    },
    {
      "cell_type": "code",
      "source": [
        "rf_model = RandomForestClassifier(n_estimators=100, random_state=seed)\n",
        "rf_model.fit(X_train, y_train)"
      ],
      "metadata": {
        "id": "Eq1L9VvpBQVN",
        "colab": {
          "base_uri": "https://localhost:8080/",
          "height": 74
        },
        "outputId": "cf78de08-b57b-4266-9649-d83b13240365"
      },
      "execution_count": null,
      "outputs": [
        {
          "output_type": "execute_result",
          "data": {
            "text/plain": [
              "RandomForestClassifier(random_state=12)"
            ],
            "text/html": [
              "<style>#sk-container-id-5 {color: black;background-color: white;}#sk-container-id-5 pre{padding: 0;}#sk-container-id-5 div.sk-toggleable {background-color: white;}#sk-container-id-5 label.sk-toggleable__label {cursor: pointer;display: block;width: 100%;margin-bottom: 0;padding: 0.3em;box-sizing: border-box;text-align: center;}#sk-container-id-5 label.sk-toggleable__label-arrow:before {content: \"▸\";float: left;margin-right: 0.25em;color: #696969;}#sk-container-id-5 label.sk-toggleable__label-arrow:hover:before {color: black;}#sk-container-id-5 div.sk-estimator:hover label.sk-toggleable__label-arrow:before {color: black;}#sk-container-id-5 div.sk-toggleable__content {max-height: 0;max-width: 0;overflow: hidden;text-align: left;background-color: #f0f8ff;}#sk-container-id-5 div.sk-toggleable__content pre {margin: 0.2em;color: black;border-radius: 0.25em;background-color: #f0f8ff;}#sk-container-id-5 input.sk-toggleable__control:checked~div.sk-toggleable__content {max-height: 200px;max-width: 100%;overflow: auto;}#sk-container-id-5 input.sk-toggleable__control:checked~label.sk-toggleable__label-arrow:before {content: \"▾\";}#sk-container-id-5 div.sk-estimator input.sk-toggleable__control:checked~label.sk-toggleable__label {background-color: #d4ebff;}#sk-container-id-5 div.sk-label input.sk-toggleable__control:checked~label.sk-toggleable__label {background-color: #d4ebff;}#sk-container-id-5 input.sk-hidden--visually {border: 0;clip: rect(1px 1px 1px 1px);clip: rect(1px, 1px, 1px, 1px);height: 1px;margin: -1px;overflow: hidden;padding: 0;position: absolute;width: 1px;}#sk-container-id-5 div.sk-estimator {font-family: monospace;background-color: #f0f8ff;border: 1px dotted black;border-radius: 0.25em;box-sizing: border-box;margin-bottom: 0.5em;}#sk-container-id-5 div.sk-estimator:hover {background-color: #d4ebff;}#sk-container-id-5 div.sk-parallel-item::after {content: \"\";width: 100%;border-bottom: 1px solid gray;flex-grow: 1;}#sk-container-id-5 div.sk-label:hover label.sk-toggleable__label {background-color: #d4ebff;}#sk-container-id-5 div.sk-serial::before {content: \"\";position: absolute;border-left: 1px solid gray;box-sizing: border-box;top: 0;bottom: 0;left: 50%;z-index: 0;}#sk-container-id-5 div.sk-serial {display: flex;flex-direction: column;align-items: center;background-color: white;padding-right: 0.2em;padding-left: 0.2em;position: relative;}#sk-container-id-5 div.sk-item {position: relative;z-index: 1;}#sk-container-id-5 div.sk-parallel {display: flex;align-items: stretch;justify-content: center;background-color: white;position: relative;}#sk-container-id-5 div.sk-item::before, #sk-container-id-5 div.sk-parallel-item::before {content: \"\";position: absolute;border-left: 1px solid gray;box-sizing: border-box;top: 0;bottom: 0;left: 50%;z-index: -1;}#sk-container-id-5 div.sk-parallel-item {display: flex;flex-direction: column;z-index: 1;position: relative;background-color: white;}#sk-container-id-5 div.sk-parallel-item:first-child::after {align-self: flex-end;width: 50%;}#sk-container-id-5 div.sk-parallel-item:last-child::after {align-self: flex-start;width: 50%;}#sk-container-id-5 div.sk-parallel-item:only-child::after {width: 0;}#sk-container-id-5 div.sk-dashed-wrapped {border: 1px dashed gray;margin: 0 0.4em 0.5em 0.4em;box-sizing: border-box;padding-bottom: 0.4em;background-color: white;}#sk-container-id-5 div.sk-label label {font-family: monospace;font-weight: bold;display: inline-block;line-height: 1.2em;}#sk-container-id-5 div.sk-label-container {text-align: center;}#sk-container-id-5 div.sk-container {/* jupyter's `normalize.less` sets `[hidden] { display: none; }` but bootstrap.min.css set `[hidden] { display: none !important; }` so we also need the `!important` here to be able to override the default hidden behavior on the sphinx rendered scikit-learn.org. See: https://github.com/scikit-learn/scikit-learn/issues/21755 */display: inline-block !important;position: relative;}#sk-container-id-5 div.sk-text-repr-fallback {display: none;}</style><div id=\"sk-container-id-5\" class=\"sk-top-container\"><div class=\"sk-text-repr-fallback\"><pre>RandomForestClassifier(random_state=12)</pre><b>In a Jupyter environment, please rerun this cell to show the HTML representation or trust the notebook. <br />On GitHub, the HTML representation is unable to render, please try loading this page with nbviewer.org.</b></div><div class=\"sk-container\" hidden><div class=\"sk-item\"><div class=\"sk-estimator sk-toggleable\"><input class=\"sk-toggleable__control sk-hidden--visually\" id=\"sk-estimator-id-7\" type=\"checkbox\" checked><label for=\"sk-estimator-id-7\" class=\"sk-toggleable__label sk-toggleable__label-arrow\">RandomForestClassifier</label><div class=\"sk-toggleable__content\"><pre>RandomForestClassifier(random_state=12)</pre></div></div></div></div></div>"
            ]
          },
          "metadata": {},
          "execution_count": 37
        }
      ]
    },
    {
      "cell_type": "code",
      "source": [
        "stacking_clf = StackingClassifier(\n",
        "    estimators=[('svm', svm_model), ('rf', rf_model)],\n",
        "    final_estimator=LogisticRegression(),\n",
        "    cv=5\n",
        ")\n",
        "stacking_clf.fit(X_train, y_train)"
      ],
      "metadata": {
        "id": "xmEbq780BRxr",
        "colab": {
          "base_uri": "https://localhost:8080/",
          "height": 161
        },
        "outputId": "edf91fc2-b503-4622-f56e-7b11e20fa1e0"
      },
      "execution_count": null,
      "outputs": [
        {
          "output_type": "execute_result",
          "data": {
            "text/plain": [
              "StackingClassifier(cv=5,\n",
              "                   estimators=[('svm', SVC(kernel='linear', probability=True)),\n",
              "                               ('rf', RandomForestClassifier(random_state=12))],\n",
              "                   final_estimator=LogisticRegression())"
            ],
            "text/html": [
              "<style>#sk-container-id-6 {color: black;background-color: white;}#sk-container-id-6 pre{padding: 0;}#sk-container-id-6 div.sk-toggleable {background-color: white;}#sk-container-id-6 label.sk-toggleable__label {cursor: pointer;display: block;width: 100%;margin-bottom: 0;padding: 0.3em;box-sizing: border-box;text-align: center;}#sk-container-id-6 label.sk-toggleable__label-arrow:before {content: \"▸\";float: left;margin-right: 0.25em;color: #696969;}#sk-container-id-6 label.sk-toggleable__label-arrow:hover:before {color: black;}#sk-container-id-6 div.sk-estimator:hover label.sk-toggleable__label-arrow:before {color: black;}#sk-container-id-6 div.sk-toggleable__content {max-height: 0;max-width: 0;overflow: hidden;text-align: left;background-color: #f0f8ff;}#sk-container-id-6 div.sk-toggleable__content pre {margin: 0.2em;color: black;border-radius: 0.25em;background-color: #f0f8ff;}#sk-container-id-6 input.sk-toggleable__control:checked~div.sk-toggleable__content {max-height: 200px;max-width: 100%;overflow: auto;}#sk-container-id-6 input.sk-toggleable__control:checked~label.sk-toggleable__label-arrow:before {content: \"▾\";}#sk-container-id-6 div.sk-estimator input.sk-toggleable__control:checked~label.sk-toggleable__label {background-color: #d4ebff;}#sk-container-id-6 div.sk-label input.sk-toggleable__control:checked~label.sk-toggleable__label {background-color: #d4ebff;}#sk-container-id-6 input.sk-hidden--visually {border: 0;clip: rect(1px 1px 1px 1px);clip: rect(1px, 1px, 1px, 1px);height: 1px;margin: -1px;overflow: hidden;padding: 0;position: absolute;width: 1px;}#sk-container-id-6 div.sk-estimator {font-family: monospace;background-color: #f0f8ff;border: 1px dotted black;border-radius: 0.25em;box-sizing: border-box;margin-bottom: 0.5em;}#sk-container-id-6 div.sk-estimator:hover {background-color: #d4ebff;}#sk-container-id-6 div.sk-parallel-item::after {content: \"\";width: 100%;border-bottom: 1px solid gray;flex-grow: 1;}#sk-container-id-6 div.sk-label:hover label.sk-toggleable__label {background-color: #d4ebff;}#sk-container-id-6 div.sk-serial::before {content: \"\";position: absolute;border-left: 1px solid gray;box-sizing: border-box;top: 0;bottom: 0;left: 50%;z-index: 0;}#sk-container-id-6 div.sk-serial {display: flex;flex-direction: column;align-items: center;background-color: white;padding-right: 0.2em;padding-left: 0.2em;position: relative;}#sk-container-id-6 div.sk-item {position: relative;z-index: 1;}#sk-container-id-6 div.sk-parallel {display: flex;align-items: stretch;justify-content: center;background-color: white;position: relative;}#sk-container-id-6 div.sk-item::before, #sk-container-id-6 div.sk-parallel-item::before {content: \"\";position: absolute;border-left: 1px solid gray;box-sizing: border-box;top: 0;bottom: 0;left: 50%;z-index: -1;}#sk-container-id-6 div.sk-parallel-item {display: flex;flex-direction: column;z-index: 1;position: relative;background-color: white;}#sk-container-id-6 div.sk-parallel-item:first-child::after {align-self: flex-end;width: 50%;}#sk-container-id-6 div.sk-parallel-item:last-child::after {align-self: flex-start;width: 50%;}#sk-container-id-6 div.sk-parallel-item:only-child::after {width: 0;}#sk-container-id-6 div.sk-dashed-wrapped {border: 1px dashed gray;margin: 0 0.4em 0.5em 0.4em;box-sizing: border-box;padding-bottom: 0.4em;background-color: white;}#sk-container-id-6 div.sk-label label {font-family: monospace;font-weight: bold;display: inline-block;line-height: 1.2em;}#sk-container-id-6 div.sk-label-container {text-align: center;}#sk-container-id-6 div.sk-container {/* jupyter's `normalize.less` sets `[hidden] { display: none; }` but bootstrap.min.css set `[hidden] { display: none !important; }` so we also need the `!important` here to be able to override the default hidden behavior on the sphinx rendered scikit-learn.org. See: https://github.com/scikit-learn/scikit-learn/issues/21755 */display: inline-block !important;position: relative;}#sk-container-id-6 div.sk-text-repr-fallback {display: none;}</style><div id=\"sk-container-id-6\" class=\"sk-top-container\"><div class=\"sk-text-repr-fallback\"><pre>StackingClassifier(cv=5,\n",
              "                   estimators=[(&#x27;svm&#x27;, SVC(kernel=&#x27;linear&#x27;, probability=True)),\n",
              "                               (&#x27;rf&#x27;, RandomForestClassifier(random_state=12))],\n",
              "                   final_estimator=LogisticRegression())</pre><b>In a Jupyter environment, please rerun this cell to show the HTML representation or trust the notebook. <br />On GitHub, the HTML representation is unable to render, please try loading this page with nbviewer.org.</b></div><div class=\"sk-container\" hidden><div class=\"sk-item sk-dashed-wrapped\"><div class=\"sk-label-container\"><div class=\"sk-label sk-toggleable\"><input class=\"sk-toggleable__control sk-hidden--visually\" id=\"sk-estimator-id-8\" type=\"checkbox\" ><label for=\"sk-estimator-id-8\" class=\"sk-toggleable__label sk-toggleable__label-arrow\">StackingClassifier</label><div class=\"sk-toggleable__content\"><pre>StackingClassifier(cv=5,\n",
              "                   estimators=[(&#x27;svm&#x27;, SVC(kernel=&#x27;linear&#x27;, probability=True)),\n",
              "                               (&#x27;rf&#x27;, RandomForestClassifier(random_state=12))],\n",
              "                   final_estimator=LogisticRegression())</pre></div></div></div><div class=\"sk-serial\"><div class=\"sk-item\"><div class=\"sk-parallel\"><div class=\"sk-parallel-item\"><div class=\"sk-item\"><div class=\"sk-label-container\"><div class=\"sk-label sk-toggleable\"><label>svm</label></div></div><div class=\"sk-serial\"><div class=\"sk-item\"><div class=\"sk-estimator sk-toggleable\"><input class=\"sk-toggleable__control sk-hidden--visually\" id=\"sk-estimator-id-9\" type=\"checkbox\" ><label for=\"sk-estimator-id-9\" class=\"sk-toggleable__label sk-toggleable__label-arrow\">SVC</label><div class=\"sk-toggleable__content\"><pre>SVC(kernel=&#x27;linear&#x27;, probability=True)</pre></div></div></div></div></div></div><div class=\"sk-parallel-item\"><div class=\"sk-item\"><div class=\"sk-label-container\"><div class=\"sk-label sk-toggleable\"><label>rf</label></div></div><div class=\"sk-serial\"><div class=\"sk-item\"><div class=\"sk-estimator sk-toggleable\"><input class=\"sk-toggleable__control sk-hidden--visually\" id=\"sk-estimator-id-10\" type=\"checkbox\" ><label for=\"sk-estimator-id-10\" class=\"sk-toggleable__label sk-toggleable__label-arrow\">RandomForestClassifier</label><div class=\"sk-toggleable__content\"><pre>RandomForestClassifier(random_state=12)</pre></div></div></div></div></div></div></div></div><div class=\"sk-item\"><div class=\"sk-parallel\"><div class=\"sk-parallel-item\"><div class=\"sk-item\"><div class=\"sk-label-container\"><div class=\"sk-label sk-toggleable\"><label>final_estimator</label></div></div><div class=\"sk-serial\"><div class=\"sk-item\"><div class=\"sk-estimator sk-toggleable\"><input class=\"sk-toggleable__control sk-hidden--visually\" id=\"sk-estimator-id-11\" type=\"checkbox\" ><label for=\"sk-estimator-id-11\" class=\"sk-toggleable__label sk-toggleable__label-arrow\">LogisticRegression</label><div class=\"sk-toggleable__content\"><pre>LogisticRegression()</pre></div></div></div></div></div></div></div></div></div></div></div></div>"
            ]
          },
          "metadata": {},
          "execution_count": 38
        }
      ]
    },
    {
      "cell_type": "code",
      "source": [
        "joblib.dump(stacking_clf, 'stacking_clf.pkl')\n",
        "y_pred = stacking_clf.predict(X_test)\n",
        "print(\"Classification Report:\\n\", classification_report(y_test, y_pred))\n",
        "print(\"Accuracy Score:\", accuracy_score(y_test, y_pred))"
      ],
      "metadata": {
        "id": "KcNRAS7rBWMl",
        "colab": {
          "base_uri": "https://localhost:8080/"
        },
        "outputId": "1507c8c7-e4fe-4a20-fd78-2f1175017838"
      },
      "execution_count": null,
      "outputs": [
        {
          "output_type": "stream",
          "name": "stdout",
          "text": [
            "Classification Report:\n",
            "               precision    recall  f1-score   support\n",
            "\n",
            "           0       0.50      0.80      0.62        10\n",
            "           1       0.79      1.00      0.88        11\n",
            "           2       0.25      0.20      0.22        10\n",
            "           3       0.56      0.50      0.53        10\n",
            "           4       0.50      0.50      0.50        10\n",
            "           5       0.38      0.30      0.33        10\n",
            "           6       0.82      0.82      0.82        11\n",
            "           7       0.89      0.80      0.84        10\n",
            "           8       0.40      0.40      0.40        10\n",
            "           9       0.43      0.30      0.35        10\n",
            "\n",
            "    accuracy                           0.57       102\n",
            "   macro avg       0.55      0.56      0.55       102\n",
            "weighted avg       0.56      0.57      0.55       102\n",
            "\n",
            "Accuracy Score: 0.5686274509803921\n"
          ]
        }
      ]
    },
    {
      "cell_type": "code",
      "source": [
        "def fit_feature(songname):\n",
        "    y, sr = librosa.load(songname, mono=True, duration=30)\n",
        "    chroma_stft = librosa.feature.chroma_stft(y=y, sr=sr)\n",
        "    rmse = librosa.feature.rms(y=y)\n",
        "    spec_cent = librosa.feature.spectral_centroid(y=y, sr=sr)\n",
        "    spec_bw = librosa.feature.spectral_bandwidth(y=y, sr=sr)\n",
        "    rolloff = librosa.feature.spectral_rolloff(y=y, sr=sr)\n",
        "    zcr = librosa.feature.zero_crossing_rate(y)\n",
        "    mfcc = librosa.feature.mfcc(y=y, sr=sr)\n",
        "    feature = np.array([np.mean(chroma_stft), np.mean(rmse), np.mean(spec_cent), np.mean(spec_bw), np.mean(rolloff), np.mean(zcr)])\n",
        "    for e in mfcc:\n",
        "        feature = np.append(feature, [np.mean(e)])\n",
        "    return feature"
      ],
      "metadata": {
        "id": "AftwWG_5BYrN"
      },
      "execution_count": null,
      "outputs": []
    },
    {
      "cell_type": "code",
      "source": [
        "new_song_path= fit_feature(\"/content/better-day-186374.mp3\")\n",
        "new_song_feature = scaler.transform([new_song_path])\n",
        "prediction = stacking_clf.predict(new_song_feature)\n",
        "predicted_genre = encoder.inverse_transform(prediction)\n",
        "print(\"Predicted Genre:\", predicted_genre[0])"
      ],
      "metadata": {
        "id": "vAHbtwfTzRQz",
        "colab": {
          "base_uri": "https://localhost:8080/"
        },
        "outputId": "415098e5-f605-4226-9150-3b4c574946ce"
      },
      "execution_count": null,
      "outputs": [
        {
          "output_type": "stream",
          "name": "stdout",
          "text": [
            "Predicted Genre: blues\n"
          ]
        },
        {
          "output_type": "stream",
          "name": "stderr",
          "text": [
            "/usr/local/lib/python3.10/dist-packages/sklearn/base.py:439: UserWarning: X does not have valid feature names, but StandardScaler was fitted with feature names\n",
            "  warnings.warn(\n",
            "/usr/local/lib/python3.10/dist-packages/sklearn/base.py:439: UserWarning: X does not have valid feature names, but SVC was fitted with feature names\n",
            "  warnings.warn(\n",
            "/usr/local/lib/python3.10/dist-packages/sklearn/base.py:439: UserWarning: X does not have valid feature names, but RandomForestClassifier was fitted with feature names\n",
            "  warnings.warn(\n"
          ]
        }
      ]
    },
    {
      "cell_type": "markdown",
      "source": [
        "#SVM-KNNeighbor\n"
      ],
      "metadata": {
        "id": "S7lm8NOdg-5f"
      }
    },
    {
      "cell_type": "code",
      "source": [
        "import librosa\n",
        "import pandas as pd\n",
        "import numpy as np\n",
        "import os\n",
        "import csv\n",
        "from sklearn.preprocessing import LabelEncoder, StandardScaler\n",
        "from sklearn.model_selection import train_test_split\n",
        "from sklearn import svm\n",
        "from sklearn.neighbors import KNeighborsClassifier\n",
        "from sklearn.ensemble import BaggingClassifier\n",
        "from sklearn.metrics import classification_report, accuracy_score"
      ],
      "metadata": {
        "id": "tc-NZZ-khEGB"
      },
      "execution_count": null,
      "outputs": []
    },
    {
      "cell_type": "code",
      "source": [
        "general_path = '/content'\n",
        "print(list(os.listdir(f'{general_path}/genres')))"
      ],
      "metadata": {
        "colab": {
          "base_uri": "https://localhost:8080/"
        },
        "id": "FY9e15y4hSPA",
        "outputId": "0a4a8388-e8a5-4e3d-9b7e-83ac74a3e5da"
      },
      "execution_count": null,
      "outputs": [
        {
          "output_type": "stream",
          "name": "stdout",
          "text": [
            "['blues', 'country', 'hiphop', 'jazz', 'disco', 'pop', 'classical', 'reggae', 'rock', 'metal', '.ipynb_checkpoints']\n"
          ]
        }
      ]
    },
    {
      "cell_type": "code",
      "source": [
        "genres = 'blues classical country disco hiphop jazz metal pop reggae rock'\n",
        "genres = genres.split()\n",
        "\n",
        "for g in genres:\n",
        "  path_audio = os.path.join('/content',f'{g}')\n",
        "  os.makedirs(path_audio)"
      ],
      "metadata": {
        "id": "NbLY20FJhXQF"
      },
      "execution_count": null,
      "outputs": []
    },
    {
      "cell_type": "code",
      "source": [
        "header = 'filename chroma_stft rmse spectral_centroid spectral_bandwidth rolloff zero_crossing_rate'\n",
        "for i in range(1, 21):\n",
        "    header += f' mfcc{i}'\n",
        "header += ' label'\n",
        "header = header.split()"
      ],
      "metadata": {
        "id": "-V81YXgzhaE9"
      },
      "execution_count": null,
      "outputs": []
    },
    {
      "cell_type": "code",
      "source": [
        "file = open('data-3s.csv', 'w', newline='')\n",
        "with file:\n",
        "    writer = csv.writer(file)\n",
        "    writer.writerow(header)\n",
        "\n",
        "for g in genres:\n",
        "    for filename in os.listdir(f'/content/genres/{g}'):\n",
        "        songname = f'/content/genres/{g}/{filename}'\n",
        "        y, sr = librosa.load(songname, mono=True, duration=3)\n",
        "        chroma_stft = librosa.feature.chroma_stft(y=y, sr=sr)\n",
        "        rmse = librosa.feature.rms(y=y)\n",
        "        spec_cent = librosa.feature.spectral_centroid(y=y, sr=sr)\n",
        "        spec_bw = librosa.feature.spectral_bandwidth(y=y, sr=sr)\n",
        "        rolloff = librosa.feature.spectral_rolloff(y=y, sr=sr)\n",
        "        zcr = librosa.feature.zero_crossing_rate(y)\n",
        "        mfcc = librosa.feature.mfcc(y=y, sr=sr)\n",
        "        to_append = f'{filename} {np.mean(chroma_stft)} {np.mean(rmse)} {np.mean(spec_cent)} {np.mean(spec_bw)} {np.mean(rolloff)} {np.mean(zcr)}'\n",
        "        for e in mfcc:\n",
        "            to_append += f' {np.mean(e)}'\n",
        "        to_append += f' {g}'\n",
        "        file = open('data-3s.csv', 'a', newline='')\n",
        "        with file:\n",
        "            writer = csv.writer(file)\n",
        "            writer.writerow(to_append.split())"
      ],
      "metadata": {
        "id": "B09erio3hdVx"
      },
      "execution_count": null,
      "outputs": []
    },
    {
      "cell_type": "code",
      "source": [
        "data_3s = pd.read_csv('data-3s.csv')\n",
        "print(data_3s.head())\n",
        "print(data_3s.shape)"
      ],
      "metadata": {
        "colab": {
          "base_uri": "https://localhost:8080/"
        },
        "id": "yauOaXNChflY",
        "outputId": "e6718572-36dd-4cff-ed96-b0026df8dc48"
      },
      "execution_count": null,
      "outputs": [
        {
          "output_type": "stream",
          "name": "stdout",
          "text": [
            "         filename  chroma_stft      rmse  spectral_centroid  \\\n",
            "0  blues.00030.au     0.252451  0.129469         796.877132   \n",
            "1  blues.00043.au     0.398613  0.127050        2146.989442   \n",
            "2  blues.00089.au     0.330216  0.057961         677.501002   \n",
            "3  blues.00093.au     0.399003  0.056844         640.531249   \n",
            "4  blues.00011.au     0.395926  0.053601        1387.962171   \n",
            "\n",
            "   spectral_bandwidth      rolloff  zero_crossing_rate       mfcc1  \\\n",
            "0         1363.858304  1241.720440            0.027813 -261.393524   \n",
            "1         2346.179667  4924.229455            0.087361 -106.287834   \n",
            "2         1136.151689  1216.211877            0.022919 -345.310028   \n",
            "3         1022.053919  1190.123573            0.022397 -350.515137   \n",
            "4         1815.101760  3007.525916            0.044899 -321.723846   \n",
            "\n",
            "        mfcc2      mfcc3  ...    mfcc12     mfcc13     mfcc14     mfcc15  \\\n",
            "0  142.396729  11.462423  ... -6.913297 -12.653015 -12.238706 -21.957417   \n",
            "1  102.910103  -9.609563  ...  6.560434  -9.160453   5.283280 -15.422059   \n",
            "2  164.461838  27.915159  ... -6.900138   0.515772  -0.058611  -2.355061   \n",
            "3  167.412292  19.829763  ...  1.817667 -11.212885  -7.739208   0.326726   \n",
            "4  123.837578   4.081958  ...  0.056975  -5.541474  -4.698399  -2.931809   \n",
            "\n",
            "      mfcc16     mfcc17     mfcc18     mfcc19    mfcc20  label  \n",
            "0 -23.932734 -19.818665 -17.741760 -15.289710 -6.545130  blues  \n",
            "1   1.948020  -7.752453   2.932549  -4.131612  4.118633  blues  \n",
            "2   3.843762  -1.428511  -8.551285  -4.983430  0.694750  blues  \n",
            "3  -3.299458  -7.078539   0.315696   7.074780  2.348529  blues  \n",
            "4  -3.163541  -0.938552  -0.314044  -0.404410 -4.586336  blues  \n",
            "\n",
            "[5 rows x 28 columns]\n",
            "(1000, 28)\n"
          ]
        }
      ]
    },
    {
      "cell_type": "code",
      "source": [
        "seed = 12\n",
        "np.random.seed(seed)\n",
        "data_shuffle = data_3s.sample(frac=1, random_state=seed).reset_index(drop=True)"
      ],
      "metadata": {
        "id": "4GMl0XEThiL_"
      },
      "execution_count": null,
      "outputs": []
    },
    {
      "cell_type": "code",
      "source": [
        "data_shuffle = data_shuffle.drop(['filename'], axis=1)\n",
        "print(data_shuffle.head())"
      ],
      "metadata": {
        "colab": {
          "base_uri": "https://localhost:8080/"
        },
        "id": "58cw4uDihkfK",
        "outputId": "50de0240-8795-4fc4-b6ff-ed3b01b3fac0"
      },
      "execution_count": null,
      "outputs": [
        {
          "output_type": "stream",
          "name": "stdout",
          "text": [
            "   chroma_stft      rmse  spectral_centroid  spectral_bandwidth      rolloff  \\\n",
            "0     0.277971  0.160153        2562.661518         2478.888737  5153.226788   \n",
            "1     0.456815  0.153437        2209.864606         2729.672694  5100.636080   \n",
            "2     0.413502  0.086312        4700.819906         3427.468067  8845.508564   \n",
            "3     0.304375  0.098867        1853.964030         1944.683935  3848.480319   \n",
            "4     0.340747  0.065988        1958.418703         2156.088175  4275.003380   \n",
            "\n",
            "   zero_crossing_rate       mfcc1       mfcc2      mfcc3      mfcc4  ...  \\\n",
            "0            0.117075  -72.641045   71.300972 -10.395139  32.301598  ...   \n",
            "1            0.072269 -116.014336   91.779205  20.279716  30.649773  ...   \n",
            "2            0.285780 -129.735794   27.791946  27.142660  17.484444  ...   \n",
            "3            0.082027 -171.452637  117.102180 -22.616510  32.930000  ...   \n",
            "4            0.089915 -165.906097  122.589996 -19.829643  27.253536  ...   \n",
            "\n",
            "     mfcc12     mfcc13    mfcc14     mfcc15    mfcc16    mfcc17    mfcc18  \\\n",
            "0 -5.360601   0.587005 -1.091796  -3.968911 -3.115830 -3.847098 -8.314495   \n",
            "1  3.068403   3.895581 -3.464054  -1.356920 -3.436801  0.334010  0.382794   \n",
            "2  4.415516   3.005890  1.366594   3.341358 -0.520112 -0.865708 -4.304250   \n",
            "3  6.973285 -14.062000 -2.081246  -7.108051  1.039783 -9.991002 -6.143396   \n",
            "4  9.628653 -13.366539  3.917477 -11.933526  6.290723 -9.567486  5.385183   \n",
            "\n",
            "     mfcc19    mfcc20    label  \n",
            "0 -7.058742 -4.225834     jazz  \n",
            "1  0.828289 -3.065637   reggae  \n",
            "2 -5.473748 -2.624539      pop  \n",
            "3 -7.452405 -3.815064  country  \n",
            "4 -4.416350 -1.210881    disco  \n",
            "\n",
            "[5 rows x 27 columns]\n"
          ]
        }
      ]
    },
    {
      "cell_type": "code",
      "source": [
        "X = data_shuffle.iloc[:, :-1]"
      ],
      "metadata": {
        "id": "IwV3gFbvhmdt"
      },
      "execution_count": null,
      "outputs": []
    },
    {
      "cell_type": "code",
      "source": [
        "genre_list = data_shuffle.iloc[:, -1]\n",
        "encoder = LabelEncoder()\n",
        "y = encoder.fit_transform(genre_list)\n",
        "print(y)"
      ],
      "metadata": {
        "colab": {
          "base_uri": "https://localhost:8080/"
        },
        "id": "4i7i3g_5hojN",
        "outputId": "4d40ebe0-8865-4d0f-a01a-77348263c822"
      },
      "execution_count": null,
      "outputs": [
        {
          "output_type": "stream",
          "name": "stdout",
          "text": [
            "[5 8 7 2 3 8 7 8 9 3 5 3 5 5 0 8 1 9 8 1 9 3 1 3 3 1 3 4 4 7 3 9 6 3 6 7 0\n",
            " 2 6 1 5 9 1 4 7 5 2 0 0 9 1 8 9 5 2 1 6 3 3 3 5 5 4 6 8 4 5 4 5 3 6 1 6 8\n",
            " 6 0 8 0 5 3 7 7 4 8 3 2 7 1 5 7 9 9 2 5 2 4 8 5 0 1 9 7 7 4 6 8 4 9 8 5 8\n",
            " 6 5 8 5 2 7 1 2 3 7 0 3 3 9 4 4 3 8 2 2 9 0 9 1 9 4 6 5 0 4 2 9 0 3 1 5 5\n",
            " 7 9 9 4 4 1 6 3 6 4 4 1 8 2 4 6 7 3 7 0 8 2 3 0 1 9 8 0 3 1 6 4 4 6 3 1 1\n",
            " 9 8 6 3 8 6 3 7 7 7 9 7 9 0 1 0 9 2 7 7 5 6 4 8 0 4 2 3 2 9 3 7 0 3 9 5 0\n",
            " 1 4 5 7 1 2 9 2 0 3 8 0 4 5 7 5 4 0 6 1 0 4 6 1 7 6 3 0 9 1 3 2 5 7 9 2 9\n",
            " 2 2 2 1 5 0 5 9 4 2 5 0 4 9 7 9 9 2 8 4 0 0 0 8 0 2 1 7 5 8 2 7 6 8 2 4 6\n",
            " 2 2 3 6 8 2 4 9 4 4 1 8 6 5 7 1 0 8 2 9 6 3 5 4 0 7 7 3 5 0 4 5 3 1 1 7 9\n",
            " 3 5 4 7 2 5 7 0 7 5 9 9 7 9 4 7 3 0 8 2 6 3 0 1 8 3 9 5 9 0 8 1 8 1 9 0 2\n",
            " 0 9 4 0 9 7 2 0 8 5 4 5 5 3 2 6 2 8 2 8 3 9 8 5 7 4 6 1 5 6 2 7 7 0 8 3 6\n",
            " 4 3 8 6 7 0 2 0 3 3 6 8 1 3 9 2 5 6 1 0 6 2 4 7 9 4 7 0 9 9 3 9 0 3 6 6 6\n",
            " 4 8 1 9 2 8 2 9 1 6 0 8 4 3 5 1 9 7 8 7 4 4 1 5 6 2 1 9 3 3 6 7 8 5 1 0 1\n",
            " 4 7 3 9 8 0 9 5 0 0 0 7 2 5 8 5 1 5 4 6 6 1 8 6 5 6 5 2 5 2 6 2 1 0 7 6 2\n",
            " 1 7 7 1 0 3 5 2 3 6 0 0 3 1 2 4 3 7 2 4 0 1 0 3 9 5 9 8 4 0 4 9 0 7 3 1 0\n",
            " 7 9 2 9 9 2 6 8 1 4 7 9 2 5 9 1 9 0 8 5 7 3 7 4 6 7 0 1 6 2 1 7 1 4 2 2 6\n",
            " 8 2 2 1 7 4 8 3 5 0 0 9 2 4 3 2 1 9 0 1 4 3 0 3 2 8 3 4 4 5 0 0 3 3 3 0 3\n",
            " 6 7 7 8 7 6 4 9 6 7 0 3 3 8 2 1 8 1 9 8 1 9 7 3 8 4 4 9 3 6 5 0 6 1 4 5 1\n",
            " 7 3 6 0 4 6 5 8 7 8 3 5 6 7 5 3 4 8 6 8 5 9 7 0 0 6 8 5 1 7 2 5 4 3 2 2 0\n",
            " 5 2 4 8 5 3 5 3 8 9 2 4 4 8 6 3 9 0 5 2 4 0 5 8 3 2 8 8 7 8 3 8 4 6 8 9 5\n",
            " 7 8 5 9 5 1 4 0 4 5 7 6 7 5 3 7 7 5 6 2 2 1 4 5 7 5 6 6 8 1 6 7 9 6 5 7 2\n",
            " 1 2 1 9 7 0 2 2 6 8 2 6 3 8 0 7 4 5 2 7 2 3 0 6 5 9 5 4 4 8 7 5 1 8 3 4 8\n",
            " 0 9 1 9 1 6 0 0 7 1 6 1 2 8 3 7 1 0 1 8 7 7 9 7 2 8 7 8 6 5 3 8 9 9 3 6 8\n",
            " 7 0 6 5 4 0 6 3 1 7 8 2 9 8 0 5 1 1 5 8 4 8 6 4 6 7 6 1 0 2 8 1 6 1 2 5 8\n",
            " 9 4 0 6 5 5 6 9 4 6 7 9 1 8 5 1 1 1 4 5 4 2 9 7 1 1 8 3 0 5 0 4 1 9 9 8 1\n",
            " 6 9 0 1 6 3 9 6 8 3 2 2 9 3 4 5 4 7 8 2 7 0 3 9 6 5 1 6 7 4 6 5 6 6 1 2 9\n",
            " 4 1 3 4 1 6 4 4 1 9 2 0 0 2 2 1 3 3 0 6 4 4 4 6 9 9 0 2 4 8 9 2 6 2 2 3 6\n",
            " 8]\n"
          ]
        }
      ]
    },
    {
      "cell_type": "code",
      "source": [
        "X_train, df_test_valid_X, y_train, df_test_valid_y = train_test_split(X, y, train_size=0.7, random_state=seed, stratify=y)\n",
        "X_dev, X_test, y_dev, y_test = train_test_split(df_test_valid_X, df_test_valid_y, train_size=0.66, random_state=seed, stratify=df_test_valid_y)"
      ],
      "metadata": {
        "id": "K7G48YL3hqam"
      },
      "execution_count": null,
      "outputs": []
    },
    {
      "cell_type": "code",
      "source": [
        "print(f\"Train set has {X_train.shape[0]} records out of {len(data_shuffle)} which is {round(X_train.shape[0]/len(data_shuffle)*100)}%\")\n",
        "print(f\"Dev set has {X_dev.shape[0]} records out of {len(data_shuffle)} which is {round(X_dev.shape[0]/len(data_shuffle)*100)}%\")\n",
        "print(f\"Test set has {X_test.shape[0]} records out of {len(data_shuffle)} which is {round(X_test.shape[0]/len(data_shuffle)*100)}%\")"
      ],
      "metadata": {
        "colab": {
          "base_uri": "https://localhost:8080/"
        },
        "id": "-maTgQT-hsZw",
        "outputId": "5aaf6e22-a370-423a-b33e-2a2db179de5a"
      },
      "execution_count": null,
      "outputs": [
        {
          "output_type": "stream",
          "name": "stdout",
          "text": [
            "Train set has 700 records out of 1000 which is 70%\n",
            "Dev set has 198 records out of 1000 which is 20%\n",
            "Test set has 102 records out of 1000 which is 10%\n"
          ]
        }
      ]
    },
    {
      "cell_type": "code",
      "source": [
        "scaler = StandardScaler()"
      ],
      "metadata": {
        "id": "KOKDww90huPG"
      },
      "execution_count": null,
      "outputs": []
    },
    {
      "cell_type": "code",
      "source": [
        "X_train = pd.DataFrame(scaler.fit_transform(X_train), columns=X_train.columns)\n",
        "X_dev = pd.DataFrame(scaler.transform(X_dev), columns=X_dev.columns)\n",
        "X_test = pd.DataFrame(scaler.transform(X_test), columns=X_test.columns)"
      ],
      "metadata": {
        "id": "_uOOSQpJhxI6"
      },
      "execution_count": null,
      "outputs": []
    },
    {
      "cell_type": "code",
      "source": [
        "svm_model = svm.SVC(kernel='linear', probability=True)\n",
        "svm_model.fit(X_train, y_train)"
      ],
      "metadata": {
        "colab": {
          "base_uri": "https://localhost:8080/",
          "height": 74
        },
        "id": "JxYv_25-hzk5",
        "outputId": "aee65019-7944-48ff-f0c2-99bbc74dfb10"
      },
      "execution_count": null,
      "outputs": [
        {
          "output_type": "execute_result",
          "data": {
            "text/plain": [
              "SVC(kernel='linear', probability=True)"
            ],
            "text/html": [
              "<style>#sk-container-id-1 {color: black;background-color: white;}#sk-container-id-1 pre{padding: 0;}#sk-container-id-1 div.sk-toggleable {background-color: white;}#sk-container-id-1 label.sk-toggleable__label {cursor: pointer;display: block;width: 100%;margin-bottom: 0;padding: 0.3em;box-sizing: border-box;text-align: center;}#sk-container-id-1 label.sk-toggleable__label-arrow:before {content: \"▸\";float: left;margin-right: 0.25em;color: #696969;}#sk-container-id-1 label.sk-toggleable__label-arrow:hover:before {color: black;}#sk-container-id-1 div.sk-estimator:hover label.sk-toggleable__label-arrow:before {color: black;}#sk-container-id-1 div.sk-toggleable__content {max-height: 0;max-width: 0;overflow: hidden;text-align: left;background-color: #f0f8ff;}#sk-container-id-1 div.sk-toggleable__content pre {margin: 0.2em;color: black;border-radius: 0.25em;background-color: #f0f8ff;}#sk-container-id-1 input.sk-toggleable__control:checked~div.sk-toggleable__content {max-height: 200px;max-width: 100%;overflow: auto;}#sk-container-id-1 input.sk-toggleable__control:checked~label.sk-toggleable__label-arrow:before {content: \"▾\";}#sk-container-id-1 div.sk-estimator input.sk-toggleable__control:checked~label.sk-toggleable__label {background-color: #d4ebff;}#sk-container-id-1 div.sk-label input.sk-toggleable__control:checked~label.sk-toggleable__label {background-color: #d4ebff;}#sk-container-id-1 input.sk-hidden--visually {border: 0;clip: rect(1px 1px 1px 1px);clip: rect(1px, 1px, 1px, 1px);height: 1px;margin: -1px;overflow: hidden;padding: 0;position: absolute;width: 1px;}#sk-container-id-1 div.sk-estimator {font-family: monospace;background-color: #f0f8ff;border: 1px dotted black;border-radius: 0.25em;box-sizing: border-box;margin-bottom: 0.5em;}#sk-container-id-1 div.sk-estimator:hover {background-color: #d4ebff;}#sk-container-id-1 div.sk-parallel-item::after {content: \"\";width: 100%;border-bottom: 1px solid gray;flex-grow: 1;}#sk-container-id-1 div.sk-label:hover label.sk-toggleable__label {background-color: #d4ebff;}#sk-container-id-1 div.sk-serial::before {content: \"\";position: absolute;border-left: 1px solid gray;box-sizing: border-box;top: 0;bottom: 0;left: 50%;z-index: 0;}#sk-container-id-1 div.sk-serial {display: flex;flex-direction: column;align-items: center;background-color: white;padding-right: 0.2em;padding-left: 0.2em;position: relative;}#sk-container-id-1 div.sk-item {position: relative;z-index: 1;}#sk-container-id-1 div.sk-parallel {display: flex;align-items: stretch;justify-content: center;background-color: white;position: relative;}#sk-container-id-1 div.sk-item::before, #sk-container-id-1 div.sk-parallel-item::before {content: \"\";position: absolute;border-left: 1px solid gray;box-sizing: border-box;top: 0;bottom: 0;left: 50%;z-index: -1;}#sk-container-id-1 div.sk-parallel-item {display: flex;flex-direction: column;z-index: 1;position: relative;background-color: white;}#sk-container-id-1 div.sk-parallel-item:first-child::after {align-self: flex-end;width: 50%;}#sk-container-id-1 div.sk-parallel-item:last-child::after {align-self: flex-start;width: 50%;}#sk-container-id-1 div.sk-parallel-item:only-child::after {width: 0;}#sk-container-id-1 div.sk-dashed-wrapped {border: 1px dashed gray;margin: 0 0.4em 0.5em 0.4em;box-sizing: border-box;padding-bottom: 0.4em;background-color: white;}#sk-container-id-1 div.sk-label label {font-family: monospace;font-weight: bold;display: inline-block;line-height: 1.2em;}#sk-container-id-1 div.sk-label-container {text-align: center;}#sk-container-id-1 div.sk-container {/* jupyter's `normalize.less` sets `[hidden] { display: none; }` but bootstrap.min.css set `[hidden] { display: none !important; }` so we also need the `!important` here to be able to override the default hidden behavior on the sphinx rendered scikit-learn.org. See: https://github.com/scikit-learn/scikit-learn/issues/21755 */display: inline-block !important;position: relative;}#sk-container-id-1 div.sk-text-repr-fallback {display: none;}</style><div id=\"sk-container-id-1\" class=\"sk-top-container\"><div class=\"sk-text-repr-fallback\"><pre>SVC(kernel=&#x27;linear&#x27;, probability=True)</pre><b>In a Jupyter environment, please rerun this cell to show the HTML representation or trust the notebook. <br />On GitHub, the HTML representation is unable to render, please try loading this page with nbviewer.org.</b></div><div class=\"sk-container\" hidden><div class=\"sk-item\"><div class=\"sk-estimator sk-toggleable\"><input class=\"sk-toggleable__control sk-hidden--visually\" id=\"sk-estimator-id-1\" type=\"checkbox\" checked><label for=\"sk-estimator-id-1\" class=\"sk-toggleable__label sk-toggleable__label-arrow\">SVC</label><div class=\"sk-toggleable__content\"><pre>SVC(kernel=&#x27;linear&#x27;, probability=True)</pre></div></div></div></div></div>"
            ]
          },
          "metadata": {},
          "execution_count": 15
        }
      ]
    },
    {
      "cell_type": "code",
      "source": [
        "knn_model = KNeighborsClassifier(n_neighbors=5)\n",
        "knn_model.fit(X_train, y_train)"
      ],
      "metadata": {
        "colab": {
          "base_uri": "https://localhost:8080/",
          "height": 74
        },
        "id": "wQ7P-FeKh-aq",
        "outputId": "ac190654-1898-4b0f-8496-62fdc7a2140d"
      },
      "execution_count": null,
      "outputs": [
        {
          "output_type": "execute_result",
          "data": {
            "text/plain": [
              "KNeighborsClassifier()"
            ],
            "text/html": [
              "<style>#sk-container-id-2 {color: black;background-color: white;}#sk-container-id-2 pre{padding: 0;}#sk-container-id-2 div.sk-toggleable {background-color: white;}#sk-container-id-2 label.sk-toggleable__label {cursor: pointer;display: block;width: 100%;margin-bottom: 0;padding: 0.3em;box-sizing: border-box;text-align: center;}#sk-container-id-2 label.sk-toggleable__label-arrow:before {content: \"▸\";float: left;margin-right: 0.25em;color: #696969;}#sk-container-id-2 label.sk-toggleable__label-arrow:hover:before {color: black;}#sk-container-id-2 div.sk-estimator:hover label.sk-toggleable__label-arrow:before {color: black;}#sk-container-id-2 div.sk-toggleable__content {max-height: 0;max-width: 0;overflow: hidden;text-align: left;background-color: #f0f8ff;}#sk-container-id-2 div.sk-toggleable__content pre {margin: 0.2em;color: black;border-radius: 0.25em;background-color: #f0f8ff;}#sk-container-id-2 input.sk-toggleable__control:checked~div.sk-toggleable__content {max-height: 200px;max-width: 100%;overflow: auto;}#sk-container-id-2 input.sk-toggleable__control:checked~label.sk-toggleable__label-arrow:before {content: \"▾\";}#sk-container-id-2 div.sk-estimator input.sk-toggleable__control:checked~label.sk-toggleable__label {background-color: #d4ebff;}#sk-container-id-2 div.sk-label input.sk-toggleable__control:checked~label.sk-toggleable__label {background-color: #d4ebff;}#sk-container-id-2 input.sk-hidden--visually {border: 0;clip: rect(1px 1px 1px 1px);clip: rect(1px, 1px, 1px, 1px);height: 1px;margin: -1px;overflow: hidden;padding: 0;position: absolute;width: 1px;}#sk-container-id-2 div.sk-estimator {font-family: monospace;background-color: #f0f8ff;border: 1px dotted black;border-radius: 0.25em;box-sizing: border-box;margin-bottom: 0.5em;}#sk-container-id-2 div.sk-estimator:hover {background-color: #d4ebff;}#sk-container-id-2 div.sk-parallel-item::after {content: \"\";width: 100%;border-bottom: 1px solid gray;flex-grow: 1;}#sk-container-id-2 div.sk-label:hover label.sk-toggleable__label {background-color: #d4ebff;}#sk-container-id-2 div.sk-serial::before {content: \"\";position: absolute;border-left: 1px solid gray;box-sizing: border-box;top: 0;bottom: 0;left: 50%;z-index: 0;}#sk-container-id-2 div.sk-serial {display: flex;flex-direction: column;align-items: center;background-color: white;padding-right: 0.2em;padding-left: 0.2em;position: relative;}#sk-container-id-2 div.sk-item {position: relative;z-index: 1;}#sk-container-id-2 div.sk-parallel {display: flex;align-items: stretch;justify-content: center;background-color: white;position: relative;}#sk-container-id-2 div.sk-item::before, #sk-container-id-2 div.sk-parallel-item::before {content: \"\";position: absolute;border-left: 1px solid gray;box-sizing: border-box;top: 0;bottom: 0;left: 50%;z-index: -1;}#sk-container-id-2 div.sk-parallel-item {display: flex;flex-direction: column;z-index: 1;position: relative;background-color: white;}#sk-container-id-2 div.sk-parallel-item:first-child::after {align-self: flex-end;width: 50%;}#sk-container-id-2 div.sk-parallel-item:last-child::after {align-self: flex-start;width: 50%;}#sk-container-id-2 div.sk-parallel-item:only-child::after {width: 0;}#sk-container-id-2 div.sk-dashed-wrapped {border: 1px dashed gray;margin: 0 0.4em 0.5em 0.4em;box-sizing: border-box;padding-bottom: 0.4em;background-color: white;}#sk-container-id-2 div.sk-label label {font-family: monospace;font-weight: bold;display: inline-block;line-height: 1.2em;}#sk-container-id-2 div.sk-label-container {text-align: center;}#sk-container-id-2 div.sk-container {/* jupyter's `normalize.less` sets `[hidden] { display: none; }` but bootstrap.min.css set `[hidden] { display: none !important; }` so we also need the `!important` here to be able to override the default hidden behavior on the sphinx rendered scikit-learn.org. See: https://github.com/scikit-learn/scikit-learn/issues/21755 */display: inline-block !important;position: relative;}#sk-container-id-2 div.sk-text-repr-fallback {display: none;}</style><div id=\"sk-container-id-2\" class=\"sk-top-container\"><div class=\"sk-text-repr-fallback\"><pre>KNeighborsClassifier()</pre><b>In a Jupyter environment, please rerun this cell to show the HTML representation or trust the notebook. <br />On GitHub, the HTML representation is unable to render, please try loading this page with nbviewer.org.</b></div><div class=\"sk-container\" hidden><div class=\"sk-item\"><div class=\"sk-estimator sk-toggleable\"><input class=\"sk-toggleable__control sk-hidden--visually\" id=\"sk-estimator-id-2\" type=\"checkbox\" checked><label for=\"sk-estimator-id-2\" class=\"sk-toggleable__label sk-toggleable__label-arrow\">KNeighborsClassifier</label><div class=\"sk-toggleable__content\"><pre>KNeighborsClassifier()</pre></div></div></div></div></div>"
            ]
          },
          "metadata": {},
          "execution_count": 16
        }
      ]
    },
    {
      "cell_type": "code",
      "source": [
        "base_estimators = [('svm', svm_model), ('knn', knn_model)]\n",
        "bagging_clf = BaggingClassifier(base_estimator=svm_model, n_estimators=10, random_state=seed)\n",
        "bagging_clf.fit(X_train, y_train)"
      ],
      "metadata": {
        "colab": {
          "base_uri": "https://localhost:8080/",
          "height": 171
        },
        "id": "nNUqCTzAiAv4",
        "outputId": "dac09369-6fa4-4350-fda6-72a0e5d10016"
      },
      "execution_count": null,
      "outputs": [
        {
          "output_type": "stream",
          "name": "stderr",
          "text": [
            "/usr/local/lib/python3.10/dist-packages/sklearn/ensemble/_base.py:166: FutureWarning: `base_estimator` was renamed to `estimator` in version 1.2 and will be removed in 1.4.\n",
            "  warnings.warn(\n"
          ]
        },
        {
          "output_type": "execute_result",
          "data": {
            "text/plain": [
              "BaggingClassifier(base_estimator=SVC(kernel='linear', probability=True),\n",
              "                  random_state=12)"
            ],
            "text/html": [
              "<style>#sk-container-id-3 {color: black;background-color: white;}#sk-container-id-3 pre{padding: 0;}#sk-container-id-3 div.sk-toggleable {background-color: white;}#sk-container-id-3 label.sk-toggleable__label {cursor: pointer;display: block;width: 100%;margin-bottom: 0;padding: 0.3em;box-sizing: border-box;text-align: center;}#sk-container-id-3 label.sk-toggleable__label-arrow:before {content: \"▸\";float: left;margin-right: 0.25em;color: #696969;}#sk-container-id-3 label.sk-toggleable__label-arrow:hover:before {color: black;}#sk-container-id-3 div.sk-estimator:hover label.sk-toggleable__label-arrow:before {color: black;}#sk-container-id-3 div.sk-toggleable__content {max-height: 0;max-width: 0;overflow: hidden;text-align: left;background-color: #f0f8ff;}#sk-container-id-3 div.sk-toggleable__content pre {margin: 0.2em;color: black;border-radius: 0.25em;background-color: #f0f8ff;}#sk-container-id-3 input.sk-toggleable__control:checked~div.sk-toggleable__content {max-height: 200px;max-width: 100%;overflow: auto;}#sk-container-id-3 input.sk-toggleable__control:checked~label.sk-toggleable__label-arrow:before {content: \"▾\";}#sk-container-id-3 div.sk-estimator input.sk-toggleable__control:checked~label.sk-toggleable__label {background-color: #d4ebff;}#sk-container-id-3 div.sk-label input.sk-toggleable__control:checked~label.sk-toggleable__label {background-color: #d4ebff;}#sk-container-id-3 input.sk-hidden--visually {border: 0;clip: rect(1px 1px 1px 1px);clip: rect(1px, 1px, 1px, 1px);height: 1px;margin: -1px;overflow: hidden;padding: 0;position: absolute;width: 1px;}#sk-container-id-3 div.sk-estimator {font-family: monospace;background-color: #f0f8ff;border: 1px dotted black;border-radius: 0.25em;box-sizing: border-box;margin-bottom: 0.5em;}#sk-container-id-3 div.sk-estimator:hover {background-color: #d4ebff;}#sk-container-id-3 div.sk-parallel-item::after {content: \"\";width: 100%;border-bottom: 1px solid gray;flex-grow: 1;}#sk-container-id-3 div.sk-label:hover label.sk-toggleable__label {background-color: #d4ebff;}#sk-container-id-3 div.sk-serial::before {content: \"\";position: absolute;border-left: 1px solid gray;box-sizing: border-box;top: 0;bottom: 0;left: 50%;z-index: 0;}#sk-container-id-3 div.sk-serial {display: flex;flex-direction: column;align-items: center;background-color: white;padding-right: 0.2em;padding-left: 0.2em;position: relative;}#sk-container-id-3 div.sk-item {position: relative;z-index: 1;}#sk-container-id-3 div.sk-parallel {display: flex;align-items: stretch;justify-content: center;background-color: white;position: relative;}#sk-container-id-3 div.sk-item::before, #sk-container-id-3 div.sk-parallel-item::before {content: \"\";position: absolute;border-left: 1px solid gray;box-sizing: border-box;top: 0;bottom: 0;left: 50%;z-index: -1;}#sk-container-id-3 div.sk-parallel-item {display: flex;flex-direction: column;z-index: 1;position: relative;background-color: white;}#sk-container-id-3 div.sk-parallel-item:first-child::after {align-self: flex-end;width: 50%;}#sk-container-id-3 div.sk-parallel-item:last-child::after {align-self: flex-start;width: 50%;}#sk-container-id-3 div.sk-parallel-item:only-child::after {width: 0;}#sk-container-id-3 div.sk-dashed-wrapped {border: 1px dashed gray;margin: 0 0.4em 0.5em 0.4em;box-sizing: border-box;padding-bottom: 0.4em;background-color: white;}#sk-container-id-3 div.sk-label label {font-family: monospace;font-weight: bold;display: inline-block;line-height: 1.2em;}#sk-container-id-3 div.sk-label-container {text-align: center;}#sk-container-id-3 div.sk-container {/* jupyter's `normalize.less` sets `[hidden] { display: none; }` but bootstrap.min.css set `[hidden] { display: none !important; }` so we also need the `!important` here to be able to override the default hidden behavior on the sphinx rendered scikit-learn.org. See: https://github.com/scikit-learn/scikit-learn/issues/21755 */display: inline-block !important;position: relative;}#sk-container-id-3 div.sk-text-repr-fallback {display: none;}</style><div id=\"sk-container-id-3\" class=\"sk-top-container\"><div class=\"sk-text-repr-fallback\"><pre>BaggingClassifier(base_estimator=SVC(kernel=&#x27;linear&#x27;, probability=True),\n",
              "                  random_state=12)</pre><b>In a Jupyter environment, please rerun this cell to show the HTML representation or trust the notebook. <br />On GitHub, the HTML representation is unable to render, please try loading this page with nbviewer.org.</b></div><div class=\"sk-container\" hidden><div class=\"sk-item sk-dashed-wrapped\"><div class=\"sk-label-container\"><div class=\"sk-label sk-toggleable\"><input class=\"sk-toggleable__control sk-hidden--visually\" id=\"sk-estimator-id-3\" type=\"checkbox\" ><label for=\"sk-estimator-id-3\" class=\"sk-toggleable__label sk-toggleable__label-arrow\">BaggingClassifier</label><div class=\"sk-toggleable__content\"><pre>BaggingClassifier(base_estimator=SVC(kernel=&#x27;linear&#x27;, probability=True),\n",
              "                  random_state=12)</pre></div></div></div><div class=\"sk-parallel\"><div class=\"sk-parallel-item\"><div class=\"sk-item\"><div class=\"sk-label-container\"><div class=\"sk-label sk-toggleable\"><input class=\"sk-toggleable__control sk-hidden--visually\" id=\"sk-estimator-id-4\" type=\"checkbox\" ><label for=\"sk-estimator-id-4\" class=\"sk-toggleable__label sk-toggleable__label-arrow\">base_estimator: SVC</label><div class=\"sk-toggleable__content\"><pre>SVC(kernel=&#x27;linear&#x27;, probability=True)</pre></div></div></div><div class=\"sk-serial\"><div class=\"sk-item\"><div class=\"sk-estimator sk-toggleable\"><input class=\"sk-toggleable__control sk-hidden--visually\" id=\"sk-estimator-id-5\" type=\"checkbox\" ><label for=\"sk-estimator-id-5\" class=\"sk-toggleable__label sk-toggleable__label-arrow\">SVC</label><div class=\"sk-toggleable__content\"><pre>SVC(kernel=&#x27;linear&#x27;, probability=True)</pre></div></div></div></div></div></div></div></div></div></div>"
            ]
          },
          "metadata": {},
          "execution_count": 17
        }
      ]
    },
    {
      "cell_type": "code",
      "source": [
        "y_pred = bagging_clf.predict(X_test)\n",
        "print(\"Classification Report:\\n\", classification_report(y_test, y_pred))\n",
        "print(\"Accuracy Score:\", accuracy_score(y_test, y_pred))"
      ],
      "metadata": {
        "colab": {
          "base_uri": "https://localhost:8080/"
        },
        "id": "234EHEwaiCrW",
        "outputId": "f81956e1-1b9d-4a6b-a0db-a677efc02a0c"
      },
      "execution_count": null,
      "outputs": [
        {
          "output_type": "stream",
          "name": "stdout",
          "text": [
            "Classification Report:\n",
            "               precision    recall  f1-score   support\n",
            "\n",
            "           0       0.40      0.60      0.48        10\n",
            "           1       0.75      0.82      0.78        11\n",
            "           2       0.33      0.20      0.25        10\n",
            "           3       1.00      0.40      0.57        10\n",
            "           4       0.55      0.60      0.57        10\n",
            "           5       0.30      0.30      0.30        10\n",
            "           6       0.67      0.91      0.77        11\n",
            "           7       0.67      0.80      0.73        10\n",
            "           8       0.44      0.40      0.42        10\n",
            "           9       0.38      0.30      0.33        10\n",
            "\n",
            "    accuracy                           0.54       102\n",
            "   macro avg       0.55      0.53      0.52       102\n",
            "weighted avg       0.55      0.54      0.53       102\n",
            "\n",
            "Accuracy Score: 0.5392156862745098\n"
          ]
        }
      ]
    },
    {
      "cell_type": "code",
      "source": [
        "def fit_feature(songname):\n",
        "    y, sr = librosa.load(songname, mono=True, duration=30)\n",
        "    chroma_stft = librosa.feature.chroma_stft(y=y, sr=sr)\n",
        "    rmse = librosa.feature.rms(y=y)\n",
        "    spec_cent = librosa.feature.spectral_centroid(y=y, sr=sr)\n",
        "    spec_bw = librosa.feature.spectral_bandwidth(y=y, sr=sr)\n",
        "    rolloff = librosa.feature.spectral_rolloff(y=y, sr=sr)\n",
        "    zcr = librosa.feature.zero_crossing_rate(y)\n",
        "    mfcc = librosa.feature.mfcc(y=y, sr=sr)\n",
        "    feature = np.array([np.mean(chroma_stft), np.mean(rmse), np.mean(spec_cent), np.mean(spec_bw), np.mean(rolloff), np.mean(zcr)])\n",
        "    for e in mfcc:\n",
        "        feature = np.append(feature, [np.mean(e)])\n",
        "    return feature"
      ],
      "metadata": {
        "id": "wPM2MgBqiFah"
      },
      "execution_count": null,
      "outputs": []
    },
    {
      "cell_type": "code",
      "source": [
        "new_song_feature = fit_feature('/content/better-day-186374.mp3')\n",
        "new_song_feature = scaler.transform([new_song_feature])\n",
        "prediction = bagging_clf.predict(new_song_feature)\n",
        "predicted_genre = encoder.inverse_transform(prediction)\n",
        "print(\"Predicted Genre:\", predicted_genre[0])"
      ],
      "metadata": {
        "colab": {
          "base_uri": "https://localhost:8080/"
        },
        "id": "SxAAz29UiHIn",
        "outputId": "120f619a-347c-4974-e6ed-4302d321165b"
      },
      "execution_count": null,
      "outputs": [
        {
          "output_type": "stream",
          "name": "stdout",
          "text": [
            "Predicted Genre: blues\n"
          ]
        },
        {
          "output_type": "stream",
          "name": "stderr",
          "text": [
            "/usr/local/lib/python3.10/dist-packages/sklearn/base.py:439: UserWarning: X does not have valid feature names, but StandardScaler was fitted with feature names\n",
            "  warnings.warn(\n",
            "/usr/local/lib/python3.10/dist-packages/sklearn/base.py:439: UserWarning: X does not have valid feature names, but BaggingClassifier was fitted with feature names\n",
            "  warnings.warn(\n"
          ]
        }
      ]
    },
    {
      "cell_type": "markdown",
      "source": [
        "#Gradient-discent\n"
      ],
      "metadata": {
        "id": "GtFlYQggpbj9"
      }
    },
    {
      "cell_type": "markdown",
      "source": [
        "**Pre-Processing**\n",
        "- Find Sonogram, Periodicity Histogram,\n",
        "Spectrum Histogram and Fluctuation Pattern for\n",
        "the training audio data"
      ],
      "metadata": {
        "id": "qjPWWbucyafm"
      }
    },
    {
      "cell_type": "markdown",
      "source": [
        "**Feature Extraction**\n",
        "\n",
        "Window the audio data with a Hamming\n",
        "window.\n",
        "Amplitude values of the DFT of the data are\n",
        "found.\n",
        "Amplitude values are converted to filter bank\n",
        "outputs.\n",
        "Log base 10 for the output is calculated.\n",
        "Find the cosine transform.\n",
        "Feature vectors are stored in matrix X"
      ],
      "metadata": {
        "id": "3pkqKkinykLl"
      }
    },
    {
      "cell_type": "markdown",
      "source": [
        "**Featur Reduction**\n",
        "\n",
        "Calculate the empirical mean of X.\n",
        "The deviations are calculated from the mean\n",
        "and the data are stored in the matrix B [M N].\n",
        "Covariance matrix C is found.\n",
        "Eigenvectors and eigenvalues of the covariance\n",
        "matrix C are found.\n",
        "The eigenvectors and eigenvalues are\n",
        "rearranged to form the feature vector.\n",
        "The new data set is derived and the eigenvectors\n",
        "with the highest eigenvalues are projected into\n",
        "space.\n",
        "Put the new dataset in a matrix Y"
      ],
      "metadata": {
        "id": "4hcJzbNoyq0a"
      }
    },
    {
      "cell_type": "markdown",
      "source": [
        "**Classification**\n",
        "\n",
        "Select ‘m’ initial \"means\" randomly from the\n",
        "data set Y.\n",
        "‘m’ clusters are created by associating every\n",
        "observation with the nearest mean.\n",
        "The centroid of each of the ‘m’ clusters\n",
        "becomes the new means.\n",
        "The above steps are repeated until convergence\n",
        "is reached."
      ],
      "metadata": {
        "id": "xUKH9enBzGAQ"
      }
    },
    {
      "cell_type": "markdown",
      "source": [
        "**Traning**\n",
        "\n",
        "Train the features of the audio files using\n",
        "Gradient Descent Adaptive Learning Back\n",
        "propagation Network."
      ],
      "metadata": {
        "id": "PuZ-t_7TzLNR"
      }
    },
    {
      "cell_type": "markdown",
      "source": [
        "**Testing Phase**"
      ],
      "metadata": {
        "id": "Qs9hDvfMzS9g"
      }
    },
    {
      "cell_type": "code",
      "source": [],
      "metadata": {
        "id": "hGRg-aE2rJ_C"
      },
      "execution_count": null,
      "outputs": []
    }
  ]
}