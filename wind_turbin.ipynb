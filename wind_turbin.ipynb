{
  "cells": [
    {
      "cell_type": "markdown",
      "metadata": {
        "id": "view-in-github",
        "colab_type": "text"
      },
      "source": [
        "<a href=\"https://colab.research.google.com/github/ShobitKapila/Acoustic-source-identification/blob/main/wind_turbin.ipynb\" target=\"_parent\"><img src=\"https://colab.research.google.com/assets/colab-badge.svg\" alt=\"Open In Colab\"/></a>"
      ]
    },
    {
      "cell_type": "markdown",
      "source": [
        "Feature extraction for sound data often involves using signal processing libraries like librosa, extracting features such as Mel-frequency cepstral coefficients (MFCCs), spectral features, or others."
      ],
      "metadata": {
        "id": "QbSIHSCcDZ0W"
      }
    },
    {
      "cell_type": "code",
      "execution_count": null,
      "metadata": {
        "colab": {
          "base_uri": "https://localhost:8080/"
        },
        "id": "euBtE77r9JjS",
        "outputId": "31959c06-4ead-4346-fdea-f8ddbda4ccc8"
      },
      "outputs": [
        {
          "output_type": "stream",
          "name": "stdout",
          "text": [
            "Healthy Dataset:\n",
            "MATLAB file version: 1.0\n",
            "MATLAB file version: 1.0\n",
            "MATLAB file version: 1.0\n",
            "MATLAB file version: 1.0\n",
            "MATLAB file version: 1.0\n",
            "MATLAB file version: 1.0\n",
            "MATLAB file version: 1.0\n",
            "MATLAB file version: 1.0\n",
            "MATLAB file version: 1.0\n",
            "MATLAB file version: 1.0\n"
          ]
        }
      ],
      "source": [
        "import os\n",
        "import numpy as np\n",
        "import librosa\n",
        "from scipy.io import loadmat\n",
        "from sklearn.model_selection import train_test_split\n",
        "from sklearn.metrics import accuracy_score, confusion_matrix, f1_score\n",
        "from sklearn.neighbors import KNeighborsClassifier\n",
        "import joblib\n",
        "\n",
        "def load_data(folder_path, batch_size=10):\n",
        "    data_batches = []\n",
        "    label_batches = []\n",
        "\n",
        "    for file_name in os.listdir(folder_path):\n",
        "        if file_name.endswith(\".mat\"):\n",
        "            file_path = os.path.join(folder_path, file_name)\n",
        "            try:\n",
        "                mat_data = loadmat(file_path)\n",
        "                mat_version = mat_data['__version__']\n",
        "                print(f'MATLAB file version: {mat_version}')\n",
        "            except Exception as e:\n",
        "                print(f\"Error loading file {file_path}: {e}\")\n",
        "                continue\n",
        "\n",
        "            for key in mat_data.keys():\n",
        "                if key.startswith('AN'):\n",
        "                    sample_data = mat_data[key]\n",
        "                    num_samples = sample_data.shape[0]\n",
        "\n",
        "                    num_batches = (num_samples + batch_size - 1) // batch_size\n",
        "\n",
        "                    padded_samples = num_batches * batch_size\n",
        "                    padding = padded_samples - num_samples\n",
        "\n",
        "                    for i in range(0, padded_samples, batch_size):\n",
        "                        data_batches.append(sample_data[i:i+batch_size])\n",
        "                        label_batches.append([mat_data['Speed']] * batch_size)\n",
        "\n",
        "    X = np.concatenate(data_batches, axis=0)[:num_samples]\n",
        "    y = np.concatenate(label_batches, axis=0)[:num_samples]\n",
        "\n",
        "    return X, y\n",
        "\n",
        "def extract_features_from_sound(sound_file_path):\n",
        "    y, sr = librosa.load(sound_file_path)\n",
        "    features = librosa.feature.mfcc(y=y, sr=sr, n_mfcc=13)\n",
        "    return features.T\n",
        "\n",
        "\n",
        "def train_and_evaluate(X, y, save_model_path):\n",
        "\n",
        "    X_train, X_test, y_train, y_test = train_test_split(X, y, test_size=0.2, random_state=42)\n",
        "    clf = KNeighborsClassifier()\n",
        "    clf.fit(X_train, y_train.ravel())\n",
        "\n",
        "    y_pred = clf.predict(X_test)\n",
        "\n",
        "    accuracy = accuracy_score(y_test, y_pred)\n",
        "    print(f\"Accuracy: {accuracy}\")\n",
        "\n",
        "    conf_matrix = confusion_matrix(y_test, y_pred)\n",
        "    print(\"Confusion Matrix:\")\n",
        "    print(conf_matrix)\n",
        "\n",
        "    f1_acc = f1_score(y_test, y_pred)\n",
        "    print(f\"F1 Accuracy Score: {f1_acc}\")\n",
        "\n",
        "\n",
        "    joblib.dump(clf, save_model_path)\n",
        "    print(f\"Model saved to {save_model_path}\")\n",
        "\n",
        "healthy_folder_path = \"/content/Healthy\"\n",
        "damaged_folder_path = \"/content/Damaged\"\n",
        "\n",
        "\n",
        "healthy_model_path = \"D:/wind turbin/healthy_model.joblib\"\n",
        "damaged_model_path = \"D:/wind turbin/damaged_model.joblib\"\n",
        "\n",
        "print(\"Healthy Dataset:\")\n",
        "X_healthy, y_healthy = load_data(healthy_folder_path)\n",
        "train_and_evaluate(X_healthy, y_healthy, healthy_model_path)\n",
        "\n",
        "\n",
        "print(\"\\nDamaged Dataset:\")\n",
        "X_damaged, y_damaged = load_data(damaged_folder_path)\n",
        "train_and_evaluate(X_damaged, y_damaged, damaged_model_path)\n",
        "\n",
        "sound_file_path = \"/content/Healthy_turbin.mp3\"\n",
        "sound_features = extract_features_from_sound(sound_file_path)\n",
        "model = joblib.load(healthy_model_path)\n",
        "prediction = model.predict(sound_features.reshape(1, -1))\n",
        "print(f\"The predicted healthiness is: {'Damaged' if prediction == 1 else 'Healthy'}\")\n"
      ]
    }
  ],
  "metadata": {
    "colab": {
      "provenance": [],
      "toc_visible": true,
      "authorship_tag": "ABX9TyPc5kO2E+IiQNkZWsnJcNbm",
      "include_colab_link": true
    },
    "kernelspec": {
      "display_name": "Python 3",
      "name": "python3"
    },
    "language_info": {
      "name": "python"
    },
    "accelerator": "TPU"
  },
  "nbformat": 4,
  "nbformat_minor": 0
}